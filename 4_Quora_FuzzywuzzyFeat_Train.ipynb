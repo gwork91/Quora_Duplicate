{
 "cells": [
  {
   "cell_type": "code",
   "execution_count": 1,
   "metadata": {
    "collapsed": false
   },
   "outputs": [
    {
     "name": "stderr",
     "output_type": "stream",
     "text": [
      "C:\\Program Files\\Anaconda2\\lib\\site-packages\\fuzzywuzzy-0.15.0-py2.7.egg\\fuzzywuzzy\\fuzz.py:35: UserWarning: Using slow pure-python SequenceMatcher. Install python-Levenshtein to remove this warning\n"
     ]
    }
   ],
   "source": [
    "import numpy as np\n",
    "import pandas as pd\n",
    "import sklearn\n",
    "%matplotlib inline\n",
    "import matplotlib.pyplot as plt\n",
    "from fuzzywuzzy import fuzz"
   ]
  },
  {
   "cell_type": "markdown",
   "metadata": {},
   "source": [
    "## Train Data Features"
   ]
  },
  {
   "cell_type": "code",
   "execution_count": 54,
   "metadata": {
    "collapsed": false
   },
   "outputs": [],
   "source": [
    "# Loadin Train Data with basic features\n",
    "train_data1 = pd.read_csv('train_data1.csv', sep=',')\n",
    "train_data2 = pd.read_csv('train_data2.csv', sep=',', skiprows=1, header=None)"
   ]
  },
  {
   "cell_type": "code",
   "execution_count": 55,
   "metadata": {
    "collapsed": false
   },
   "outputs": [],
   "source": [
    "# Creating DF with features and duplicate variable only for final model\n",
    "def append_df(df1, df2):\n",
    "    # df1 with column names, and df2 without\n",
    "    df2.columns = df1.columns\n",
    "    df1 = df1.append(df2, ignore_index=True)\n",
    "    return df1"
   ]
  },
  {
   "cell_type": "code",
   "execution_count": 56,
   "metadata": {
    "collapsed": false
   },
   "outputs": [
    {
     "data": {
      "text/plain": [
       "(404290, 21)"
      ]
     },
     "execution_count": 56,
     "metadata": {},
     "output_type": "execute_result"
    }
   ],
   "source": [
    "train_data1 = append_df(train_data1,train_data2)\n",
    "train_data1.shape"
   ]
  },
  {
   "cell_type": "code",
   "execution_count": 57,
   "metadata": {
    "collapsed": false
   },
   "outputs": [
    {
     "data": {
      "text/plain": [
       "id                 404290\n",
       "qid1               404290\n",
       "qid2               404290\n",
       "question1          404290\n",
       "question2          404288\n",
       "is_duplicate       404290\n",
       "question1_form     404113\n",
       "question2_form     404123\n",
       "q1_form_len        404290\n",
       "q2_form_len        404290\n",
       "q1_length          404290\n",
       "q2_length          404290\n",
       "q1_unique          404290\n",
       "q2_unique          404290\n",
       "q1_form_uni        404290\n",
       "q2_form_uni        404290\n",
       "q1_form_char       404290\n",
       "q2_form_char       404290\n",
       "q1_q2_char_diff    404290\n",
       "common_cnt         404290\n",
       "prcnt_common       404218\n",
       "dtype: int64"
      ]
     },
     "execution_count": 57,
     "metadata": {},
     "output_type": "execute_result"
    }
   ],
   "source": [
    "train_data1.count()"
   ]
  },
  {
   "cell_type": "code",
   "execution_count": 58,
   "metadata": {
    "collapsed": true
   },
   "outputs": [],
   "source": [
    "train_data1['prcnt_common'].fillna(train_data1['prcnt_common'].mean(), inplace=True)"
   ]
  },
  {
   "cell_type": "code",
   "execution_count": 59,
   "metadata": {
    "collapsed": false
   },
   "outputs": [],
   "source": [
    "train_data1['question1_form'].fillna('', inplace=True)\n",
    "train_data1['question2_form'].fillna('', inplace=True)"
   ]
  },
  {
   "cell_type": "code",
   "execution_count": 67,
   "metadata": {
    "collapsed": false
   },
   "outputs": [
    {
     "data": {
      "text/plain": [
       "id                 404290\n",
       "qid1               404290\n",
       "qid2               404290\n",
       "question1          404290\n",
       "question2          404288\n",
       "is_duplicate       404290\n",
       "question1_form     404290\n",
       "question2_form     404290\n",
       "q1_form_len        404290\n",
       "q2_form_len        404290\n",
       "q1_length          404290\n",
       "q2_length          404290\n",
       "q1_unique          404290\n",
       "q2_unique          404290\n",
       "q1_form_uni        404290\n",
       "q2_form_uni        404290\n",
       "q1_form_char       404290\n",
       "q2_form_char       404290\n",
       "q1_q2_char_diff    404290\n",
       "common_cnt         404290\n",
       "prcnt_common       404290\n",
       "dtype: int64"
      ]
     },
     "execution_count": 67,
     "metadata": {},
     "output_type": "execute_result"
    }
   ],
   "source": [
    "train_data1.count()"
   ]
  },
  {
   "cell_type": "code",
   "execution_count": 71,
   "metadata": {
    "collapsed": false
   },
   "outputs": [
    {
     "data": {
      "text/html": [
       "<div>\n",
       "<table border=\"1\" class=\"dataframe\">\n",
       "  <thead>\n",
       "    <tr style=\"text-align: right;\">\n",
       "      <th></th>\n",
       "      <th>id</th>\n",
       "      <th>qid1</th>\n",
       "      <th>qid2</th>\n",
       "      <th>question1</th>\n",
       "      <th>question2</th>\n",
       "      <th>is_duplicate</th>\n",
       "      <th>question1_form</th>\n",
       "      <th>question2_form</th>\n",
       "      <th>q1_form_len</th>\n",
       "      <th>q2_form_len</th>\n",
       "      <th>...</th>\n",
       "      <th>q2_length</th>\n",
       "      <th>q1_unique</th>\n",
       "      <th>q2_unique</th>\n",
       "      <th>q1_form_uni</th>\n",
       "      <th>q2_form_uni</th>\n",
       "      <th>q1_form_char</th>\n",
       "      <th>q2_form_char</th>\n",
       "      <th>q1_q2_char_diff</th>\n",
       "      <th>common_cnt</th>\n",
       "      <th>prcnt_common</th>\n",
       "    </tr>\n",
       "  </thead>\n",
       "  <tbody>\n",
       "    <tr>\n",
       "      <th>105780</th>\n",
       "      <td>105780</td>\n",
       "      <td>174363</td>\n",
       "      <td>174364</td>\n",
       "      <td>How can I develop android app?</td>\n",
       "      <td>NaN</td>\n",
       "      <td>0</td>\n",
       "      <td>develop android app</td>\n",
       "      <td></td>\n",
       "      <td>3</td>\n",
       "      <td>0</td>\n",
       "      <td>...</td>\n",
       "      <td>0</td>\n",
       "      <td>6</td>\n",
       "      <td>0</td>\n",
       "      <td>3</td>\n",
       "      <td>0</td>\n",
       "      <td>17</td>\n",
       "      <td>0</td>\n",
       "      <td>17</td>\n",
       "      <td>0</td>\n",
       "      <td>0.0</td>\n",
       "    </tr>\n",
       "    <tr>\n",
       "      <th>201841</th>\n",
       "      <td>201841</td>\n",
       "      <td>303951</td>\n",
       "      <td>174364</td>\n",
       "      <td>How can I create an Android app?</td>\n",
       "      <td>NaN</td>\n",
       "      <td>0</td>\n",
       "      <td>creat android app</td>\n",
       "      <td></td>\n",
       "      <td>3</td>\n",
       "      <td>0</td>\n",
       "      <td>...</td>\n",
       "      <td>0</td>\n",
       "      <td>7</td>\n",
       "      <td>0</td>\n",
       "      <td>3</td>\n",
       "      <td>0</td>\n",
       "      <td>15</td>\n",
       "      <td>0</td>\n",
       "      <td>15</td>\n",
       "      <td>0</td>\n",
       "      <td>0.0</td>\n",
       "    </tr>\n",
       "  </tbody>\n",
       "</table>\n",
       "<p>2 rows × 21 columns</p>\n",
       "</div>"
      ],
      "text/plain": [
       "            id    qid1    qid2                         question1 question2  \\\n",
       "105780  105780  174363  174364    How can I develop android app?       NaN   \n",
       "201841  201841  303951  174364  How can I create an Android app?       NaN   \n",
       "\n",
       "        is_duplicate       question1_form question2_form  q1_form_len  \\\n",
       "105780             0  develop android app                           3   \n",
       "201841             0    creat android app                           3   \n",
       "\n",
       "        q2_form_len      ...       q2_length  q1_unique  q2_unique  \\\n",
       "105780            0      ...               0          6          0   \n",
       "201841            0      ...               0          7          0   \n",
       "\n",
       "        q1_form_uni  q2_form_uni  q1_form_char  q2_form_char  q1_q2_char_diff  \\\n",
       "105780            3            0            17             0               17   \n",
       "201841            3            0            15             0               15   \n",
       "\n",
       "        common_cnt  prcnt_common  \n",
       "105780           0           0.0  \n",
       "201841           0           0.0  \n",
       "\n",
       "[2 rows x 21 columns]"
      ]
     },
     "execution_count": 71,
     "metadata": {},
     "output_type": "execute_result"
    }
   ],
   "source": [
    "#Empty cols in the training data\n",
    "train_data1[(train_data1['question2'].isnull())]"
   ]
  },
  {
   "cell_type": "code",
   "execution_count": 73,
   "metadata": {
    "collapsed": false
   },
   "outputs": [
    {
     "name": "stderr",
     "output_type": "stream",
     "text": [
      "C:\\Program Files\\Anaconda2\\lib\\site-packages\\ipykernel\\__main__.py:1: SettingWithCopyWarning: \n",
      "A value is trying to be set on a copy of a slice from a DataFrame\n",
      "\n",
      "See the caveats in the documentation: http://pandas.pydata.org/pandas-docs/stable/indexing.html#indexing-view-versus-copy\n",
      "  if __name__ == '__main__':\n"
     ]
    }
   ],
   "source": [
    "train_data1.question2[(train_data1['question2'].isnull())]=''"
   ]
  },
  {
   "cell_type": "code",
   "execution_count": null,
   "metadata": {
    "collapsed": true
   },
   "outputs": [],
   "source": []
  },
  {
   "cell_type": "code",
   "execution_count": 77,
   "metadata": {
    "collapsed": false
   },
   "outputs": [],
   "source": [
    "def fuzzy_ratios(input_df):\n",
    "    input_df['partial_ratio'] = input_df.apply(lambda row: fuzz.partial_ratio(row[u'question1_form'], row[u'question2_form']), axis=1)\n",
    "    input_df['partial_token_set_ratio'] = input_df.apply(lambda row: fuzz.partial_token_set_ratio(row[u'question1_form'], row[u'question2_form']), axis=1)\n",
    "    input_df['partial_token_sort_ratio'] = input_df.apply(lambda row: fuzz.partial_token_sort_ratio(row[u'question1_form'], row[u'question2_form']), axis=1)\n",
    "    input_df['q_ratio'] = input_df.apply(lambda row: fuzz.QRatio(row[u'question1_form'], row[u'question2_form']), axis=1)\n",
    "    input_df['token_set_ratio'] = input_df.apply(lambda row: fuzz.token_set_ratio(row[u'question1_form'], row[u'question2_form']), axis=1)\n",
    "    input_df['token_sort_ratio'] = input_df.apply(lambda row: fuzz.token_sort_ratio(row[u'question1_form'], row[u'question2_form']), axis=1)\n",
    "    input_df['w_ratio'] = input_df.apply(lambda row: fuzz.WRatio(row[u'question1_form'], row[u'question2_form']), axis=1)\n",
    "#   Issue of the Non-ASCII Characters with the below two ratios, ignored as of now. Col_clean function for it, if to be used    \n",
    "#    input_df['uw_ratio'] = input_df.apply(lambda row: fuzz.UWRatio(row[u'question1_form'], row[u'question2_form']), axis=1)\n",
    "#    input_df['uq_ratio'] = input_df.apply(lambda row: fuzz.UQRatio(row[u'question1_form'], row[u'question2_form']), axis=1)\n",
    "    return input_df"
   ]
  },
  {
   "cell_type": "code",
   "execution_count": 94,
   "metadata": {
    "collapsed": true
   },
   "outputs": [],
   "source": [
    "import re\n",
    "# Removing the non-ascii characters\n",
    "def col_clean(input_col):\n",
    "    input_col['question1_form'] = input_col.apply(lambda row: re.sub( r'[^\\x00-\\x7F]+','', row[u'question1_form']), axis=1)\n",
    "    input_col['question1_form'] = input_col.apply(lambda row: re.sub(r'(?:\\s{2,})',' ', row[u'question1_form']), axis=1)\n",
    "    input_col['question1_form'] = input_col.apply(lambda row: row[u'question1_form'].rstrip(), axis=1)\n",
    "    input_col['question1_form'] = input_col.apply(lambda row: row[u'question1_form'].lstrip(), axis=1)\n",
    "    return input_col"
   ]
  },
  {
   "cell_type": "code",
   "execution_count": null,
   "metadata": {
    "collapsed": false
   },
   "outputs": [],
   "source": [
    "# Not used as of now!!\n",
    "#train_data1[['question1_form']]=col_clean(train_data1[['question1_form']])\n",
    "#train_data1[['question2_form']]=col_clean(train_data1[['question2_form']])"
   ]
  },
  {
   "cell_type": "code",
   "execution_count": 161,
   "metadata": {
    "collapsed": false
   },
   "outputs": [
    {
     "data": {
      "text/plain": [
       "id                          404290\n",
       "qid1                        404290\n",
       "qid2                        404290\n",
       "question1                   404290\n",
       "question2                   404290\n",
       "is_duplicate                404290\n",
       "question1_form              404290\n",
       "question2_form              404290\n",
       "q1_form_len                 404290\n",
       "q2_form_len                 404290\n",
       "q1_length                   404290\n",
       "q2_length                   404290\n",
       "q1_unique                   404290\n",
       "q2_unique                   404290\n",
       "q1_form_uni                 404290\n",
       "q2_form_uni                 404290\n",
       "q1_form_char                404290\n",
       "q2_form_char                404290\n",
       "q1_q2_char_diff             404290\n",
       "common_cnt                  404290\n",
       "prcnt_common                404290\n",
       "partial_ratio               404290\n",
       "partial_token_set_ratio     404290\n",
       "partial_token_sort_ratio    404290\n",
       "q_ratio                     404290\n",
       "token_set_ratio             404290\n",
       "token_sort_ratio            404290\n",
       "w_ratio                     404290\n",
       "dtype: int64"
      ]
     },
     "execution_count": 161,
     "metadata": {},
     "output_type": "execute_result"
    }
   ],
   "source": [
    "train_data1.count()"
   ]
  },
  {
   "cell_type": "code",
   "execution_count": 163,
   "metadata": {
    "collapsed": false
   },
   "outputs": [],
   "source": [
    "# Storing the file as csv for the XGB Model\n",
    "train_data_save = train_data1\n",
    "train_data_save.drop(['id','qid1','qid2','question1','question2'], axis=1, inplace=True)\n",
    "train_data_save.to_csv('train_basic_fuzzy.csv',index=False)"
   ]
  },
  {
   "cell_type": "code",
   "execution_count": 162,
   "metadata": {
    "collapsed": false
   },
   "outputs": [],
   "source": []
  },
  {
   "cell_type": "code",
   "execution_count": null,
   "metadata": {
    "collapsed": false
   },
   "outputs": [],
   "source": []
  },
  {
   "cell_type": "code",
   "execution_count": null,
   "metadata": {
    "collapsed": false
   },
   "outputs": [],
   "source": []
  },
  {
   "cell_type": "code",
   "execution_count": null,
   "metadata": {
    "collapsed": false
   },
   "outputs": [],
   "source": []
  },
  {
   "cell_type": "code",
   "execution_count": null,
   "metadata": {
    "collapsed": true
   },
   "outputs": [],
   "source": []
  }
 ],
 "metadata": {
  "anaconda-cloud": {},
  "kernelspec": {
   "display_name": "Python 2",
   "language": "python",
   "name": "python2"
  },
  "language_info": {
   "codemirror_mode": {
    "name": "ipython",
    "version": 2
   },
   "file_extension": ".py",
   "mimetype": "text/x-python",
   "name": "python",
   "nbconvert_exporter": "python",
   "pygments_lexer": "ipython2",
   "version": "2.7.12"
  }
 },
 "nbformat": 4,
 "nbformat_minor": 1
}
