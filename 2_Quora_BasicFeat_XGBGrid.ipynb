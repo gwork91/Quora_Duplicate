{
 "cells": [
  {
   "cell_type": "code",
   "execution_count": 253,
   "metadata": {
    "collapsed": true
   },
   "outputs": [],
   "source": [
    "import xgboost as xgb\n",
    "import numpy as np\n",
    "import pandas as pd\n",
    "from xgboost.sklearn import XGBClassifier\n",
    "import sklearn\n",
    "from sklearn.metrics import roc_auc_score\n",
    "from sklearn.cross_validation import cross_val_score\n",
    "%matplotlib inline\n",
    "import matplotlib.pyplot as plt"
   ]
  },
  {
   "cell_type": "code",
   "execution_count": 264,
   "metadata": {
    "collapsed": true
   },
   "outputs": [],
   "source": [
    "# Loading the train file, split in 2\n",
    "train_data1 = pd.read_csv('train_data1.csv', sep=',')\n",
    "train_data2 = pd.read_csv('train_data2.csv', sep=',', skiprows=1, header=None)"
   ]
  },
  {
   "cell_type": "code",
   "execution_count": 265,
   "metadata": {
    "collapsed": false
   },
   "outputs": [],
   "source": [
    "# Creating DF with features and duplicate variable only for final model\n",
    "def append_df(df1, df2):\n",
    "    # df1 with column names, and df2 without\n",
    "    remove_cols = ['id','qid1','qid2','question1','question2','question1_form','question2_form']\n",
    "    df2.columns = df1.columns\n",
    "    df1.drop(remove_cols, inplace=True, axis=1)\n",
    "    df2.drop(remove_cols, inplace=True, axis=1)\n",
    "    df1 = df1.append(df2, ignore_index=True)\n",
    "    return df1"
   ]
  },
  {
   "cell_type": "code",
   "execution_count": 266,
   "metadata": {
    "collapsed": false
   },
   "outputs": [],
   "source": [
    "train_data1 = append_df(train_data1,train_data2) "
   ]
  },
  {
   "cell_type": "code",
   "execution_count": 267,
   "metadata": {
    "collapsed": false
   },
   "outputs": [
    {
     "data": {
      "text/plain": [
       "is_duplicate       404290\n",
       "q1_form_len        404290\n",
       "q2_form_len        404290\n",
       "q1_length          404290\n",
       "q2_length          404290\n",
       "q1_unique          404290\n",
       "q2_unique          404290\n",
       "q1_form_uni        404290\n",
       "q2_form_uni        404290\n",
       "q1_form_char       404290\n",
       "q2_form_char       404290\n",
       "q1_q2_char_diff    404290\n",
       "common_cnt         404290\n",
       "prcnt_common       404218\n",
       "dtype: int64"
      ]
     },
     "execution_count": 267,
     "metadata": {},
     "output_type": "execute_result"
    }
   ],
   "source": [
    "# Check the feature values for any kind of imputation\n",
    "train_data1.count()"
   ]
  },
  {
   "cell_type": "code",
   "execution_count": 268,
   "metadata": {
    "collapsed": false
   },
   "outputs": [],
   "source": [
    "train_data1['prcnt_common'].fillna(train_data1['prcnt_common'].mean(), inplace=True)"
   ]
  },
  {
   "cell_type": "code",
   "execution_count": 269,
   "metadata": {
    "collapsed": false
   },
   "outputs": [
    {
     "data": {
      "text/plain": [
       "is_duplicate       404290\n",
       "q1_form_len        404290\n",
       "q2_form_len        404290\n",
       "q1_length          404290\n",
       "q2_length          404290\n",
       "q1_unique          404290\n",
       "q2_unique          404290\n",
       "q1_form_uni        404290\n",
       "q2_form_uni        404290\n",
       "q1_form_char       404290\n",
       "q2_form_char       404290\n",
       "q1_q2_char_diff    404290\n",
       "common_cnt         404290\n",
       "prcnt_common       404290\n",
       "dtype: int64"
      ]
     },
     "execution_count": 269,
     "metadata": {},
     "output_type": "execute_result"
    }
   ],
   "source": [
    "train_data1.count()"
   ]
  },
  {
   "cell_type": "code",
   "execution_count": 270,
   "metadata": {
    "collapsed": false
   },
   "outputs": [],
   "source": [
    "val_dup = train_data1[\"is_duplicate\"]\n",
    "train_data1.drop(['is_duplicate'], axis=1, inplace=True)"
   ]
  },
  {
   "cell_type": "code",
   "execution_count": 271,
   "metadata": {
    "collapsed": false
   },
   "outputs": [],
   "source": [
    "val_dup = pd.DataFrame(pd.Series(val_dup))"
   ]
  },
  {
   "cell_type": "code",
   "execution_count": 272,
   "metadata": {
    "collapsed": true
   },
   "outputs": [],
   "source": [
    "# Separate into Train and Validation\n",
    "from sklearn.cross_validation import train_test_split\n",
    "X_train, X_val, Y_train, Y_val = sklearn.cross_validation.train_test_split(train_data1, val_dup, \n",
    "                                                                           test_size = 0.2, random_state = 5)"
   ]
  },
  {
   "cell_type": "code",
   "execution_count": 273,
   "metadata": {
    "collapsed": true
   },
   "outputs": [],
   "source": [
    "# xgboost fn\n",
    "def modelfit(alg, dtrain, predictors, useTrainCV=True, cv_folds=5, early_stopping_rounds=50):    \n",
    "    if useTrainCV:\n",
    "        xgb_param = alg.get_xgb_params()\n",
    "        xgtrain = xgb.DMatrix(dtrain[predictors].values, label=Y_train[[0]].values)\n",
    "        cvresult = xgb.cv(xgb_param, xgtrain, num_boost_round=alg.get_params()['n_estimators'], nfold=cv_folds,\n",
    "                          metrics=['auc'], early_stopping_rounds=early_stopping_rounds, show_progress=False)\n",
    "        alg.set_params(n_estimators=cvresult.shape[0])\n",
    "    alg.fit(dtrain[predictors], np.ravel(Y_train),eval_metric='auc')     #Fit algorithm\n",
    "\n",
    "    #Predict training set:\n",
    "    dtrain_predictions = alg.predict(dtrain[predictors])\n",
    "    dtrain_predprob = alg.predict_proba(dtrain[predictors])[:,1]\n",
    "    print(\"AUC Score (Train): %f\" % roc_auc_score(np.ravel(Y_train), dtrain_predprob))\n",
    "    \n",
    "    feat_imp = pd.Series(alg.booster().get_fscore()).sort_values(ascending=False)\n",
    "    feat_imp.plot(kind='bar', title='Feature Importances')\n",
    "    plt.ylabel('Feature Importance Score')"
   ]
  },
  {
   "cell_type": "code",
   "execution_count": 274,
   "metadata": {
    "collapsed": true
   },
   "outputs": [],
   "source": [
    "# xgboost classifier : Using the best params from the first iteration of the Basic Features Model\n",
    "xgb1 = XGBClassifier(max_depth= 3, min_child_weight= 10,gamma=0.1 ,colsample_bytree=0.4 , subsample=0.9 , reg_alpha = 0.1, \n",
    "                     reg_lambda = 1, max_delta_step = 0 , scale_pos_weight= 1, learning_rate = 0.05, n_estimators=300, \n",
    "                     objective= 'binary:logistic', nthread=4, seed=45)"
   ]
  },
  {
   "cell_type": "code",
   "execution_count": 275,
   "metadata": {
    "collapsed": false
   },
   "outputs": [
    {
     "name": "stderr",
     "output_type": "stream",
     "text": [
      "Will train until cv error hasn't decreased in 50 rounds.\n"
     ]
    },
    {
     "name": "stdout",
     "output_type": "stream",
     "text": [
      "AUC Score (Train): 0.775049\n"
     ]
    },
    {
     "data": {
      "image/png": "[encoded data removed]",
      "text/plain": [
       "<matplotlib.figure.Figure at 0x7f6011fd4390>"
      ]
     },
     "metadata": {},
     "output_type": "display_data"
    }
   ],
   "source": [
    "predictors  = list(X_train.columns)\n",
    "modelfit(xgb1, X_train, predictors)"
   ]
  },
  {
   "cell_type": "code",
   "execution_count": 276,
   "metadata": {
    "collapsed": false
   },
   "outputs": [
    {
     "data": {
      "text/plain": [
       "0.7750494041207755"
      ]
     },
     "execution_count": 276,
     "metadata": {},
     "output_type": "execute_result"
    }
   ],
   "source": [
    "# Train roc auc\n",
    "y_predS = xgb1.predict_proba(X_train)\n",
    "roc_auc_score(Y_train, y_predS[:,1])"
   ]
  },
  {
   "cell_type": "code",
   "execution_count": 277,
   "metadata": {
    "collapsed": false
   },
   "outputs": [
    {
     "name": "stdout",
     "output_type": "stream",
     "text": [
      "mean auc: 0.774066846929\n",
      "std auc: 0.00140766666008\n"
     ]
    }
   ],
   "source": [
    "# Cross validation AUC\n",
    "cv_score = cross_val_score(xgb1, X_train, np.ravel(Y_train), cv = 5, scoring ='roc_auc')\n",
    "print('mean auc: ' + str(cv_score.mean()))\n",
    "print('std auc: ' + str(cv_score.std()))"
   ]
  },
  {
   "cell_type": "code",
   "execution_count": 278,
   "metadata": {
    "collapsed": false
   },
   "outputs": [
    {
     "data": {
      "text/plain": [
       "['/home/pgoyal/quora/model/xgb_dup_auc.pkl',\n",
       " '/home/pgoyal/quora/model/xgb_dup_auc.pkl_01.npy']"
      ]
     },
     "execution_count": 278,
     "metadata": {},
     "output_type": "execute_result"
    }
   ],
   "source": [
    "# Save the model\n",
    "from sklearn.externals import joblib\n",
    "joblib.dump(xgb1, '/home/pgoyal/quora/model/xgb_dup_auc.pkl')"
   ]
  },
  {
   "cell_type": "code",
   "execution_count": 279,
   "metadata": {
    "collapsed": false
   },
   "outputs": [
    {
     "name": "stdout",
     "output_type": "stream",
     "text": [
      "Validation AUC: 0.772071419197\n"
     ]
    }
   ],
   "source": [
    "# Validation AUC\n",
    "val_pred = xgb1.predict_proba(X_val)\n",
    "print('Validation AUC: ' + str(roc_auc_score(Y_val, val_pred[:,1])))"
   ]
  },
  {
   "cell_type": "code",
   "execution_count": 280,
   "metadata": {
    "collapsed": false
   },
   "outputs": [
    {
     "data": {
      "text/plain": [
       "<matplotlib.legend.Legend at 0x7f6022312650>"
      ]
     },
     "execution_count": 280,
     "metadata": {},
     "output_type": "execute_result"
    },
    {
     "data": {
      "image/png": "[encoded data removed]",
      "text/plain": [
       "<matplotlib.figure.Figure at 0x7f60222d81d0>"
      ]
     },
     "metadata": {},
     "output_type": "display_data"
    }
   ],
   "source": [
    "# Make ROC curve for train and validation\n",
    "from sklearn.metrics import roc_curve, auc\n",
    "\n",
    "fpr_trn, tpr_trn, _= roc_curve(Y_train, y_predS[:,1])\n",
    "fpr_tst, tpr_tst, _= roc_curve(Y_val, val_pred[:, 1]) \n",
    "\n",
    "roc_auc_trn = auc(fpr_trn, tpr_trn)\n",
    "roc_auc_tst = auc(fpr_tst, tpr_tst)\n",
    "\n",
    "# Plot of a ROC curve\n",
    "plt.figure(figsize=(8,7))\n",
    "plt.plot(fpr_trn, tpr_trn, label='Train AUC - %0.2f' % roc_auc_trn)\n",
    "plt.plot(fpr_tst, tpr_tst, label='Valid AUC - %0.2f' % roc_auc_tst)\n",
    "plt.plot([0, 1], [0, 1], 'k--')\n",
    "plt.xlim([0.0, 1.0])\n",
    "plt.ylim([0.0, 1.05])\n",
    "plt.xlabel('False Positive Rate')\n",
    "plt.ylabel('True Positive Rate')\n",
    "plt.title('ROC Curve')\n",
    "plt.legend(loc=\"lower right\", prop={'size':8})\n",
    "# plt.savefig('ROC_Curve.png')"
   ]
  },
  {
   "cell_type": "code",
   "execution_count": 281,
   "metadata": {
    "collapsed": true
   },
   "outputs": [],
   "source": [
    "from sklearn import cross_validation\n",
    "from sklearn.ensemble import ExtraTreesClassifier\n",
    "from sklearn.metrics import confusion_matrix\n",
    "from sklearn.grid_search import GridSearchCV"
   ]
  },
  {
   "cell_type": "code",
   "execution_count": 282,
   "metadata": {
    "collapsed": false
   },
   "outputs": [
    {
     "data": {
      "text/plain": [
       "([mean: 0.76559, std: 0.00128, params: {'max_depth': 2, 'min_child_weight': 1},\n",
       "  mean: 0.76559, std: 0.00128, params: {'max_depth': 2, 'min_child_weight': 2},\n",
       "  mean: 0.76558, std: 0.00128, params: {'max_depth': 2, 'min_child_weight': 3},\n",
       "  mean: 0.76558, std: 0.00128, params: {'max_depth': 2, 'min_child_weight': 4},\n",
       "  mean: 0.76558, std: 0.00128, params: {'max_depth': 2, 'min_child_weight': 5},\n",
       "  mean: 0.76559, std: 0.00128, params: {'max_depth': 2, 'min_child_weight': 6},\n",
       "  mean: 0.76552, std: 0.00119, params: {'max_depth': 2, 'min_child_weight': 10},\n",
       "  mean: 0.76565, std: 0.00120, params: {'max_depth': 2, 'min_child_weight': 15},\n",
       "  mean: 0.76571, std: 0.00125, params: {'max_depth': 2, 'min_child_weight': 100},\n",
       "  mean: 0.77407, std: 0.00128, params: {'max_depth': 3, 'min_child_weight': 1},\n",
       "  mean: 0.77404, std: 0.00131, params: {'max_depth': 3, 'min_child_weight': 2},\n",
       "  mean: 0.77399, std: 0.00128, params: {'max_depth': 3, 'min_child_weight': 3},\n",
       "  mean: 0.77395, std: 0.00123, params: {'max_depth': 3, 'min_child_weight': 4},\n",
       "  mean: 0.77406, std: 0.00135, params: {'max_depth': 3, 'min_child_weight': 5},\n",
       "  mean: 0.77409, std: 0.00140, params: {'max_depth': 3, 'min_child_weight': 6},\n",
       "  mean: 0.77407, std: 0.00141, params: {'max_depth': 3, 'min_child_weight': 10},\n",
       "  mean: 0.77401, std: 0.00119, params: {'max_depth': 3, 'min_child_weight': 15},\n",
       "  mean: 0.77436, std: 0.00134, params: {'max_depth': 3, 'min_child_weight': 100},\n",
       "  mean: 0.77969, std: 0.00142, params: {'max_depth': 4, 'min_child_weight': 1},\n",
       "  mean: 0.77968, std: 0.00145, params: {'max_depth': 4, 'min_child_weight': 2},\n",
       "  mean: 0.77968, std: 0.00149, params: {'max_depth': 4, 'min_child_weight': 3},\n",
       "  mean: 0.77962, std: 0.00145, params: {'max_depth': 4, 'min_child_weight': 4},\n",
       "  mean: 0.77968, std: 0.00143, params: {'max_depth': 4, 'min_child_weight': 5},\n",
       "  mean: 0.77963, std: 0.00145, params: {'max_depth': 4, 'min_child_weight': 6},\n",
       "  mean: 0.77972, std: 0.00151, params: {'max_depth': 4, 'min_child_weight': 10},\n",
       "  mean: 0.77959, std: 0.00148, params: {'max_depth': 4, 'min_child_weight': 15},\n",
       "  mean: 0.77959, std: 0.00152, params: {'max_depth': 4, 'min_child_weight': 100},\n",
       "  mean: 0.78424, std: 0.00156, params: {'max_depth': 5, 'min_child_weight': 1},\n",
       "  mean: 0.78424, std: 0.00155, params: {'max_depth': 5, 'min_child_weight': 2},\n",
       "  mean: 0.78416, std: 0.00147, params: {'max_depth': 5, 'min_child_weight': 3},\n",
       "  mean: 0.78416, std: 0.00134, params: {'max_depth': 5, 'min_child_weight': 4},\n",
       "  mean: 0.78441, std: 0.00142, params: {'max_depth': 5, 'min_child_weight': 5},\n",
       "  mean: 0.78421, std: 0.00142, params: {'max_depth': 5, 'min_child_weight': 6},\n",
       "  mean: 0.78412, std: 0.00148, params: {'max_depth': 5, 'min_child_weight': 10},\n",
       "  mean: 0.78424, std: 0.00144, params: {'max_depth': 5, 'min_child_weight': 15},\n",
       "  mean: 0.78348, std: 0.00145, params: {'max_depth': 5, 'min_child_weight': 100},\n",
       "  mean: 0.78830, std: 0.00146, params: {'max_depth': 6, 'min_child_weight': 1},\n",
       "  mean: 0.78836, std: 0.00150, params: {'max_depth': 6, 'min_child_weight': 2},\n",
       "  mean: 0.78825, std: 0.00149, params: {'max_depth': 6, 'min_child_weight': 3},\n",
       "  mean: 0.78825, std: 0.00151, params: {'max_depth': 6, 'min_child_weight': 4},\n",
       "  mean: 0.78831, std: 0.00155, params: {'max_depth': 6, 'min_child_weight': 5},\n",
       "  mean: 0.78813, std: 0.00162, params: {'max_depth': 6, 'min_child_weight': 6},\n",
       "  mean: 0.78825, std: 0.00154, params: {'max_depth': 6, 'min_child_weight': 10},\n",
       "  mean: 0.78801, std: 0.00150, params: {'max_depth': 6, 'min_child_weight': 15},\n",
       "  mean: 0.78638, std: 0.00144, params: {'max_depth': 6, 'min_child_weight': 100}],\n",
       " {'max_depth': 6, 'min_child_weight': 2},\n",
       " 0.78835686766047364)"
      ]
     },
     "execution_count": 282,
     "metadata": {},
     "output_type": "execute_result"
    }
   ],
   "source": [
    "# Tune tree pruning parameters: max_depth and min_child_weight\n",
    "param_test1 = {\n",
    "   'max_depth':[2, 3, 4, 5, 6],\n",
    "   'min_child_weight':[1, 2, 3, 4, 5, 6, 10, 15, 100]\n",
    "}\n",
    "\n",
    "gsearch1 = GridSearchCV(estimator = XGBClassifier(max_depth= 3, min_child_weight= 10,gamma=0.1 ,colsample_bytree=0.4 , subsample=0.9 , reg_alpha = 0.1, \n",
    "                     reg_lambda = 1, max_delta_step = 0 , scale_pos_weight= 1, learning_rate = 0.05, n_estimators=300, \n",
    "                     objective= 'binary:logistic', nthread=4, seed=45), \n",
    "param_grid = param_test1, scoring='roc_auc',n_jobs=4,iid=False, cv=5)\n",
    "\n",
    "gsearch1.fit(X_train,np.ravel(Y_train))\n",
    "pd.Series(gsearch1.grid_scores_).to_csv('/home/pgoyal/quora/model/gs_files/gs_search1.csv')\n",
    "gsearch1.grid_scores_, gsearch1.best_params_, gsearch1.best_score_"
   ]
  },
  {
   "cell_type": "code",
   "execution_count": 283,
   "metadata": {
    "collapsed": true
   },
   "outputs": [],
   "source": [
    "# Best till here : Order is on the basis of the params given!\n",
    "new_max_depth = gsearch1.best_params_.values()[0]\n",
    "new_min_child_weight = gsearch1.best_params_.values()[1]"
   ]
  },
  {
   "cell_type": "code",
   "execution_count": 284,
   "metadata": {
    "collapsed": false
   },
   "outputs": [
    {
     "data": {
      "text/plain": [
       "([mean: 0.78815, std: 0.00160, params: {'gamma': 0.0},\n",
       "  mean: 0.78836, std: 0.00150, params: {'gamma': 0.1},\n",
       "  mean: 0.78834, std: 0.00136, params: {'gamma': 0.2},\n",
       "  mean: 0.78839, std: 0.00154, params: {'gamma': 0.3},\n",
       "  mean: 0.78831, std: 0.00155, params: {'gamma': 0.4}],\n",
       " {'gamma': 0.3},\n",
       " 0.78839481002208256)"
      ]
     },
     "execution_count": 284,
     "metadata": {},
     "output_type": "execute_result"
    }
   ],
   "source": [
    "# Tune tree pruning parameters: gamma\n",
    "param_test2 = {\n",
    "   'gamma':[i/10.0 for i in range(0,5)]\n",
    "}\n",
    "\n",
    "gsearch2 = GridSearchCV(estimator = XGBClassifier(max_depth= new_max_depth, min_child_weight= new_min_child_weight,\n",
    "                        gamma=0.1 ,colsample_bytree=0.4 , subsample=0.9 , reg_alpha = 0.1, \n",
    "                        reg_lambda = 1, max_delta_step = 0 , scale_pos_weight= 1, learning_rate = 0.05, n_estimators=300, \n",
    "                        objective= 'binary:logistic', nthread=4, seed=45), \n",
    "param_grid = param_test2, scoring='roc_auc',n_jobs=4,iid=False, cv=5)\n",
    "\n",
    "gsearch2.fit(X_train,np.ravel(Y_train))\n",
    "pd.Series(gsearch2.grid_scores_).to_csv('/home/pgoyal/quora/model/gs_files/gs_search2.csv')\n",
    "gsearch2.grid_scores_, gsearch2.best_params_, gsearch2.best_score_"
   ]
  },
  {
   "cell_type": "code",
   "execution_count": 285,
   "metadata": {
    "collapsed": false
   },
   "outputs": [],
   "source": [
    "# Best till here :\n",
    "new_gamma = gsearch2.best_params_.values()[0]"
   ]
  },
  {
   "cell_type": "code",
   "execution_count": 286,
   "metadata": {
    "collapsed": false
   },
   "outputs": [
    {
     "data": {
      "text/plain": [
       "([mean: 0.78831, std: 0.00149, params: {'subsample': 0.6, 'colsample_bytree': 0.4},\n",
       "  mean: 0.78853, std: 0.00147, params: {'subsample': 0.7, 'colsample_bytree': 0.4},\n",
       "  mean: 0.78844, std: 0.00144, params: {'subsample': 0.8, 'colsample_bytree': 0.4},\n",
       "  mean: 0.78839, std: 0.00154, params: {'subsample': 0.9, 'colsample_bytree': 0.4},\n",
       "  mean: 0.78909, std: 0.00150, params: {'subsample': 0.6, 'colsample_bytree': 0.5},\n",
       "  mean: 0.78926, std: 0.00160, params: {'subsample': 0.7, 'colsample_bytree': 0.5},\n",
       "  mean: 0.78908, std: 0.00149, params: {'subsample': 0.8, 'colsample_bytree': 0.5},\n",
       "  mean: 0.78893, std: 0.00135, params: {'subsample': 0.9, 'colsample_bytree': 0.5},\n",
       "  mean: 0.78973, std: 0.00153, params: {'subsample': 0.6, 'colsample_bytree': 0.6},\n",
       "  mean: 0.78996, std: 0.00147, params: {'subsample': 0.7, 'colsample_bytree': 0.6},\n",
       "  mean: 0.78972, std: 0.00149, params: {'subsample': 0.8, 'colsample_bytree': 0.6},\n",
       "  mean: 0.78958, std: 0.00127, params: {'subsample': 0.9, 'colsample_bytree': 0.6},\n",
       "  mean: 0.79062, std: 0.00155, params: {'subsample': 0.6, 'colsample_bytree': 0.7},\n",
       "  mean: 0.79072, std: 0.00147, params: {'subsample': 0.7, 'colsample_bytree': 0.7},\n",
       "  mean: 0.79076, std: 0.00163, params: {'subsample': 0.8, 'colsample_bytree': 0.7},\n",
       "  mean: 0.79049, std: 0.00143, params: {'subsample': 0.9, 'colsample_bytree': 0.7},\n",
       "  mean: 0.79090, std: 0.00134, params: {'subsample': 0.6, 'colsample_bytree': 0.8},\n",
       "  mean: 0.79103, std: 0.00138, params: {'subsample': 0.7, 'colsample_bytree': 0.8},\n",
       "  mean: 0.79092, std: 0.00154, params: {'subsample': 0.8, 'colsample_bytree': 0.8},\n",
       "  mean: 0.79075, std: 0.00129, params: {'subsample': 0.9, 'colsample_bytree': 0.8},\n",
       "  mean: 0.79113, std: 0.00143, params: {'subsample': 0.6, 'colsample_bytree': 0.9},\n",
       "  mean: 0.79123, std: 0.00156, params: {'subsample': 0.7, 'colsample_bytree': 0.9},\n",
       "  mean: 0.79107, std: 0.00153, params: {'subsample': 0.8, 'colsample_bytree': 0.9},\n",
       "  mean: 0.79085, std: 0.00136, params: {'subsample': 0.9, 'colsample_bytree': 0.9}],\n",
       " {'colsample_bytree': 0.9, 'subsample': 0.7},\n",
       " 0.7912273153081204)"
      ]
     },
     "execution_count": 286,
     "metadata": {},
     "output_type": "execute_result"
    }
   ],
   "source": [
    "# Tune tree pruning parameters: subsample, colsample_bytree\n",
    "param_test3 = {\n",
    "  'subsample':[i/10.0 for i in range(6,10)],\n",
    " 'colsample_bytree':[i/10.0 for i in range(4,10)]\n",
    "}\n",
    "\n",
    "gsearch3 = GridSearchCV(estimator = XGBClassifier(max_depth= new_max_depth, min_child_weight= new_min_child_weight,\n",
    "                    gamma=new_gamma ,colsample_bytree=0.4 , subsample=0.9 , reg_alpha = 0.1, \n",
    "                     reg_lambda = 1, max_delta_step = 0 , scale_pos_weight= 1, learning_rate = 0.05, n_estimators=300, \n",
    "                     objective= 'binary:logistic', nthread=4, seed=45), \n",
    "param_grid = param_test3, scoring='roc_auc',n_jobs=4,iid=False, cv=5)\n",
    "\n",
    "gsearch3.fit(X_train,np.ravel(Y_train))\n",
    "pd.Series(gsearch3.grid_scores_).to_csv('/home/pgoyal/quora/model/gs_files/gs_search3.csv')\n",
    "gsearch3.grid_scores_, gsearch3.best_params_, gsearch3.best_score_"
   ]
  },
  {
   "cell_type": "code",
   "execution_count": 287,
   "metadata": {
    "collapsed": false
   },
   "outputs": [],
   "source": [
    "# Best till here :\n",
    "new_subsample = gsearch3.best_params_.values()[0]\n",
    "new_colsample_bytree = gsearch3.best_params_.values()[1]"
   ]
  },
  {
   "cell_type": "code",
   "execution_count": 288,
   "metadata": {
    "collapsed": false
   },
   "outputs": [
    {
     "data": {
      "text/plain": [
       "([mean: 0.79110, std: 0.00158, params: {'reg_alpha': 1e-05},\n",
       "  mean: 0.79105, std: 0.00145, params: {'reg_alpha': 0.01},\n",
       "  mean: 0.79123, std: 0.00156, params: {'reg_alpha': 0.1},\n",
       "  mean: 0.79124, std: 0.00160, params: {'reg_alpha': 1},\n",
       "  mean: 0.78225, std: 0.00127, params: {'reg_alpha': 100}],\n",
       " {'reg_alpha': 1},\n",
       " 0.79123861431771936)"
      ]
     },
     "execution_count": 288,
     "metadata": {},
     "output_type": "execute_result"
    }
   ],
   "source": [
    "# Tune tree pruning parameters: reg_alpha\n",
    "param_test4 = {\n",
    "    'reg_alpha':[1e-5, 1e-2, 0.1, 1, 100]\n",
    "}\n",
    "\n",
    "gsearch4 = GridSearchCV(estimator = XGBClassifier(max_depth= new_max_depth, min_child_weight= new_min_child_weight,\n",
    "                    gamma=new_gamma,colsample_bytree=new_colsample_bytree, subsample=new_subsample, reg_alpha = 0.1, \n",
    "                     reg_lambda = 1, max_delta_step = 0 , scale_pos_weight= 1, learning_rate = 0.05, n_estimators=300, \n",
    "                     objective= 'binary:logistic', nthread=4, seed=45), \n",
    "param_grid = param_test4, scoring='roc_auc',n_jobs=4,iid=False, cv=5)\n",
    "\n",
    "gsearch4.fit(X_train,np.ravel(Y_train))\n",
    "pd.Series(gsearch4.grid_scores_).to_csv('/home/pgoyal/quora/model/gs_files/gs_search4.csv')\n",
    "gsearch4.grid_scores_, gsearch4.best_params_, gsearch4.best_score_"
   ]
  },
  {
   "cell_type": "code",
   "execution_count": 289,
   "metadata": {
    "collapsed": true
   },
   "outputs": [],
   "source": [
    "# Best till here :\n",
    "new_reg_alpha= gsearch4.best_params_.values()[0]"
   ]
  },
  {
   "cell_type": "code",
   "execution_count": 290,
   "metadata": {
    "collapsed": false
   },
   "outputs": [
    {
     "data": {
      "text/plain": [
       "([mean: 0.79141, std: 0.00152, params: {'reg_lambda': 0},\n",
       "  mean: 0.79124, std: 0.00160, params: {'reg_lambda': 1},\n",
       "  mean: 0.79132, std: 0.00147, params: {'reg_lambda': 1.1},\n",
       "  mean: 0.79132, std: 0.00141, params: {'reg_lambda': 1.2},\n",
       "  mean: 0.79126, std: 0.00153, params: {'reg_lambda': 1.5},\n",
       "  mean: 0.79114, std: 0.00162, params: {'reg_lambda': 2},\n",
       "  mean: 0.79101, std: 0.00152, params: {'reg_lambda': 3},\n",
       "  mean: 0.79075, std: 0.00152, params: {'reg_lambda': 5}],\n",
       " {'reg_lambda': 0},\n",
       " 0.79140906743100581)"
      ]
     },
     "execution_count": 290,
     "metadata": {},
     "output_type": "execute_result"
    }
   ],
   "source": [
    "# Tune tree pruning parameters: reg_lambda\n",
    "param_test5 = {\n",
    "  'reg_lambda':[0, 1, 1.1, 1.2, 1.5, 2, 3, 5]\n",
    "}\n",
    "\n",
    "gsearch5 = GridSearchCV(estimator = XGBClassifier(max_depth= new_max_depth, min_child_weight= new_min_child_weight,\n",
    "                    gamma=new_gamma, colsample_bytree=new_colsample_bytree, subsample=new_subsample, \n",
    "                    reg_alpha = new_reg_alpha, reg_lambda = 1, max_delta_step = 0 , scale_pos_weight= 1, \n",
    "                    learning_rate = 0.05, n_estimators=300, objective= 'binary:logistic', nthread=4, seed=45), \n",
    "param_grid = param_test5, scoring='roc_auc',n_jobs=4,iid=False, cv=5)\n",
    "\n",
    "gsearch5.fit(X_train,np.ravel(Y_train))\n",
    "pd.Series(gsearch5.grid_scores_).to_csv('/home/pgoyal/quora/model/gs_files/gs_search5.csv')\n",
    "gsearch5.grid_scores_, gsearch5.best_params_, gsearch5.best_score_"
   ]
  },
  {
   "cell_type": "code",
   "execution_count": 291,
   "metadata": {
    "collapsed": true
   },
   "outputs": [],
   "source": [
    "# Best till here :\n",
    "new_reg_lambda= gsearch5.best_params_.values()[0]"
   ]
  },
  {
   "cell_type": "code",
   "execution_count": 292,
   "metadata": {
    "collapsed": false
   },
   "outputs": [
    {
     "data": {
      "text/plain": [
       "([mean: 0.79141, std: 0.00152, params: {'max_delta_step': 0},\n",
       "  mean: 0.79082, std: 0.00144, params: {'max_delta_step': 1},\n",
       "  mean: 0.79139, std: 0.00150, params: {'max_delta_step': 2},\n",
       "  mean: 0.79141, std: 0.00158, params: {'max_delta_step': 3},\n",
       "  mean: 0.79141, std: 0.00152, params: {'max_delta_step': 4},\n",
       "  mean: 0.79141, std: 0.00152, params: {'max_delta_step': 5},\n",
       "  mean: 0.79141, std: 0.00152, params: {'max_delta_step': 10},\n",
       "  mean: 0.79141, std: 0.00152, params: {'max_delta_step': 100}],\n",
       " {'max_delta_step': 3},\n",
       " 0.79141322444699436)"
      ]
     },
     "execution_count": 292,
     "metadata": {},
     "output_type": "execute_result"
    }
   ],
   "source": [
    "# Tune tree pruning parameters: max_delta_step\n",
    "param_test6 = {\n",
    "  'max_delta_step':[0, 1, 2, 3, 4, 5, 10, 100]\n",
    "}\n",
    "\n",
    "gsearch6 = GridSearchCV(estimator = XGBClassifier(max_depth= new_max_depth, min_child_weight= new_min_child_weight,\n",
    "                    gamma=new_gamma, colsample_bytree=new_colsample_bytree, subsample=new_subsample, \n",
    "                    reg_alpha = new_reg_alpha, reg_lambda = new_reg_lambda, max_delta_step = 0 , scale_pos_weight= 1, \n",
    "                    learning_rate = 0.05, n_estimators=300, objective= 'binary:logistic', nthread=4, seed=45), \n",
    "param_grid = param_test6, scoring='roc_auc',n_jobs=4,iid=False, cv=5)\n",
    "\n",
    "gsearch6.fit(X_train,np.ravel(Y_train))\n",
    "pd.Series(gsearch6.grid_scores_).to_csv('/home/pgoyal/quora/model/gs_files/gs_search6.csv')\n",
    "gsearch6.grid_scores_, gsearch6.best_params_, gsearch6.best_score_"
   ]
  },
  {
   "cell_type": "code",
   "execution_count": 293,
   "metadata": {
    "collapsed": true
   },
   "outputs": [],
   "source": [
    "# Best till here :\n",
    "new_max_delta_step= gsearch6.best_params_.values()[0]"
   ]
  },
  {
   "cell_type": "code",
   "execution_count": 294,
   "metadata": {
    "collapsed": false
   },
   "outputs": [
    {
     "data": {
      "text/plain": [
       "([mean: 0.50000, std: 0.00000, params: {'scale_pos_weight': 0},\n",
       "  mean: 0.79141, std: 0.00158, params: {'scale_pos_weight': 1},\n",
       "  mean: 0.79149, std: 0.00158, params: {'scale_pos_weight': 2},\n",
       "  mean: 0.79063, std: 0.00147, params: {'scale_pos_weight': 5},\n",
       "  mean: 0.78975, std: 0.00151, params: {'scale_pos_weight': 10},\n",
       "  mean: 0.78640, std: 0.00153, params: {'scale_pos_weight': 50},\n",
       "  mean: 0.78501, std: 0.00153, params: {'scale_pos_weight': 100}],\n",
       " {'scale_pos_weight': 2},\n",
       " 0.79148501751351352)"
      ]
     },
     "execution_count": 294,
     "metadata": {},
     "output_type": "execute_result"
    }
   ],
   "source": [
    "# Tune tree pruning parameters: scale_pos_weight\n",
    "param_test7 = {\n",
    "  'scale_pos_weight':[0, 1, 2, 5, 10, 50, 100]\n",
    "}\n",
    "\n",
    "gsearch7 = GridSearchCV(estimator = XGBClassifier(max_depth= new_max_depth, min_child_weight= new_min_child_weight,\n",
    "                    gamma=new_gamma, colsample_bytree=new_colsample_bytree, subsample=new_subsample, \n",
    "                    reg_alpha = new_reg_alpha, reg_lambda = new_reg_lambda, max_delta_step = new_max_delta_step , \n",
    "                    scale_pos_weight= 1, learning_rate = 0.05, n_estimators=300, objective= 'binary:logistic', \n",
    "                    nthread=4, seed=45), \n",
    "param_grid = param_test7, scoring='roc_auc',n_jobs=4,iid=False, cv=5)\n",
    "\n",
    "gsearch7.fit(X_train,np.ravel(Y_train))\n",
    "pd.Series(gsearch7.grid_scores_).to_csv('/home/pgoyal/quora/model/gs_files/gs_search7.csv')\n",
    "gsearch7.grid_scores_, gsearch7.best_params_, gsearch7.best_score_"
   ]
  },
  {
   "cell_type": "code",
   "execution_count": 295,
   "metadata": {
    "collapsed": true
   },
   "outputs": [],
   "source": [
    "# Best till here :\n",
    "new_scale_pos_weight= gsearch7.best_params_.values()[0]"
   ]
  },
  {
   "cell_type": "code",
   "execution_count": 296,
   "metadata": {
    "collapsed": false
   },
   "outputs": [
    {
     "data": {
      "text/plain": [
       "([mean: 0.78452, std: 0.00135, params: {'n_estimators': 250, 'learning_rate': 0.03},\n",
       "  mean: 0.78651, std: 0.00133, params: {'n_estimators': 300, 'learning_rate': 0.03},\n",
       "  mean: 0.78823, std: 0.00132, params: {'n_estimators': 350, 'learning_rate': 0.03},\n",
       "  mean: 0.79151, std: 0.00140, params: {'n_estimators': 500, 'learning_rate': 0.03},\n",
       "  mean: 0.79413, std: 0.00137, params: {'n_estimators': 700, 'learning_rate': 0.03},\n",
       "  mean: 0.78989, std: 0.00152, params: {'n_estimators': 250, 'learning_rate': 0.05},\n",
       "  mean: 0.79149, std: 0.00158, params: {'n_estimators': 300, 'learning_rate': 0.05},\n",
       "  mean: 0.79261, std: 0.00153, params: {'n_estimators': 350, 'learning_rate': 0.05},\n",
       "  mean: 0.79523, std: 0.00169, params: {'n_estimators': 500, 'learning_rate': 0.05},\n",
       "  mean: 0.79736, std: 0.00162, params: {'n_estimators': 700, 'learning_rate': 0.05}],\n",
       " {'learning_rate': 0.05, 'n_estimators': 700},\n",
       " 0.79735789061544282)"
      ]
     },
     "execution_count": 296,
     "metadata": {},
     "output_type": "execute_result"
    }
   ],
   "source": [
    "param_test8 = {\n",
    "    'learning_rate':[0.03, 0.05],\n",
    "    'n_estimators':[250, 300, 350, 500, 700]\n",
    "}\n",
    "\n",
    "gsearch8 = GridSearchCV(estimator = XGBClassifier(max_depth= new_max_depth, min_child_weight= new_min_child_weight,\n",
    "                    gamma=new_gamma, colsample_bytree=new_colsample_bytree, subsample=new_subsample, \n",
    "                    reg_alpha = new_reg_alpha, reg_lambda = new_reg_lambda, max_delta_step = new_max_delta_step , \n",
    "                    scale_pos_weight= new_scale_pos_weight, learning_rate = 0.05, n_estimators=300,\n",
    "                    objective= 'binary:logistic', nthread=4, seed=45), \n",
    "param_grid = param_test8, scoring='roc_auc',n_jobs=4,iid=False, cv=5)\n",
    "\n",
    "gsearch8.fit(X_train,np.ravel(Y_train))\n",
    "pd.Series(gsearch8.grid_scores_).to_csv('/home/pgoyal/quora/model/gs_files/gs_search8.csv')\n",
    "gsearch8.grid_scores_, gsearch8.best_params_, gsearch8.best_score_"
   ]
  },
  {
   "cell_type": "code",
   "execution_count": 297,
   "metadata": {
    "collapsed": true
   },
   "outputs": [],
   "source": [
    "# Best till here :\n",
    "new_learning_rate= gsearch8.best_params_.values()[0]\n",
    "new_n_estimators= gsearch8.best_params_.values()[1]"
   ]
  },
  {
   "cell_type": "code",
   "execution_count": null,
   "metadata": {
    "collapsed": true
   },
   "outputs": [],
   "source": [
    "# Using the final param values from the above GridSearch\n",
    "# Make this var in the below model call : Check!"
   ]
  },
  {
   "cell_type": "code",
   "execution_count": 298,
   "metadata": {
    "collapsed": false
   },
   "outputs": [
    {
     "name": "stderr",
     "output_type": "stream",
     "text": [
      "Will train until cv error hasn't decreased in 50 rounds.\n"
     ]
    },
    {
     "name": "stdout",
     "output_type": "stream",
     "text": [
      "AUC Score (Train): 0.813325\n"
     ]
    },
    {
     "data": {
      "image/png": "[encoded data removed]",
      "text/plain": [
       "<matplotlib.figure.Figure at 0x7f601e86cc10>"
      ]
     },
     "metadata": {},
     "output_type": "display_data"
    }
   ],
   "source": [
    "# Final xgboost classifier with updated params\n",
    "xgb2 = XGBClassifier( max_depth= 6, min_child_weight= 2,gamma=0.3, colsample_bytree=0.9, subsample=0.7, reg_alpha = 1, \n",
    "                     reg_lambda = 0, max_delta_step = 3, scale_pos_weight= 2, learning_rate = 0.05, n_estimators=700,\n",
    "                     objective= 'binary:logistic', nthread=4, seed=45)\n",
    "\n",
    "#Choose the predictors for xgboost and fit the model\n",
    "modelfit(xgb2, X_train, predictors)"
   ]
  },
  {
   "cell_type": "code",
   "execution_count": 299,
   "metadata": {
    "collapsed": false
   },
   "outputs": [
    {
     "data": {
      "text/plain": [
       "0.8133254919401991"
      ]
     },
     "execution_count": 299,
     "metadata": {},
     "output_type": "execute_result"
    }
   ],
   "source": [
    "# Train roc_auc\n",
    "y_predS_xgb2 = xgb2.predict_proba(X_train)\n",
    "roc_auc_score(Y_train, y_predS_xgb2[:,1])"
   ]
  },
  {
   "cell_type": "code",
   "execution_count": 315,
   "metadata": {
    "collapsed": false
   },
   "outputs": [
    {
     "name": "stdout",
     "output_type": "stream",
     "text": [
      "mean auc: 0.797357890615\n",
      "std auc: 0.00162471560154\n"
     ]
    }
   ],
   "source": [
    "# Cross validation AUC \n",
    "cv_score_xgb2 = cross_val_score(xgb2, X_train, np.ravel(Y_train), cv = 5, scoring ='roc_auc')\n",
    "print('mean auc: ' + str(cv_score_xgb2.mean()))\n",
    "print('std auc: ' + str(cv_score_xgb2.std()))"
   ]
  },
  {
   "cell_type": "code",
   "execution_count": 301,
   "metadata": {
    "collapsed": false
   },
   "outputs": [
    {
     "data": {
      "text/plain": [
       "['/home/pgoyal/quora/model/xgb2_dup_auc_2.pkl',\n",
       " '/home/pgoyal/quora/model/xgb2_dup_auc_2.pkl_01.npy']"
      ]
     },
     "execution_count": 301,
     "metadata": {},
     "output_type": "execute_result"
    }
   ],
   "source": [
    "# Save the model\n",
    "from sklearn.externals import joblib\n",
    "# Model-1 (without prcnt_common feature)\n",
    "#joblib.dump(xgb2, '/home/pgoyal/quora/model/xgb2_dup_auc.pkl')\n",
    "# Model-2 (with prcnt_common feature)\n",
    "joblib.dump(xgb2, '/home/pgoyal/quora/model/xgb2_dup_auc_2.pkl')"
   ]
  },
  {
   "cell_type": "markdown",
   "metadata": {},
   "source": [
    "## Decile Info - Train"
   ]
  },
  {
   "cell_type": "code",
   "execution_count": 302,
   "metadata": {
    "collapsed": true
   },
   "outputs": [],
   "source": [
    "# Decile related info\n",
    "\n",
    "df_list = [1,2,3,4,5,6,7,8,9,10]\n",
    "\n",
    "prob = pd.DataFrame(y_predS_xgb2[:,1]) # y_predS is to be changed\n",
    "prob.columns = ['Probability']\n",
    "prob[\"Target\"] = Y_train.values # y_train to be changed\n",
    "prob = prob.sort_values(by='Probability', ascending=0)\n",
    "\n",
    "dec = int(prob['Target'].shape[0]/10)\n",
    "\n",
    "for i in [0,1,2,3,4,5,6,7,8,9]:\n",
    "    vars()['dec_'+str(df_list[i])+'_rr'] = float(prob['Target'][i*dec:(i+1)*dec].sum()/float(dec))\n",
    "    vars()['dec_'+str(df_list[i])+'_cr'] = float(prob['Target'][i*dec:(i+1)*dec].sum()/float(prob['Target'].sum()))\n",
    "    vars()['dec_'+str(df_list[i])+'_goods'] = float(prob['Target'][i*dec:(i+1)*dec].sum())\n",
    "    vars()['dec_'+str(df_list[i])+'_bads'] = float(prob['Target'][i*dec:(i+1)*dec].count())-float(\n",
    "        prob['Target'][i*dec:(i+1)*dec].sum())\n",
    "\n",
    "decile_num = pd.DataFrame([dec, dec, dec, dec, dec, dec, dec, dec, dec, dec], columns = ['# decile'])\n",
    "decile_goods = pd.DataFrame([dec_1_goods, dec_2_goods, dec_3_goods, dec_4_goods, dec_5_goods, dec_6_goods, dec_7_goods,\n",
    "                          dec_8_goods, dec_9_goods, dec_10_goods], columns = ['# of goods'])\n",
    "decile_bads = pd.DataFrame([dec_1_bads, dec_2_bads, dec_3_bads, dec_4_bads, dec_5_bads, dec_6_bads, dec_7_bads,\n",
    "                          dec_8_bads, dec_9_bads, dec_10_bads], columns = ['# of bads'])\n",
    "decile_cr = pd.DataFrame([dec_1_cr, dec_2_cr, dec_3_cr, dec_4_cr, dec_5_cr, dec_6_cr, dec_7_cr,\n",
    "                          dec_8_cr, dec_9_cr, dec_10_cr], columns = ['1st decile capture_rate'])\n",
    "decile_rr = pd.DataFrame([dec_1_rr, dec_2_rr, dec_3_rr, dec_4_rr, dec_5_rr, dec_6_rr, dec_7_rr,\n",
    "                          dec_8_rr, dec_9_rr, dec_10_rr], columns = ['1st decile response_rate'])"
   ]
  },
  {
   "cell_type": "code",
   "execution_count": 303,
   "metadata": {
    "collapsed": false
   },
   "outputs": [
    {
     "data": {
      "text/html": [
       "<div>\n",
       "<table border=\"1\" class=\"dataframe\">\n",
       "  <thead>\n",
       "    <tr style=\"text-align: right;\">\n",
       "      <th></th>\n",
       "      <th># decile</th>\n",
       "      <th># of goods</th>\n",
       "      <th># of bads</th>\n",
       "      <th>1st decile capture_rate</th>\n",
       "      <th>1st decile response_rate</th>\n",
       "      <th>% of bads</th>\n",
       "      <th>% cum_goods</th>\n",
       "      <th>% cum_bads</th>\n",
       "      <th>KS</th>\n",
       "      <th>Lift</th>\n",
       "    </tr>\n",
       "  </thead>\n",
       "  <tbody>\n",
       "    <tr>\n",
       "      <th>0</th>\n",
       "      <td>32343</td>\n",
       "      <td>25225.0</td>\n",
       "      <td>7118.0</td>\n",
       "      <td>0.210941</td>\n",
       "      <td>0.779921</td>\n",
       "      <td>0.034918</td>\n",
       "      <td>0.210941</td>\n",
       "      <td>0.034918</td>\n",
       "      <td>0.467041</td>\n",
       "      <td>2.109427</td>\n",
       "    </tr>\n",
       "    <tr>\n",
       "      <th>1</th>\n",
       "      <td>32343</td>\n",
       "      <td>20695.0</td>\n",
       "      <td>11648.0</td>\n",
       "      <td>0.173060</td>\n",
       "      <td>0.639860</td>\n",
       "      <td>0.057141</td>\n",
       "      <td>0.384001</td>\n",
       "      <td>0.092059</td>\n",
       "      <td>0.467041</td>\n",
       "      <td>1.920017</td>\n",
       "    </tr>\n",
       "    <tr>\n",
       "      <th>2</th>\n",
       "      <td>32343</td>\n",
       "      <td>18349.0</td>\n",
       "      <td>13994.0</td>\n",
       "      <td>0.153442</td>\n",
       "      <td>0.567325</td>\n",
       "      <td>0.068650</td>\n",
       "      <td>0.537443</td>\n",
       "      <td>0.160709</td>\n",
       "      <td>0.467041</td>\n",
       "      <td>1.791486</td>\n",
       "    </tr>\n",
       "    <tr>\n",
       "      <th>3</th>\n",
       "      <td>32343</td>\n",
       "      <td>16306.0</td>\n",
       "      <td>16037.0</td>\n",
       "      <td>0.136357</td>\n",
       "      <td>0.504159</td>\n",
       "      <td>0.078672</td>\n",
       "      <td>0.673800</td>\n",
       "      <td>0.239381</td>\n",
       "      <td>0.467041</td>\n",
       "      <td>1.684510</td>\n",
       "    </tr>\n",
       "    <tr>\n",
       "      <th>4</th>\n",
       "      <td>32343</td>\n",
       "      <td>14417.0</td>\n",
       "      <td>17926.0</td>\n",
       "      <td>0.120561</td>\n",
       "      <td>0.445753</td>\n",
       "      <td>0.087939</td>\n",
       "      <td>0.794360</td>\n",
       "      <td>0.327319</td>\n",
       "      <td>0.467041</td>\n",
       "      <td>1.588731</td>\n",
       "    </tr>\n",
       "    <tr>\n",
       "      <th>5</th>\n",
       "      <td>32343</td>\n",
       "      <td>11858.0</td>\n",
       "      <td>20485.0</td>\n",
       "      <td>0.099161</td>\n",
       "      <td>0.366633</td>\n",
       "      <td>0.100492</td>\n",
       "      <td>0.893522</td>\n",
       "      <td>0.427811</td>\n",
       "      <td>0.467041</td>\n",
       "      <td>1.489212</td>\n",
       "    </tr>\n",
       "    <tr>\n",
       "      <th>6</th>\n",
       "      <td>32343</td>\n",
       "      <td>8461.0</td>\n",
       "      <td>23882.0</td>\n",
       "      <td>0.070754</td>\n",
       "      <td>0.261602</td>\n",
       "      <td>0.117156</td>\n",
       "      <td>0.964276</td>\n",
       "      <td>0.544968</td>\n",
       "      <td>0.467041</td>\n",
       "      <td>1.377545</td>\n",
       "    </tr>\n",
       "    <tr>\n",
       "      <th>7</th>\n",
       "      <td>32343</td>\n",
       "      <td>3818.0</td>\n",
       "      <td>28525.0</td>\n",
       "      <td>0.031928</td>\n",
       "      <td>0.118047</td>\n",
       "      <td>0.139933</td>\n",
       "      <td>0.996203</td>\n",
       "      <td>0.684901</td>\n",
       "      <td>0.467041</td>\n",
       "      <td>1.245262</td>\n",
       "    </tr>\n",
       "    <tr>\n",
       "      <th>8</th>\n",
       "      <td>32343</td>\n",
       "      <td>454.0</td>\n",
       "      <td>31889.0</td>\n",
       "      <td>0.003797</td>\n",
       "      <td>0.014037</td>\n",
       "      <td>0.156436</td>\n",
       "      <td>1.000000</td>\n",
       "      <td>0.841337</td>\n",
       "      <td>0.467041</td>\n",
       "      <td>1.111118</td>\n",
       "    </tr>\n",
       "    <tr>\n",
       "      <th>9</th>\n",
       "      <td>32343</td>\n",
       "      <td>0.0</td>\n",
       "      <td>32343.0</td>\n",
       "      <td>0.000000</td>\n",
       "      <td>0.000000</td>\n",
       "      <td>0.158663</td>\n",
       "      <td>1.000000</td>\n",
       "      <td>1.000000</td>\n",
       "      <td>0.467041</td>\n",
       "      <td>1.000006</td>\n",
       "    </tr>\n",
       "  </tbody>\n",
       "</table>\n",
       "</div>"
      ],
      "text/plain": [
       "   # decile  # of goods  # of bads  1st decile capture_rate  \\\n",
       "0     32343     25225.0     7118.0                 0.210941   \n",
       "1     32343     20695.0    11648.0                 0.173060   \n",
       "2     32343     18349.0    13994.0                 0.153442   \n",
       "3     32343     16306.0    16037.0                 0.136357   \n",
       "4     32343     14417.0    17926.0                 0.120561   \n",
       "5     32343     11858.0    20485.0                 0.099161   \n",
       "6     32343      8461.0    23882.0                 0.070754   \n",
       "7     32343      3818.0    28525.0                 0.031928   \n",
       "8     32343       454.0    31889.0                 0.003797   \n",
       "9     32343         0.0    32343.0                 0.000000   \n",
       "\n",
       "   1st decile response_rate  % of bads  % cum_goods  % cum_bads        KS  \\\n",
       "0                  0.779921   0.034918     0.210941    0.034918  0.467041   \n",
       "1                  0.639860   0.057141     0.384001    0.092059  0.467041   \n",
       "2                  0.567325   0.068650     0.537443    0.160709  0.467041   \n",
       "3                  0.504159   0.078672     0.673800    0.239381  0.467041   \n",
       "4                  0.445753   0.087939     0.794360    0.327319  0.467041   \n",
       "5                  0.366633   0.100492     0.893522    0.427811  0.467041   \n",
       "6                  0.261602   0.117156     0.964276    0.544968  0.467041   \n",
       "7                  0.118047   0.139933     0.996203    0.684901  0.467041   \n",
       "8                  0.014037   0.156436     1.000000    0.841337  0.467041   \n",
       "9                  0.000000   0.158663     1.000000    1.000000  0.467041   \n",
       "\n",
       "       Lift  \n",
       "0  2.109427  \n",
       "1  1.920017  \n",
       "2  1.791486  \n",
       "3  1.684510  \n",
       "4  1.588731  \n",
       "5  1.489212  \n",
       "6  1.377545  \n",
       "7  1.245262  \n",
       "8  1.111118  \n",
       "9  1.000006  "
      ]
     },
     "execution_count": 303,
     "metadata": {},
     "output_type": "execute_result"
    }
   ],
   "source": [
    "# Decile info dataframe\n",
    "\n",
    "df = [decile_num, decile_goods, decile_bads, decile_cr, decile_rr]\n",
    "df = pd.concat(df, axis=1)\n",
    "df['% of bads'] = df['# of bads']/df['# of bads'].sum()\n",
    "df['% cum_goods'] = df['1st decile capture_rate'].cumsum()\n",
    "df['% cum_bads'] = df['% of bads'].cumsum()\n",
    "df['KS'] = (df['% cum_goods']-df['% cum_bads']).max()\n",
    "df['Lift'] = df['% cum_goods']/(df['# decile']/prob['Target'].shape[0]).cumsum()\n",
    "df"
   ]
  },
  {
   "cell_type": "code",
   "execution_count": 304,
   "metadata": {
    "collapsed": false
   },
   "outputs": [
    {
     "name": "stdout",
     "output_type": "stream",
     "text": [
      "Probability from classifier for Train\n",
      "Response 10%: 0.779921466778\n",
      "Capture at 10%: 0.21094135454\n",
      "Response 5%: 0.826603178529\n",
      "Capture at 5%: 0.111780102523\n"
     ]
    },
    {
     "data": {
      "text/plain": [
       "(<Container object of 10 artists>,\n",
       " <matplotlib.text.Text at 0x7f60122b74d0>,\n",
       " <matplotlib.text.Text at 0x7f600bc97b50>)"
      ]
     },
     "execution_count": 304,
     "metadata": {},
     "output_type": "execute_result"
    },
    {
     "data": {
      "image/png": "[encoded data removed]",
      "text/plain": [
       "<matplotlib.figure.Figure at 0x7f600bce3e90>"
      ]
     },
     "metadata": {},
     "output_type": "display_data"
    }
   ],
   "source": [
    "# Top decile, 5% capture, decile chart and lift chart\n",
    "per5 = int(prob['Target'].shape[0]/20)\n",
    "per5_1_rr = float(prob['Target'][0:per5].sum()/float(per5))\n",
    "per5_1_cr = float(prob['Target'][0:per5].sum()/float(prob['Target'].sum()))\n",
    "\n",
    "print 'Probability from classifier for Train' \n",
    "print 'Response 10%: ' + str(dec_1_rr)\n",
    "print 'Capture at 10%: ' + str(dec_1_cr)\n",
    "print 'Response 5%: ' + str(per5_1_rr)\n",
    "print 'Capture at 5%: ' + str(per5_1_cr)\n",
    "\n",
    "# print decile chart and lift chart\n",
    "f, axs = plt.subplots(1,2,figsize=(16,4))\n",
    "axs[0].bar(range(0,10), df['1st decile capture_rate'], color = 'blue'), axs[0].set_title('Decile chart')\n",
    "axs[0].set_ylabel('Capture rate')\n",
    "axs[1].bar(range(0,10), df['Lift'], color = 'grey'), axs[1].set_title('Lift chart'), axs[1].set_ylabel('Lift')"
   ]
  },
  {
   "cell_type": "markdown",
   "metadata": {},
   "source": [
    "## Decile Info - Validation"
   ]
  },
  {
   "cell_type": "code",
   "execution_count": 305,
   "metadata": {
    "collapsed": false
   },
   "outputs": [
    {
     "name": "stdout",
     "output_type": "stream",
     "text": [
      "Validation AUC: 0.796158536879\n"
     ]
    }
   ],
   "source": [
    "# Validation AUC\n",
    "val_pred_xgb2 = xgb2.predict_proba(X_val)\n",
    "print('Validation AUC: ' + str(roc_auc_score(Y_val, val_pred_xgb2[:,1])))"
   ]
  },
  {
   "cell_type": "code",
   "execution_count": 306,
   "metadata": {
    "collapsed": true
   },
   "outputs": [],
   "source": [
    "# Decile related info\n",
    "df_list = [1,2,3,4,5,6,7,8,9,10]\n",
    "\n",
    "prob = pd.DataFrame(val_pred_xgb2[:,1]) \n",
    "prob.columns = ['Probability']\n",
    "prob[\"Target\"] = Y_val.values \n",
    "prob = prob.sort_values(by='Probability', ascending=0)\n",
    "\n",
    "dec = int(prob['Target'].shape[0]/10)\n",
    "\n",
    "for i in [0,1,2,3,4,5,6,7,8,9]:\n",
    "    vars()['dec_'+str(df_list[i])+'_rr'] = float(prob['Target'][i*dec:(i+1)*dec].sum()/float(dec))\n",
    "    vars()['dec_'+str(df_list[i])+'_cr'] = float(prob['Target'][i*dec:(i+1)*dec].sum()/float(prob['Target'].sum()))\n",
    "    vars()['dec_'+str(df_list[i])+'_goods'] = float(prob['Target'][i*dec:(i+1)*dec].sum())\n",
    "    vars()['dec_'+str(df_list[i])+'_bads'] = float(prob['Target'][i*dec:(i+1)*dec].count())-float(\n",
    "        prob['Target'][i*dec:(i+1)*dec].sum())\n",
    "\n",
    "decile_num = pd.DataFrame([dec, dec, dec, dec, dec, dec, dec, dec, dec, dec], columns = ['# decile'])\n",
    "decile_goods = pd.DataFrame([dec_1_goods, dec_2_goods, dec_3_goods, dec_4_goods, dec_5_goods, dec_6_goods, dec_7_goods,\n",
    "                          dec_8_goods, dec_9_goods, dec_10_goods], columns = ['# of goods'])\n",
    "decile_bads = pd.DataFrame([dec_1_bads, dec_2_bads, dec_3_bads, dec_4_bads, dec_5_bads, dec_6_bads, dec_7_bads,\n",
    "                          dec_8_bads, dec_9_bads, dec_10_bads], columns = ['# of bads'])\n",
    "decile_cr = pd.DataFrame([dec_1_cr, dec_2_cr, dec_3_cr, dec_4_cr, dec_5_cr, dec_6_cr, dec_7_cr,\n",
    "                          dec_8_cr, dec_9_cr, dec_10_cr], columns = ['1st decile capture_rate'])\n",
    "decile_rr = pd.DataFrame([dec_1_rr, dec_2_rr, dec_3_rr, dec_4_rr, dec_5_rr, dec_6_rr, dec_7_rr,\n",
    "                          dec_8_rr, dec_9_rr, dec_10_rr], columns = ['1st decile response_rate'])"
   ]
  },
  {
   "cell_type": "code",
   "execution_count": 307,
   "metadata": {
    "collapsed": false
   },
   "outputs": [
    {
     "data": {
      "text/html": [
       "<div>\n",
       "<table border=\"1\" class=\"dataframe\">\n",
       "  <thead>\n",
       "    <tr style=\"text-align: right;\">\n",
       "      <th></th>\n",
       "      <th># decile</th>\n",
       "      <th># of goods</th>\n",
       "      <th># of bads</th>\n",
       "      <th>1st decile capture_rate</th>\n",
       "      <th>1st decile response_rate</th>\n",
       "      <th>% of bads</th>\n",
       "      <th>% cum_goods</th>\n",
       "      <th>% cum_bads</th>\n",
       "      <th>KS</th>\n",
       "      <th>Lift</th>\n",
       "    </tr>\n",
       "  </thead>\n",
       "  <tbody>\n",
       "    <tr>\n",
       "      <th>0</th>\n",
       "      <td>8085</td>\n",
       "      <td>6079.0</td>\n",
       "      <td>2006.0</td>\n",
       "      <td>0.204818</td>\n",
       "      <td>0.751886</td>\n",
       "      <td>0.039203</td>\n",
       "      <td>0.204818</td>\n",
       "      <td>0.039203</td>\n",
       "      <td>0.440949</td>\n",
       "      <td>2.048383</td>\n",
       "    </tr>\n",
       "    <tr>\n",
       "      <th>1</th>\n",
       "      <td>8085</td>\n",
       "      <td>4905.0</td>\n",
       "      <td>3180.0</td>\n",
       "      <td>0.165263</td>\n",
       "      <td>0.606679</td>\n",
       "      <td>0.062146</td>\n",
       "      <td>0.370081</td>\n",
       "      <td>0.101348</td>\n",
       "      <td>0.440949</td>\n",
       "      <td>1.850587</td>\n",
       "    </tr>\n",
       "    <tr>\n",
       "      <th>2</th>\n",
       "      <td>8085</td>\n",
       "      <td>4512.0</td>\n",
       "      <td>3573.0</td>\n",
       "      <td>0.152022</td>\n",
       "      <td>0.558071</td>\n",
       "      <td>0.069826</td>\n",
       "      <td>0.522102</td>\n",
       "      <td>0.171175</td>\n",
       "      <td>0.440949</td>\n",
       "      <td>1.740514</td>\n",
       "    </tr>\n",
       "    <tr>\n",
       "      <th>3</th>\n",
       "      <td>8085</td>\n",
       "      <td>4035.0</td>\n",
       "      <td>4050.0</td>\n",
       "      <td>0.135950</td>\n",
       "      <td>0.499072</td>\n",
       "      <td>0.079148</td>\n",
       "      <td>0.658053</td>\n",
       "      <td>0.250322</td>\n",
       "      <td>0.440949</td>\n",
       "      <td>1.645294</td>\n",
       "    </tr>\n",
       "    <tr>\n",
       "      <th>4</th>\n",
       "      <td>8085</td>\n",
       "      <td>3548.0</td>\n",
       "      <td>4537.0</td>\n",
       "      <td>0.119542</td>\n",
       "      <td>0.438837</td>\n",
       "      <td>0.088665</td>\n",
       "      <td>0.777594</td>\n",
       "      <td>0.338988</td>\n",
       "      <td>0.440949</td>\n",
       "      <td>1.555343</td>\n",
       "    </tr>\n",
       "    <tr>\n",
       "      <th>5</th>\n",
       "      <td>8085</td>\n",
       "      <td>3012.0</td>\n",
       "      <td>5073.0</td>\n",
       "      <td>0.101482</td>\n",
       "      <td>0.372542</td>\n",
       "      <td>0.099140</td>\n",
       "      <td>0.879077</td>\n",
       "      <td>0.438128</td>\n",
       "      <td>0.440949</td>\n",
       "      <td>1.465273</td>\n",
       "    </tr>\n",
       "    <tr>\n",
       "      <th>6</th>\n",
       "      <td>8085</td>\n",
       "      <td>2188.0</td>\n",
       "      <td>5897.0</td>\n",
       "      <td>0.073720</td>\n",
       "      <td>0.270625</td>\n",
       "      <td>0.115243</td>\n",
       "      <td>0.952796</td>\n",
       "      <td>0.553371</td>\n",
       "      <td>0.440949</td>\n",
       "      <td>1.361273</td>\n",
       "    </tr>\n",
       "    <tr>\n",
       "      <th>7</th>\n",
       "      <td>8085</td>\n",
       "      <td>1175.0</td>\n",
       "      <td>6910.0</td>\n",
       "      <td>0.039589</td>\n",
       "      <td>0.145331</td>\n",
       "      <td>0.135040</td>\n",
       "      <td>0.992385</td>\n",
       "      <td>0.688411</td>\n",
       "      <td>0.440949</td>\n",
       "      <td>1.240605</td>\n",
       "    </tr>\n",
       "    <tr>\n",
       "      <th>8</th>\n",
       "      <td>8085</td>\n",
       "      <td>225.0</td>\n",
       "      <td>7860.0</td>\n",
       "      <td>0.007581</td>\n",
       "      <td>0.027829</td>\n",
       "      <td>0.153606</td>\n",
       "      <td>0.999966</td>\n",
       "      <td>0.842017</td>\n",
       "      <td>0.440949</td>\n",
       "      <td>1.111184</td>\n",
       "    </tr>\n",
       "    <tr>\n",
       "      <th>9</th>\n",
       "      <td>8085</td>\n",
       "      <td>1.0</td>\n",
       "      <td>8084.0</td>\n",
       "      <td>0.000034</td>\n",
       "      <td>0.000124</td>\n",
       "      <td>0.157983</td>\n",
       "      <td>1.000000</td>\n",
       "      <td>1.000000</td>\n",
       "      <td>0.440949</td>\n",
       "      <td>1.000099</td>\n",
       "    </tr>\n",
       "  </tbody>\n",
       "</table>\n",
       "</div>"
      ],
      "text/plain": [
       "   # decile  # of goods  # of bads  1st decile capture_rate  \\\n",
       "0      8085      6079.0     2006.0                 0.204818   \n",
       "1      8085      4905.0     3180.0                 0.165263   \n",
       "2      8085      4512.0     3573.0                 0.152022   \n",
       "3      8085      4035.0     4050.0                 0.135950   \n",
       "4      8085      3548.0     4537.0                 0.119542   \n",
       "5      8085      3012.0     5073.0                 0.101482   \n",
       "6      8085      2188.0     5897.0                 0.073720   \n",
       "7      8085      1175.0     6910.0                 0.039589   \n",
       "8      8085       225.0     7860.0                 0.007581   \n",
       "9      8085         1.0     8084.0                 0.000034   \n",
       "\n",
       "   1st decile response_rate  % of bads  % cum_goods  % cum_bads        KS  \\\n",
       "0                  0.751886   0.039203     0.204818    0.039203  0.440949   \n",
       "1                  0.606679   0.062146     0.370081    0.101348  0.440949   \n",
       "2                  0.558071   0.069826     0.522102    0.171175  0.440949   \n",
       "3                  0.499072   0.079148     0.658053    0.250322  0.440949   \n",
       "4                  0.438837   0.088665     0.777594    0.338988  0.440949   \n",
       "5                  0.372542   0.099140     0.879077    0.438128  0.440949   \n",
       "6                  0.270625   0.115243     0.952796    0.553371  0.440949   \n",
       "7                  0.145331   0.135040     0.992385    0.688411  0.440949   \n",
       "8                  0.027829   0.153606     0.999966    0.842017  0.440949   \n",
       "9                  0.000124   0.157983     1.000000    1.000000  0.440949   \n",
       "\n",
       "       Lift  \n",
       "0  2.048383  \n",
       "1  1.850587  \n",
       "2  1.740514  \n",
       "3  1.645294  \n",
       "4  1.555343  \n",
       "5  1.465273  \n",
       "6  1.361273  \n",
       "7  1.240605  \n",
       "8  1.111184  \n",
       "9  1.000099  "
      ]
     },
     "execution_count": 307,
     "metadata": {},
     "output_type": "execute_result"
    }
   ],
   "source": [
    "# Decile info dataframe\n",
    "df = [decile_num, decile_goods, decile_bads, decile_cr, decile_rr]\n",
    "df = pd.concat(df, axis=1)\n",
    "df['% of bads'] = df['# of bads']/df['# of bads'].sum()\n",
    "df['% cum_goods'] = df['1st decile capture_rate'].cumsum()\n",
    "df['% cum_bads'] = df['% of bads'].cumsum()\n",
    "df['KS'] = (df['% cum_goods']-df['% cum_bads']).max()\n",
    "df['Lift'] = df['% cum_goods']/(df['# decile']/prob['Target'].shape[0]).cumsum()\n",
    "df"
   ]
  },
  {
   "cell_type": "code",
   "execution_count": 308,
   "metadata": {
    "collapsed": false
   },
   "outputs": [
    {
     "name": "stdout",
     "output_type": "stream",
     "text": [
      "Probability from classifier for Validation\n",
      "Response 10%: 0.751886209029\n",
      "Capture at 10%: 0.204818059299\n",
      "Response 5%: 0.802820385948\n",
      "Capture at 5%: 0.109332884097\n"
     ]
    },
    {
     "data": {
      "text/plain": [
       "(<Container object of 10 artists>,\n",
       " <matplotlib.text.Text at 0x7f600bdac710>,\n",
       " <matplotlib.text.Text at 0x7f6012015cd0>)"
      ]
     },
     "execution_count": 308,
     "metadata": {},
     "output_type": "execute_result"
    },
    {
     "data": {
      "image/png": "[encoded data removed]",
      "text/plain": [
       "<matplotlib.figure.Figure at 0x7f6011fec510>"
      ]
     },
     "metadata": {},
     "output_type": "display_data"
    }
   ],
   "source": [
    "# Top decile, 5% capture, decile chart and lift chart\n",
    "\n",
    "per5 = int(prob['Target'].shape[0]/20)\n",
    "per5_1_rr = float(prob['Target'][0:per5].sum()/float(per5))\n",
    "per5_1_cr = float(prob['Target'][0:per5].sum()/float(prob['Target'].sum()))\n",
    "\n",
    "print 'Probability from classifier for Validation'\n",
    "print 'Response 10%: ' + str(dec_1_rr)\n",
    "print 'Capture at 10%: ' + str(dec_1_cr)\n",
    "print 'Response 5%: ' + str(per5_1_rr)\n",
    "print 'Capture at 5%: ' + str(per5_1_cr)\n",
    "\n",
    "# print decile chart and lift chart\n",
    "f, axs = plt.subplots(1,2,figsize=(16,4))\n",
    "axs[0].bar(range(0,10), df['1st decile capture_rate'], color = 'blue'), axs[0].set_title('Decile chart')\n",
    "axs[0].set_ylabel('Capture rate')\n",
    "axs[1].bar(range(0,10), df['Lift'], color = 'grey'), axs[1].set_title('Lift chart'), axs[1].set_ylabel('Lift')"
   ]
  },
  {
   "cell_type": "code",
   "execution_count": 309,
   "metadata": {
    "collapsed": false
   },
   "outputs": [
    {
     "data": {
      "text/plain": [
       "<matplotlib.legend.Legend at 0x7f600e854690>"
      ]
     },
     "execution_count": 309,
     "metadata": {},
     "output_type": "execute_result"
    },
    {
     "data": {
      "image/png": "[encoded data removed]",
      "text/plain": [
       "<matplotlib.figure.Figure at 0x7f600ca06d90>"
      ]
     },
     "metadata": {},
     "output_type": "display_data"
    }
   ],
   "source": [
    "# Make ROC curve for train and validation as of now\n",
    "from sklearn.metrics import roc_curve, auc\n",
    "\n",
    "fpr_trn, tpr_trn, _= roc_curve(Y_train, y_predS_xgb2[:,1])\n",
    "fpr_tst, tpr_tst, _= roc_curve(Y_val, val_pred_xgb2[:, 1]) \n",
    "\n",
    "roc_auc_trn = auc(fpr_trn, tpr_trn)\n",
    "roc_auc_tst = auc(fpr_tst, tpr_tst)\n",
    "# print roc_auc\n",
    "\n",
    "# Plot of a ROC curve\n",
    "plt.figure(figsize=(8,7))\n",
    "plt.plot(fpr_trn, tpr_trn, label='Train AUC - %0.2f' % roc_auc_trn)\n",
    "plt.plot(fpr_tst, tpr_tst, label='Valid AUC - %0.2f' % roc_auc_tst)   # Valid or Test ???\n",
    "plt.plot([0, 1], [0, 1], 'k--')\n",
    "plt.xlim([0.0, 1.0])\n",
    "plt.ylim([0.0, 1.05])\n",
    "plt.xlabel('False Positive Rate')\n",
    "plt.ylabel('True Positive Rate')\n",
    "plt.title('ROC Curve')\n",
    "plt.legend(loc=\"lower right\", prop={'size':8})\n",
    "# plt.savefig('ROC_Curve.png')"
   ]
  },
  {
   "cell_type": "code",
   "execution_count": null,
   "metadata": {
    "collapsed": true
   },
   "outputs": [],
   "source": []
  },
  {
   "cell_type": "code",
   "execution_count": 310,
   "metadata": {
    "collapsed": true
   },
   "outputs": [],
   "source": [
    "feat_imp = pd.Series(xgb2.booster().get_fscore()).sort_values(ascending=False)\n",
    "feat_imp =pd.DataFrame({'features': feat_imp.index, 'importance' : feat_imp.values})\n",
    "feat_imp['importance_percent']  = feat_imp['importance']/feat_imp['importance'].sum()"
   ]
  },
  {
   "cell_type": "code",
   "execution_count": 311,
   "metadata": {
    "collapsed": false
   },
   "outputs": [
    {
     "data": {
      "text/html": [
       "<div>\n",
       "<table border=\"1\" class=\"dataframe\">\n",
       "  <thead>\n",
       "    <tr style=\"text-align: right;\">\n",
       "      <th></th>\n",
       "      <th>features</th>\n",
       "      <th>importance</th>\n",
       "      <th>importance_percent</th>\n",
       "    </tr>\n",
       "  </thead>\n",
       "  <tbody>\n",
       "    <tr>\n",
       "      <th>0</th>\n",
       "      <td>q1_form_char</td>\n",
       "      <td>4575</td>\n",
       "      <td>0.133506</td>\n",
       "    </tr>\n",
       "    <tr>\n",
       "      <th>1</th>\n",
       "      <td>q2_form_char</td>\n",
       "      <td>4300</td>\n",
       "      <td>0.125481</td>\n",
       "    </tr>\n",
       "    <tr>\n",
       "      <th>2</th>\n",
       "      <td>prcnt_common</td>\n",
       "      <td>3715</td>\n",
       "      <td>0.108410</td>\n",
       "    </tr>\n",
       "    <tr>\n",
       "      <th>3</th>\n",
       "      <td>q1_q2_char_diff</td>\n",
       "      <td>3272</td>\n",
       "      <td>0.095483</td>\n",
       "    </tr>\n",
       "    <tr>\n",
       "      <th>4</th>\n",
       "      <td>q2_length</td>\n",
       "      <td>3157</td>\n",
       "      <td>0.092127</td>\n",
       "    </tr>\n",
       "    <tr>\n",
       "      <th>5</th>\n",
       "      <td>q1_length</td>\n",
       "      <td>2961</td>\n",
       "      <td>0.086407</td>\n",
       "    </tr>\n",
       "    <tr>\n",
       "      <th>6</th>\n",
       "      <td>q2_unique</td>\n",
       "      <td>2652</td>\n",
       "      <td>0.077390</td>\n",
       "    </tr>\n",
       "    <tr>\n",
       "      <th>7</th>\n",
       "      <td>q1_unique</td>\n",
       "      <td>2558</td>\n",
       "      <td>0.074647</td>\n",
       "    </tr>\n",
       "    <tr>\n",
       "      <th>8</th>\n",
       "      <td>q2_form_len</td>\n",
       "      <td>1693</td>\n",
       "      <td>0.049405</td>\n",
       "    </tr>\n",
       "    <tr>\n",
       "      <th>9</th>\n",
       "      <td>q2_form_uni</td>\n",
       "      <td>1443</td>\n",
       "      <td>0.042109</td>\n",
       "    </tr>\n",
       "    <tr>\n",
       "      <th>10</th>\n",
       "      <td>q1_form_len</td>\n",
       "      <td>1411</td>\n",
       "      <td>0.041175</td>\n",
       "    </tr>\n",
       "    <tr>\n",
       "      <th>11</th>\n",
       "      <td>q1_form_uni</td>\n",
       "      <td>1384</td>\n",
       "      <td>0.040388</td>\n",
       "    </tr>\n",
       "    <tr>\n",
       "      <th>12</th>\n",
       "      <td>common_cnt</td>\n",
       "      <td>1147</td>\n",
       "      <td>0.033471</td>\n",
       "    </tr>\n",
       "  </tbody>\n",
       "</table>\n",
       "</div>"
      ],
      "text/plain": [
       "           features  importance  importance_percent\n",
       "0      q1_form_char        4575            0.133506\n",
       "1      q2_form_char        4300            0.125481\n",
       "2      prcnt_common        3715            0.108410\n",
       "3   q1_q2_char_diff        3272            0.095483\n",
       "4         q2_length        3157            0.092127\n",
       "5         q1_length        2961            0.086407\n",
       "6         q2_unique        2652            0.077390\n",
       "7         q1_unique        2558            0.074647\n",
       "8       q2_form_len        1693            0.049405\n",
       "9       q2_form_uni        1443            0.042109\n",
       "10      q1_form_len        1411            0.041175\n",
       "11      q1_form_uni        1384            0.040388\n",
       "12       common_cnt        1147            0.033471"
      ]
     },
     "execution_count": 311,
     "metadata": {},
     "output_type": "execute_result"
    }
   ],
   "source": [
    "feat_imp.iloc[0:21]"
   ]
  },
  {
   "cell_type": "code",
   "execution_count": 312,
   "metadata": {
    "collapsed": false
   },
   "outputs": [
    {
     "data": {
      "text/plain": [
       "<matplotlib.text.Text at 0x7f601e86cc10>"
      ]
     },
     "execution_count": 312,
     "metadata": {},
     "output_type": "execute_result"
    },
    {
     "data": {
      "image/png": "[encoded data removed]",
      "text/plain": [
       "<matplotlib.figure.Figure at 0x7f600bc97350>"
      ]
     },
     "metadata": {},
     "output_type": "display_data"
    }
   ],
   "source": [
    "feat_imp[['features','importance']].plot(kind='bar', title='Feature Importances', figsize=(15,5))\n",
    "plt.ylabel('Feature Importance Score')"
   ]
  },
  {
   "cell_type": "code",
   "execution_count": 313,
   "metadata": {
    "collapsed": true
   },
   "outputs": [],
   "source": [
    "def draw_feature_importance(fea_imp_df, nb, imp_col):\n",
    "    fea_imp_df = fea_imp_df.sort_values(imp_col).reset_index(drop=True)\n",
    "    fea_imp_df = fea_imp_df[-1*nb:].reset_index(drop=True)\n",
    "\n",
    "    plt.figure(figsize=(10, nb*0.3))\n",
    "    plt.title(\"Top %d Most Important Features\"%nb)\n",
    "    plt.barh(fea_imp_df.index, fea_imp_df[imp_col], color='#348ABD', align=\"center\", lw='2', edgecolor='#348ABD', alpha=0.6)\n",
    "    plt.yticks(fea_imp_df.index, fea_imp_df['features'], fontsize=12,)\n",
    "    plt.ylim([-1, nb])\n",
    "    plt.xlim([0, fea_imp_df[imp_col].max()*1.1])\n",
    "    plt.show()"
   ]
  },
  {
   "cell_type": "code",
   "execution_count": 314,
   "metadata": {
    "collapsed": false
   },
   "outputs": [
    {
     "data": {
      "image/png": "[encoded data removed]",
      "text/plain": [
       "<matplotlib.figure.Figure at 0x7f600b9f3050>"
      ]
     },
     "metadata": {},
     "output_type": "display_data"
    }
   ],
   "source": [
    "draw_feature_importance(feat_imp, feat_imp.shape[0], 'importance_percent')"
   ]
  },
  {
   "cell_type": "code",
   "execution_count": null,
   "metadata": {
    "collapsed": false
   },
   "outputs": [],
   "source": []
  },
  {
   "cell_type": "code",
   "execution_count": null,
   "metadata": {
    "collapsed": true
   },
   "outputs": [],
   "source": [
    "# Add Extra features here : 1. TF-IDF , 2. Fuzzywuzzy , 3. "
   ]
  }
 ],
 "metadata": {
  "kernelspec": {
   "display_name": "research",
   "language": "python",
   "name": "python2"
  },
  "language_info": {
   "codemirror_mode": {
    "name": "ipython",
    "version": 2
   },
   "file_extension": ".py",
   "mimetype": "text/x-python",
   "name": "python",
   "nbconvert_exporter": "python",
   "pygments_lexer": "ipython2",
   "version": "2.7.12"
  }
 },
 "nbformat": 4,
 "nbformat_minor": 0
}
