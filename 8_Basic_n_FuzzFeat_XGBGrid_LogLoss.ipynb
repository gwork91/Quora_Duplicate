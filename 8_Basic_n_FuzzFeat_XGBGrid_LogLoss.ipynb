{
 "cells": [
  {
   "cell_type": "code",
   "execution_count": 1,
   "metadata": {
    "collapsed": true
   },
   "outputs": [],
   "source": [
    "import xgboost as xgb\n",
    "import numpy as np\n",
    "import pandas as pd\n",
    "from xgboost.sklearn import XGBClassifier\n",
    "import sklearn\n",
    "from sklearn.metrics import roc_auc_score\n",
    "from sklearn.cross_validation import cross_val_score\n",
    "%matplotlib inline\n",
    "import matplotlib.pyplot as plt"
   ]
  },
  {
   "cell_type": "code",
   "execution_count": 2,
   "metadata": {
    "collapsed": true
   },
   "outputs": [],
   "source": [
    "train_basic_fuzzy = pd.read_csv('train_basic_fuzzy.csv', sep=',')"
   ]
  },
  {
   "cell_type": "code",
   "execution_count": 3,
   "metadata": {
    "collapsed": false
   },
   "outputs": [],
   "source": [
    "train_basic_fuzzy.drop(['question1_form','question2_form'], axis=1, inplace=True)"
   ]
  },
  {
   "cell_type": "code",
   "execution_count": 4,
   "metadata": {
    "collapsed": false
   },
   "outputs": [
    {
     "data": {
      "text/plain": [
       "is_duplicate                404290\n",
       "q1_form_len                 404290\n",
       "q2_form_len                 404290\n",
       "q1_length                   404290\n",
       "q2_length                   404290\n",
       "q1_unique                   404290\n",
       "q2_unique                   404290\n",
       "q1_form_uni                 404290\n",
       "q2_form_uni                 404290\n",
       "q1_form_char                404290\n",
       "q2_form_char                404290\n",
       "q1_q2_char_diff             404290\n",
       "common_cnt                  404290\n",
       "prcnt_common                404290\n",
       "partial_ratio               404290\n",
       "partial_token_set_ratio     404290\n",
       "partial_token_sort_ratio    404290\n",
       "q_ratio                     404290\n",
       "token_set_ratio             404290\n",
       "token_sort_ratio            404290\n",
       "w_ratio                     404290\n",
       "dtype: int64"
      ]
     },
     "execution_count": 4,
     "metadata": {},
     "output_type": "execute_result"
    }
   ],
   "source": [
    "# Check the feature values for any kind of imputation\n",
    "train_basic_fuzzy.count()"
   ]
  },
  {
   "cell_type": "code",
   "execution_count": 5,
   "metadata": {
    "collapsed": false
   },
   "outputs": [],
   "source": [
    "val_dup = train_basic_fuzzy[\"is_duplicate\"]\n",
    "train_basic_fuzzy.drop(['is_duplicate'], axis=1, inplace=True)"
   ]
  },
  {
   "cell_type": "code",
   "execution_count": 6,
   "metadata": {
    "collapsed": false
   },
   "outputs": [],
   "source": [
    "val_dup = pd.DataFrame(pd.Series(val_dup))"
   ]
  },
  {
   "cell_type": "code",
   "execution_count": 7,
   "metadata": {
    "collapsed": true
   },
   "outputs": [],
   "source": [
    "# Separate into Train and Validation\n",
    "import random\n",
    "random.seed(45)\n",
    "from sklearn.cross_validation import train_test_split\n",
    "X_train, X_val, Y_train, Y_val = sklearn.cross_validation.train_test_split(train_basic_fuzzy, val_dup, \n",
    "                                                                           test_size = 0.2, random_state = 5)"
   ]
  },
  {
   "cell_type": "code",
   "execution_count": 46,
   "metadata": {
    "collapsed": true
   },
   "outputs": [],
   "source": [
    "# xgboost fn\n",
    "def modelfit(alg, dtrain, predictors, useTrainCV=True, cv_folds=5, early_stopping_rounds=50):    \n",
    "    if useTrainCV:\n",
    "        xgb_param = alg.get_xgb_params()\n",
    "        xgtrain = xgb.DMatrix(dtrain[predictors].values, label=Y_train[[0]].values)\n",
    "        cvresult = xgb.cv(xgb_param, xgtrain, num_boost_round=alg.get_params()['n_estimators'], nfold=cv_folds,\n",
    "                          metrics=['logloss'], early_stopping_rounds=early_stopping_rounds, show_progress=False)\n",
    "        alg.set_params(n_estimators=cvresult.shape[0])\n",
    "    alg.fit(dtrain[predictors], np.ravel(Y_train),eval_metric='logloss')     #Fit algorithm\n",
    "\n",
    "    #Predict training set:\n",
    "    dtrain_predictions = alg.predict(dtrain[predictors])\n",
    "    dtrain_predprob = alg.predict_proba(dtrain[predictors])[:,1]\n",
    "    print(\"AUC Score (Train): %f\" % roc_auc_score(np.ravel(Y_train), dtrain_predprob))\n",
    "    print(\"Log Loss (Train): %f \" % log_loss(np.ravel(Y_train), dtrain_predprob))\n",
    "    \n",
    "    feat_imp = pd.Series(alg.booster().get_fscore()).sort_values(ascending=False)\n",
    "    feat_imp.plot(kind='bar', title='Feature Importances')\n",
    "    plt.ylabel('Feature Importance Score')"
   ]
  },
  {
   "cell_type": "code",
   "execution_count": 16,
   "metadata": {
    "collapsed": true
   },
   "outputs": [],
   "source": [
    "# xgboost classifier : Using the best params from the Basic Features Model\n",
    "xgb_log1 = XGBClassifier(max_depth= 6, min_child_weight= 2,gamma=0.3, colsample_bytree=0.9, subsample=0.7, reg_alpha = 1, \n",
    "                     reg_lambda = 0, max_delta_step = 3, scale_pos_weight= 2, learning_rate = 0.05, n_estimators=700,\n",
    "                     objective= 'binary:logistic', nthread=4, seed=45)"
   ]
  },
  {
   "cell_type": "code",
   "execution_count": 17,
   "metadata": {
    "collapsed": false
   },
   "outputs": [
    {
     "name": "stderr",
     "output_type": "stream",
     "text": [
      "Will train until cv error hasn't decreased in 50 rounds.\n"
     ]
    },
    {
     "name": "stdout",
     "output_type": "stream",
     "text": [
      "AUC Score (Train): 0.836430\n"
     ]
    },
    {
     "data": {
      "image/png": "[encoded data removed]",
      "text/plain": [
       "<matplotlib.figure.Figure at 0x7f6af05db3d0>"
      ]
     },
     "metadata": {},
     "output_type": "display_data"
    }
   ],
   "source": [
    "predictors  = list(X_train.columns)\n",
    "modelfit(xgb_log1, X_train, predictors)"
   ]
  },
  {
   "cell_type": "code",
   "execution_count": 19,
   "metadata": {
    "collapsed": false
   },
   "outputs": [
    {
     "data": {
      "text/plain": [
       "0.50362095607922541"
      ]
     },
     "execution_count": 19,
     "metadata": {},
     "output_type": "execute_result"
    }
   ],
   "source": [
    "# Train log_loss\n",
    "from sklearn.metrics import log_loss\n",
    "y_predS = xgb_log1.predict_proba(X_train)\n",
    "log_loss(Y_train, y_predS[:,1])"
   ]
  },
  {
   "cell_type": "code",
   "execution_count": 20,
   "metadata": {
    "collapsed": false
   },
   "outputs": [
    {
     "name": "stdout",
     "output_type": "stream",
     "text": [
      "mean auc: 0.817536902394\n",
      "std auc: 0.00123840355591\n",
      "mean log_loss: -0.523938361528\n",
      "std log_loss: 0.00126849898863\n"
     ]
    }
   ],
   "source": [
    "# Cross validation AUC & log_loss\n",
    "cv_score = cross_val_score(xgb_log1, X_train, np.ravel(Y_train), cv = 5, scoring ='roc_auc')\n",
    "print('mean auc: ' + str(cv_score.mean()))\n",
    "print('std auc: ' + str(cv_score.std()))\n",
    "cv_score1 = cross_val_score(xgb_log1, X_train, np.ravel(Y_train), cv = 5, scoring ='log_loss')\n",
    "print 'mean log_loss: ' + str(cv_score1.mean())\n",
    "print 'std log_loss: ' + str(cv_score1.std())"
   ]
  },
  {
   "cell_type": "code",
   "execution_count": 21,
   "metadata": {
    "collapsed": false
   },
   "outputs": [
    {
     "data": {
      "text/plain": [
       "['/home/pgoyal/quora/model3/xgb_log1_dup_logloss.pkl',\n",
       " '/home/pgoyal/quora/model3/xgb_log1_dup_logloss.pkl_01.npy']"
      ]
     },
     "execution_count": 21,
     "metadata": {},
     "output_type": "execute_result"
    }
   ],
   "source": [
    "# Save the model\n",
    "from sklearn.externals import joblib\n",
    "joblib.dump(xgb_log1, '/home/pgoyal/quora/model3/xgb_log1_dup_logloss.pkl')"
   ]
  },
  {
   "cell_type": "code",
   "execution_count": 22,
   "metadata": {
    "collapsed": false
   },
   "outputs": [
    {
     "name": "stdout",
     "output_type": "stream",
     "text": [
      "Validation AUC: 0.816928566609\n",
      "Validation log_loss: 0.524868539081\n"
     ]
    }
   ],
   "source": [
    "# Validation AUC\n",
    "val_pred = xgb_log1.predict_proba(X_val)\n",
    "print('Validation AUC: ' + str(roc_auc_score(Y_val, val_pred[:,1])))\n",
    "print 'Validation log_loss: ' + str(log_loss(Y_val, val_pred[:,1]))"
   ]
  },
  {
   "cell_type": "code",
   "execution_count": 23,
   "metadata": {
    "collapsed": false
   },
   "outputs": [
    {
     "data": {
      "text/plain": [
       "<matplotlib.legend.Legend at 0x7f6af4ad3c90>"
      ]
     },
     "execution_count": 23,
     "metadata": {},
     "output_type": "execute_result"
    },
    {
     "data": {
      "image/png": "[encoded data removed]",
      "text/plain": [
       "<matplotlib.figure.Figure at 0x7f6af547a490>"
      ]
     },
     "metadata": {},
     "output_type": "display_data"
    }
   ],
   "source": [
    "# Make ROC curve for train and validation\n",
    "from sklearn.metrics import roc_curve, auc\n",
    "\n",
    "fpr_trn, tpr_trn, _= roc_curve(Y_train, y_predS[:,1])\n",
    "fpr_tst, tpr_tst, _= roc_curve(Y_val, val_pred[:, 1]) \n",
    "\n",
    "roc_auc_trn = auc(fpr_trn, tpr_trn)\n",
    "roc_auc_tst = auc(fpr_tst, tpr_tst)\n",
    "\n",
    "# Plot of a ROC curve\n",
    "plt.figure(figsize=(8,7))\n",
    "plt.plot(fpr_trn, tpr_trn, label='Train AUC - %0.2f' % roc_auc_trn)\n",
    "plt.plot(fpr_tst, tpr_tst, label='Valid AUC - %0.2f' % roc_auc_tst)\n",
    "plt.plot([0, 1], [0, 1], 'k--')\n",
    "plt.xlim([0.0, 1.0])\n",
    "plt.ylim([0.0, 1.05])\n",
    "plt.xlabel('False Positive Rate')\n",
    "plt.ylabel('True Positive Rate')\n",
    "plt.title('ROC Curve')\n",
    "plt.legend(loc=\"lower right\", prop={'size':8})\n",
    "# plt.savefig('ROC_Curve.png')"
   ]
  },
  {
   "cell_type": "code",
   "execution_count": 24,
   "metadata": {
    "collapsed": true
   },
   "outputs": [],
   "source": [
    "from sklearn import cross_validation\n",
    "from sklearn.ensemble import ExtraTreesClassifier\n",
    "from sklearn.metrics import confusion_matrix\n",
    "from sklearn.grid_search import GridSearchCV"
   ]
  },
  {
   "cell_type": "code",
   "execution_count": 25,
   "metadata": {
    "collapsed": true
   },
   "outputs": [],
   "source": [
    "# Initial set of parameters are taken from the final set of params from the Grid Search on the XGB roc-auc\n",
    "ini_max_depth = 5\n",
    "ini_min_child_weight= 2\n",
    "ini_gamma= 0\n",
    "ini_colsample_bytree=0.8\n",
    "ini_subsample= 0.8\n",
    "ini_reg_alpha =1\n",
    "ini_reg_lambda =0\n",
    "ini_max_delta_step= 3\n",
    "ini_scale_pos_weight=1\n",
    "ini_learning_rate = 0.05\n",
    "ini_n_estimators = 700"
   ]
  },
  {
   "cell_type": "code",
   "execution_count": 27,
   "metadata": {
    "collapsed": false
   },
   "outputs": [
    {
     "data": {
      "text/plain": [
       "([mean: -0.50036, std: 0.00084, params: {'max_depth': 3, 'min_child_weight': 1},\n",
       "  mean: -0.50042, std: 0.00081, params: {'max_depth': 3, 'min_child_weight': 2},\n",
       "  mean: -0.50042, std: 0.00090, params: {'max_depth': 3, 'min_child_weight': 3},\n",
       "  mean: -0.50038, std: 0.00089, params: {'max_depth': 3, 'min_child_weight': 5},\n",
       "  mean: -0.50042, std: 0.00091, params: {'max_depth': 3, 'min_child_weight': 6},\n",
       "  mean: -0.49466, std: 0.00101, params: {'max_depth': 4, 'min_child_weight': 1},\n",
       "  mean: -0.49477, std: 0.00101, params: {'max_depth': 4, 'min_child_weight': 2},\n",
       "  mean: -0.49469, std: 0.00098, params: {'max_depth': 4, 'min_child_weight': 3},\n",
       "  mean: -0.49475, std: 0.00100, params: {'max_depth': 4, 'min_child_weight': 5},\n",
       "  mean: -0.49477, std: 0.00103, params: {'max_depth': 4, 'min_child_weight': 6},\n",
       "  mean: -0.49004, std: 0.00105, params: {'max_depth': 5, 'min_child_weight': 1},\n",
       "  mean: -0.49008, std: 0.00103, params: {'max_depth': 5, 'min_child_weight': 2},\n",
       "  mean: -0.49011, std: 0.00101, params: {'max_depth': 5, 'min_child_weight': 3},\n",
       "  mean: -0.49024, std: 0.00106, params: {'max_depth': 5, 'min_child_weight': 5},\n",
       "  mean: -0.49025, std: 0.00103, params: {'max_depth': 5, 'min_child_weight': 6},\n",
       "  mean: -0.48628, std: 0.00106, params: {'max_depth': 6, 'min_child_weight': 1},\n",
       "  mean: -0.48635, std: 0.00101, params: {'max_depth': 6, 'min_child_weight': 2},\n",
       "  mean: -0.48659, std: 0.00094, params: {'max_depth': 6, 'min_child_weight': 3},\n",
       "  mean: -0.48678, std: 0.00113, params: {'max_depth': 6, 'min_child_weight': 5},\n",
       "  mean: -0.48674, std: 0.00100, params: {'max_depth': 6, 'min_child_weight': 6}],\n",
       " {'max_depth': 6, 'min_child_weight': 1},\n",
       " -0.48627728906900813)"
      ]
     },
     "execution_count": 27,
     "metadata": {},
     "output_type": "execute_result"
    }
   ],
   "source": [
    "# Tune tree pruning parameters: max_depth and min_child_weight\n",
    "param_test1 = {\n",
    "   'max_depth':[ 3, 4, 5,6],\n",
    "   'min_child_weight':[1, 2, 3, 5, 6]\n",
    "}\n",
    "\n",
    "gsearch1 = GridSearchCV(estimator = XGBClassifier(max_depth= ini_max_depth, min_child_weight= ini_min_child_weight,\n",
    "                    gamma=ini_gamma, colsample_bytree=ini_colsample_bytree, subsample=ini_subsample, \n",
    "                    reg_alpha = ini_reg_alpha, reg_lambda = ini_reg_lambda, max_delta_step = ini_max_delta_step, \n",
    "                    scale_pos_weight= ini_scale_pos_weight, learning_rate = ini_learning_rate, \n",
    "                    n_estimators=ini_n_estimators, objective= 'binary:logistic', nthread=4, seed=45), \n",
    "param_grid = param_test1, scoring='log_loss',n_jobs=4,iid=False, cv=5)\n",
    "\n",
    "gsearch1.fit(X_train,np.ravel(Y_train))\n",
    "pd.Series(gsearch1.grid_scores_).to_csv('/home/pgoyal/quora/model3/gs_files/gs_search1.csv')\n",
    "gsearch1.grid_scores_, gsearch1.best_params_, gsearch1.best_score_"
   ]
  },
  {
   "cell_type": "code",
   "execution_count": 28,
   "metadata": {
    "collapsed": false
   },
   "outputs": [],
   "source": [
    "# Best till here : Order is on the basis of the params given!\n",
    "ini_max_depth = gsearch1.best_params_.values()[0]\n",
    "ini_min_child_weight = gsearch1.best_params_.values()[1]"
   ]
  },
  {
   "cell_type": "code",
   "execution_count": 29,
   "metadata": {
    "collapsed": false
   },
   "outputs": [
    {
     "data": {
      "text/plain": [
       "([mean: -0.48628, std: 0.00106, params: {'gamma': 0.0},\n",
       "  mean: -0.48628, std: 0.00097, params: {'gamma': 0.1},\n",
       "  mean: -0.48626, std: 0.00108, params: {'gamma': 0.2}],\n",
       " {'gamma': 0.2},\n",
       " -0.48625575975413743)"
      ]
     },
     "execution_count": 29,
     "metadata": {},
     "output_type": "execute_result"
    }
   ],
   "source": [
    "# Tune tree pruning parameters: gamma\n",
    "param_test2 = {\n",
    "   'gamma':[i/10.0 for i in range(0,3)]\n",
    "}\n",
    "\n",
    "gsearch2 = GridSearchCV(estimator = XGBClassifier(max_depth= ini_max_depth, min_child_weight= ini_min_child_weight,\n",
    "                    gamma=ini_gamma, colsample_bytree=ini_colsample_bytree, subsample=ini_subsample, \n",
    "                    reg_alpha = ini_reg_alpha, reg_lambda = ini_reg_lambda, max_delta_step = ini_max_delta_step, \n",
    "                    scale_pos_weight= ini_scale_pos_weight, learning_rate = ini_learning_rate, \n",
    "                    n_estimators=ini_n_estimators, objective= 'binary:logistic', nthread=4, seed=45), \n",
    "param_grid = param_test2, scoring='log_loss',n_jobs=4,iid=False, cv=5)\n",
    "\n",
    "gsearch2.fit(X_train,np.ravel(Y_train))\n",
    "pd.Series(gsearch2.grid_scores_).to_csv('/home/pgoyal/quora/model3/gs_files/gs_search2.csv')\n",
    "gsearch2.grid_scores_, gsearch2.best_params_, gsearch2.best_score_"
   ]
  },
  {
   "cell_type": "code",
   "execution_count": 30,
   "metadata": {
    "collapsed": false
   },
   "outputs": [],
   "source": [
    "# Best till here :\n",
    "ini_gamma = gsearch2.best_params_.values()[0]"
   ]
  },
  {
   "cell_type": "code",
   "execution_count": 31,
   "metadata": {
    "collapsed": false
   },
   "outputs": [
    {
     "data": {
      "text/plain": [
       "([mean: -0.48729, std: 0.00115, params: {'subsample': 0.6, 'colsample_bytree': 0.6},\n",
       "  mean: -0.48688, std: 0.00104, params: {'subsample': 0.7, 'colsample_bytree': 0.6},\n",
       "  mean: -0.48659, std: 0.00107, params: {'subsample': 0.8, 'colsample_bytree': 0.6},\n",
       "  mean: -0.48688, std: 0.00105, params: {'subsample': 0.6, 'colsample_bytree': 0.7},\n",
       "  mean: -0.48654, std: 0.00129, params: {'subsample': 0.7, 'colsample_bytree': 0.7},\n",
       "  mean: -0.48647, std: 0.00107, params: {'subsample': 0.8, 'colsample_bytree': 0.7},\n",
       "  mean: -0.48650, std: 0.00117, params: {'subsample': 0.6, 'colsample_bytree': 0.8},\n",
       "  mean: -0.48609, std: 0.00120, params: {'subsample': 0.7, 'colsample_bytree': 0.8},\n",
       "  mean: -0.48626, std: 0.00108, params: {'subsample': 0.8, 'colsample_bytree': 0.8}],\n",
       " {'colsample_bytree': 0.8, 'subsample': 0.7},\n",
       " -0.48609146674397846)"
      ]
     },
     "execution_count": 31,
     "metadata": {},
     "output_type": "execute_result"
    }
   ],
   "source": [
    "# Tune tree pruning parameters: subsample, colsample_bytree\n",
    "param_test3 = {\n",
    "  'subsample':[i/10.0 for i in range(6,9)],\n",
    " 'colsample_bytree':[i/10.0 for i in range(6,9)]\n",
    "}\n",
    "\n",
    "gsearch3 = GridSearchCV(estimator = XGBClassifier(max_depth= ini_max_depth, min_child_weight= ini_min_child_weight,\n",
    "                    gamma=ini_gamma, colsample_bytree=ini_colsample_bytree, subsample=ini_subsample, \n",
    "                    reg_alpha = ini_reg_alpha, reg_lambda = ini_reg_lambda, max_delta_step = ini_max_delta_step, \n",
    "                    scale_pos_weight= ini_scale_pos_weight, learning_rate = ini_learning_rate, \n",
    "                    n_estimators=ini_n_estimators, objective= 'binary:logistic', nthread=4, seed=45), \n",
    "param_grid = param_test3, scoring='log_loss',n_jobs=4,iid=False, cv=5)\n",
    "\n",
    "gsearch3.fit(X_train,np.ravel(Y_train))\n",
    "pd.Series(gsearch3.grid_scores_).to_csv('/home/pgoyal/quora/model3/gs_files/gs_search3.csv')\n",
    "gsearch3.grid_scores_, gsearch3.best_params_, gsearch3.best_score_"
   ]
  },
  {
   "cell_type": "code",
   "execution_count": 32,
   "metadata": {
    "collapsed": false
   },
   "outputs": [],
   "source": [
    "# Best till here :\n",
    "ini_subsample = gsearch3.best_params_.values()[0]\n",
    "ini_colsample_bytree = gsearch3.best_params_.values()[1]"
   ]
  },
  {
   "cell_type": "code",
   "execution_count": 33,
   "metadata": {
    "collapsed": false
   },
   "outputs": [
    {
     "data": {
      "text/plain": [
       "([mean: -0.48664, std: 0.00102, params: {'reg_alpha': 0.01},\n",
       "  mean: -0.48660, std: 0.00112, params: {'reg_alpha': 0.1},\n",
       "  mean: -0.48609, std: 0.00120, params: {'reg_alpha': 1}],\n",
       " {'reg_alpha': 1},\n",
       " -0.48609146674397846)"
      ]
     },
     "execution_count": 33,
     "metadata": {},
     "output_type": "execute_result"
    }
   ],
   "source": [
    "# Tune tree pruning parameters: reg_alpha\n",
    "param_test4 = {\n",
    "    'reg_alpha':[ 1e-2, 0.1, 1]\n",
    "}\n",
    "\n",
    "gsearch4 = GridSearchCV(estimator = XGBClassifier(max_depth= ini_max_depth, min_child_weight= ini_min_child_weight,\n",
    "                    gamma=ini_gamma, colsample_bytree=ini_colsample_bytree, subsample=ini_subsample, \n",
    "                    reg_alpha = ini_reg_alpha, reg_lambda = ini_reg_lambda, max_delta_step = ini_max_delta_step, \n",
    "                    scale_pos_weight= ini_scale_pos_weight, learning_rate = ini_learning_rate, \n",
    "                    n_estimators=ini_n_estimators, objective= 'binary:logistic', nthread=4, seed=45), \n",
    "param_grid = param_test4, scoring='log_loss',n_jobs=4,iid=False, cv=5)\n",
    "\n",
    "gsearch4.fit(X_train,np.ravel(Y_train))\n",
    "pd.Series(gsearch4.grid_scores_).to_csv('/home/pgoyal/quora/model3/gs_files/gs_search4.csv')\n",
    "gsearch4.grid_scores_, gsearch4.best_params_, gsearch4.best_score_"
   ]
  },
  {
   "cell_type": "code",
   "execution_count": 34,
   "metadata": {
    "collapsed": true
   },
   "outputs": [],
   "source": [
    "# Best till here :\n",
    "ini_reg_alpha= gsearch4.best_params_.values()[0]"
   ]
  },
  {
   "cell_type": "code",
   "execution_count": 35,
   "metadata": {
    "collapsed": false
   },
   "outputs": [
    {
     "data": {
      "text/plain": [
       "([mean: -0.48609, std: 0.00120, params: {'reg_lambda': 0},\n",
       "  mean: -0.48644, std: 0.00116, params: {'reg_lambda': 1},\n",
       "  mean: -0.48654, std: 0.00117, params: {'reg_lambda': 2},\n",
       "  mean: -0.48667, std: 0.00117, params: {'reg_lambda': 3}],\n",
       " {'reg_lambda': 0},\n",
       " -0.48609146674397846)"
      ]
     },
     "execution_count": 35,
     "metadata": {},
     "output_type": "execute_result"
    }
   ],
   "source": [
    "# Tune tree pruning parameters: reg_lambda\n",
    "param_test5 = {\n",
    "  'reg_lambda':[0, 1,2, 3]\n",
    "}\n",
    "\n",
    "gsearch5 = GridSearchCV(estimator = XGBClassifier(max_depth= ini_max_depth, min_child_weight= ini_min_child_weight,\n",
    "                    gamma=ini_gamma, colsample_bytree=ini_colsample_bytree, subsample=ini_subsample, \n",
    "                    reg_alpha = ini_reg_alpha, reg_lambda = ini_reg_lambda, max_delta_step = ini_max_delta_step, \n",
    "                    scale_pos_weight= ini_scale_pos_weight, learning_rate = ini_learning_rate, \n",
    "                    n_estimators=ini_n_estimators, objective= 'binary:logistic', nthread=4, seed=45), \n",
    "param_grid = param_test5, scoring='log_loss',n_jobs=4,iid=False, cv=5)\n",
    "\n",
    "gsearch5.fit(X_train,np.ravel(Y_train))\n",
    "pd.Series(gsearch5.grid_scores_).to_csv('/home/pgoyal/quora/model3/gs_files/gs_search5.csv')\n",
    "gsearch5.grid_scores_, gsearch5.best_params_, gsearch5.best_score_"
   ]
  },
  {
   "cell_type": "code",
   "execution_count": 36,
   "metadata": {
    "collapsed": true
   },
   "outputs": [],
   "source": [
    "# Best till here :\n",
    "ini_reg_lambda= gsearch5.best_params_.values()[0]"
   ]
  },
  {
   "cell_type": "code",
   "execution_count": 37,
   "metadata": {
    "collapsed": false
   },
   "outputs": [
    {
     "data": {
      "text/plain": [
       "([mean: -0.48654, std: 0.00110, params: {'max_delta_step': 1},\n",
       "  mean: -0.48621, std: 0.00097, params: {'max_delta_step': 2},\n",
       "  mean: -0.48609, std: 0.00120, params: {'max_delta_step': 3}],\n",
       " {'max_delta_step': 3},\n",
       " -0.48609146674397846)"
      ]
     },
     "execution_count": 37,
     "metadata": {},
     "output_type": "execute_result"
    }
   ],
   "source": [
    "# Tune tree pruning parameters: max_delta_step\n",
    "param_test6 = {\n",
    "  'max_delta_step':[1,2,3]\n",
    "}\n",
    "\n",
    "gsearch6 = GridSearchCV(estimator = XGBClassifier(max_depth= ini_max_depth, min_child_weight= ini_min_child_weight,\n",
    "                    gamma=ini_gamma, colsample_bytree=ini_colsample_bytree, subsample=ini_subsample, \n",
    "                    reg_alpha = ini_reg_alpha, reg_lambda = ini_reg_lambda, max_delta_step = ini_max_delta_step, \n",
    "                    scale_pos_weight= ini_scale_pos_weight, learning_rate = ini_learning_rate, \n",
    "                    n_estimators=ini_n_estimators, objective= 'binary:logistic', nthread=4, seed=45), \n",
    "param_grid = param_test6, scoring='log_loss',n_jobs=4,iid=False, cv=5)\n",
    "\n",
    "gsearch6.fit(X_train,np.ravel(Y_train))\n",
    "pd.Series(gsearch6.grid_scores_).to_csv('/home/pgoyal/quora/model3/gs_files/gs_search6.csv')\n",
    "gsearch6.grid_scores_, gsearch6.best_params_, gsearch6.best_score_"
   ]
  },
  {
   "cell_type": "code",
   "execution_count": 38,
   "metadata": {
    "collapsed": true
   },
   "outputs": [],
   "source": [
    "# Best till here :\n",
    "ini_max_delta_step= gsearch6.best_params_.values()[0]"
   ]
  },
  {
   "cell_type": "code",
   "execution_count": 39,
   "metadata": {
    "collapsed": false
   },
   "outputs": [
    {
     "data": {
      "text/plain": [
       "([mean: -0.48609, std: 0.00120, params: {'scale_pos_weight': 1},\n",
       "  mean: -0.52387, std: 0.00113, params: {'scale_pos_weight': 2},\n",
       "  mean: -0.68170, std: 0.00180, params: {'scale_pos_weight': 5}],\n",
       " {'scale_pos_weight': 1},\n",
       " -0.48609146674397846)"
      ]
     },
     "execution_count": 39,
     "metadata": {},
     "output_type": "execute_result"
    }
   ],
   "source": [
    "# Tune tree pruning parameters: scale_pos_weight\n",
    "param_test7 = {\n",
    "  'scale_pos_weight':[1, 2, 5]\n",
    "}\n",
    "\n",
    "gsearch7 = GridSearchCV(estimator = XGBClassifier(max_depth= ini_max_depth, min_child_weight= ini_min_child_weight,\n",
    "                    gamma=ini_gamma, colsample_bytree=ini_colsample_bytree, subsample=ini_subsample, \n",
    "                    reg_alpha = ini_reg_alpha, reg_lambda = ini_reg_lambda, max_delta_step = ini_max_delta_step, \n",
    "                    scale_pos_weight= ini_scale_pos_weight, learning_rate = ini_learning_rate, \n",
    "                    n_estimators=ini_n_estimators, objective= 'binary:logistic', nthread=4, seed=45), \n",
    "param_grid = param_test7, scoring='log_loss',n_jobs=4,iid=False, cv=5)\n",
    "\n",
    "gsearch7.fit(X_train,np.ravel(Y_train))\n",
    "pd.Series(gsearch7.grid_scores_).to_csv('/home/pgoyal/quora/model3/gs_files/gs_search7.csv')\n",
    "gsearch7.grid_scores_, gsearch7.best_params_, gsearch7.best_score_"
   ]
  },
  {
   "cell_type": "code",
   "execution_count": 40,
   "metadata": {
    "collapsed": true
   },
   "outputs": [],
   "source": [
    "# Best till here :\n",
    "ini_scale_pos_weight= gsearch7.best_params_.values()[0]"
   ]
  },
  {
   "cell_type": "code",
   "execution_count": 41,
   "metadata": {
    "collapsed": false
   },
   "outputs": [
    {
     "data": {
      "text/plain": [
       "([mean: -0.49980, std: 0.00098, params: {'n_estimators': 250, 'learning_rate': 0.03},\n",
       "  mean: -0.49255, std: 0.00107, params: {'n_estimators': 500, 'learning_rate': 0.03},\n",
       "  mean: -0.48971, std: 0.00108, params: {'n_estimators': 700, 'learning_rate': 0.03},\n",
       "  mean: -0.49449, std: 0.00093, params: {'n_estimators': 250, 'learning_rate': 0.05},\n",
       "  mean: -0.48854, std: 0.00112, params: {'n_estimators': 500, 'learning_rate': 0.05},\n",
       "  mean: -0.48609, std: 0.00120, params: {'n_estimators': 700, 'learning_rate': 0.05}],\n",
       " {'learning_rate': 0.05, 'n_estimators': 700},\n",
       " -0.48609146674397846)"
      ]
     },
     "execution_count": 41,
     "metadata": {},
     "output_type": "execute_result"
    }
   ],
   "source": [
    "param_test8 = {\n",
    "    'learning_rate':[0.03, 0.05],\n",
    "    'n_estimators':[250, 500, 700]\n",
    "}\n",
    "\n",
    "gsearch8 = GridSearchCV(estimator = XGBClassifier(max_depth= ini_max_depth, min_child_weight= ini_min_child_weight,\n",
    "                    gamma=ini_gamma, colsample_bytree=ini_colsample_bytree, subsample=ini_subsample, \n",
    "                    reg_alpha = ini_reg_alpha, reg_lambda = ini_reg_lambda, max_delta_step = ini_max_delta_step, \n",
    "                    scale_pos_weight= ini_scale_pos_weight, learning_rate = ini_learning_rate, \n",
    "                    n_estimators=ini_n_estimators, objective= 'binary:logistic', nthread=4, seed=45), \n",
    "param_grid = param_test8, scoring='log_loss',n_jobs=4,iid=False, cv=5)\n",
    "\n",
    "gsearch8.fit(X_train,np.ravel(Y_train))\n",
    "pd.Series(gsearch8.grid_scores_).to_csv('/home/pgoyal/quora/model3/gs_files/gs_search8.csv')\n",
    "gsearch8.grid_scores_, gsearch8.best_params_, gsearch8.best_score_"
   ]
  },
  {
   "cell_type": "code",
   "execution_count": 53,
   "metadata": {
    "collapsed": true
   },
   "outputs": [],
   "source": [
    "# Best till here :\n",
    "ini_n_estimators= gsearch8.best_params_.values()[0]\n",
    "ini_learning_rate= gsearch8.best_params_.values()[1]"
   ]
  },
  {
   "cell_type": "code",
   "execution_count": 54,
   "metadata": {
    "collapsed": false
   },
   "outputs": [
    {
     "name": "stdout",
     "output_type": "stream",
     "text": [
      "max_depth 6\n",
      "min_child_weight 1\n",
      "gamma 0.2\n",
      "colsample_bytree 0.8\n",
      "subsample 0.7\n",
      "reg_alpha 1\n",
      "reg_lambda 0\n",
      "max_delta_step 3\n",
      "scale_pos_weight 1\n",
      "learning_rate 0.05\n",
      "n_estimators 700\n"
     ]
    }
   ],
   "source": [
    "print \"max_depth\", ini_max_depth\n",
    "print \"min_child_weight\", ini_min_child_weight\n",
    "print \"gamma\", ini_gamma\n",
    "print \"colsample_bytree\", ini_colsample_bytree\n",
    "print \"subsample\", ini_subsample\n",
    "print \"reg_alpha\", ini_reg_alpha\n",
    "print \"reg_lambda\", ini_reg_lambda\n",
    "print \"max_delta_step\", ini_max_delta_step\n",
    "print \"scale_pos_weight\", ini_scale_pos_weight\n",
    "print \"learning_rate\", ini_learning_rate\n",
    "print \"n_estimators\", ini_n_estimators"
   ]
  },
  {
   "cell_type": "code",
   "execution_count": 55,
   "metadata": {
    "collapsed": false
   },
   "outputs": [
    {
     "name": "stderr",
     "output_type": "stream",
     "text": [
      "Will train until cv error hasn't decreased in 50 rounds.\n"
     ]
    },
    {
     "name": "stdout",
     "output_type": "stream",
     "text": [
      "AUC Score (Train): 0.837837\n",
      "Log Loss (Train): 0.465680 \n"
     ]
    },
    {
     "data": {
      "image/png": "[encoded data removed]",
      "text/plain": [
       "<matplotlib.figure.Figure at 0x7f6af4409950>"
      ]
     },
     "metadata": {},
     "output_type": "display_data"
    }
   ],
   "source": [
    "# Final xgboost classifier Using the final param values from the above GridSearch\n",
    "xgb_log2 = XGBClassifier(max_depth= 6, min_child_weight= 1, gamma=0.2, colsample_bytree=0.8, subsample=0.7, \n",
    "                    reg_alpha = 1, reg_lambda = 0, max_delta_step = 3, scale_pos_weight= 1, learning_rate = 0.05, \n",
    "                    n_estimators=700, objective= 'binary:logistic', nthread=4, seed=45)\n",
    "\n",
    "#Choose the predictors for xgboost and fit the model\n",
    "modelfit(xgb_log2, X_train, predictors)"
   ]
  },
  {
   "cell_type": "code",
   "execution_count": 56,
   "metadata": {
    "collapsed": false
   },
   "outputs": [
    {
     "name": "stdout",
     "output_type": "stream",
     "text": [
      "Validation AUC: 0.837837054551\n",
      "Validation LogLoss: 0.4656798079\n"
     ]
    }
   ],
   "source": [
    "# Train roc_auc & Log Loss\n",
    "y_predS_xgb_log2 = xgb_log2.predict_proba(X_train)\n",
    "print('Validation AUC: ' + str( roc_auc_score(Y_train, y_predS_xgb_log2[:,1]) ))\n",
    "print('Validation LogLoss: ' + str( log_loss(Y_train, y_predS_xgb_log2[:,1]) ))"
   ]
  },
  {
   "cell_type": "code",
   "execution_count": 61,
   "metadata": {
    "collapsed": false
   },
   "outputs": [
    {
     "name": "stdout",
     "output_type": "stream",
     "text": [
      "mean auc: 0.818148170871\n",
      "std auc: 0.00123205888108\n",
      "mean log_loss: -0.486091466744\n",
      "std log_loss: 0.00119910818177\n"
     ]
    }
   ],
   "source": [
    "# Cross validation AUC \n",
    "cv_score_xgb_log2 = cross_val_score(xgb_log2, X_train, np.ravel(Y_train), cv = 5, scoring ='roc_auc')\n",
    "print('mean auc: ' + str(cv_score_xgb_log2.mean()))\n",
    "print('std auc: ' + str(cv_score_xgb_log2.std()))\n",
    "cv_score1_xgb_log2 = cross_val_score(xgb_log2, X_train, np.ravel(Y_train), cv = 5, scoring ='log_loss')\n",
    "print 'mean log_loss: ' + str(cv_score1_xgb_log2.mean())\n",
    "print 'std log_loss: ' + str(cv_score1_xgb_log2.std())"
   ]
  },
  {
   "cell_type": "code",
   "execution_count": 57,
   "metadata": {
    "collapsed": false
   },
   "outputs": [
    {
     "data": {
      "text/plain": [
       "['/home/pgoyal/quora/model3/xgb_log2_dup_logloss.pkl',\n",
       " '/home/pgoyal/quora/model3/xgb_log2_dup_logloss.pkl_01.npy']"
      ]
     },
     "execution_count": 57,
     "metadata": {},
     "output_type": "execute_result"
    }
   ],
   "source": [
    "# Save the model# Model with prcnt_common feature\n",
    "from sklearn.externals import joblib\n",
    "joblib.dump(xgb_log2, '/home/pgoyal/quora/model3/xgb_log2_dup_logloss.pkl')"
   ]
  },
  {
   "cell_type": "markdown",
   "metadata": {},
   "source": [
    "## Decile Info - Train"
   ]
  },
  {
   "cell_type": "code",
   "execution_count": 58,
   "metadata": {
    "collapsed": true
   },
   "outputs": [],
   "source": [
    "# Decile related info\n",
    "\n",
    "df_list = [1,2,3,4,5,6,7,8,9,10]\n",
    "\n",
    "prob = pd.DataFrame(y_predS_xgb_log2[:,1]) # y_predS is to be changed\n",
    "prob.columns = ['Probability']\n",
    "prob[\"Target\"] = Y_train.values # y_train to be changed\n",
    "prob = prob.sort_values(by='Probability', ascending=0)\n",
    "\n",
    "dec = int(prob['Target'].shape[0]/10)\n",
    "\n",
    "for i in [0,1,2,3,4,5,6,7,8,9]:\n",
    "    vars()['dec_'+str(df_list[i])+'_rr'] = float(prob['Target'][i*dec:(i+1)*dec].sum()/float(dec))\n",
    "    vars()['dec_'+str(df_list[i])+'_cr'] = float(prob['Target'][i*dec:(i+1)*dec].sum()/float(prob['Target'].sum()))\n",
    "    vars()['dec_'+str(df_list[i])+'_goods'] = float(prob['Target'][i*dec:(i+1)*dec].sum())\n",
    "    vars()['dec_'+str(df_list[i])+'_bads'] = float(prob['Target'][i*dec:(i+1)*dec].count())-float(\n",
    "        prob['Target'][i*dec:(i+1)*dec].sum())\n",
    "\n",
    "decile_num = pd.DataFrame([dec, dec, dec, dec, dec, dec, dec, dec, dec, dec], columns = ['# decile'])\n",
    "decile_goods = pd.DataFrame([dec_1_goods, dec_2_goods, dec_3_goods, dec_4_goods, dec_5_goods, dec_6_goods, dec_7_goods,\n",
    "                          dec_8_goods, dec_9_goods, dec_10_goods], columns = ['# of goods'])\n",
    "decile_bads = pd.DataFrame([dec_1_bads, dec_2_bads, dec_3_bads, dec_4_bads, dec_5_bads, dec_6_bads, dec_7_bads,\n",
    "                          dec_8_bads, dec_9_bads, dec_10_bads], columns = ['# of bads'])\n",
    "decile_cr = pd.DataFrame([dec_1_cr, dec_2_cr, dec_3_cr, dec_4_cr, dec_5_cr, dec_6_cr, dec_7_cr,\n",
    "                          dec_8_cr, dec_9_cr, dec_10_cr], columns = ['1st decile capture_rate'])\n",
    "decile_rr = pd.DataFrame([dec_1_rr, dec_2_rr, dec_3_rr, dec_4_rr, dec_5_rr, dec_6_rr, dec_7_rr,\n",
    "                          dec_8_rr, dec_9_rr, dec_10_rr], columns = ['1st decile response_rate'])"
   ]
  },
  {
   "cell_type": "code",
   "execution_count": 59,
   "metadata": {
    "collapsed": false
   },
   "outputs": [
    {
     "data": {
      "text/html": [
       "<div>\n",
       "<table border=\"1\" class=\"dataframe\">\n",
       "  <thead>\n",
       "    <tr style=\"text-align: right;\">\n",
       "      <th></th>\n",
       "      <th># decile</th>\n",
       "      <th># of goods</th>\n",
       "      <th># of bads</th>\n",
       "      <th>1st decile capture_rate</th>\n",
       "      <th>1st decile response_rate</th>\n",
       "      <th>% of bads</th>\n",
       "      <th>% cum_goods</th>\n",
       "      <th>% cum_bads</th>\n",
       "      <th>KS</th>\n",
       "      <th>Lift</th>\n",
       "    </tr>\n",
       "  </thead>\n",
       "  <tbody>\n",
       "    <tr>\n",
       "      <th>0</th>\n",
       "      <td>32343</td>\n",
       "      <td>26252.0</td>\n",
       "      <td>6091.0</td>\n",
       "      <td>0.219530</td>\n",
       "      <td>0.811675</td>\n",
       "      <td>0.029880</td>\n",
       "      <td>0.219530</td>\n",
       "      <td>0.029880</td>\n",
       "      <td>0.514382</td>\n",
       "      <td>2.195309</td>\n",
       "    </tr>\n",
       "    <tr>\n",
       "      <th>1</th>\n",
       "      <td>32343</td>\n",
       "      <td>22080.0</td>\n",
       "      <td>10263.0</td>\n",
       "      <td>0.184642</td>\n",
       "      <td>0.682682</td>\n",
       "      <td>0.050347</td>\n",
       "      <td>0.404171</td>\n",
       "      <td>0.080227</td>\n",
       "      <td>0.514382</td>\n",
       "      <td>2.020868</td>\n",
       "    </tr>\n",
       "    <tr>\n",
       "      <th>2</th>\n",
       "      <td>32343</td>\n",
       "      <td>19305.0</td>\n",
       "      <td>13038.0</td>\n",
       "      <td>0.161436</td>\n",
       "      <td>0.596883</td>\n",
       "      <td>0.063960</td>\n",
       "      <td>0.565607</td>\n",
       "      <td>0.144187</td>\n",
       "      <td>0.514382</td>\n",
       "      <td>1.885369</td>\n",
       "    </tr>\n",
       "    <tr>\n",
       "      <th>3</th>\n",
       "      <td>32343</td>\n",
       "      <td>16775.0</td>\n",
       "      <td>15568.0</td>\n",
       "      <td>0.140279</td>\n",
       "      <td>0.518659</td>\n",
       "      <td>0.076371</td>\n",
       "      <td>0.705886</td>\n",
       "      <td>0.220558</td>\n",
       "      <td>0.514382</td>\n",
       "      <td>1.764727</td>\n",
       "    </tr>\n",
       "    <tr>\n",
       "      <th>4</th>\n",
       "      <td>32343</td>\n",
       "      <td>14148.0</td>\n",
       "      <td>18195.0</td>\n",
       "      <td>0.118311</td>\n",
       "      <td>0.437436</td>\n",
       "      <td>0.089258</td>\n",
       "      <td>0.824197</td>\n",
       "      <td>0.309816</td>\n",
       "      <td>0.514382</td>\n",
       "      <td>1.648405</td>\n",
       "    </tr>\n",
       "    <tr>\n",
       "      <th>5</th>\n",
       "      <td>32343</td>\n",
       "      <td>10964.0</td>\n",
       "      <td>21379.0</td>\n",
       "      <td>0.091685</td>\n",
       "      <td>0.338991</td>\n",
       "      <td>0.104878</td>\n",
       "      <td>0.915883</td>\n",
       "      <td>0.414693</td>\n",
       "      <td>0.514382</td>\n",
       "      <td>1.526481</td>\n",
       "    </tr>\n",
       "    <tr>\n",
       "      <th>6</th>\n",
       "      <td>32343</td>\n",
       "      <td>7075.0</td>\n",
       "      <td>25268.0</td>\n",
       "      <td>0.059164</td>\n",
       "      <td>0.218749</td>\n",
       "      <td>0.123956</td>\n",
       "      <td>0.975047</td>\n",
       "      <td>0.538649</td>\n",
       "      <td>0.514382</td>\n",
       "      <td>1.392932</td>\n",
       "    </tr>\n",
       "    <tr>\n",
       "      <th>7</th>\n",
       "      <td>32343</td>\n",
       "      <td>2713.0</td>\n",
       "      <td>29630.0</td>\n",
       "      <td>0.022687</td>\n",
       "      <td>0.083882</td>\n",
       "      <td>0.145354</td>\n",
       "      <td>0.997734</td>\n",
       "      <td>0.684003</td>\n",
       "      <td>0.514382</td>\n",
       "      <td>1.247175</td>\n",
       "    </tr>\n",
       "    <tr>\n",
       "      <th>8</th>\n",
       "      <td>32343</td>\n",
       "      <td>271.0</td>\n",
       "      <td>32072.0</td>\n",
       "      <td>0.002266</td>\n",
       "      <td>0.008379</td>\n",
       "      <td>0.157334</td>\n",
       "      <td>1.000000</td>\n",
       "      <td>0.841337</td>\n",
       "      <td>0.514382</td>\n",
       "      <td>1.111118</td>\n",
       "    </tr>\n",
       "    <tr>\n",
       "      <th>9</th>\n",
       "      <td>32343</td>\n",
       "      <td>0.0</td>\n",
       "      <td>32343.0</td>\n",
       "      <td>0.000000</td>\n",
       "      <td>0.000000</td>\n",
       "      <td>0.158663</td>\n",
       "      <td>1.000000</td>\n",
       "      <td>1.000000</td>\n",
       "      <td>0.514382</td>\n",
       "      <td>1.000006</td>\n",
       "    </tr>\n",
       "  </tbody>\n",
       "</table>\n",
       "</div>"
      ],
      "text/plain": [
       "   # decile  # of goods  # of bads  1st decile capture_rate  \\\n",
       "0     32343     26252.0     6091.0                 0.219530   \n",
       "1     32343     22080.0    10263.0                 0.184642   \n",
       "2     32343     19305.0    13038.0                 0.161436   \n",
       "3     32343     16775.0    15568.0                 0.140279   \n",
       "4     32343     14148.0    18195.0                 0.118311   \n",
       "5     32343     10964.0    21379.0                 0.091685   \n",
       "6     32343      7075.0    25268.0                 0.059164   \n",
       "7     32343      2713.0    29630.0                 0.022687   \n",
       "8     32343       271.0    32072.0                 0.002266   \n",
       "9     32343         0.0    32343.0                 0.000000   \n",
       "\n",
       "   1st decile response_rate  % of bads  % cum_goods  % cum_bads        KS  \\\n",
       "0                  0.811675   0.029880     0.219530    0.029880  0.514382   \n",
       "1                  0.682682   0.050347     0.404171    0.080227  0.514382   \n",
       "2                  0.596883   0.063960     0.565607    0.144187  0.514382   \n",
       "3                  0.518659   0.076371     0.705886    0.220558  0.514382   \n",
       "4                  0.437436   0.089258     0.824197    0.309816  0.514382   \n",
       "5                  0.338991   0.104878     0.915883    0.414693  0.514382   \n",
       "6                  0.218749   0.123956     0.975047    0.538649  0.514382   \n",
       "7                  0.083882   0.145354     0.997734    0.684003  0.514382   \n",
       "8                  0.008379   0.157334     1.000000    0.841337  0.514382   \n",
       "9                  0.000000   0.158663     1.000000    1.000000  0.514382   \n",
       "\n",
       "       Lift  \n",
       "0  2.195309  \n",
       "1  2.020868  \n",
       "2  1.885369  \n",
       "3  1.764727  \n",
       "4  1.648405  \n",
       "5  1.526481  \n",
       "6  1.392932  \n",
       "7  1.247175  \n",
       "8  1.111118  \n",
       "9  1.000006  "
      ]
     },
     "execution_count": 59,
     "metadata": {},
     "output_type": "execute_result"
    }
   ],
   "source": [
    "# Decile info dataframe\n",
    "\n",
    "df = [decile_num, decile_goods, decile_bads, decile_cr, decile_rr]\n",
    "df = pd.concat(df, axis=1)\n",
    "df['% of bads'] = df['# of bads']/df['# of bads'].sum()\n",
    "df['% cum_goods'] = df['1st decile capture_rate'].cumsum()\n",
    "df['% cum_bads'] = df['% of bads'].cumsum()\n",
    "df['KS'] = (df['% cum_goods']-df['% cum_bads']).max()\n",
    "df['Lift'] = df['% cum_goods']/(df['# decile']/prob['Target'].shape[0]).cumsum()\n",
    "df"
   ]
  },
  {
   "cell_type": "code",
   "execution_count": 60,
   "metadata": {
    "collapsed": false
   },
   "outputs": [
    {
     "name": "stdout",
     "output_type": "stream",
     "text": [
      "Probability from classifier for Train\n",
      "Response 10%: 0.811674860093\n",
      "Capture at 10%: 0.21952953179\n",
      "Response 5%: 0.853565023808\n",
      "Capture at 5%: 0.115426105717\n"
     ]
    },
    {
     "data": {
      "text/plain": [
       "(<Container object of 10 artists>,\n",
       " <matplotlib.text.Text at 0x7f6af4530310>,\n",
       " <matplotlib.text.Text at 0x7f6af45808d0>)"
      ]
     },
     "execution_count": 60,
     "metadata": {},
     "output_type": "execute_result"
    },
    {
     "data": {
      "image/png": "[encoded data removed]",
      "text/plain": [
       "<matplotlib.figure.Figure at 0x7f6af54eb5d0>"
      ]
     },
     "metadata": {},
     "output_type": "display_data"
    }
   ],
   "source": [
    "# Top decile, 5% capture, decile chart and lift chart\n",
    "per5 = int(prob['Target'].shape[0]/20)\n",
    "per5_1_rr = float(prob['Target'][0:per5].sum()/float(per5))\n",
    "per5_1_cr = float(prob['Target'][0:per5].sum()/float(prob['Target'].sum()))\n",
    "\n",
    "print 'Probability from classifier for Train' \n",
    "print 'Response 10%: ' + str(dec_1_rr)\n",
    "print 'Capture at 10%: ' + str(dec_1_cr)\n",
    "print 'Response 5%: ' + str(per5_1_rr)\n",
    "print 'Capture at 5%: ' + str(per5_1_cr)\n",
    "\n",
    "# print decile chart and lift chart\n",
    "f, axs = plt.subplots(1,2,figsize=(16,4))\n",
    "axs[0].bar(xrange(0,10), df['1st decile capture_rate'], color = 'blue'), axs[0].set_title('Decile chart')\n",
    "axs[0].set_ylabel('Capture rate')\n",
    "axs[1].bar(xrange(0,10), df['Lift'], color = 'grey'), axs[1].set_title('Lift chart'), axs[1].set_ylabel('Lift')"
   ]
  },
  {
   "cell_type": "markdown",
   "metadata": {},
   "source": [
    "## Decile Info - Validation"
   ]
  },
  {
   "cell_type": "code",
   "execution_count": 62,
   "metadata": {
    "collapsed": false
   },
   "outputs": [
    {
     "name": "stdout",
     "output_type": "stream",
     "text": [
      "Validation AUC: 0.817448809024\n",
      "Validation Log Loss: 0.485953399092\n"
     ]
    }
   ],
   "source": [
    "# Validation AUC\n",
    "val_pred_xgb_log2 = xgb_log2.predict_proba(X_val)\n",
    "print('Validation AUC: ' + str(roc_auc_score(Y_val, val_pred_xgb_log2[:,1])))\n",
    "print('Validation Log Loss: ' + str(log_loss(Y_val, val_pred_xgb_log2[:,1])))"
   ]
  },
  {
   "cell_type": "code",
   "execution_count": 63,
   "metadata": {
    "collapsed": true
   },
   "outputs": [],
   "source": [
    "# Decile related info\n",
    "df_list = [1,2,3,4,5,6,7,8,9,10]\n",
    "\n",
    "prob = pd.DataFrame(val_pred_xgb_log2[:,1]) \n",
    "prob.columns = ['Probability']\n",
    "prob[\"Target\"] = Y_val.values \n",
    "prob = prob.sort_values(by='Probability', ascending=0)\n",
    "\n",
    "dec = int(prob['Target'].shape[0]/10)\n",
    "\n",
    "for i in [0,1,2,3,4,5,6,7,8,9]:\n",
    "    vars()['dec_'+str(df_list[i])+'_rr'] = float(prob['Target'][i*dec:(i+1)*dec].sum()/float(dec))\n",
    "    vars()['dec_'+str(df_list[i])+'_cr'] = float(prob['Target'][i*dec:(i+1)*dec].sum()/float(prob['Target'].sum()))\n",
    "    vars()['dec_'+str(df_list[i])+'_goods'] = float(prob['Target'][i*dec:(i+1)*dec].sum())\n",
    "    vars()['dec_'+str(df_list[i])+'_bads'] = float(prob['Target'][i*dec:(i+1)*dec].count())-float(\n",
    "        prob['Target'][i*dec:(i+1)*dec].sum())\n",
    "\n",
    "decile_num = pd.DataFrame([dec, dec, dec, dec, dec, dec, dec, dec, dec, dec], columns = ['# decile'])\n",
    "decile_goods = pd.DataFrame([dec_1_goods, dec_2_goods, dec_3_goods, dec_4_goods, dec_5_goods, dec_6_goods, dec_7_goods,\n",
    "                          dec_8_goods, dec_9_goods, dec_10_goods], columns = ['# of goods'])\n",
    "decile_bads = pd.DataFrame([dec_1_bads, dec_2_bads, dec_3_bads, dec_4_bads, dec_5_bads, dec_6_bads, dec_7_bads,\n",
    "                          dec_8_bads, dec_9_bads, dec_10_bads], columns = ['# of bads'])\n",
    "decile_cr = pd.DataFrame([dec_1_cr, dec_2_cr, dec_3_cr, dec_4_cr, dec_5_cr, dec_6_cr, dec_7_cr,\n",
    "                          dec_8_cr, dec_9_cr, dec_10_cr], columns = ['1st decile capture_rate'])\n",
    "decile_rr = pd.DataFrame([dec_1_rr, dec_2_rr, dec_3_rr, dec_4_rr, dec_5_rr, dec_6_rr, dec_7_rr,\n",
    "                          dec_8_rr, dec_9_rr, dec_10_rr], columns = ['1st decile response_rate'])"
   ]
  },
  {
   "cell_type": "code",
   "execution_count": 64,
   "metadata": {
    "collapsed": false
   },
   "outputs": [
    {
     "data": {
      "text/html": [
       "<div>\n",
       "<table border=\"1\" class=\"dataframe\">\n",
       "  <thead>\n",
       "    <tr style=\"text-align: right;\">\n",
       "      <th></th>\n",
       "      <th># decile</th>\n",
       "      <th># of goods</th>\n",
       "      <th># of bads</th>\n",
       "      <th>1st decile capture_rate</th>\n",
       "      <th>1st decile response_rate</th>\n",
       "      <th>% of bads</th>\n",
       "      <th>% cum_goods</th>\n",
       "      <th>% cum_bads</th>\n",
       "      <th>KS</th>\n",
       "      <th>Lift</th>\n",
       "    </tr>\n",
       "  </thead>\n",
       "  <tbody>\n",
       "    <tr>\n",
       "      <th>0</th>\n",
       "      <td>8085</td>\n",
       "      <td>6287.0</td>\n",
       "      <td>1798.0</td>\n",
       "      <td>0.211826</td>\n",
       "      <td>0.777613</td>\n",
       "      <td>0.035138</td>\n",
       "      <td>0.211826</td>\n",
       "      <td>0.035138</td>\n",
       "      <td>0.483644</td>\n",
       "      <td>2.118471</td>\n",
       "    </tr>\n",
       "    <tr>\n",
       "      <th>1</th>\n",
       "      <td>8085</td>\n",
       "      <td>5177.0</td>\n",
       "      <td>2908.0</td>\n",
       "      <td>0.174427</td>\n",
       "      <td>0.640322</td>\n",
       "      <td>0.056830</td>\n",
       "      <td>0.386253</td>\n",
       "      <td>0.091968</td>\n",
       "      <td>0.483644</td>\n",
       "      <td>1.931458</td>\n",
       "    </tr>\n",
       "    <tr>\n",
       "      <th>2</th>\n",
       "      <td>8085</td>\n",
       "      <td>4703.0</td>\n",
       "      <td>3382.0</td>\n",
       "      <td>0.158457</td>\n",
       "      <td>0.581694</td>\n",
       "      <td>0.066093</td>\n",
       "      <td>0.544710</td>\n",
       "      <td>0.158061</td>\n",
       "      <td>0.483644</td>\n",
       "      <td>1.815880</td>\n",
       "    </tr>\n",
       "    <tr>\n",
       "      <th>3</th>\n",
       "      <td>8085</td>\n",
       "      <td>4111.0</td>\n",
       "      <td>3974.0</td>\n",
       "      <td>0.138511</td>\n",
       "      <td>0.508472</td>\n",
       "      <td>0.077663</td>\n",
       "      <td>0.683221</td>\n",
       "      <td>0.235724</td>\n",
       "      <td>0.483644</td>\n",
       "      <td>1.708222</td>\n",
       "    </tr>\n",
       "    <tr>\n",
       "      <th>4</th>\n",
       "      <td>8085</td>\n",
       "      <td>3647.0</td>\n",
       "      <td>4438.0</td>\n",
       "      <td>0.122877</td>\n",
       "      <td>0.451082</td>\n",
       "      <td>0.086731</td>\n",
       "      <td>0.806098</td>\n",
       "      <td>0.322455</td>\n",
       "      <td>0.483644</td>\n",
       "      <td>1.612356</td>\n",
       "    </tr>\n",
       "    <tr>\n",
       "      <th>5</th>\n",
       "      <td>8085</td>\n",
       "      <td>2799.0</td>\n",
       "      <td>5286.0</td>\n",
       "      <td>0.094306</td>\n",
       "      <td>0.346197</td>\n",
       "      <td>0.103303</td>\n",
       "      <td>0.900404</td>\n",
       "      <td>0.425757</td>\n",
       "      <td>0.483644</td>\n",
       "      <td>1.500822</td>\n",
       "    </tr>\n",
       "    <tr>\n",
       "      <th>6</th>\n",
       "      <td>8085</td>\n",
       "      <td>1908.0</td>\n",
       "      <td>6177.0</td>\n",
       "      <td>0.064286</td>\n",
       "      <td>0.235993</td>\n",
       "      <td>0.120715</td>\n",
       "      <td>0.964690</td>\n",
       "      <td>0.546473</td>\n",
       "      <td>0.483644</td>\n",
       "      <td>1.378265</td>\n",
       "    </tr>\n",
       "    <tr>\n",
       "      <th>7</th>\n",
       "      <td>8085</td>\n",
       "      <td>859.0</td>\n",
       "      <td>7226.0</td>\n",
       "      <td>0.028942</td>\n",
       "      <td>0.106246</td>\n",
       "      <td>0.141216</td>\n",
       "      <td>0.993632</td>\n",
       "      <td>0.687688</td>\n",
       "      <td>0.483644</td>\n",
       "      <td>1.242163</td>\n",
       "    </tr>\n",
       "    <tr>\n",
       "      <th>8</th>\n",
       "      <td>8085</td>\n",
       "      <td>186.0</td>\n",
       "      <td>7899.0</td>\n",
       "      <td>0.006267</td>\n",
       "      <td>0.023006</td>\n",
       "      <td>0.154368</td>\n",
       "      <td>0.999899</td>\n",
       "      <td>0.842056</td>\n",
       "      <td>0.483644</td>\n",
       "      <td>1.111109</td>\n",
       "    </tr>\n",
       "    <tr>\n",
       "      <th>9</th>\n",
       "      <td>8085</td>\n",
       "      <td>3.0</td>\n",
       "      <td>8082.0</td>\n",
       "      <td>0.000101</td>\n",
       "      <td>0.000371</td>\n",
       "      <td>0.157944</td>\n",
       "      <td>1.000000</td>\n",
       "      <td>1.000000</td>\n",
       "      <td>0.483644</td>\n",
       "      <td>1.000099</td>\n",
       "    </tr>\n",
       "  </tbody>\n",
       "</table>\n",
       "</div>"
      ],
      "text/plain": [
       "   # decile  # of goods  # of bads  1st decile capture_rate  \\\n",
       "0      8085      6287.0     1798.0                 0.211826   \n",
       "1      8085      5177.0     2908.0                 0.174427   \n",
       "2      8085      4703.0     3382.0                 0.158457   \n",
       "3      8085      4111.0     3974.0                 0.138511   \n",
       "4      8085      3647.0     4438.0                 0.122877   \n",
       "5      8085      2799.0     5286.0                 0.094306   \n",
       "6      8085      1908.0     6177.0                 0.064286   \n",
       "7      8085       859.0     7226.0                 0.028942   \n",
       "8      8085       186.0     7899.0                 0.006267   \n",
       "9      8085         3.0     8082.0                 0.000101   \n",
       "\n",
       "   1st decile response_rate  % of bads  % cum_goods  % cum_bads        KS  \\\n",
       "0                  0.777613   0.035138     0.211826    0.035138  0.483644   \n",
       "1                  0.640322   0.056830     0.386253    0.091968  0.483644   \n",
       "2                  0.581694   0.066093     0.544710    0.158061  0.483644   \n",
       "3                  0.508472   0.077663     0.683221    0.235724  0.483644   \n",
       "4                  0.451082   0.086731     0.806098    0.322455  0.483644   \n",
       "5                  0.346197   0.103303     0.900404    0.425757  0.483644   \n",
       "6                  0.235993   0.120715     0.964690    0.546473  0.483644   \n",
       "7                  0.106246   0.141216     0.993632    0.687688  0.483644   \n",
       "8                  0.023006   0.154368     0.999899    0.842056  0.483644   \n",
       "9                  0.000371   0.157944     1.000000    1.000000  0.483644   \n",
       "\n",
       "       Lift  \n",
       "0  2.118471  \n",
       "1  1.931458  \n",
       "2  1.815880  \n",
       "3  1.708222  \n",
       "4  1.612356  \n",
       "5  1.500822  \n",
       "6  1.378265  \n",
       "7  1.242163  \n",
       "8  1.111109  \n",
       "9  1.000099  "
      ]
     },
     "execution_count": 64,
     "metadata": {},
     "output_type": "execute_result"
    }
   ],
   "source": [
    "# Decile info dataframe\n",
    "df = [decile_num, decile_goods, decile_bads, decile_cr, decile_rr]\n",
    "df = pd.concat(df, axis=1)\n",
    "df['% of bads'] = df['# of bads']/df['# of bads'].sum()\n",
    "df['% cum_goods'] = df['1st decile capture_rate'].cumsum()\n",
    "df['% cum_bads'] = df['% of bads'].cumsum()\n",
    "df['KS'] = (df['% cum_goods']-df['% cum_bads']).max()\n",
    "df['Lift'] = df['% cum_goods']/(df['# decile']/prob['Target'].shape[0]).cumsum()\n",
    "df"
   ]
  },
  {
   "cell_type": "code",
   "execution_count": 65,
   "metadata": {
    "collapsed": false
   },
   "outputs": [
    {
     "name": "stdout",
     "output_type": "stream",
     "text": [
      "Probability from classifier for Validation\n",
      "Response 10%: 0.777612863327\n",
      "Capture at 10%: 0.211826145553\n",
      "Response 5%: 0.816427511133\n",
      "Capture at 5%: 0.111185983827\n"
     ]
    },
    {
     "data": {
      "text/plain": [
       "(<Container object of 10 artists>,\n",
       " <matplotlib.text.Text at 0x7f6af2d485d0>,\n",
       " <matplotlib.text.Text at 0x7f6af2d98ad0>)"
      ]
     },
     "execution_count": 65,
     "metadata": {},
     "output_type": "execute_result"
    },
    {
     "data": {
      "image/png": "[encoded data removed]",
      "text/plain": [
       "<matplotlib.figure.Figure at 0x7f6af45d5110>"
      ]
     },
     "metadata": {},
     "output_type": "display_data"
    }
   ],
   "source": [
    "# Top decile, 5% capture, decile chart and lift chart\n",
    "\n",
    "per5 = int(prob['Target'].shape[0]/20)\n",
    "per5_1_rr = float(prob['Target'][0:per5].sum()/float(per5))\n",
    "per5_1_cr = float(prob['Target'][0:per5].sum()/float(prob['Target'].sum()))\n",
    "\n",
    "print 'Probability from classifier for Validation'\n",
    "print 'Response 10%: ' + str(dec_1_rr)\n",
    "print 'Capture at 10%: ' + str(dec_1_cr)\n",
    "print 'Response 5%: ' + str(per5_1_rr)\n",
    "print 'Capture at 5%: ' + str(per5_1_cr)\n",
    "\n",
    "# print decile chart and lift chart\n",
    "f, axs = plt.subplots(1,2,figsize=(16,4))\n",
    "axs[0].bar(xrange(0,10), df['1st decile capture_rate'], color = 'blue'), axs[0].set_title('Decile chart')\n",
    "axs[0].set_ylabel('Capture rate')\n",
    "axs[1].bar(xrange(0,10), df['Lift'], color = 'grey'), axs[1].set_title('Lift chart'), axs[1].set_ylabel('Lift')"
   ]
  },
  {
   "cell_type": "code",
   "execution_count": 66,
   "metadata": {
    "collapsed": false
   },
   "outputs": [
    {
     "data": {
      "text/plain": [
       "<matplotlib.legend.Legend at 0x7f6af2b7ddd0>"
      ]
     },
     "execution_count": 66,
     "metadata": {},
     "output_type": "execute_result"
    },
    {
     "data": {
      "image/png": "[encoded data removed]",
      "text/plain": [
       "<matplotlib.figure.Figure at 0x7f6af4869ad0>"
      ]
     },
     "metadata": {},
     "output_type": "display_data"
    }
   ],
   "source": [
    "# Make ROC curve for train and validation as of now\n",
    "from sklearn.metrics import roc_curve, auc\n",
    "\n",
    "fpr_trn, tpr_trn, _= roc_curve(Y_train, y_predS_xgb_log2[:,1])\n",
    "fpr_tst, tpr_tst, _= roc_curve(Y_val, val_pred_xgb_log2[:, 1]) \n",
    "\n",
    "roc_auc_trn = auc(fpr_trn, tpr_trn)\n",
    "roc_auc_tst = auc(fpr_tst, tpr_tst)\n",
    "# print roc_auc\n",
    "\n",
    "# Plot of a ROC curve\n",
    "plt.figure(figsize=(8,7))\n",
    "plt.plot(fpr_trn, tpr_trn, label='Train AUC - %0.2f' % roc_auc_trn)\n",
    "plt.plot(fpr_tst, tpr_tst, label='Valid AUC - %0.2f' % roc_auc_tst)   # Valid or Test ???\n",
    "plt.plot([0, 1], [0, 1], 'k--')\n",
    "plt.xlim([0.0, 1.0])\n",
    "plt.ylim([0.0, 1.05])\n",
    "plt.xlabel('False Positive Rate')\n",
    "plt.ylabel('True Positive Rate')\n",
    "plt.title('ROC Curve')\n",
    "plt.legend(loc=\"lower right\", prop={'size':8})\n",
    "# plt.savefig('ROC_Curve.png')"
   ]
  },
  {
   "cell_type": "code",
   "execution_count": null,
   "metadata": {
    "collapsed": true
   },
   "outputs": [],
   "source": []
  },
  {
   "cell_type": "code",
   "execution_count": 67,
   "metadata": {
    "collapsed": true
   },
   "outputs": [],
   "source": [
    "feat_imp = pd.Series(xgb_log2.booster().get_fscore()).sort_values(ascending=False)\n",
    "feat_imp =pd.DataFrame({'features': feat_imp.index, 'importance' : feat_imp.values})\n",
    "feat_imp['importance_percent']  = feat_imp['importance']/feat_imp['importance'].sum()"
   ]
  },
  {
   "cell_type": "code",
   "execution_count": 68,
   "metadata": {
    "collapsed": false
   },
   "outputs": [
    {
     "data": {
      "text/html": [
       "<div>\n",
       "<table border=\"1\" class=\"dataframe\">\n",
       "  <thead>\n",
       "    <tr style=\"text-align: right;\">\n",
       "      <th></th>\n",
       "      <th>features</th>\n",
       "      <th>importance</th>\n",
       "      <th>importance_percent</th>\n",
       "    </tr>\n",
       "  </thead>\n",
       "  <tbody>\n",
       "    <tr>\n",
       "      <th>0</th>\n",
       "      <td>q1_form_char</td>\n",
       "      <td>3254</td>\n",
       "      <td>0.088292</td>\n",
       "    </tr>\n",
       "    <tr>\n",
       "      <th>1</th>\n",
       "      <td>q2_form_char</td>\n",
       "      <td>3182</td>\n",
       "      <td>0.086338</td>\n",
       "    </tr>\n",
       "    <tr>\n",
       "      <th>2</th>\n",
       "      <td>q_ratio</td>\n",
       "      <td>3030</td>\n",
       "      <td>0.082214</td>\n",
       "    </tr>\n",
       "    <tr>\n",
       "      <th>3</th>\n",
       "      <td>q2_length</td>\n",
       "      <td>2417</td>\n",
       "      <td>0.065581</td>\n",
       "    </tr>\n",
       "    <tr>\n",
       "      <th>4</th>\n",
       "      <td>partial_ratio</td>\n",
       "      <td>2394</td>\n",
       "      <td>0.064957</td>\n",
       "    </tr>\n",
       "    <tr>\n",
       "      <th>5</th>\n",
       "      <td>prcnt_common</td>\n",
       "      <td>2346</td>\n",
       "      <td>0.063655</td>\n",
       "    </tr>\n",
       "    <tr>\n",
       "      <th>6</th>\n",
       "      <td>token_sort_ratio</td>\n",
       "      <td>2345</td>\n",
       "      <td>0.063628</td>\n",
       "    </tr>\n",
       "    <tr>\n",
       "      <th>7</th>\n",
       "      <td>q1_length</td>\n",
       "      <td>2163</td>\n",
       "      <td>0.058689</td>\n",
       "    </tr>\n",
       "    <tr>\n",
       "      <th>8</th>\n",
       "      <td>token_set_ratio</td>\n",
       "      <td>2089</td>\n",
       "      <td>0.056682</td>\n",
       "    </tr>\n",
       "    <tr>\n",
       "      <th>9</th>\n",
       "      <td>partial_token_sort_ratio</td>\n",
       "      <td>2073</td>\n",
       "      <td>0.056247</td>\n",
       "    </tr>\n",
       "    <tr>\n",
       "      <th>10</th>\n",
       "      <td>q1_q2_char_diff</td>\n",
       "      <td>1915</td>\n",
       "      <td>0.051960</td>\n",
       "    </tr>\n",
       "    <tr>\n",
       "      <th>11</th>\n",
       "      <td>q2_unique</td>\n",
       "      <td>1836</td>\n",
       "      <td>0.049817</td>\n",
       "    </tr>\n",
       "    <tr>\n",
       "      <th>12</th>\n",
       "      <td>q1_unique</td>\n",
       "      <td>1818</td>\n",
       "      <td>0.049328</td>\n",
       "    </tr>\n",
       "    <tr>\n",
       "      <th>13</th>\n",
       "      <td>q2_form_len</td>\n",
       "      <td>1107</td>\n",
       "      <td>0.030037</td>\n",
       "    </tr>\n",
       "    <tr>\n",
       "      <th>14</th>\n",
       "      <td>w_ratio</td>\n",
       "      <td>1085</td>\n",
       "      <td>0.029440</td>\n",
       "    </tr>\n",
       "    <tr>\n",
       "      <th>15</th>\n",
       "      <td>q1_form_len</td>\n",
       "      <td>1052</td>\n",
       "      <td>0.028544</td>\n",
       "    </tr>\n",
       "    <tr>\n",
       "      <th>16</th>\n",
       "      <td>q2_form_uni</td>\n",
       "      <td>973</td>\n",
       "      <td>0.026401</td>\n",
       "    </tr>\n",
       "    <tr>\n",
       "      <th>17</th>\n",
       "      <td>q1_form_uni</td>\n",
       "      <td>938</td>\n",
       "      <td>0.025451</td>\n",
       "    </tr>\n",
       "    <tr>\n",
       "      <th>18</th>\n",
       "      <td>common_cnt</td>\n",
       "      <td>775</td>\n",
       "      <td>0.021028</td>\n",
       "    </tr>\n",
       "    <tr>\n",
       "      <th>19</th>\n",
       "      <td>partial_token_set_ratio</td>\n",
       "      <td>63</td>\n",
       "      <td>0.001709</td>\n",
       "    </tr>\n",
       "  </tbody>\n",
       "</table>\n",
       "</div>"
      ],
      "text/plain": [
       "                    features  importance  importance_percent\n",
       "0               q1_form_char        3254            0.088292\n",
       "1               q2_form_char        3182            0.086338\n",
       "2                    q_ratio        3030            0.082214\n",
       "3                  q2_length        2417            0.065581\n",
       "4              partial_ratio        2394            0.064957\n",
       "5               prcnt_common        2346            0.063655\n",
       "6           token_sort_ratio        2345            0.063628\n",
       "7                  q1_length        2163            0.058689\n",
       "8            token_set_ratio        2089            0.056682\n",
       "9   partial_token_sort_ratio        2073            0.056247\n",
       "10           q1_q2_char_diff        1915            0.051960\n",
       "11                 q2_unique        1836            0.049817\n",
       "12                 q1_unique        1818            0.049328\n",
       "13               q2_form_len        1107            0.030037\n",
       "14                   w_ratio        1085            0.029440\n",
       "15               q1_form_len        1052            0.028544\n",
       "16               q2_form_uni         973            0.026401\n",
       "17               q1_form_uni         938            0.025451\n",
       "18                common_cnt         775            0.021028\n",
       "19   partial_token_set_ratio          63            0.001709"
      ]
     },
     "execution_count": 68,
     "metadata": {},
     "output_type": "execute_result"
    }
   ],
   "source": [
    "feat_imp.iloc[0:21]"
   ]
  },
  {
   "cell_type": "code",
   "execution_count": 69,
   "metadata": {
    "collapsed": true
   },
   "outputs": [],
   "source": [
    "def draw_feature_importance(fea_imp_df, nb, imp_col):\n",
    "    fea_imp_df = fea_imp_df.sort_values(imp_col).reset_index(drop=True)\n",
    "    fea_imp_df = fea_imp_df[-1*nb:].reset_index(drop=True)\n",
    "\n",
    "    plt.figure(figsize=(10, nb*0.3))\n",
    "    plt.title(\"Top %d Most Important Features\"%nb)\n",
    "    plt.barh(fea_imp_df.index, fea_imp_df[imp_col], color='#348ABD', align=\"center\", lw='2', edgecolor='#348ABD', alpha=0.6)\n",
    "    plt.yticks(fea_imp_df.index, fea_imp_df['features'], fontsize=12,)\n",
    "    plt.ylim([-1, nb])\n",
    "    plt.xlim([0, fea_imp_df[imp_col].max()*1.1])\n",
    "    plt.show()"
   ]
  },
  {
   "cell_type": "code",
   "execution_count": 70,
   "metadata": {
    "collapsed": false
   },
   "outputs": [
    {
     "data": {
      "image/png": "[encoded data removed]",
      "text/plain": [
       "<matplotlib.figure.Figure at 0x7f6af4409e10>"
      ]
     },
     "metadata": {},
     "output_type": "display_data"
    }
   ],
   "source": [
    "draw_feature_importance(feat_imp, feat_imp.shape[0], 'importance_percent')"
   ]
  },
  {
   "cell_type": "code",
   "execution_count": null,
   "metadata": {
    "collapsed": false
   },
   "outputs": [],
   "source": []
  },
  {
   "cell_type": "code",
   "execution_count": null,
   "metadata": {
    "collapsed": true
   },
   "outputs": [],
   "source": []
  },
  {
   "cell_type": "code",
   "execution_count": 71,
   "metadata": {
    "collapsed": true
   },
   "outputs": [],
   "source": [
    "# RUNNING THE FINAL SELECTED MODEL ON THE FULL TRAINING DATASET"
   ]
  },
  {
   "cell_type": "code",
   "execution_count": 72,
   "metadata": {
    "collapsed": true
   },
   "outputs": [],
   "source": [
    "# xgboost fn\n",
    "def modelfit2(alg, dtrain, predictors, useTrainCV=True, cv_folds=5, early_stopping_rounds=50):    \n",
    "    if useTrainCV:\n",
    "        xgb_param = alg.get_xgb_params()\n",
    "        xgtrain = xgb.DMatrix(dtrain[predictors].values, label=val_dup[[0]].values)\n",
    "        cvresult = xgb.cv(xgb_param, xgtrain, num_boost_round=alg.get_params()['n_estimators'], nfold=cv_folds,\n",
    "                          metrics=['logloss'], early_stopping_rounds=early_stopping_rounds, show_progress=False)\n",
    "        alg.set_params(n_estimators=cvresult.shape[0])\n",
    "    alg.fit(dtrain[predictors], np.ravel(val_dup),eval_metric='logloss')     #Fit algorithm\n",
    "\n",
    "    #Predict training set:\n",
    "    dtrain_predictions = alg.predict(dtrain[predictors])\n",
    "    dtrain_predprob = alg.predict_proba(dtrain[predictors])[:,1]\n",
    "    print(\"AUC Score (Train): %f\" % roc_auc_score(np.ravel(val_dup), dtrain_predprob))\n",
    "    print(\"LogLoss Score (Train): %f\" % log_loss(np.ravel(val_dup), dtrain_predprob))\n",
    "    \n",
    "    feat_imp = pd.Series(alg.booster().get_fscore()).sort_values(ascending=False)\n",
    "    feat_imp.plot(kind='bar', title='Feature Importances')\n",
    "    plt.ylabel('Feature Importance Score')"
   ]
  },
  {
   "cell_type": "code",
   "execution_count": 75,
   "metadata": {
    "collapsed": false
   },
   "outputs": [
    {
     "name": "stderr",
     "output_type": "stream",
     "text": [
      "Will train until cv error hasn't decreased in 50 rounds.\n"
     ]
    },
    {
     "name": "stdout",
     "output_type": "stream",
     "text": [
      "AUC Score (Train): 0.834804\n",
      "LogLoss Score (Train): 0.468760\n"
     ]
    },
    {
     "data": {
      "image/png": "[encoded data removed]",
      "text/plain": [
       "<matplotlib.figure.Figure at 0x7f6af4417250>"
      ]
     },
     "metadata": {},
     "output_type": "display_data"
    }
   ],
   "source": [
    "# Using the final model on the initial given full training dataset\n",
    "xgb_log3 = XGBClassifier( max_depth= 6, min_child_weight= 1, gamma=0.2, colsample_bytree=0.8, subsample=0.7, \n",
    "                    reg_alpha = 1, reg_lambda = 0, max_delta_step = 3, scale_pos_weight= 1, learning_rate = 0.05, \n",
    "                    n_estimators=700, objective= 'binary:logistic', nthread=4, seed=45)\n",
    "\n",
    "#Choose the predictors for xgboost and fit the model\n",
    "# predictors  = list(train_basic_fuzzy.columns)\n",
    "modelfit2(xgb_log3, train_basic_fuzzy, predictors)"
   ]
  },
  {
   "cell_type": "code",
   "execution_count": 76,
   "metadata": {
    "collapsed": false
   },
   "outputs": [
    {
     "name": "stdout",
     "output_type": "stream",
     "text": [
      "Validation AUC: 0.834804339102\n",
      "Validation Log Loss: 0.468759572228\n"
     ]
    }
   ],
   "source": [
    "# Train roc auc\n",
    "y_predS_final = xgb_log3.predict_proba(train_basic_fuzzy)\n",
    "print('Validation AUC: ' + str(roc_auc_score(val_dup, y_predS_final[:,1]) ))\n",
    "print('Validation Log Loss: ' + str(log_loss(val_dup, y_predS_final[:,1]) ))"
   ]
  },
  {
   "cell_type": "code",
   "execution_count": 78,
   "metadata": {
    "collapsed": false
   },
   "outputs": [
    {
     "name": "stdout",
     "output_type": "stream",
     "text": [
      "mean auc: 0.818548767597\n",
      "std auc: 0.00101343037976\n",
      "mean log_loss: -0.485472112447\n",
      "std log_loss: 0.00101384668486\n"
     ]
    }
   ],
   "source": [
    "# Cross validation AUC & LogLoss\n",
    "cv_score_final = cross_val_score(xgb_log3, train_basic_fuzzy, np.ravel(val_dup), cv = 5, scoring ='roc_auc')\n",
    "print('mean auc: ' + str(cv_score_final.mean()))\n",
    "print('std auc: ' + str(cv_score_final.std()))\n",
    "cv_score1_final = cross_val_score(xgb_log3, train_basic_fuzzy, np.ravel(val_dup), cv = 5, scoring ='log_loss')\n",
    "print 'mean log_loss: ' + str(cv_score1_final.mean())\n",
    "print 'std log_loss: ' + str(cv_score1_final.std())"
   ]
  },
  {
   "cell_type": "code",
   "execution_count": 77,
   "metadata": {
    "collapsed": false
   },
   "outputs": [
    {
     "data": {
      "text/plain": [
       "['/home/pgoyal/quora/model3/xgb_log3_dup_logloss.pkl',\n",
       " '/home/pgoyal/quora/model3/xgb_log3_dup_logloss.pkl_01.npy']"
      ]
     },
     "execution_count": 77,
     "metadata": {},
     "output_type": "execute_result"
    }
   ],
   "source": [
    "# Save the model\n",
    "from sklearn.externals import joblib\n",
    "joblib.dump(xgb_log3, '/home/pgoyal/quora/model3/xgb_log3_dup_logloss.pkl')"
   ]
  },
  {
   "cell_type": "code",
   "execution_count": null,
   "metadata": {
    "collapsed": true
   },
   "outputs": [],
   "source": []
  }
 ],
 "metadata": {
  "kernelspec": {
   "display_name": "research",
   "language": "python",
   "name": "python2"
  },
  "language_info": {
   "codemirror_mode": {
    "name": "ipython",
    "version": 2
   },
   "file_extension": ".py",
   "mimetype": "text/x-python",
   "name": "python",
   "nbconvert_exporter": "python",
   "pygments_lexer": "ipython2",
   "version": "2.7.12"
  }
 },
 "nbformat": 4,
 "nbformat_minor": 0
}
