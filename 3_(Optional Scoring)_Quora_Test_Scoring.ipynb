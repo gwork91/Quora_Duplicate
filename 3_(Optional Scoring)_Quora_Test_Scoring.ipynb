{
 "cells": [
  {
   "cell_type": "code",
   "execution_count": 77,
   "metadata": {
    "collapsed": false
   },
   "outputs": [],
   "source": [
    "import pandas as pd\n",
    "import numpy as np\n",
    "import xgboost as xgb\n",
    "from sklearn.externals import joblib\n",
    "import sklearn"
   ]
  },
  {
   "cell_type": "code",
   "execution_count": 113,
   "metadata": {
    "collapsed": true
   },
   "outputs": [],
   "source": [
    "test_data_cols1 = pd.read_csv('test_data_cols1.csv', sep=',')\n",
    "test_data_cols2 = pd.read_csv('test_data_cols2.csv', sep=',', skiprows=1, header=None)"
   ]
  },
  {
   "cell_type": "code",
   "execution_count": 114,
   "metadata": {
    "collapsed": true
   },
   "outputs": [],
   "source": [
    "# Creating DF with features and duplicate variable only for final model\n",
    "def append_df(df1, df2):\n",
    "    # df1 with column names, and df2 without\n",
    "    df2.columns = df1.columns\n",
    "    df1 = df1.append(df2, ignore_index=True)\n",
    "    return df1"
   ]
  },
  {
   "cell_type": "code",
   "execution_count": 115,
   "metadata": {
    "collapsed": false
   },
   "outputs": [],
   "source": [
    "test_data_cols1 = append_df(test_data_cols1,test_data_cols2) "
   ]
  },
  {
   "cell_type": "code",
   "execution_count": 116,
   "metadata": {
    "collapsed": false
   },
   "outputs": [
    {
     "data": {
      "text/plain": [
       "test_id            2345796\n",
       "q1_form_len        2345796\n",
       "q2_form_len        2345796\n",
       "q1_length          2345796\n",
       "q2_length          2345796\n",
       "q1_unique          2345796\n",
       "q2_unique          2345796\n",
       "q1_form_uni        2345796\n",
       "q2_form_uni        2345796\n",
       "q1_form_char       2345796\n",
       "q2_form_char       2345796\n",
       "q1_q2_char_diff    2345796\n",
       "common_cnt         2345796\n",
       "prcnt_common       2345379\n",
       "dtype: int64"
      ]
     },
     "execution_count": 116,
     "metadata": {},
     "output_type": "execute_result"
    }
   ],
   "source": [
    "test_data_cols1.count()"
   ]
  },
  {
   "cell_type": "code",
   "execution_count": 117,
   "metadata": {
    "collapsed": true
   },
   "outputs": [],
   "source": [
    "test_data_cols1['prcnt_common'].fillna(test_data_cols1['prcnt_common'].mean(), inplace=True)"
   ]
  },
  {
   "cell_type": "code",
   "execution_count": 118,
   "metadata": {
    "collapsed": false
   },
   "outputs": [
    {
     "data": {
      "text/plain": [
       "test_id            2345796\n",
       "q1_form_len        2345796\n",
       "q2_form_len        2345796\n",
       "q1_length          2345796\n",
       "q2_length          2345796\n",
       "q1_unique          2345796\n",
       "q2_unique          2345796\n",
       "q1_form_uni        2345796\n",
       "q2_form_uni        2345796\n",
       "q1_form_char       2345796\n",
       "q2_form_char       2345796\n",
       "q1_q2_char_diff    2345796\n",
       "common_cnt         2345796\n",
       "prcnt_common       2345796\n",
       "dtype: int64"
      ]
     },
     "execution_count": 118,
     "metadata": {},
     "output_type": "execute_result"
    }
   ],
   "source": [
    "test_data_cols1.count()"
   ]
  },
  {
   "cell_type": "markdown",
   "metadata": {},
   "source": [
    "## Test Score"
   ]
  },
  {
   "cell_type": "code",
   "execution_count": 119,
   "metadata": {
    "collapsed": true
   },
   "outputs": [],
   "source": [
    "def test_clean(test_data):\n",
    "    # Create Test_ID DF\n",
    "    test_id_col = test_data[\"test_id\"]\n",
    "    test_id_col = pd.DataFrame(pd.Series(test_id_col))\n",
    "    \n",
    "    # Clean Test DF model\n",
    "    test_data.drop(['test_id'], axis=1, inplace=True)\n",
    "    #test_data.drop(['prcnt_common'], axis=1, inplace=True)               # Include this column in the main version-Comment it\n",
    "    \n",
    "    return test_id_col, test_data"
   ]
  },
  {
   "cell_type": "code",
   "execution_count": 120,
   "metadata": {
    "collapsed": true
   },
   "outputs": [],
   "source": [
    "test_id_col, test_data_cols1 = test_clean(test_data_cols1)"
   ]
  },
  {
   "cell_type": "code",
   "execution_count": 121,
   "metadata": {
    "collapsed": false
   },
   "outputs": [],
   "source": [
    "def test_df_create(model_path, model_name, test_data, test_id_col, submission_path, final_file_name):\n",
    "    # Loading the Desired Model\n",
    "    xgb2 = joblib.load(model_path+model_name)\n",
    "    \n",
    "    # Run model on Test Data\n",
    "    test_pred_xgb2 = xgb2.predict(test_data)\n",
    "    test_pred_xgb2 = pd.DataFrame(test_pred_xgb2)\n",
    "    test_pred_xgb2.columns=['is_duplicate']\n",
    "    \n",
    "    # Final Submission DF\n",
    "    submit_df = pd.concat([test_id_col,test_pred_xgb2 ], axis=1)\n",
    "    submit_df.to_csv(test_submission_path+final_file_name, index=False, sep=',')\n",
    "    \n",
    "    # Basis info\n",
    "    print \"Test DF Shape\",(submit_df.shape[0], submit_df.shape[1])\n",
    "    print(submit_df.head())\n",
    "    print('Total 1s : %d' % (test_pred_xgb2.sum()))\n",
    "    print('1s Percentage : %f' % (float(test_pred_xgb2.sum())/float(submit_df.shape[0])*100))\n",
    "    \n",
    "    return(submit_df)"
   ]
  },
  {
   "cell_type": "markdown",
   "metadata": {},
   "source": [
    "## Scoring on Model of Basic Features "
   ]
  },
  {
   "cell_type": "code",
   "execution_count": 122,
   "metadata": {
    "collapsed": true
   },
   "outputs": [],
   "source": [
    "model_path='/home/pgoyal/quora/model/'\n",
    "test_submission_path= '/home/pgoyal/quora/'"
   ]
  },
  {
   "cell_type": "code",
   "execution_count": 112,
   "metadata": {
    "collapsed": false
   },
   "outputs": [
    {
     "name": "stdout",
     "output_type": "stream",
     "text": [
      "Test DF Shape (2345796, 2)\n",
      "   test_id  is_duplicate\n",
      "0        0             0\n",
      "1        1             1\n",
      "2        2             1\n",
      "3        3             0\n",
      "4        4             0\n",
      "Total 1s : 356786\n",
      "1s Percentage : 15.209592\n"
     ]
    }
   ],
   "source": [
    "# Model-1 : Choose this one only as of now (Score 8.69~) : Model without prcnt_common feature\n",
    "model_name= 'xgb2_dup_auc.pkl'\n",
    "file_name = 'test_submission_1.csv'\n",
    "final_df = test_df_create(model_path, model_name, test_data_cols1, test_id_col,  test_submission_path, file_name)"
   ]
  },
  {
   "cell_type": "code",
   "execution_count": 123,
   "metadata": {
    "collapsed": false
   },
   "outputs": [
    {
     "name": "stdout",
     "output_type": "stream",
     "text": [
      "Test DF Shape (2345796, 2)\n",
      "   test_id  is_duplicate\n",
      "0        0             0\n",
      "1        1             1\n",
      "2        2             1\n",
      "3        3             0\n",
      "4        4             0\n",
      "Total 1s : 928668\n",
      "1s Percentage : 39.588609\n"
     ]
    }
   ],
   "source": [
    "# Model-2 : Not Chosen (Score 14.~)  : Model with prcnt_common\n",
    "model_name= 'xgb2_dup_auc_2.pkl'\n",
    "file_name = 'test_submission_2.csv'\n",
    "final_df = test_df_create(model_path, model_name, test_data_cols1, test_id_col,  test_submission_path, file_name)"
   ]
  },
  {
   "cell_type": "code",
   "execution_count": null,
   "metadata": {
    "collapsed": false
   },
   "outputs": [],
   "source": []
  },
  {
   "cell_type": "markdown",
   "metadata": {
    "collapsed": true
   },
   "source": [
    "## Scoring on Model of Basic+Fuzzy Features"
   ]
  },
  {
   "cell_type": "code",
   "execution_count": null,
   "metadata": {
    "collapsed": true
   },
   "outputs": [],
   "source": []
  },
  {
   "cell_type": "code",
   "execution_count": null,
   "metadata": {
    "collapsed": true
   },
   "outputs": [],
   "source": []
  },
  {
   "cell_type": "code",
   "execution_count": null,
   "metadata": {
    "collapsed": true
   },
   "outputs": [],
   "source": []
  },
  {
   "cell_type": "code",
   "execution_count": null,
   "metadata": {
    "collapsed": true
   },
   "outputs": [],
   "source": []
  },
  {
   "cell_type": "code",
   "execution_count": null,
   "metadata": {
    "collapsed": true
   },
   "outputs": [],
   "source": []
  }
 ],
 "metadata": {
  "kernelspec": {
   "display_name": "research",
   "language": "python",
   "name": "python2"
  },
  "language_info": {
   "codemirror_mode": {
    "name": "ipython",
    "version": 2
   },
   "file_extension": ".py",
   "mimetype": "text/x-python",
   "name": "python",
   "nbconvert_exporter": "python",
   "pygments_lexer": "ipython2",
   "version": "2.7.12"
  }
 },
 "nbformat": 4,
 "nbformat_minor": 0
}
