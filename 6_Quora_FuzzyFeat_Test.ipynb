{
 "cells": [
  {
   "cell_type": "code",
   "execution_count": 1,
   "metadata": {
    "collapsed": true
   },
   "outputs": [],
   "source": [
    "# Appending the fuzzywuzzy features here for the test dataset, along with the basic features"
   ]
  },
  {
   "cell_type": "code",
   "execution_count": 2,
   "metadata": {
    "collapsed": false
   },
   "outputs": [
    {
     "name": "stderr",
     "output_type": "stream",
     "text": [
      "C:\\Program Files\\Anaconda2\\lib\\site-packages\\fuzzywuzzy-0.15.0-py2.7.egg\\fuzzywuzzy\\fuzz.py:35: UserWarning: Using slow pure-python SequenceMatcher. Install python-Levenshtein to remove this warning\n"
     ]
    }
   ],
   "source": [
    "import numpy as np\n",
    "import pandas as pd\n",
    "import sklearn\n",
    "%matplotlib inline\n",
    "import matplotlib.pyplot as plt\n",
    "from fuzzywuzzy import fuzz\n",
    "from joblib import Parallel, delayed\n",
    "import multiprocessing\n",
    "import itertools"
   ]
  },
  {
   "cell_type": "markdown",
   "metadata": {},
   "source": [
    "## Test Data Features : Basic + FuzzyWuzzy"
   ]
  },
  {
   "cell_type": "code",
   "execution_count": 3,
   "metadata": {
    "collapsed": true
   },
   "outputs": [],
   "source": [
    "test_text_data = pd.read_csv('test_text_data.csv',sep=',')"
   ]
  },
  {
   "cell_type": "code",
   "execution_count": 4,
   "metadata": {
    "collapsed": false
   },
   "outputs": [
    {
     "data": {
      "text/plain": [
       "test_id           2345796\n",
       "question1_form    2333113\n",
       "question2_form    2333117\n",
       "dtype: int64"
      ]
     },
     "execution_count": 4,
     "metadata": {},
     "output_type": "execute_result"
    }
   ],
   "source": [
    "test_text_data.count()"
   ]
  },
  {
   "cell_type": "code",
   "execution_count": 5,
   "metadata": {
    "collapsed": false
   },
   "outputs": [
    {
     "name": "stderr",
     "output_type": "stream",
     "text": [
      "C:\\Program Files\\Anaconda2\\lib\\site-packages\\ipykernel\\__main__.py:1: SettingWithCopyWarning: \n",
      "A value is trying to be set on a copy of a slice from a DataFrame\n",
      "\n",
      "See the caveats in the documentation: http://pandas.pydata.org/pandas-docs/stable/indexing.html#indexing-view-versus-copy\n",
      "  if __name__ == '__main__':\n",
      "C:\\Program Files\\Anaconda2\\lib\\site-packages\\ipykernel\\__main__.py:2: SettingWithCopyWarning: \n",
      "A value is trying to be set on a copy of a slice from a DataFrame\n",
      "\n",
      "See the caveats in the documentation: http://pandas.pydata.org/pandas-docs/stable/indexing.html#indexing-view-versus-copy\n",
      "  from ipykernel import kernelapp as app\n"
     ]
    }
   ],
   "source": [
    "test_text_data.question1_form[(test_text_data['question1_form'].isnull())]=''\n",
    "test_text_data.question2_form[(test_text_data['question2_form'].isnull())]=''"
   ]
  },
  {
   "cell_type": "code",
   "execution_count": 6,
   "metadata": {
    "collapsed": false
   },
   "outputs": [
    {
     "data": {
      "text/plain": [
       "test_id           2345796\n",
       "question1_form    2345796\n",
       "question2_form    2345796\n",
       "dtype: int64"
      ]
     },
     "execution_count": 6,
     "metadata": {},
     "output_type": "execute_result"
    }
   ],
   "source": [
    "test_text_data.count()"
   ]
  },
  {
   "cell_type": "code",
   "execution_count": 7,
   "metadata": {
    "collapsed": true
   },
   "outputs": [],
   "source": [
    "# Loading Test Dataset files with basic features"
   ]
  },
  {
   "cell_type": "code",
   "execution_count": 8,
   "metadata": {
    "collapsed": true
   },
   "outputs": [],
   "source": [
    "test_data_cols1 = pd.read_csv('test_data_cols1.csv', sep=',')\n",
    "test_data_cols2 = pd.read_csv('test_data_cols2.csv', sep=',', skiprows=1, header=None)\n",
    "\n",
    "# Creating DF with features and duplicate variable only for final model\n",
    "def append_df(df1, df2):\n",
    "    # df1 with column names, and df2 without\n",
    "    df2.columns = df1.columns\n",
    "    df1 = df1.append(df2, ignore_index=True)\n",
    "    return df1\n",
    "\n",
    "test_data_cols1 = append_df(test_data_cols1,test_data_cols2) "
   ]
  },
  {
   "cell_type": "code",
   "execution_count": 9,
   "metadata": {
    "collapsed": false
   },
   "outputs": [
    {
     "data": {
      "text/plain": [
       "test_id            2345796\n",
       "q1_form_len        2345796\n",
       "q2_form_len        2345796\n",
       "q1_length          2345796\n",
       "q2_length          2345796\n",
       "q1_unique          2345796\n",
       "q2_unique          2345796\n",
       "q1_form_uni        2345796\n",
       "q2_form_uni        2345796\n",
       "q1_form_char       2345796\n",
       "q2_form_char       2345796\n",
       "q1_q2_char_diff    2345796\n",
       "common_cnt         2345796\n",
       "prcnt_common       2345379\n",
       "dtype: int64"
      ]
     },
     "execution_count": 9,
     "metadata": {},
     "output_type": "execute_result"
    }
   ],
   "source": [
    "# Making a check on the values\n",
    "test_data_cols1.count()"
   ]
  },
  {
   "cell_type": "code",
   "execution_count": 10,
   "metadata": {
    "collapsed": true
   },
   "outputs": [],
   "source": [
    "# Imputing if any :\n",
    "test_data_cols1['prcnt_common'].fillna(test_data_cols1['prcnt_common'].mean(), inplace=True)"
   ]
  },
  {
   "cell_type": "code",
   "execution_count": 11,
   "metadata": {
    "collapsed": false
   },
   "outputs": [],
   "source": [
    "# Merging both the test datasets and making final file\n",
    "test_data = pd.merge(test_text_data, test_data_cols1, left_on=['test_id'],right_on=['test_id'],how='inner')\n",
    "del test_text_data, test_data_cols1"
   ]
  },
  {
   "cell_type": "code",
   "execution_count": null,
   "metadata": {
    "collapsed": true
   },
   "outputs": [],
   "source": []
  },
  {
   "cell_type": "code",
   "execution_count": 12,
   "metadata": {
    "collapsed": true
   },
   "outputs": [],
   "source": [
    "# Fuzzywuzz features :\n",
    "def fuzzy_ratios(input_df):\n",
    "    input_df['partial_ratio'] = input_df.apply(lambda row: fuzz.partial_ratio(row[u'question1_form'], row[u'question2_form']), axis=1)\n",
    "    input_df['partial_token_set_ratio'] = input_df.apply(lambda row: fuzz.partial_token_set_ratio(row[u'question1_form'], row[u'question2_form']), axis=1)\n",
    "    input_df['partial_token_sort_ratio'] = input_df.apply(lambda row: fuzz.partial_token_sort_ratio(row[u'question1_form'], row[u'question2_form']), axis=1)\n",
    "    input_df['q_ratio'] = input_df.apply(lambda row: fuzz.QRatio(row[u'question1_form'], row[u'question2_form']), axis=1)\n",
    "    input_df['token_set_ratio'] = input_df.apply(lambda row: fuzz.token_set_ratio(row[u'question1_form'], row[u'question2_form']), axis=1)\n",
    "    input_df['token_sort_ratio'] = input_df.apply(lambda row: fuzz.token_sort_ratio(row[u'question1_form'], row[u'question2_form']), axis=1)\n",
    "    input_df['w_ratio'] = input_df.apply(lambda row: fuzz.WRatio(row[u'question1_form'], row[u'question2_form']), axis=1)\n",
    "    return input_df"
   ]
  },
  {
   "cell_type": "code",
   "execution_count": 13,
   "metadata": {
    "collapsed": true
   },
   "outputs": [],
   "source": [
    "test_data = fuzzy_ratios(test_data)"
   ]
  },
  {
   "cell_type": "code",
   "execution_count": 15,
   "metadata": {
    "collapsed": false
   },
   "outputs": [
    {
     "data": {
      "text/plain": [
       "Index([u'test_id', u'question1_form', u'question2_form', u'q1_form_len',\n",
       "       u'q2_form_len', u'q1_length', u'q2_length', u'q1_unique', u'q2_unique',\n",
       "       u'q1_form_uni', u'q2_form_uni', u'q1_form_char', u'q2_form_char',\n",
       "       u'q1_q2_char_diff', u'common_cnt', u'prcnt_common', u'partial_ratio',\n",
       "       u'partial_token_set_ratio', u'partial_token_sort_ratio', u'q_ratio',\n",
       "       u'token_set_ratio', u'token_sort_ratio', u'w_ratio'],\n",
       "      dtype='object')"
      ]
     },
     "execution_count": 15,
     "metadata": {},
     "output_type": "execute_result"
    }
   ],
   "source": [
    "test_data.columns"
   ]
  },
  {
   "cell_type": "code",
   "execution_count": 14,
   "metadata": {
    "collapsed": true
   },
   "outputs": [],
   "source": [
    "test_data.to_csv('test_basic_fuzzy.csv', index=False, sep=',')"
   ]
  },
  {
   "cell_type": "code",
   "execution_count": 17,
   "metadata": {
    "collapsed": false
   },
   "outputs": [],
   "source": [
    "for i in [1,2,3,4,5,6]:\n",
    "    vars()['test_basic_fuzzy'+str(i)] = test_data.iloc[((test_data.shape[0]/6)*(i-1)):((test_data.shape[0]/6)*i)]\n",
    "    vars()['test_basic_fuzzy'+str(i)].to_csv('test_basic_fuzzy'+str(i)+'.csv', sep=',', index=False)\n",
    "    del vars()['test_basic_fuzzy'+str(i)]"
   ]
  },
  {
   "cell_type": "code",
   "execution_count": null,
   "metadata": {
    "collapsed": true
   },
   "outputs": [],
   "source": []
  },
  {
   "cell_type": "code",
   "execution_count": null,
   "metadata": {
    "collapsed": true
   },
   "outputs": [],
   "source": []
  },
  {
   "cell_type": "code",
   "execution_count": null,
   "metadata": {
    "collapsed": true
   },
   "outputs": [],
   "source": []
  },
  {
   "cell_type": "code",
   "execution_count": null,
   "metadata": {
    "collapsed": true
   },
   "outputs": [],
   "source": []
  },
  {
   "cell_type": "code",
   "execution_count": null,
   "metadata": {
    "collapsed": true
   },
   "outputs": [],
   "source": []
  },
  {
   "cell_type": "code",
   "execution_count": null,
   "metadata": {
    "collapsed": true
   },
   "outputs": [],
   "source": []
  },
  {
   "cell_type": "code",
   "execution_count": null,
   "metadata": {
    "collapsed": true
   },
   "outputs": [],
   "source": []
  },
  {
   "cell_type": "code",
   "execution_count": 11,
   "metadata": {
    "collapsed": true
   },
   "outputs": [],
   "source": [
    "# Not Used : For Multiprocessing\n",
    "lst = range(1,13)\n",
    "id_col_grp = list(itertools.chain.from_iterable(itertools.repeat(x, test_data.shape[0]/12) for x in lst))\n",
    "test_data['id_col_grp']=id_col_grp\n",
    "\n",
    "# Fuzzywuzz features :\n",
    "def fuzzy_ratios1(input_df):\n",
    "    input_df['partial_ratio'] = input_df.apply(lambda row: fuzz.partial_ratio(row[u'question1_form'], row[u'question2_form']), axis=1)\n",
    "    input_df['partial_token_set_ratio'] = input_df.apply(lambda row: fuzz.partial_token_set_ratio(row[u'question1_form'], row[u'question2_form']), axis=1)\n",
    "    input_df['partial_token_sort_ratio'] = input_df.apply(lambda row: fuzz.partial_token_sort_ratio(row[u'question1_form'], row[u'question2_form']), axis=1)\n",
    "    input_df['q_ratio'] = input_df.apply(lambda row: fuzz.QRatio(row[u'question1_form'], row[u'question2_form']), axis=1)\n",
    "    input_df['token_set_ratio'] = input_df.apply(lambda row: fuzz.token_set_ratio(row[u'question1_form'], row[u'question2_form']), axis=1)\n",
    "    input_df['token_sort_ratio'] = input_df.apply(lambda row: fuzz.token_sort_ratio(row[u'question1_form'], row[u'question2_form']), axis=1)\n",
    "    input_df['w_ratio'] = input_df.apply(lambda row: fuzz.WRatio(row[u'question1_form'], row[u'question2_form']), axis=1)\n",
    "    \n",
    "    grp_name = list(set(input_df['id_col_grp']))[0]\n",
    "    grp_filename = 'C:/Users/Palash Goyal/Downloads/Quora_Duplicate/home/test_basic_fuzzy%d.csv'%(grp_name)                        # file name\n",
    "    print \"records for id_col_grp %s stored at %s\"%( grp_name,grp_filename)       # printing the entries\n",
    "    del input_df['id_col_grp']                                          # This will remove the column of id_col_grp\n",
    "    input_df.to_csv(grp_filename, index=False, sep=',')\n",
    "    return\n",
    "\n",
    "def applyParallel(dfGrouped, func):\n",
    "    retLst = Parallel(n_jobs=multiprocessing.cpu_count())(delayed(func)(group) for name, group in dfGrouped)\n",
    "    return #pd.concat(retLst)\n",
    "\n",
    "applyParallel(test_data.groupby('id_col_grp'), fuzzy_ratios1)"
   ]
  },
  {
   "cell_type": "code",
   "execution_count": 12,
   "metadata": {
    "collapsed": false
   },
   "outputs": [],
   "source": [
    "# Saving only the basic and fuzzy features, along with the ID\n",
    "# test_basic_fuzzy = pd.merge(test_data, fuzzy_feats, left_on=['test_id','question1_form','question2_form'],\n",
    "#                     right_on=['test_id','question1_form','question2_form'],how='inner')"
   ]
  }
 ],
 "metadata": {
  "anaconda-cloud": {},
  "kernelspec": {
   "display_name": "Python 2",
   "language": "python",
   "name": "python2"
  },
  "language_info": {
   "codemirror_mode": {
    "name": "ipython",
    "version": 2
   },
   "file_extension": ".py",
   "mimetype": "text/x-python",
   "name": "python",
   "nbconvert_exporter": "python",
   "pygments_lexer": "ipython2",
   "version": "2.7.12"
  }
 },
 "nbformat": 4,
 "nbformat_minor": 1
}
