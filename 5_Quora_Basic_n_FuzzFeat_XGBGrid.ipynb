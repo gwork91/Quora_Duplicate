{
 "cells": [
  {
   "cell_type": "code",
   "execution_count": 1,
   "metadata": {
    "collapsed": true
   },
   "outputs": [],
   "source": [
    "import xgboost as xgb\n",
    "import numpy as np\n",
    "import pandas as pd\n",
    "from xgboost.sklearn import XGBClassifier\n",
    "import sklearn\n",
    "from sklearn.metrics import roc_auc_score\n",
    "from sklearn.cross_validation import cross_val_score\n",
    "%matplotlib inline\n",
    "import matplotlib.pyplot as plt"
   ]
  },
  {
   "cell_type": "code",
   "execution_count": 2,
   "metadata": {
    "collapsed": true
   },
   "outputs": [],
   "source": [
    "train_basic_fuzzy = pd.read_csv('train_basic_fuzzy.csv', sep=',')"
   ]
  },
  {
   "cell_type": "code",
   "execution_count": 4,
   "metadata": {
    "collapsed": false
   },
   "outputs": [],
   "source": [
    "train_basic_fuzzy.drop(['question1_form','question2_form'], axis=1, inplace=True)"
   ]
  },
  {
   "cell_type": "code",
   "execution_count": 6,
   "metadata": {
    "collapsed": false
   },
   "outputs": [
    {
     "data": {
      "text/plain": [
       "is_duplicate                404290\n",
       "q1_form_len                 404290\n",
       "q2_form_len                 404290\n",
       "q1_length                   404290\n",
       "q2_length                   404290\n",
       "q1_unique                   404290\n",
       "q2_unique                   404290\n",
       "q1_form_uni                 404290\n",
       "q2_form_uni                 404290\n",
       "q1_form_char                404290\n",
       "q2_form_char                404290\n",
       "q1_q2_char_diff             404290\n",
       "common_cnt                  404290\n",
       "prcnt_common                404290\n",
       "partial_ratio               404290\n",
       "partial_token_set_ratio     404290\n",
       "partial_token_sort_ratio    404290\n",
       "q_ratio                     404290\n",
       "token_set_ratio             404290\n",
       "token_sort_ratio            404290\n",
       "w_ratio                     404290\n",
       "dtype: int64"
      ]
     },
     "execution_count": 6,
     "metadata": {},
     "output_type": "execute_result"
    }
   ],
   "source": [
    "# Check the feature values for any kind of imputation\n",
    "train_basic_fuzzy.count()"
   ]
  },
  {
   "cell_type": "code",
   "execution_count": 7,
   "metadata": {
    "collapsed": false
   },
   "outputs": [],
   "source": [
    "val_dup = train_basic_fuzzy[\"is_duplicate\"]\n",
    "train_basic_fuzzy.drop(['is_duplicate'], axis=1, inplace=True)"
   ]
  },
  {
   "cell_type": "code",
   "execution_count": 8,
   "metadata": {
    "collapsed": false
   },
   "outputs": [],
   "source": [
    "val_dup = pd.DataFrame(pd.Series(val_dup))"
   ]
  },
  {
   "cell_type": "code",
   "execution_count": 9,
   "metadata": {
    "collapsed": true
   },
   "outputs": [],
   "source": [
    "# Separate into Train and Validation\n",
    "from sklearn.cross_validation import train_test_split\n",
    "X_train, X_val, Y_train, Y_val = sklearn.cross_validation.train_test_split(train_basic_fuzzy, val_dup, \n",
    "                                                                           test_size = 0.2, random_state = 5)"
   ]
  },
  {
   "cell_type": "code",
   "execution_count": 15,
   "metadata": {
    "collapsed": true
   },
   "outputs": [],
   "source": [
    "# xgboost fn\n",
    "def modelfit(alg, dtrain, predictors, useTrainCV=True, cv_folds=5, early_stopping_rounds=50):    \n",
    "    if useTrainCV:\n",
    "        xgb_param = alg.get_xgb_params()\n",
    "        xgtrain = xgb.DMatrix(dtrain[predictors].values, label=Y_train[[0]].values)\n",
    "        cvresult = xgb.cv(xgb_param, xgtrain, num_boost_round=alg.get_params()['n_estimators'], nfold=cv_folds,\n",
    "                          metrics=['auc'], early_stopping_rounds=early_stopping_rounds, show_progress=False)\n",
    "        alg.set_params(n_estimators=cvresult.shape[0])\n",
    "    alg.fit(dtrain[predictors], np.ravel(Y_train),eval_metric='auc')     #Fit algorithm\n",
    "\n",
    "    #Predict training set:\n",
    "    dtrain_predictions = alg.predict(dtrain[predictors])\n",
    "    dtrain_predprob = alg.predict_proba(dtrain[predictors])[:,1]\n",
    "    print(\"AUC Score (Train): %f\" % roc_auc_score(np.ravel(Y_train), dtrain_predprob))\n",
    "    \n",
    "    feat_imp = pd.Series(alg.booster().get_fscore()).sort_values(ascending=False)\n",
    "    feat_imp.plot(kind='bar', title='Feature Importances')\n",
    "    plt.ylabel('Feature Importance Score')"
   ]
  },
  {
   "cell_type": "code",
   "execution_count": 16,
   "metadata": {
    "collapsed": true
   },
   "outputs": [],
   "source": [
    "# xgboost classifier : Using the best params from the Basic Features Model\n",
    "xgb1 = XGBClassifier(max_depth= 6, min_child_weight= 2,gamma=0.3, colsample_bytree=0.9, subsample=0.7, reg_alpha = 1, \n",
    "                     reg_lambda = 0, max_delta_step = 3, scale_pos_weight= 2, learning_rate = 0.05, n_estimators=700,\n",
    "                     objective= 'binary:logistic', nthread=4, seed=45)"
   ]
  },
  {
   "cell_type": "code",
   "execution_count": 17,
   "metadata": {
    "collapsed": false
   },
   "outputs": [
    {
     "name": "stderr",
     "output_type": "stream",
     "text": [
      "Will train until cv error hasn't decreased in 50 rounds.\n"
     ]
    },
    {
     "name": "stdout",
     "output_type": "stream",
     "text": [
      "AUC Score (Train): 0.836430\n"
     ]
    },
    {
     "data": {
      "image/png": "[encoded data removed]",
      "text/plain": [
       "<matplotlib.figure.Figure at 0x7f4227f4a3d0>"
      ]
     },
     "metadata": {},
     "output_type": "display_data"
    }
   ],
   "source": [
    "predictors  = list(X_train.columns)\n",
    "modelfit(xgb1, X_train, predictors)"
   ]
  },
  {
   "cell_type": "code",
   "execution_count": 18,
   "metadata": {
    "collapsed": false
   },
   "outputs": [
    {
     "data": {
      "text/plain": [
       "0.83643002509969766"
      ]
     },
     "execution_count": 18,
     "metadata": {},
     "output_type": "execute_result"
    }
   ],
   "source": [
    "# Train roc auc\n",
    "y_predS = xgb1.predict_proba(X_train)\n",
    "roc_auc_score(Y_train, y_predS[:,1])"
   ]
  },
  {
   "cell_type": "code",
   "execution_count": 19,
   "metadata": {
    "collapsed": false
   },
   "outputs": [
    {
     "name": "stdout",
     "output_type": "stream",
     "text": [
      "mean auc: 0.817536902394\n",
      "std auc: 0.00123840355591\n"
     ]
    }
   ],
   "source": [
    "# Cross validation AUC\n",
    "cv_score = cross_val_score(xgb1, X_train, np.ravel(Y_train), cv = 5, scoring ='roc_auc')\n",
    "print('mean auc: ' + str(cv_score.mean()))\n",
    "print('std auc: ' + str(cv_score.std()))"
   ]
  },
  {
   "cell_type": "code",
   "execution_count": 20,
   "metadata": {
    "collapsed": false
   },
   "outputs": [
    {
     "data": {
      "text/plain": [
       "['/home/pgoyal/quora/model2/xgb_dup_auc.pkl',\n",
       " '/home/pgoyal/quora/model2/xgb_dup_auc.pkl_01.npy']"
      ]
     },
     "execution_count": 20,
     "metadata": {},
     "output_type": "execute_result"
    }
   ],
   "source": [
    "# Save the model\n",
    "from sklearn.externals import joblib\n",
    "joblib.dump(xgb1, '/home/pgoyal/quora/model2/xgb_dup_auc.pkl')"
   ]
  },
  {
   "cell_type": "code",
   "execution_count": 21,
   "metadata": {
    "collapsed": false
   },
   "outputs": [
    {
     "name": "stdout",
     "output_type": "stream",
     "text": [
      "Validation AUC: 0.816928566609\n"
     ]
    }
   ],
   "source": [
    "# Validation AUC\n",
    "val_pred = xgb1.predict_proba(X_val)\n",
    "print('Validation AUC: ' + str(roc_auc_score(Y_val, val_pred[:,1])))"
   ]
  },
  {
   "cell_type": "code",
   "execution_count": 22,
   "metadata": {
    "collapsed": false
   },
   "outputs": [
    {
     "data": {
      "text/plain": [
       "<matplotlib.legend.Legend at 0x7f4227965d50>"
      ]
     },
     "execution_count": 22,
     "metadata": {},
     "output_type": "execute_result"
    },
    {
     "data": {
      "image/png": "[encoded data removed]",
      "text/plain": [
       "<matplotlib.figure.Figure at 0x7f425d894d90>"
      ]
     },
     "metadata": {},
     "output_type": "display_data"
    }
   ],
   "source": [
    "# Make ROC curve for train and validation\n",
    "from sklearn.metrics import roc_curve, auc\n",
    "\n",
    "fpr_trn, tpr_trn, _= roc_curve(Y_train, y_predS[:,1])\n",
    "fpr_tst, tpr_tst, _= roc_curve(Y_val, val_pred[:, 1]) \n",
    "\n",
    "roc_auc_trn = auc(fpr_trn, tpr_trn)\n",
    "roc_auc_tst = auc(fpr_tst, tpr_tst)\n",
    "\n",
    "# Plot of a ROC curve\n",
    "plt.figure(figsize=(8,7))\n",
    "plt.plot(fpr_trn, tpr_trn, label='Train AUC - %0.2f' % roc_auc_trn)\n",
    "plt.plot(fpr_tst, tpr_tst, label='Valid AUC - %0.2f' % roc_auc_tst)\n",
    "plt.plot([0, 1], [0, 1], 'k--')\n",
    "plt.xlim([0.0, 1.0])\n",
    "plt.ylim([0.0, 1.05])\n",
    "plt.xlabel('False Positive Rate')\n",
    "plt.ylabel('True Positive Rate')\n",
    "plt.title('ROC Curve')\n",
    "plt.legend(loc=\"lower right\", prop={'size':8})\n",
    "# plt.savefig('ROC_Curve.png')"
   ]
  },
  {
   "cell_type": "code",
   "execution_count": 26,
   "metadata": {
    "collapsed": true
   },
   "outputs": [],
   "source": [
    "from sklearn import cross_validation\n",
    "from sklearn.ensemble import ExtraTreesClassifier\n",
    "from sklearn.metrics import confusion_matrix\n",
    "from sklearn.grid_search import GridSearchCV"
   ]
  },
  {
   "cell_type": "code",
   "execution_count": 27,
   "metadata": {
    "collapsed": false
   },
   "outputs": [
    {
     "data": {
      "text/plain": [
       "([mean: 0.79646, std: 0.00115, params: {'max_depth': 2, 'min_child_weight': 2},\n",
       "  mean: 0.79644, std: 0.00113, params: {'max_depth': 2, 'min_child_weight': 3},\n",
       "  mean: 0.79643, std: 0.00121, params: {'max_depth': 2, 'min_child_weight': 5},\n",
       "  mean: 0.79637, std: 0.00118, params: {'max_depth': 2, 'min_child_weight': 6},\n",
       "  mean: 0.79655, std: 0.00123, params: {'max_depth': 2, 'min_child_weight': 10},\n",
       "  mean: 0.80407, std: 0.00097, params: {'max_depth': 3, 'min_child_weight': 2},\n",
       "  mean: 0.80410, std: 0.00101, params: {'max_depth': 3, 'min_child_weight': 3},\n",
       "  mean: 0.80412, std: 0.00097, params: {'max_depth': 3, 'min_child_weight': 5},\n",
       "  mean: 0.80408, std: 0.00099, params: {'max_depth': 3, 'min_child_weight': 6},\n",
       "  mean: 0.80404, std: 0.00094, params: {'max_depth': 3, 'min_child_weight': 10},\n",
       "  mean: 0.80931, std: 0.00099, params: {'max_depth': 4, 'min_child_weight': 2},\n",
       "  mean: 0.80947, std: 0.00107, params: {'max_depth': 4, 'min_child_weight': 3},\n",
       "  mean: 0.80938, std: 0.00098, params: {'max_depth': 4, 'min_child_weight': 5},\n",
       "  mean: 0.80948, std: 0.00094, params: {'max_depth': 4, 'min_child_weight': 6},\n",
       "  mean: 0.80933, std: 0.00104, params: {'max_depth': 4, 'min_child_weight': 10},\n",
       "  mean: 0.81398, std: 0.00097, params: {'max_depth': 5, 'min_child_weight': 2},\n",
       "  mean: 0.81370, std: 0.00097, params: {'max_depth': 5, 'min_child_weight': 3},\n",
       "  mean: 0.81378, std: 0.00093, params: {'max_depth': 5, 'min_child_weight': 5},\n",
       "  mean: 0.81364, std: 0.00097, params: {'max_depth': 5, 'min_child_weight': 6},\n",
       "  mean: 0.81346, std: 0.00089, params: {'max_depth': 5, 'min_child_weight': 10}],\n",
       " {'max_depth': 5, 'min_child_weight': 2},\n",
       " 0.81397983326022394)"
      ]
     },
     "execution_count": 27,
     "metadata": {},
     "output_type": "execute_result"
    }
   ],
   "source": [
    "# Tune tree pruning parameters: max_depth and min_child_weight\n",
    "param_test1 = {\n",
    "   'max_depth':[2, 3, 4, 5],\n",
    "   'min_child_weight':[2, 3, 5, 6, 10]\n",
    "}\n",
    "\n",
    "gsearch1 = GridSearchCV(estimator = XGBClassifier(max_depth= 6, min_child_weight= 2,gamma=0.3, colsample_bytree=0.9, subsample=0.7, reg_alpha = 1, \n",
    "                     reg_lambda = 0, max_delta_step = 3, scale_pos_weight= 2, learning_rate = 0.05, n_estimators=700,\n",
    "                     objective= 'binary:logistic', nthread=4, seed=45), \n",
    "param_grid = param_test1, scoring='roc_auc',n_jobs=4,iid=False, cv=5)\n",
    "\n",
    "gsearch1.fit(X_train,np.ravel(Y_train))\n",
    "pd.Series(gsearch1.grid_scores_).to_csv('/home/pgoyal/quora/model2/gs_files/gs_search1.csv')\n",
    "gsearch1.grid_scores_, gsearch1.best_params_, gsearch1.best_score_"
   ]
  },
  {
   "cell_type": "code",
   "execution_count": 28,
   "metadata": {
    "collapsed": false
   },
   "outputs": [],
   "source": [
    "# Best till here : Order is on the basis of the params given!\n",
    "new_max_depth = gsearch1.best_params_.values()[0]\n",
    "new_min_child_weight = gsearch1.best_params_.values()[1]"
   ]
  },
  {
   "cell_type": "code",
   "execution_count": 29,
   "metadata": {
    "collapsed": false
   },
   "outputs": [
    {
     "data": {
      "text/plain": [
       "([mean: 0.81393, std: 0.00106, params: {'gamma': 0.0},\n",
       "  mean: 0.81390, std: 0.00096, params: {'gamma': 0.1},\n",
       "  mean: 0.81383, std: 0.00110, params: {'gamma': 0.2}],\n",
       " {'gamma': 0.0},\n",
       " 0.81392717029451622)"
      ]
     },
     "execution_count": 29,
     "metadata": {},
     "output_type": "execute_result"
    }
   ],
   "source": [
    "# Tune tree pruning parameters: gamma\n",
    "param_test2 = {\n",
    "   'gamma':[i/10.0 for i in range(0,3)]\n",
    "}\n",
    "\n",
    "gsearch2 = GridSearchCV(estimator = XGBClassifier(max_depth= new_max_depth, min_child_weight= new_min_child_weight,\n",
    "                     gamma=0.3, colsample_bytree=0.9, subsample=0.7, reg_alpha = 1, \n",
    "                     reg_lambda = 0, max_delta_step = 3, scale_pos_weight= 2, learning_rate = 0.05, n_estimators=700,\n",
    "                     objective= 'binary:logistic', nthread=4, seed=45), \n",
    "param_grid = param_test2, scoring='roc_auc',n_jobs=4,iid=False, cv=5)\n",
    "\n",
    "gsearch2.fit(X_train,np.ravel(Y_train))\n",
    "pd.Series(gsearch2.grid_scores_).to_csv('/home/pgoyal/quora/model2/gs_files/gs_search2.csv')\n",
    "gsearch2.grid_scores_, gsearch2.best_params_, gsearch2.best_score_"
   ]
  },
  {
   "cell_type": "code",
   "execution_count": 30,
   "metadata": {
    "collapsed": false
   },
   "outputs": [],
   "source": [
    "# Best till here :\n",
    "new_gamma = gsearch2.best_params_.values()[0]"
   ]
  },
  {
   "cell_type": "code",
   "execution_count": 31,
   "metadata": {
    "collapsed": false
   },
   "outputs": [
    {
     "data": {
      "text/plain": [
       "([mean: 0.81281, std: 0.00121, params: {'subsample': 0.6, 'colsample_bytree': 0.6},\n",
       "  mean: 0.81317, std: 0.00105, params: {'subsample': 0.7, 'colsample_bytree': 0.6},\n",
       "  mean: 0.81332, std: 0.00099, params: {'subsample': 0.8, 'colsample_bytree': 0.6},\n",
       "  mean: 0.81324, std: 0.00115, params: {'subsample': 0.6, 'colsample_bytree': 0.7},\n",
       "  mean: 0.81349, std: 0.00113, params: {'subsample': 0.7, 'colsample_bytree': 0.7},\n",
       "  mean: 0.81365, std: 0.00117, params: {'subsample': 0.8, 'colsample_bytree': 0.7},\n",
       "  mean: 0.81340, std: 0.00121, params: {'subsample': 0.6, 'colsample_bytree': 0.8},\n",
       "  mean: 0.81374, std: 0.00112, params: {'subsample': 0.7, 'colsample_bytree': 0.8},\n",
       "  mean: 0.81397, std: 0.00113, params: {'subsample': 0.8, 'colsample_bytree': 0.8}],\n",
       " {'colsample_bytree': 0.8, 'subsample': 0.8},\n",
       " 0.81397458501361208)"
      ]
     },
     "execution_count": 31,
     "metadata": {},
     "output_type": "execute_result"
    }
   ],
   "source": [
    "# Tune tree pruning parameters: subsample, colsample_bytree\n",
    "param_test3 = {\n",
    "  'subsample':[i/10.0 for i in range(6,9)],\n",
    " 'colsample_bytree':[i/10.0 for i in range(6,9)]\n",
    "}\n",
    "\n",
    "gsearch3 = GridSearchCV(estimator = XGBClassifier(max_depth= new_max_depth, min_child_weight= new_min_child_weight,\n",
    "                    gamma=new_gamma ,colsample_bytree=0.9, subsample=0.7, reg_alpha = 1, \n",
    "                     reg_lambda = 0, max_delta_step = 3, scale_pos_weight= 2, learning_rate = 0.05, n_estimators=700,\n",
    "                     objective= 'binary:logistic', nthread=4, seed=45), \n",
    "param_grid = param_test3, scoring='roc_auc',n_jobs=4,iid=False, cv=5)\n",
    "\n",
    "gsearch3.fit(X_train,np.ravel(Y_train))\n",
    "pd.Series(gsearch3.grid_scores_).to_csv('/home/pgoyal/quora/model2/gs_files/gs_search3.csv')\n",
    "gsearch3.grid_scores_, gsearch3.best_params_, gsearch3.best_score_"
   ]
  },
  {
   "cell_type": "code",
   "execution_count": 32,
   "metadata": {
    "collapsed": false
   },
   "outputs": [],
   "source": [
    "# Best till here :\n",
    "new_subsample = gsearch3.best_params_.values()[0]\n",
    "new_colsample_bytree = gsearch3.best_params_.values()[1]"
   ]
  },
  {
   "cell_type": "code",
   "execution_count": 33,
   "metadata": {
    "collapsed": false
   },
   "outputs": [
    {
     "data": {
      "text/plain": [
       "([mean: 0.81350, std: 0.00106, params: {'reg_alpha': 0.01},\n",
       "  mean: 0.81367, std: 0.00113, params: {'reg_alpha': 0.1},\n",
       "  mean: 0.81397, std: 0.00113, params: {'reg_alpha': 1}],\n",
       " {'reg_alpha': 1},\n",
       " 0.81397458501361208)"
      ]
     },
     "execution_count": 33,
     "metadata": {},
     "output_type": "execute_result"
    }
   ],
   "source": [
    "# Tune tree pruning parameters: reg_alpha\n",
    "param_test4 = {\n",
    "    'reg_alpha':[ 1e-2, 0.1, 1]\n",
    "}\n",
    "\n",
    "gsearch4 = GridSearchCV(estimator = XGBClassifier(max_depth= new_max_depth, min_child_weight= new_min_child_weight,\n",
    "                    gamma=new_gamma,colsample_bytree=new_colsample_bytree, subsample=new_subsample, reg_alpha = 1, \n",
    "                     reg_lambda = 0, max_delta_step = 3, scale_pos_weight= 2, learning_rate = 0.05, n_estimators=700,\n",
    "                     objective= 'binary:logistic', nthread=4, seed=45), \n",
    "param_grid = param_test4, scoring='roc_auc',n_jobs=4,iid=False, cv=5)\n",
    "\n",
    "gsearch4.fit(X_train,np.ravel(Y_train))\n",
    "pd.Series(gsearch4.grid_scores_).to_csv('/home/pgoyal/quora/model2/gs_files/gs_search4.csv')\n",
    "gsearch4.grid_scores_, gsearch4.best_params_, gsearch4.best_score_"
   ]
  },
  {
   "cell_type": "code",
   "execution_count": 34,
   "metadata": {
    "collapsed": true
   },
   "outputs": [],
   "source": [
    "# Best till here :\n",
    "new_reg_alpha= gsearch4.best_params_.values()[0]"
   ]
  },
  {
   "cell_type": "code",
   "execution_count": 35,
   "metadata": {
    "collapsed": false
   },
   "outputs": [
    {
     "data": {
      "text/plain": [
       "([mean: 0.81397, std: 0.00113, params: {'reg_lambda': 0},\n",
       "  mean: 0.81367, std: 0.00110, params: {'reg_lambda': 1},\n",
       "  mean: 0.81358, std: 0.00103, params: {'reg_lambda': 2},\n",
       "  mean: 0.81356, std: 0.00102, params: {'reg_lambda': 3}],\n",
       " {'reg_lambda': 0},\n",
       " 0.81397458501361208)"
      ]
     },
     "execution_count": 35,
     "metadata": {},
     "output_type": "execute_result"
    }
   ],
   "source": [
    "# Tune tree pruning parameters: reg_lambda\n",
    "param_test5 = {\n",
    "  'reg_lambda':[0, 1,2, 3]\n",
    "}\n",
    "\n",
    "gsearch5 = GridSearchCV(estimator = XGBClassifier(max_depth= new_max_depth, min_child_weight= new_min_child_weight,\n",
    "                    gamma=new_gamma, colsample_bytree=new_colsample_bytree, subsample=new_subsample, \n",
    "                    reg_alpha = new_reg_alpha, reg_lambda = 0, max_delta_step = 3, scale_pos_weight= 2, learning_rate = 0.05, n_estimators=700,\n",
    "                     objective= 'binary:logistic', nthread=4, seed=45), \n",
    "param_grid = param_test5, scoring='roc_auc',n_jobs=4,iid=False, cv=5)\n",
    "\n",
    "gsearch5.fit(X_train,np.ravel(Y_train))\n",
    "pd.Series(gsearch5.grid_scores_).to_csv('/home/pgoyal/quora/model2/gs_files/gs_search5.csv')\n",
    "gsearch5.grid_scores_, gsearch5.best_params_, gsearch5.best_score_"
   ]
  },
  {
   "cell_type": "code",
   "execution_count": 36,
   "metadata": {
    "collapsed": true
   },
   "outputs": [],
   "source": [
    "# Best till here :\n",
    "new_reg_lambda= gsearch5.best_params_.values()[0]"
   ]
  },
  {
   "cell_type": "code",
   "execution_count": 37,
   "metadata": {
    "collapsed": false
   },
   "outputs": [
    {
     "data": {
      "text/plain": [
       "([mean: 0.81331, std: 0.00103, params: {'max_delta_step': 1},\n",
       "  mean: 0.81374, std: 0.00115, params: {'max_delta_step': 2},\n",
       "  mean: 0.81397, std: 0.00113, params: {'max_delta_step': 3}],\n",
       " {'max_delta_step': 3},\n",
       " 0.81397458501361208)"
      ]
     },
     "execution_count": 37,
     "metadata": {},
     "output_type": "execute_result"
    }
   ],
   "source": [
    "# Tune tree pruning parameters: max_delta_step\n",
    "param_test6 = {\n",
    "  'max_delta_step':[1,2,3]\n",
    "}\n",
    "\n",
    "gsearch6 = GridSearchCV(estimator = XGBClassifier(max_depth= new_max_depth, min_child_weight= new_min_child_weight,\n",
    "                    gamma=new_gamma, colsample_bytree=new_colsample_bytree, subsample=new_subsample, \n",
    "                    reg_alpha = new_reg_alpha, reg_lambda = new_reg_lambda, max_delta_step = 3, scale_pos_weight= 2, \n",
    "                    learning_rate = 0.05, n_estimators=700, objective= 'binary:logistic', nthread=4, seed=45), \n",
    "param_grid = param_test6, scoring='roc_auc',n_jobs=4,iid=False, cv=5)\n",
    "\n",
    "gsearch6.fit(X_train,np.ravel(Y_train))\n",
    "pd.Series(gsearch6.grid_scores_).to_csv('/home/pgoyal/quora/model2/gs_files/gs_search6.csv')\n",
    "gsearch6.grid_scores_, gsearch6.best_params_, gsearch6.best_score_"
   ]
  },
  {
   "cell_type": "code",
   "execution_count": 38,
   "metadata": {
    "collapsed": true
   },
   "outputs": [],
   "source": [
    "# Best till here :\n",
    "new_max_delta_step= gsearch6.best_params_.values()[0]"
   ]
  },
  {
   "cell_type": "code",
   "execution_count": 39,
   "metadata": {
    "collapsed": false
   },
   "outputs": [
    {
     "data": {
      "text/plain": [
       "([mean: 0.81429, std: 0.00105, params: {'scale_pos_weight': 1},\n",
       "  mean: 0.81397, std: 0.00113, params: {'scale_pos_weight': 2},\n",
       "  mean: 0.81282, std: 0.00109, params: {'scale_pos_weight': 5}],\n",
       " {'scale_pos_weight': 1},\n",
       " 0.81429191006743395)"
      ]
     },
     "execution_count": 39,
     "metadata": {},
     "output_type": "execute_result"
    }
   ],
   "source": [
    "# Tune tree pruning parameters: scale_pos_weight\n",
    "param_test7 = {\n",
    "  'scale_pos_weight':[1, 2, 5]\n",
    "}\n",
    "\n",
    "gsearch7 = GridSearchCV(estimator = XGBClassifier(max_depth= new_max_depth, min_child_weight= new_min_child_weight,\n",
    "                    gamma=new_gamma, colsample_bytree=new_colsample_bytree, subsample=new_subsample, \n",
    "                    reg_alpha = new_reg_alpha, reg_lambda = new_reg_lambda, max_delta_step = new_max_delta_step , \n",
    "                    scale_pos_weight= 2, learning_rate = 0.05, n_estimators=700, objective= 'binary:logistic', \n",
    "                    nthread=4, seed=45), \n",
    "param_grid = param_test7, scoring='roc_auc',n_jobs=4,iid=False, cv=5)\n",
    "\n",
    "gsearch7.fit(X_train,np.ravel(Y_train))\n",
    "pd.Series(gsearch7.grid_scores_).to_csv('/home/pgoyal/quora/model2/gs_files/gs_search7.csv')\n",
    "gsearch7.grid_scores_, gsearch7.best_params_, gsearch7.best_score_"
   ]
  },
  {
   "cell_type": "code",
   "execution_count": 40,
   "metadata": {
    "collapsed": true
   },
   "outputs": [],
   "source": [
    "# Best till here :\n",
    "new_scale_pos_weight= gsearch7.best_params_.values()[0]"
   ]
  },
  {
   "cell_type": "code",
   "execution_count": 41,
   "metadata": {
    "collapsed": false
   },
   "outputs": [
    {
     "data": {
      "text/plain": [
       "([mean: 0.80092, std: 0.00115, params: {'n_estimators': 250, 'learning_rate': 0.03},\n",
       "  mean: 0.80765, std: 0.00116, params: {'n_estimators': 500, 'learning_rate': 0.03},\n",
       "  mean: 0.81052, std: 0.00112, params: {'n_estimators': 700, 'learning_rate': 0.03},\n",
       "  mean: 0.80602, std: 0.00103, params: {'n_estimators': 250, 'learning_rate': 0.05},\n",
       "  mean: 0.81188, std: 0.00100, params: {'n_estimators': 500, 'learning_rate': 0.05},\n",
       "  mean: 0.81429, std: 0.00105, params: {'n_estimators': 700, 'learning_rate': 0.05}],\n",
       " {'learning_rate': 0.05, 'n_estimators': 700},\n",
       " 0.81429191006743395)"
      ]
     },
     "execution_count": 41,
     "metadata": {},
     "output_type": "execute_result"
    }
   ],
   "source": [
    "param_test8 = {\n",
    "    'learning_rate':[0.03, 0.05],\n",
    "    'n_estimators':[250, 500, 700]\n",
    "}\n",
    "\n",
    "gsearch8 = GridSearchCV(estimator = XGBClassifier(max_depth= new_max_depth, min_child_weight= new_min_child_weight,\n",
    "                    gamma=new_gamma, colsample_bytree=new_colsample_bytree, subsample=new_subsample, \n",
    "                    reg_alpha = new_reg_alpha, reg_lambda = new_reg_lambda, max_delta_step = new_max_delta_step , \n",
    "                    scale_pos_weight= new_scale_pos_weight, learning_rate = 0.05, n_estimators=700,\n",
    "                    objective= 'binary:logistic', nthread=4, seed=45), \n",
    "param_grid = param_test8, scoring='roc_auc',n_jobs=4,iid=False, cv=5)\n",
    "\n",
    "gsearch8.fit(X_train,np.ravel(Y_train))\n",
    "pd.Series(gsearch8.grid_scores_).to_csv('/home/pgoyal/quora/model2/gs_files/gs_search8.csv')\n",
    "gsearch8.grid_scores_, gsearch8.best_params_, gsearch8.best_score_"
   ]
  },
  {
   "cell_type": "code",
   "execution_count": 42,
   "metadata": {
    "collapsed": true
   },
   "outputs": [],
   "source": [
    "# Best till here :\n",
    "new_learning_rate= gsearch8.best_params_.values()[0]\n",
    "new_n_estimators= gsearch8.best_params_.values()[1]"
   ]
  },
  {
   "cell_type": "code",
   "execution_count": null,
   "metadata": {
    "collapsed": true
   },
   "outputs": [],
   "source": [
    "# Using the final param values from the above GridSearch\n",
    "# Make this var in the below model call : Check!"
   ]
  },
  {
   "cell_type": "code",
   "execution_count": 43,
   "metadata": {
    "collapsed": false
   },
   "outputs": [
    {
     "name": "stderr",
     "output_type": "stream",
     "text": [
      "Will train until cv error hasn't decreased in 50 rounds.\n"
     ]
    },
    {
     "name": "stdout",
     "output_type": "stream",
     "text": [
      "AUC Score (Train): 0.825214\n"
     ]
    },
    {
     "data": {
      "image/png": "[encoded data removed]",
      "text/plain": [
       "<matplotlib.figure.Figure at 0x7f4222af1ad0>"
      ]
     },
     "metadata": {},
     "output_type": "display_data"
    }
   ],
   "source": [
    "# Final xgboost classifier with updated params\n",
    "xgb2 = XGBClassifier( max_depth= 5, min_child_weight= 2,gamma=0, colsample_bytree=0.8, subsample=0.8, reg_alpha = 1, \n",
    "                     reg_lambda = 0, max_delta_step = 3, scale_pos_weight= 1, learning_rate = 0.05, n_estimators=700,\n",
    "                     objective= 'binary:logistic', nthread=4, seed=45)\n",
    "\n",
    "#Choose the predictors for xgboost and fit the model\n",
    "modelfit(xgb2, X_train, predictors)"
   ]
  },
  {
   "cell_type": "code",
   "execution_count": 44,
   "metadata": {
    "collapsed": false
   },
   "outputs": [
    {
     "data": {
      "text/plain": [
       "0.82521384444199908"
      ]
     },
     "execution_count": 44,
     "metadata": {},
     "output_type": "execute_result"
    }
   ],
   "source": [
    "# Train roc_auc\n",
    "y_predS_xgb2 = xgb2.predict_proba(X_train)\n",
    "roc_auc_score(Y_train, y_predS_xgb2[:,1])"
   ]
  },
  {
   "cell_type": "code",
   "execution_count": 45,
   "metadata": {
    "collapsed": false
   },
   "outputs": [
    {
     "name": "stdout",
     "output_type": "stream",
     "text": [
      "mean auc: 0.814291910067\n",
      "std auc: 0.00104837051288\n"
     ]
    }
   ],
   "source": [
    "# Cross validation AUC \n",
    "cv_score_xgb2 = cross_val_score(xgb2, X_train, np.ravel(Y_train), cv = 5, scoring ='roc_auc')\n",
    "print('mean auc: ' + str(cv_score_xgb2.mean()))\n",
    "print('std auc: ' + str(cv_score_xgb2.std()))"
   ]
  },
  {
   "cell_type": "code",
   "execution_count": 46,
   "metadata": {
    "collapsed": false
   },
   "outputs": [
    {
     "data": {
      "text/plain": [
       "['/home/pgoyal/quora/model2/xgb2_dup_auc_2.pkl',\n",
       " '/home/pgoyal/quora/model2/xgb2_dup_auc_2.pkl_01.npy']"
      ]
     },
     "execution_count": 46,
     "metadata": {},
     "output_type": "execute_result"
    }
   ],
   "source": [
    "# Save the model\n",
    "from sklearn.externals import joblib\n",
    "# Model-1 (without prcnt_common feature)\n",
    "#joblib.dump(xgb2, '/home/pgoyal/quora/model2/xgb2_dup_auc.pkl')\n",
    "# Model-2 (with prcnt_common feature)\n",
    "joblib.dump(xgb2, '/home/pgoyal/quora/model2/xgb2_dup_auc_2.pkl')"
   ]
  },
  {
   "cell_type": "markdown",
   "metadata": {},
   "source": [
    "## Decile Info - Train"
   ]
  },
  {
   "cell_type": "code",
   "execution_count": 47,
   "metadata": {
    "collapsed": true
   },
   "outputs": [],
   "source": [
    "# Decile related info\n",
    "\n",
    "df_list = [1,2,3,4,5,6,7,8,9,10]\n",
    "\n",
    "prob = pd.DataFrame(y_predS_xgb2[:,1]) # y_predS is to be changed\n",
    "prob.columns = ['Probability']\n",
    "prob[\"Target\"] = Y_train.values # y_train to be changed\n",
    "prob = prob.sort_values(by='Probability', ascending=0)\n",
    "\n",
    "dec = int(prob['Target'].shape[0]/10)\n",
    "\n",
    "for i in [0,1,2,3,4,5,6,7,8,9]:\n",
    "    vars()['dec_'+str(df_list[i])+'_rr'] = float(prob['Target'][i*dec:(i+1)*dec].sum()/float(dec))\n",
    "    vars()['dec_'+str(df_list[i])+'_cr'] = float(prob['Target'][i*dec:(i+1)*dec].sum()/float(prob['Target'].sum()))\n",
    "    vars()['dec_'+str(df_list[i])+'_goods'] = float(prob['Target'][i*dec:(i+1)*dec].sum())\n",
    "    vars()['dec_'+str(df_list[i])+'_bads'] = float(prob['Target'][i*dec:(i+1)*dec].count())-float(\n",
    "        prob['Target'][i*dec:(i+1)*dec].sum())\n",
    "\n",
    "decile_num = pd.DataFrame([dec, dec, dec, dec, dec, dec, dec, dec, dec, dec], columns = ['# decile'])\n",
    "decile_goods = pd.DataFrame([dec_1_goods, dec_2_goods, dec_3_goods, dec_4_goods, dec_5_goods, dec_6_goods, dec_7_goods,\n",
    "                          dec_8_goods, dec_9_goods, dec_10_goods], columns = ['# of goods'])\n",
    "decile_bads = pd.DataFrame([dec_1_bads, dec_2_bads, dec_3_bads, dec_4_bads, dec_5_bads, dec_6_bads, dec_7_bads,\n",
    "                          dec_8_bads, dec_9_bads, dec_10_bads], columns = ['# of bads'])\n",
    "decile_cr = pd.DataFrame([dec_1_cr, dec_2_cr, dec_3_cr, dec_4_cr, dec_5_cr, dec_6_cr, dec_7_cr,\n",
    "                          dec_8_cr, dec_9_cr, dec_10_cr], columns = ['1st decile capture_rate'])\n",
    "decile_rr = pd.DataFrame([dec_1_rr, dec_2_rr, dec_3_rr, dec_4_rr, dec_5_rr, dec_6_rr, dec_7_rr,\n",
    "                          dec_8_rr, dec_9_rr, dec_10_rr], columns = ['1st decile response_rate'])"
   ]
  },
  {
   "cell_type": "code",
   "execution_count": 48,
   "metadata": {
    "collapsed": false
   },
   "outputs": [
    {
     "data": {
      "text/html": [
       "<div>\n",
       "<table border=\"1\" class=\"dataframe\">\n",
       "  <thead>\n",
       "    <tr style=\"text-align: right;\">\n",
       "      <th></th>\n",
       "      <th># decile</th>\n",
       "      <th># of goods</th>\n",
       "      <th># of bads</th>\n",
       "      <th>1st decile capture_rate</th>\n",
       "      <th>1st decile response_rate</th>\n",
       "      <th>% of bads</th>\n",
       "      <th>% cum_goods</th>\n",
       "      <th>% cum_bads</th>\n",
       "      <th>KS</th>\n",
       "      <th>Lift</th>\n",
       "    </tr>\n",
       "  </thead>\n",
       "  <tbody>\n",
       "    <tr>\n",
       "      <th>0</th>\n",
       "      <td>32343</td>\n",
       "      <td>25522.0</td>\n",
       "      <td>6821.0</td>\n",
       "      <td>0.213425</td>\n",
       "      <td>0.789104</td>\n",
       "      <td>0.033461</td>\n",
       "      <td>0.213425</td>\n",
       "      <td>0.033461</td>\n",
       "      <td>0.49367</td>\n",
       "      <td>2.134263</td>\n",
       "    </tr>\n",
       "    <tr>\n",
       "      <th>1</th>\n",
       "      <td>32343</td>\n",
       "      <td>21379.0</td>\n",
       "      <td>10964.0</td>\n",
       "      <td>0.178780</td>\n",
       "      <td>0.661009</td>\n",
       "      <td>0.053785</td>\n",
       "      <td>0.392205</td>\n",
       "      <td>0.087247</td>\n",
       "      <td>0.49367</td>\n",
       "      <td>1.961035</td>\n",
       "    </tr>\n",
       "    <tr>\n",
       "      <th>2</th>\n",
       "      <td>32343</td>\n",
       "      <td>19053.0</td>\n",
       "      <td>13290.0</td>\n",
       "      <td>0.159329</td>\n",
       "      <td>0.589092</td>\n",
       "      <td>0.065196</td>\n",
       "      <td>0.551533</td>\n",
       "      <td>0.152443</td>\n",
       "      <td>0.49367</td>\n",
       "      <td>1.838456</td>\n",
       "    </tr>\n",
       "    <tr>\n",
       "      <th>3</th>\n",
       "      <td>32343</td>\n",
       "      <td>16794.0</td>\n",
       "      <td>15549.0</td>\n",
       "      <td>0.140438</td>\n",
       "      <td>0.519247</td>\n",
       "      <td>0.076278</td>\n",
       "      <td>0.691971</td>\n",
       "      <td>0.228721</td>\n",
       "      <td>0.49367</td>\n",
       "      <td>1.729939</td>\n",
       "    </tr>\n",
       "    <tr>\n",
       "      <th>4</th>\n",
       "      <td>32343</td>\n",
       "      <td>14251.0</td>\n",
       "      <td>18092.0</td>\n",
       "      <td>0.119172</td>\n",
       "      <td>0.440621</td>\n",
       "      <td>0.088753</td>\n",
       "      <td>0.811144</td>\n",
       "      <td>0.317473</td>\n",
       "      <td>0.49367</td>\n",
       "      <td>1.622297</td>\n",
       "    </tr>\n",
       "    <tr>\n",
       "      <th>5</th>\n",
       "      <td>32343</td>\n",
       "      <td>11173.0</td>\n",
       "      <td>21170.0</td>\n",
       "      <td>0.093433</td>\n",
       "      <td>0.345453</td>\n",
       "      <td>0.103852</td>\n",
       "      <td>0.904577</td>\n",
       "      <td>0.421326</td>\n",
       "      <td>0.49367</td>\n",
       "      <td>1.507637</td>\n",
       "    </tr>\n",
       "    <tr>\n",
       "      <th>6</th>\n",
       "      <td>32343</td>\n",
       "      <td>7632.0</td>\n",
       "      <td>24711.0</td>\n",
       "      <td>0.063822</td>\n",
       "      <td>0.235971</td>\n",
       "      <td>0.121223</td>\n",
       "      <td>0.968399</td>\n",
       "      <td>0.542549</td>\n",
       "      <td>0.49367</td>\n",
       "      <td>1.383435</td>\n",
       "    </tr>\n",
       "    <tr>\n",
       "      <th>7</th>\n",
       "      <td>32343</td>\n",
       "      <td>3331.0</td>\n",
       "      <td>29012.0</td>\n",
       "      <td>0.027855</td>\n",
       "      <td>0.102990</td>\n",
       "      <td>0.142322</td>\n",
       "      <td>0.996254</td>\n",
       "      <td>0.684871</td>\n",
       "      <td>0.49367</td>\n",
       "      <td>1.245325</td>\n",
       "    </tr>\n",
       "    <tr>\n",
       "      <th>8</th>\n",
       "      <td>32343</td>\n",
       "      <td>446.0</td>\n",
       "      <td>31897.0</td>\n",
       "      <td>0.003730</td>\n",
       "      <td>0.013790</td>\n",
       "      <td>0.156475</td>\n",
       "      <td>0.999983</td>\n",
       "      <td>0.841347</td>\n",
       "      <td>0.49367</td>\n",
       "      <td>1.111099</td>\n",
       "    </tr>\n",
       "    <tr>\n",
       "      <th>9</th>\n",
       "      <td>32343</td>\n",
       "      <td>2.0</td>\n",
       "      <td>32341.0</td>\n",
       "      <td>0.000017</td>\n",
       "      <td>0.000062</td>\n",
       "      <td>0.158653</td>\n",
       "      <td>1.000000</td>\n",
       "      <td>1.000000</td>\n",
       "      <td>0.49367</td>\n",
       "      <td>1.000006</td>\n",
       "    </tr>\n",
       "  </tbody>\n",
       "</table>\n",
       "</div>"
      ],
      "text/plain": [
       "   # decile  # of goods  # of bads  1st decile capture_rate  \\\n",
       "0     32343     25522.0     6821.0                 0.213425   \n",
       "1     32343     21379.0    10964.0                 0.178780   \n",
       "2     32343     19053.0    13290.0                 0.159329   \n",
       "3     32343     16794.0    15549.0                 0.140438   \n",
       "4     32343     14251.0    18092.0                 0.119172   \n",
       "5     32343     11173.0    21170.0                 0.093433   \n",
       "6     32343      7632.0    24711.0                 0.063822   \n",
       "7     32343      3331.0    29012.0                 0.027855   \n",
       "8     32343       446.0    31897.0                 0.003730   \n",
       "9     32343         2.0    32341.0                 0.000017   \n",
       "\n",
       "   1st decile response_rate  % of bads  % cum_goods  % cum_bads       KS  \\\n",
       "0                  0.789104   0.033461     0.213425    0.033461  0.49367   \n",
       "1                  0.661009   0.053785     0.392205    0.087247  0.49367   \n",
       "2                  0.589092   0.065196     0.551533    0.152443  0.49367   \n",
       "3                  0.519247   0.076278     0.691971    0.228721  0.49367   \n",
       "4                  0.440621   0.088753     0.811144    0.317473  0.49367   \n",
       "5                  0.345453   0.103852     0.904577    0.421326  0.49367   \n",
       "6                  0.235971   0.121223     0.968399    0.542549  0.49367   \n",
       "7                  0.102990   0.142322     0.996254    0.684871  0.49367   \n",
       "8                  0.013790   0.156475     0.999983    0.841347  0.49367   \n",
       "9                  0.000062   0.158653     1.000000    1.000000  0.49367   \n",
       "\n",
       "       Lift  \n",
       "0  2.134263  \n",
       "1  1.961035  \n",
       "2  1.838456  \n",
       "3  1.729939  \n",
       "4  1.622297  \n",
       "5  1.507637  \n",
       "6  1.383435  \n",
       "7  1.245325  \n",
       "8  1.111099  \n",
       "9  1.000006  "
      ]
     },
     "execution_count": 48,
     "metadata": {},
     "output_type": "execute_result"
    }
   ],
   "source": [
    "# Decile info dataframe\n",
    "\n",
    "df = [decile_num, decile_goods, decile_bads, decile_cr, decile_rr]\n",
    "df = pd.concat(df, axis=1)\n",
    "df['% of bads'] = df['# of bads']/df['# of bads'].sum()\n",
    "df['% cum_goods'] = df['1st decile capture_rate'].cumsum()\n",
    "df['% cum_bads'] = df['% of bads'].cumsum()\n",
    "df['KS'] = (df['% cum_goods']-df['% cum_bads']).max()\n",
    "df['Lift'] = df['% cum_goods']/(df['# decile']/prob['Target'].shape[0]).cumsum()\n",
    "df"
   ]
  },
  {
   "cell_type": "code",
   "execution_count": 49,
   "metadata": {
    "collapsed": false
   },
   "outputs": [
    {
     "name": "stdout",
     "output_type": "stream",
     "text": [
      "Probability from classifier for Train\n",
      "Response 10%: 0.789104288409\n",
      "Capture at 10%: 0.213424985157\n",
      "Response 5%: 0.83612639911\n",
      "Capture at 5%: 0.113067910991\n"
     ]
    },
    {
     "data": {
      "text/plain": [
       "(<Container object of 10 artists>,\n",
       " <matplotlib.text.Text at 0x7f42236e10d0>,\n",
       " <matplotlib.text.Text at 0x7f42236c44d0>)"
      ]
     },
     "execution_count": 49,
     "metadata": {},
     "output_type": "execute_result"
    },
    {
     "data": {
      "image/png": "[encoded data removed]",
      "text/plain": [
       "<matplotlib.figure.Figure at 0x7f42277d8e90>"
      ]
     },
     "metadata": {},
     "output_type": "display_data"
    }
   ],
   "source": [
    "# Top decile, 5% capture, decile chart and lift chart\n",
    "per5 = int(prob['Target'].shape[0]/20)\n",
    "per5_1_rr = float(prob['Target'][0:per5].sum()/float(per5))\n",
    "per5_1_cr = float(prob['Target'][0:per5].sum()/float(prob['Target'].sum()))\n",
    "\n",
    "print 'Probability from classifier for Train' \n",
    "print 'Response 10%: ' + str(dec_1_rr)\n",
    "print 'Capture at 10%: ' + str(dec_1_cr)\n",
    "print 'Response 5%: ' + str(per5_1_rr)\n",
    "print 'Capture at 5%: ' + str(per5_1_cr)\n",
    "\n",
    "# print decile chart and lift chart\n",
    "f, axs = plt.subplots(1,2,figsize=(16,4))\n",
    "axs[0].bar(range(0,10), df['1st decile capture_rate'], color = 'blue'), axs[0].set_title('Decile chart')\n",
    "axs[0].set_ylabel('Capture rate')\n",
    "axs[1].bar(range(0,10), df['Lift'], color = 'grey'), axs[1].set_title('Lift chart'), axs[1].set_ylabel('Lift')"
   ]
  },
  {
   "cell_type": "markdown",
   "metadata": {},
   "source": [
    "## Decile Info - Validation"
   ]
  },
  {
   "cell_type": "code",
   "execution_count": 50,
   "metadata": {
    "collapsed": false
   },
   "outputs": [
    {
     "name": "stdout",
     "output_type": "stream",
     "text": [
      "Validation AUC: 0.813157753661\n"
     ]
    }
   ],
   "source": [
    "# Validation AUC\n",
    "val_pred_xgb2 = xgb2.predict_proba(X_val)\n",
    "print('Validation AUC: ' + str(roc_auc_score(Y_val, val_pred_xgb2[:,1])))"
   ]
  },
  {
   "cell_type": "code",
   "execution_count": 51,
   "metadata": {
    "collapsed": true
   },
   "outputs": [],
   "source": [
    "# Decile related info\n",
    "df_list = [1,2,3,4,5,6,7,8,9,10]\n",
    "\n",
    "prob = pd.DataFrame(val_pred_xgb2[:,1]) \n",
    "prob.columns = ['Probability']\n",
    "prob[\"Target\"] = Y_val.values \n",
    "prob = prob.sort_values(by='Probability', ascending=0)\n",
    "\n",
    "dec = int(prob['Target'].shape[0]/10)\n",
    "\n",
    "for i in [0,1,2,3,4,5,6,7,8,9]:\n",
    "    vars()['dec_'+str(df_list[i])+'_rr'] = float(prob['Target'][i*dec:(i+1)*dec].sum()/float(dec))\n",
    "    vars()['dec_'+str(df_list[i])+'_cr'] = float(prob['Target'][i*dec:(i+1)*dec].sum()/float(prob['Target'].sum()))\n",
    "    vars()['dec_'+str(df_list[i])+'_goods'] = float(prob['Target'][i*dec:(i+1)*dec].sum())\n",
    "    vars()['dec_'+str(df_list[i])+'_bads'] = float(prob['Target'][i*dec:(i+1)*dec].count())-float(\n",
    "        prob['Target'][i*dec:(i+1)*dec].sum())\n",
    "\n",
    "decile_num = pd.DataFrame([dec, dec, dec, dec, dec, dec, dec, dec, dec, dec], columns = ['# decile'])\n",
    "decile_goods = pd.DataFrame([dec_1_goods, dec_2_goods, dec_3_goods, dec_4_goods, dec_5_goods, dec_6_goods, dec_7_goods,\n",
    "                          dec_8_goods, dec_9_goods, dec_10_goods], columns = ['# of goods'])\n",
    "decile_bads = pd.DataFrame([dec_1_bads, dec_2_bads, dec_3_bads, dec_4_bads, dec_5_bads, dec_6_bads, dec_7_bads,\n",
    "                          dec_8_bads, dec_9_bads, dec_10_bads], columns = ['# of bads'])\n",
    "decile_cr = pd.DataFrame([dec_1_cr, dec_2_cr, dec_3_cr, dec_4_cr, dec_5_cr, dec_6_cr, dec_7_cr,\n",
    "                          dec_8_cr, dec_9_cr, dec_10_cr], columns = ['1st decile capture_rate'])\n",
    "decile_rr = pd.DataFrame([dec_1_rr, dec_2_rr, dec_3_rr, dec_4_rr, dec_5_rr, dec_6_rr, dec_7_rr,\n",
    "                          dec_8_rr, dec_9_rr, dec_10_rr], columns = ['1st decile response_rate'])"
   ]
  },
  {
   "cell_type": "code",
   "execution_count": 52,
   "metadata": {
    "collapsed": false
   },
   "outputs": [
    {
     "data": {
      "text/html": [
       "<div>\n",
       "<table border=\"1\" class=\"dataframe\">\n",
       "  <thead>\n",
       "    <tr style=\"text-align: right;\">\n",
       "      <th></th>\n",
       "      <th># decile</th>\n",
       "      <th># of goods</th>\n",
       "      <th># of bads</th>\n",
       "      <th>1st decile capture_rate</th>\n",
       "      <th>1st decile response_rate</th>\n",
       "      <th>% of bads</th>\n",
       "      <th>% cum_goods</th>\n",
       "      <th>% cum_bads</th>\n",
       "      <th>KS</th>\n",
       "      <th>Lift</th>\n",
       "    </tr>\n",
       "  </thead>\n",
       "  <tbody>\n",
       "    <tr>\n",
       "      <th>0</th>\n",
       "      <td>8085</td>\n",
       "      <td>6211.0</td>\n",
       "      <td>1874.0</td>\n",
       "      <td>0.209265</td>\n",
       "      <td>0.768213</td>\n",
       "      <td>0.036623</td>\n",
       "      <td>0.209265</td>\n",
       "      <td>0.036623</td>\n",
       "      <td>0.474381</td>\n",
       "      <td>2.092862</td>\n",
       "    </tr>\n",
       "    <tr>\n",
       "      <th>1</th>\n",
       "      <td>8085</td>\n",
       "      <td>5123.0</td>\n",
       "      <td>2962.0</td>\n",
       "      <td>0.172608</td>\n",
       "      <td>0.633643</td>\n",
       "      <td>0.057885</td>\n",
       "      <td>0.381873</td>\n",
       "      <td>0.094509</td>\n",
       "      <td>0.474381</td>\n",
       "      <td>1.909556</td>\n",
       "    </tr>\n",
       "    <tr>\n",
       "      <th>2</th>\n",
       "      <td>8085</td>\n",
       "      <td>4694.0</td>\n",
       "      <td>3391.0</td>\n",
       "      <td>0.158154</td>\n",
       "      <td>0.580581</td>\n",
       "      <td>0.066269</td>\n",
       "      <td>0.540027</td>\n",
       "      <td>0.160778</td>\n",
       "      <td>0.474381</td>\n",
       "      <td>1.800268</td>\n",
       "    </tr>\n",
       "    <tr>\n",
       "      <th>3</th>\n",
       "      <td>8085</td>\n",
       "      <td>4098.0</td>\n",
       "      <td>3987.0</td>\n",
       "      <td>0.138073</td>\n",
       "      <td>0.506865</td>\n",
       "      <td>0.077917</td>\n",
       "      <td>0.678100</td>\n",
       "      <td>0.238695</td>\n",
       "      <td>0.474381</td>\n",
       "      <td>1.695417</td>\n",
       "    </tr>\n",
       "    <tr>\n",
       "      <th>4</th>\n",
       "      <td>8085</td>\n",
       "      <td>3625.0</td>\n",
       "      <td>4460.0</td>\n",
       "      <td>0.122136</td>\n",
       "      <td>0.448361</td>\n",
       "      <td>0.087160</td>\n",
       "      <td>0.800236</td>\n",
       "      <td>0.325855</td>\n",
       "      <td>0.474381</td>\n",
       "      <td>1.600630</td>\n",
       "    </tr>\n",
       "    <tr>\n",
       "      <th>5</th>\n",
       "      <td>8085</td>\n",
       "      <td>2872.0</td>\n",
       "      <td>5213.0</td>\n",
       "      <td>0.096765</td>\n",
       "      <td>0.355226</td>\n",
       "      <td>0.101876</td>\n",
       "      <td>0.897001</td>\n",
       "      <td>0.427731</td>\n",
       "      <td>0.474381</td>\n",
       "      <td>1.495150</td>\n",
       "    </tr>\n",
       "    <tr>\n",
       "      <th>6</th>\n",
       "      <td>8085</td>\n",
       "      <td>1938.0</td>\n",
       "      <td>6147.0</td>\n",
       "      <td>0.065296</td>\n",
       "      <td>0.239703</td>\n",
       "      <td>0.120129</td>\n",
       "      <td>0.962298</td>\n",
       "      <td>0.547860</td>\n",
       "      <td>0.474381</td>\n",
       "      <td>1.374847</td>\n",
       "    </tr>\n",
       "    <tr>\n",
       "      <th>7</th>\n",
       "      <td>8085</td>\n",
       "      <td>928.0</td>\n",
       "      <td>7157.0</td>\n",
       "      <td>0.031267</td>\n",
       "      <td>0.114780</td>\n",
       "      <td>0.139867</td>\n",
       "      <td>0.993565</td>\n",
       "      <td>0.687727</td>\n",
       "      <td>0.474381</td>\n",
       "      <td>1.242079</td>\n",
       "    </tr>\n",
       "    <tr>\n",
       "      <th>8</th>\n",
       "      <td>8085</td>\n",
       "      <td>189.0</td>\n",
       "      <td>7896.0</td>\n",
       "      <td>0.006368</td>\n",
       "      <td>0.023377</td>\n",
       "      <td>0.154309</td>\n",
       "      <td>0.999933</td>\n",
       "      <td>0.842036</td>\n",
       "      <td>0.474381</td>\n",
       "      <td>1.111146</td>\n",
       "    </tr>\n",
       "    <tr>\n",
       "      <th>9</th>\n",
       "      <td>8085</td>\n",
       "      <td>2.0</td>\n",
       "      <td>8083.0</td>\n",
       "      <td>0.000067</td>\n",
       "      <td>0.000247</td>\n",
       "      <td>0.157964</td>\n",
       "      <td>1.000000</td>\n",
       "      <td>1.000000</td>\n",
       "      <td>0.474381</td>\n",
       "      <td>1.000099</td>\n",
       "    </tr>\n",
       "  </tbody>\n",
       "</table>\n",
       "</div>"
      ],
      "text/plain": [
       "   # decile  # of goods  # of bads  1st decile capture_rate  \\\n",
       "0      8085      6211.0     1874.0                 0.209265   \n",
       "1      8085      5123.0     2962.0                 0.172608   \n",
       "2      8085      4694.0     3391.0                 0.158154   \n",
       "3      8085      4098.0     3987.0                 0.138073   \n",
       "4      8085      3625.0     4460.0                 0.122136   \n",
       "5      8085      2872.0     5213.0                 0.096765   \n",
       "6      8085      1938.0     6147.0                 0.065296   \n",
       "7      8085       928.0     7157.0                 0.031267   \n",
       "8      8085       189.0     7896.0                 0.006368   \n",
       "9      8085         2.0     8083.0                 0.000067   \n",
       "\n",
       "   1st decile response_rate  % of bads  % cum_goods  % cum_bads        KS  \\\n",
       "0                  0.768213   0.036623     0.209265    0.036623  0.474381   \n",
       "1                  0.633643   0.057885     0.381873    0.094509  0.474381   \n",
       "2                  0.580581   0.066269     0.540027    0.160778  0.474381   \n",
       "3                  0.506865   0.077917     0.678100    0.238695  0.474381   \n",
       "4                  0.448361   0.087160     0.800236    0.325855  0.474381   \n",
       "5                  0.355226   0.101876     0.897001    0.427731  0.474381   \n",
       "6                  0.239703   0.120129     0.962298    0.547860  0.474381   \n",
       "7                  0.114780   0.139867     0.993565    0.687727  0.474381   \n",
       "8                  0.023377   0.154309     0.999933    0.842036  0.474381   \n",
       "9                  0.000247   0.157964     1.000000    1.000000  0.474381   \n",
       "\n",
       "       Lift  \n",
       "0  2.092862  \n",
       "1  1.909556  \n",
       "2  1.800268  \n",
       "3  1.695417  \n",
       "4  1.600630  \n",
       "5  1.495150  \n",
       "6  1.374847  \n",
       "7  1.242079  \n",
       "8  1.111146  \n",
       "9  1.000099  "
      ]
     },
     "execution_count": 52,
     "metadata": {},
     "output_type": "execute_result"
    }
   ],
   "source": [
    "# Decile info dataframe\n",
    "df = [decile_num, decile_goods, decile_bads, decile_cr, decile_rr]\n",
    "df = pd.concat(df, axis=1)\n",
    "df['% of bads'] = df['# of bads']/df['# of bads'].sum()\n",
    "df['% cum_goods'] = df['1st decile capture_rate'].cumsum()\n",
    "df['% cum_bads'] = df['% of bads'].cumsum()\n",
    "df['KS'] = (df['% cum_goods']-df['% cum_bads']).max()\n",
    "df['Lift'] = df['% cum_goods']/(df['# decile']/prob['Target'].shape[0]).cumsum()\n",
    "df"
   ]
  },
  {
   "cell_type": "code",
   "execution_count": 53,
   "metadata": {
    "collapsed": false
   },
   "outputs": [
    {
     "name": "stdout",
     "output_type": "stream",
     "text": [
      "Probability from classifier for Validation\n",
      "Response 10%: 0.768212739641\n",
      "Capture at 10%: 0.209265498652\n",
      "Response 5%: 0.815685304305\n",
      "Capture at 5%: 0.11108490566\n"
     ]
    },
    {
     "data": {
      "text/plain": [
       "(<Container object of 10 artists>,\n",
       " <matplotlib.text.Text at 0x7f422322b9d0>,\n",
       " <matplotlib.text.Text at 0x7f4223277f90>)"
      ]
     },
     "execution_count": 53,
     "metadata": {},
     "output_type": "execute_result"
    },
    {
     "data": {
      "image/png": "[encoded data removed]",
      "text/plain": [
       "<matplotlib.figure.Figure at 0x7f42235c9e50>"
      ]
     },
     "metadata": {},
     "output_type": "display_data"
    }
   ],
   "source": [
    "# Top decile, 5% capture, decile chart and lift chart\n",
    "\n",
    "per5 = int(prob['Target'].shape[0]/20)\n",
    "per5_1_rr = float(prob['Target'][0:per5].sum()/float(per5))\n",
    "per5_1_cr = float(prob['Target'][0:per5].sum()/float(prob['Target'].sum()))\n",
    "\n",
    "print 'Probability from classifier for Validation'\n",
    "print 'Response 10%: ' + str(dec_1_rr)\n",
    "print 'Capture at 10%: ' + str(dec_1_cr)\n",
    "print 'Response 5%: ' + str(per5_1_rr)\n",
    "print 'Capture at 5%: ' + str(per5_1_cr)\n",
    "\n",
    "# print decile chart and lift chart\n",
    "f, axs = plt.subplots(1,2,figsize=(16,4))\n",
    "axs[0].bar(range(0,10), df['1st decile capture_rate'], color = 'blue'), axs[0].set_title('Decile chart')\n",
    "axs[0].set_ylabel('Capture rate')\n",
    "axs[1].bar(range(0,10), df['Lift'], color = 'grey'), axs[1].set_title('Lift chart'), axs[1].set_ylabel('Lift')"
   ]
  },
  {
   "cell_type": "code",
   "execution_count": 54,
   "metadata": {
    "collapsed": false
   },
   "outputs": [
    {
     "data": {
      "text/plain": [
       "<matplotlib.legend.Legend at 0x7f4222bdb9d0>"
      ]
     },
     "execution_count": 54,
     "metadata": {},
     "output_type": "execute_result"
    },
    {
     "data": {
      "image/png": "[encoded data removed]",
      "text/plain": [
       "<matplotlib.figure.Figure at 0x7f4223602490>"
      ]
     },
     "metadata": {},
     "output_type": "display_data"
    }
   ],
   "source": [
    "# Make ROC curve for train and validation as of now\n",
    "from sklearn.metrics import roc_curve, auc\n",
    "\n",
    "fpr_trn, tpr_trn, _= roc_curve(Y_train, y_predS_xgb2[:,1])\n",
    "fpr_tst, tpr_tst, _= roc_curve(Y_val, val_pred_xgb2[:, 1]) \n",
    "\n",
    "roc_auc_trn = auc(fpr_trn, tpr_trn)\n",
    "roc_auc_tst = auc(fpr_tst, tpr_tst)\n",
    "# print roc_auc\n",
    "\n",
    "# Plot of a ROC curve\n",
    "plt.figure(figsize=(8,7))\n",
    "plt.plot(fpr_trn, tpr_trn, label='Train AUC - %0.2f' % roc_auc_trn)\n",
    "plt.plot(fpr_tst, tpr_tst, label='Valid AUC - %0.2f' % roc_auc_tst)   # Valid or Test ???\n",
    "plt.plot([0, 1], [0, 1], 'k--')\n",
    "plt.xlim([0.0, 1.0])\n",
    "plt.ylim([0.0, 1.05])\n",
    "plt.xlabel('False Positive Rate')\n",
    "plt.ylabel('True Positive Rate')\n",
    "plt.title('ROC Curve')\n",
    "plt.legend(loc=\"lower right\", prop={'size':8})\n",
    "# plt.savefig('ROC_Curve.png')"
   ]
  },
  {
   "cell_type": "code",
   "execution_count": null,
   "metadata": {
    "collapsed": true
   },
   "outputs": [],
   "source": []
  },
  {
   "cell_type": "code",
   "execution_count": 55,
   "metadata": {
    "collapsed": true
   },
   "outputs": [],
   "source": [
    "feat_imp = pd.Series(xgb2.booster().get_fscore()).sort_values(ascending=False)\n",
    "feat_imp =pd.DataFrame({'features': feat_imp.index, 'importance' : feat_imp.values})\n",
    "feat_imp['importance_percent']  = feat_imp['importance']/feat_imp['importance'].sum()"
   ]
  },
  {
   "cell_type": "code",
   "execution_count": 56,
   "metadata": {
    "collapsed": false
   },
   "outputs": [
    {
     "data": {
      "text/html": [
       "<div>\n",
       "<table border=\"1\" class=\"dataframe\">\n",
       "  <thead>\n",
       "    <tr style=\"text-align: right;\">\n",
       "      <th></th>\n",
       "      <th>features</th>\n",
       "      <th>importance</th>\n",
       "      <th>importance_percent</th>\n",
       "    </tr>\n",
       "  </thead>\n",
       "  <tbody>\n",
       "    <tr>\n",
       "      <th>0</th>\n",
       "      <td>q2_form_char</td>\n",
       "      <td>1758</td>\n",
       "      <td>0.091615</td>\n",
       "    </tr>\n",
       "    <tr>\n",
       "      <th>1</th>\n",
       "      <td>q1_form_char</td>\n",
       "      <td>1719</td>\n",
       "      <td>0.089583</td>\n",
       "    </tr>\n",
       "    <tr>\n",
       "      <th>2</th>\n",
       "      <td>q_ratio</td>\n",
       "      <td>1532</td>\n",
       "      <td>0.079837</td>\n",
       "    </tr>\n",
       "    <tr>\n",
       "      <th>3</th>\n",
       "      <td>prcnt_common</td>\n",
       "      <td>1508</td>\n",
       "      <td>0.078587</td>\n",
       "    </tr>\n",
       "    <tr>\n",
       "      <th>4</th>\n",
       "      <td>q2_length</td>\n",
       "      <td>1312</td>\n",
       "      <td>0.068373</td>\n",
       "    </tr>\n",
       "    <tr>\n",
       "      <th>5</th>\n",
       "      <td>q1_length</td>\n",
       "      <td>1125</td>\n",
       "      <td>0.058627</td>\n",
       "    </tr>\n",
       "    <tr>\n",
       "      <th>6</th>\n",
       "      <td>token_set_ratio</td>\n",
       "      <td>1091</td>\n",
       "      <td>0.056855</td>\n",
       "    </tr>\n",
       "    <tr>\n",
       "      <th>7</th>\n",
       "      <td>partial_ratio</td>\n",
       "      <td>1086</td>\n",
       "      <td>0.056595</td>\n",
       "    </tr>\n",
       "    <tr>\n",
       "      <th>8</th>\n",
       "      <td>q2_unique</td>\n",
       "      <td>1060</td>\n",
       "      <td>0.055240</td>\n",
       "    </tr>\n",
       "    <tr>\n",
       "      <th>9</th>\n",
       "      <td>token_sort_ratio</td>\n",
       "      <td>1009</td>\n",
       "      <td>0.052582</td>\n",
       "    </tr>\n",
       "    <tr>\n",
       "      <th>10</th>\n",
       "      <td>q1_unique</td>\n",
       "      <td>991</td>\n",
       "      <td>0.051644</td>\n",
       "    </tr>\n",
       "    <tr>\n",
       "      <th>11</th>\n",
       "      <td>q1_q2_char_diff</td>\n",
       "      <td>880</td>\n",
       "      <td>0.045860</td>\n",
       "    </tr>\n",
       "    <tr>\n",
       "      <th>12</th>\n",
       "      <td>partial_token_sort_ratio</td>\n",
       "      <td>802</td>\n",
       "      <td>0.041795</td>\n",
       "    </tr>\n",
       "    <tr>\n",
       "      <th>13</th>\n",
       "      <td>q2_form_len</td>\n",
       "      <td>611</td>\n",
       "      <td>0.031841</td>\n",
       "    </tr>\n",
       "    <tr>\n",
       "      <th>14</th>\n",
       "      <td>q1_form_len</td>\n",
       "      <td>556</td>\n",
       "      <td>0.028975</td>\n",
       "    </tr>\n",
       "    <tr>\n",
       "      <th>15</th>\n",
       "      <td>q2_form_uni</td>\n",
       "      <td>544</td>\n",
       "      <td>0.028350</td>\n",
       "    </tr>\n",
       "    <tr>\n",
       "      <th>16</th>\n",
       "      <td>q1_form_uni</td>\n",
       "      <td>539</td>\n",
       "      <td>0.028089</td>\n",
       "    </tr>\n",
       "    <tr>\n",
       "      <th>17</th>\n",
       "      <td>w_ratio</td>\n",
       "      <td>512</td>\n",
       "      <td>0.026682</td>\n",
       "    </tr>\n",
       "    <tr>\n",
       "      <th>18</th>\n",
       "      <td>common_cnt</td>\n",
       "      <td>495</td>\n",
       "      <td>0.025796</td>\n",
       "    </tr>\n",
       "    <tr>\n",
       "      <th>19</th>\n",
       "      <td>partial_token_set_ratio</td>\n",
       "      <td>59</td>\n",
       "      <td>0.003075</td>\n",
       "    </tr>\n",
       "  </tbody>\n",
       "</table>\n",
       "</div>"
      ],
      "text/plain": [
       "                    features  importance  importance_percent\n",
       "0               q2_form_char        1758            0.091615\n",
       "1               q1_form_char        1719            0.089583\n",
       "2                    q_ratio        1532            0.079837\n",
       "3               prcnt_common        1508            0.078587\n",
       "4                  q2_length        1312            0.068373\n",
       "5                  q1_length        1125            0.058627\n",
       "6            token_set_ratio        1091            0.056855\n",
       "7              partial_ratio        1086            0.056595\n",
       "8                  q2_unique        1060            0.055240\n",
       "9           token_sort_ratio        1009            0.052582\n",
       "10                 q1_unique         991            0.051644\n",
       "11           q1_q2_char_diff         880            0.045860\n",
       "12  partial_token_sort_ratio         802            0.041795\n",
       "13               q2_form_len         611            0.031841\n",
       "14               q1_form_len         556            0.028975\n",
       "15               q2_form_uni         544            0.028350\n",
       "16               q1_form_uni         539            0.028089\n",
       "17                   w_ratio         512            0.026682\n",
       "18                common_cnt         495            0.025796\n",
       "19   partial_token_set_ratio          59            0.003075"
      ]
     },
     "execution_count": 56,
     "metadata": {},
     "output_type": "execute_result"
    }
   ],
   "source": [
    "feat_imp.iloc[0:21]"
   ]
  },
  {
   "cell_type": "code",
   "execution_count": 57,
   "metadata": {
    "collapsed": true
   },
   "outputs": [],
   "source": [
    "def draw_feature_importance(fea_imp_df, nb, imp_col):\n",
    "    fea_imp_df = fea_imp_df.sort_values(imp_col).reset_index(drop=True)\n",
    "    fea_imp_df = fea_imp_df[-1*nb:].reset_index(drop=True)\n",
    "\n",
    "    plt.figure(figsize=(10, nb*0.3))\n",
    "    plt.title(\"Top %d Most Important Features\"%nb)\n",
    "    plt.barh(fea_imp_df.index, fea_imp_df[imp_col], color='#348ABD', align=\"center\", lw='2', edgecolor='#348ABD', alpha=0.6)\n",
    "    plt.yticks(fea_imp_df.index, fea_imp_df['features'], fontsize=12,)\n",
    "    plt.ylim([-1, nb])\n",
    "    plt.xlim([0, fea_imp_df[imp_col].max()*1.1])\n",
    "    plt.show()"
   ]
  },
  {
   "cell_type": "code",
   "execution_count": 58,
   "metadata": {
    "collapsed": false
   },
   "outputs": [
    {
     "data": {
      "image/png": "[encoded data removed]",
      "text/plain": [
       "<matplotlib.figure.Figure at 0x7f42235f5310>"
      ]
     },
     "metadata": {},
     "output_type": "display_data"
    }
   ],
   "source": [
    "draw_feature_importance(feat_imp, feat_imp.shape[0], 'importance_percent')"
   ]
  },
  {
   "cell_type": "code",
   "execution_count": null,
   "metadata": {
    "collapsed": false
   },
   "outputs": [],
   "source": []
  },
  {
   "cell_type": "code",
   "execution_count": null,
   "metadata": {
    "collapsed": true
   },
   "outputs": [],
   "source": [
    "# Add Extra features here : 1. TF-IDF "
   ]
  }
 ],
 "metadata": {
  "kernelspec": {
   "display_name": "research",
   "language": "python",
   "name": "python2"
  },
  "language_info": {
   "codemirror_mode": {
    "name": "ipython",
    "version": 2
   },
   "file_extension": ".py",
   "mimetype": "text/x-python",
   "name": "python",
   "nbconvert_exporter": "python",
   "pygments_lexer": "ipython2",
   "version": "2.7.12"
  }
 },
 "nbformat": 4,
 "nbformat_minor": 0
}
