{
 "cells": [
  {
   "cell_type": "code",
   "execution_count": 52,
   "metadata": {
    "collapsed": true
   },
   "outputs": [],
   "source": [
    "import xgboost as xgb\n",
    "import numpy as np\n",
    "import pandas as pd\n",
    "from xgboost.sklearn import XGBClassifier\n",
    "import sklearn\n",
    "from sklearn.metrics import roc_auc_score\n",
    "from sklearn.cross_validation import cross_val_score\n",
    "%matplotlib inline\n",
    "import matplotlib.pyplot as plt\n",
    "from sklearn.metrics import log_loss"
   ]
  },
  {
   "cell_type": "code",
   "execution_count": 13,
   "metadata": {
    "collapsed": false
   },
   "outputs": [],
   "source": [
    "train_basic_fuzzy = pd.read_csv('train_basic_fuzzy_new.csv', sep=',')\n",
    "train_w2v = pd.read_csv('train_w2v_feats.csv', sep=',')"
   ]
  },
  {
   "cell_type": "code",
   "execution_count": 14,
   "metadata": {
    "collapsed": false
   },
   "outputs": [
    {
     "name": "stdout",
     "output_type": "stream",
     "text": [
      "Index([u'id', u'is_duplicate', u'question1_form', u'question2_form',\n",
      "       u'q1_form_len', u'q2_form_len', u'q1_length', u'q2_length',\n",
      "       u'q1_unique', u'q2_unique', u'q1_form_uni', u'q2_form_uni',\n",
      "       u'q1_form_char', u'q2_form_char', u'q1_q2_char_diff', u'common_cnt',\n",
      "       u'prcnt_common', u'partial_ratio', u'partial_token_set_ratio',\n",
      "       u'partial_token_sort_ratio', u'q_ratio', u'token_set_ratio',\n",
      "       u'token_sort_ratio', u'w_ratio'],\n",
      "      dtype='object')\n",
      "(404290, 24)\n",
      "Index([u'id', u'is_duplicate', u'q1_freq_in_q1', u'q2_freq_in_q2',\n",
      "       u'q1_freq_in_q1q2', u'q2_freq_in_q1q2', u'cosine_val', u'cityblock_val',\n",
      "       u'jaccard_val', u'canberra_val', u'euclidean_val', u'minkowski_val',\n",
      "       u'braycurtis_val', u'skew_que1', u'skew_que2', u'kurt_que1',\n",
      "       u'kurt_que2'],\n",
      "      dtype='object')\n",
      "(404290, 17)\n"
     ]
    }
   ],
   "source": [
    "print train_basic_fuzzy.columns\n",
    "print train_basic_fuzzy.shape\n",
    "print train_w2v.columns\n",
    "print train_w2v.shape"
   ]
  },
  {
   "cell_type": "code",
   "execution_count": 15,
   "metadata": {
    "collapsed": true
   },
   "outputs": [],
   "source": [
    "train_basic_fuzzy.drop(['question1_form','question2_form'], axis=1, inplace=True)"
   ]
  },
  {
   "cell_type": "code",
   "execution_count": 16,
   "metadata": {
    "collapsed": false
   },
   "outputs": [
    {
     "name": "stdout",
     "output_type": "stream",
     "text": [
      "Index([u'id', u'is_duplicate', u'q1_freq_in_q1', u'q2_freq_in_q2',\n",
      "       u'q1_freq_in_q1q2', u'q2_freq_in_q1q2', u'cosine_val', u'cityblock_val',\n",
      "       u'jaccard_val', u'canberra_val', u'euclidean_val', u'minkowski_val',\n",
      "       u'braycurtis_val', u'skew_que1', u'skew_que2', u'kurt_que1',\n",
      "       u'kurt_que2', u'q1_form_len', u'q2_form_len', u'q1_length',\n",
      "       u'q2_length', u'q1_unique', u'q2_unique', u'q1_form_uni',\n",
      "       u'q2_form_uni', u'q1_form_char', u'q2_form_char', u'q1_q2_char_diff',\n",
      "       u'common_cnt', u'prcnt_common', u'partial_ratio',\n",
      "       u'partial_token_set_ratio', u'partial_token_sort_ratio', u'q_ratio',\n",
      "       u'token_set_ratio', u'token_sort_ratio', u'w_ratio'],\n",
      "      dtype='object')\n"
     ]
    }
   ],
   "source": [
    "# Join both the dataframes train_basic_fuzzy and train_w2v on 'id' column\n",
    "train_final = pd.merge(train_w2v, train_basic_fuzzy, left_on=['id','is_duplicate'],right_on=['id','is_duplicate'],how='inner', right_index=False)\n",
    "print train_final.columns"
   ]
  },
  {
   "cell_type": "code",
   "execution_count": 17,
   "metadata": {
    "collapsed": false
   },
   "outputs": [
    {
     "data": {
      "text/plain": [
       "id                          404290\n",
       "is_duplicate                404290\n",
       "q1_freq_in_q1               404290\n",
       "q2_freq_in_q2               404290\n",
       "q1_freq_in_q1q2             404290\n",
       "q2_freq_in_q1q2             404290\n",
       "cosine_val                  404290\n",
       "cityblock_val               404290\n",
       "jaccard_val                 404290\n",
       "canberra_val                404290\n",
       "euclidean_val               404290\n",
       "minkowski_val               404290\n",
       "braycurtis_val              404290\n",
       "skew_que1                   404290\n",
       "skew_que2                   404290\n",
       "kurt_que1                   404290\n",
       "kurt_que2                   404290\n",
       "q1_form_len                 404290\n",
       "q2_form_len                 404290\n",
       "q1_length                   404290\n",
       "q2_length                   404290\n",
       "q1_unique                   404290\n",
       "q2_unique                   404290\n",
       "q1_form_uni                 404290\n",
       "q2_form_uni                 404290\n",
       "q1_form_char                404290\n",
       "q2_form_char                404290\n",
       "q1_q2_char_diff             404290\n",
       "common_cnt                  404290\n",
       "prcnt_common                404290\n",
       "partial_ratio               404290\n",
       "partial_token_set_ratio     404290\n",
       "partial_token_sort_ratio    404290\n",
       "q_ratio                     404290\n",
       "token_set_ratio             404290\n",
       "token_sort_ratio            404290\n",
       "w_ratio                     404290\n",
       "dtype: int64"
      ]
     },
     "execution_count": 17,
     "metadata": {},
     "output_type": "execute_result"
    }
   ],
   "source": [
    "# Check the feature values for any kind of imputation\n",
    "train_final.count()"
   ]
  },
  {
   "cell_type": "code",
   "execution_count": 18,
   "metadata": {
    "collapsed": false
   },
   "outputs": [],
   "source": [
    "val_dup = train_final[\"is_duplicate\"]\n",
    "train_final.drop(['id','is_duplicate'], axis=1, inplace=True)"
   ]
  },
  {
   "cell_type": "code",
   "execution_count": null,
   "metadata": {
    "collapsed": true
   },
   "outputs": [],
   "source": []
  },
  {
   "cell_type": "code",
   "execution_count": 19,
   "metadata": {
    "collapsed": false
   },
   "outputs": [],
   "source": [
    "val_dup = pd.DataFrame(pd.Series(val_dup))"
   ]
  },
  {
   "cell_type": "code",
   "execution_count": 20,
   "metadata": {
    "collapsed": true
   },
   "outputs": [],
   "source": [
    "# Separate into Train and Validation\n",
    "import random\n",
    "random.seed(45)\n",
    "from sklearn.cross_validation import train_test_split\n",
    "X_train, X_val, Y_train, Y_val = sklearn.cross_validation.train_test_split(train_final, val_dup, \n",
    "                                                                           test_size = 0.2, random_state = 5)"
   ]
  },
  {
   "cell_type": "code",
   "execution_count": 21,
   "metadata": {
    "collapsed": true
   },
   "outputs": [],
   "source": [
    "# xgboost fn\n",
    "def modelfit(alg, dtrain, predictors, useTrainCV=True, cv_folds=5, early_stopping_rounds=50):    \n",
    "    if useTrainCV:\n",
    "        xgb_param = alg.get_xgb_params()\n",
    "        xgtrain = xgb.DMatrix(dtrain[predictors].values, label=Y_train[[0]].values)\n",
    "        cvresult = xgb.cv(xgb_param, xgtrain, num_boost_round=alg.get_params()['n_estimators'], nfold=cv_folds,\n",
    "                          metrics=['logloss'], early_stopping_rounds=early_stopping_rounds, show_progress=False)\n",
    "        alg.set_params(n_estimators=cvresult.shape[0])\n",
    "    alg.fit(dtrain[predictors], np.ravel(Y_train),eval_metric='logloss')     #Fit algorithm\n",
    "\n",
    "    #Predict training set:\n",
    "    dtrain_predictions = alg.predict(dtrain[predictors])\n",
    "    dtrain_predprob = alg.predict_proba(dtrain[predictors])[:,1]\n",
    "    print(\"AUC Score (Train): %f\" % roc_auc_score(np.ravel(Y_train), dtrain_predprob))\n",
    "    print(\"Log Loss (Train): %f \" % log_loss(np.ravel(Y_train), dtrain_predprob))\n",
    "    \n",
    "    feat_imp = pd.Series(alg.booster().get_fscore()).sort_values(ascending=False)\n",
    "    feat_imp.plot(kind='bar', title='Feature Importances')\n",
    "    plt.ylabel('Feature Importance Score')"
   ]
  },
  {
   "cell_type": "code",
   "execution_count": 22,
   "metadata": {
    "collapsed": true
   },
   "outputs": [],
   "source": [
    "# xgboost classifier : Using the best params from the Basic Features Model\n",
    "xgb_log1 = XGBClassifier(max_depth= 6, min_child_weight= 1,gamma=0.2, colsample_bytree=0.8, subsample=0.7, reg_alpha = 1, \n",
    "                     reg_lambda = 0, max_delta_step = 3, scale_pos_weight= 1, learning_rate = 0.05, n_estimators=700,\n",
    "                     objective= 'binary:logistic', nthread=4, seed=45)"
   ]
  },
  {
   "cell_type": "code",
   "execution_count": 54,
   "metadata": {
    "collapsed": false
   },
   "outputs": [
    {
     "name": "stdout",
     "output_type": "stream",
     "text": [
      "AUC Score (Train): 0.933969\n",
      "Log Loss (Train): 0.312020 \n"
     ]
    },
    {
     "data": {
      "text/plain": [
       "<matplotlib.text.Text at 0x7f9b4ead6110>"
      ]
     },
     "execution_count": 54,
     "metadata": {},
     "output_type": "execute_result"
    },
    {
     "data": {
      "image/png": "[encoded data removed]",
      "text/plain": [
       "<matplotlib.figure.Figure at 0x7f9b4ef39f10>"
      ]
     },
     "metadata": {},
     "output_type": "display_data"
    }
   ],
   "source": [
    "predictors  = list(X_train.columns)\n",
    "modelfit(xgb_log1, X_train, predictors)"
   ]
  },
  {
   "cell_type": "code",
   "execution_count": 25,
   "metadata": {
    "collapsed": false
   },
   "outputs": [
    {
     "data": {
      "text/plain": [
       "0.31202009100336681"
      ]
     },
     "execution_count": 25,
     "metadata": {},
     "output_type": "execute_result"
    }
   ],
   "source": [
    "# Train log_loss\n",
    "y_predS = xgb_log1.predict_proba(X_train)\n",
    "log_loss(Y_train, y_predS[:,1])"
   ]
  },
  {
   "cell_type": "code",
   "execution_count": 34,
   "metadata": {
    "collapsed": false
   },
   "outputs": [
    {
     "name": "stdout",
     "output_type": "stream",
     "text": [
      "mean auc: 0.920922330527\n",
      "std auc: 0.000976073300935\n",
      "mean log_loss: -0.337568262157\n",
      "std log_loss: 0.00187927608511\n"
     ]
    }
   ],
   "source": [
    "# Cross validation AUC & log_loss\n",
    "cv_score = cross_val_score(xgb_log1, X_train, np.ravel(Y_train), cv = 5, scoring ='roc_auc')\n",
    "print('mean auc: ' + str(cv_score.mean()))\n",
    "print('std auc: ' + str(cv_score.std()))\n",
    "cv_score1 = cross_val_score(xgb_log1, X_train, np.ravel(Y_train), cv = 5, scoring ='log_loss')\n",
    "print 'mean log_loss: ' + str(cv_score1.mean())\n",
    "print 'std log_loss: ' + str(cv_score1.std())"
   ]
  },
  {
   "cell_type": "code",
   "execution_count": 28,
   "metadata": {
    "collapsed": false
   },
   "outputs": [
    {
     "data": {
      "text/plain": [
       "['/home/pgoyal/quora/model4/xgb_log1_dup_logloss.pkl',\n",
       " '/home/pgoyal/quora/model4/xgb_log1_dup_logloss.pkl_01.npy']"
      ]
     },
     "execution_count": 28,
     "metadata": {},
     "output_type": "execute_result"
    }
   ],
   "source": [
    "# Save the model\n",
    "from sklearn.externals import joblib\n",
    "joblib.dump(xgb_log1, '/home/pgoyal/quora/model4/xgb_log1_dup_logloss.pkl')"
   ]
  },
  {
   "cell_type": "code",
   "execution_count": 29,
   "metadata": {
    "collapsed": false
   },
   "outputs": [
    {
     "name": "stdout",
     "output_type": "stream",
     "text": [
      "Validation AUC: 0.92212199021\n",
      "Validation log_loss: 0.334761542362\n"
     ]
    }
   ],
   "source": [
    "# Validation AUC\n",
    "val_pred = xgb_log1.predict_proba(X_val)\n",
    "print('Validation AUC: ' + str(roc_auc_score(Y_val, val_pred[:,1])))\n",
    "print 'Validation log_loss: ' + str(log_loss(Y_val, val_pred[:,1]))"
   ]
  },
  {
   "cell_type": "code",
   "execution_count": 30,
   "metadata": {
    "collapsed": false
   },
   "outputs": [
    {
     "data": {
      "text/plain": [
       "<matplotlib.legend.Legend at 0x7f9b3fbc8710>"
      ]
     },
     "execution_count": 30,
     "metadata": {},
     "output_type": "execute_result"
    },
    {
     "data": {
      "image/png": "[encoded data removed]",
      "text/plain": [
       "<matplotlib.figure.Figure at 0x7f9b51608410>"
      ]
     },
     "metadata": {},
     "output_type": "display_data"
    }
   ],
   "source": [
    "# Make ROC curve for train and validation\n",
    "from sklearn.metrics import roc_curve, auc\n",
    "\n",
    "fpr_trn, tpr_trn, _= roc_curve(Y_train, y_predS[:,1])\n",
    "fpr_tst, tpr_tst, _= roc_curve(Y_val, val_pred[:, 1]) \n",
    "\n",
    "roc_auc_trn = auc(fpr_trn, tpr_trn)\n",
    "roc_auc_tst = auc(fpr_tst, tpr_tst)\n",
    "\n",
    "# Plot of a ROC curve\n",
    "plt.figure(figsize=(8,7))\n",
    "plt.plot(fpr_trn, tpr_trn, label='Train AUC - %0.2f' % roc_auc_trn)\n",
    "plt.plot(fpr_tst, tpr_tst, label='Valid AUC - %0.2f' % roc_auc_tst)\n",
    "plt.plot([0, 1], [0, 1], 'k--')\n",
    "plt.xlim([0.0, 1.0])\n",
    "plt.ylim([0.0, 1.05])\n",
    "plt.xlabel('False Positive Rate')\n",
    "plt.ylabel('True Positive Rate')\n",
    "plt.title('ROC Curve')\n",
    "plt.legend(loc=\"lower right\", prop={'size':8})\n",
    "# plt.savefig('ROC_Curve.png')"
   ]
  },
  {
   "cell_type": "code",
   "execution_count": 31,
   "metadata": {
    "collapsed": true
   },
   "outputs": [],
   "source": [
    "from sklearn import cross_validation\n",
    "from sklearn.ensemble import ExtraTreesClassifier\n",
    "from sklearn.metrics import confusion_matrix\n",
    "from sklearn.grid_search import GridSearchCV"
   ]
  },
  {
   "cell_type": "code",
   "execution_count": 32,
   "metadata": {
    "collapsed": true
   },
   "outputs": [],
   "source": [
    "# Initial set of parameters are taken from the final set of params from the Grid Search on the XGB log-loss of basic and fuzzy features\n",
    "ini_max_depth = 6\n",
    "ini_min_child_weight= 1\n",
    "ini_gamma= 0.2\n",
    "ini_colsample_bytree=0.8\n",
    "ini_subsample= 0.7\n",
    "ini_reg_alpha =1\n",
    "ini_reg_lambda =0\n",
    "ini_max_delta_step= 3\n",
    "ini_scale_pos_weight=1\n",
    "ini_learning_rate = 0.05\n",
    "ini_n_estimators = 700"
   ]
  },
  {
   "cell_type": "code",
   "execution_count": 35,
   "metadata": {
    "collapsed": false
   },
   "outputs": [
    {
     "data": {
      "text/plain": [
       "([mean: -0.34359, std: 0.00160, params: {'max_depth': 4, 'min_child_weight': 1},\n",
       "  mean: -0.34357, std: 0.00160, params: {'max_depth': 4, 'min_child_weight': 2},\n",
       "  mean: -0.34352, std: 0.00171, params: {'max_depth': 4, 'min_child_weight': 3},\n",
       "  mean: -0.34354, std: 0.00167, params: {'max_depth': 4, 'min_child_weight': 5},\n",
       "  mean: -0.34365, std: 0.00169, params: {'max_depth': 4, 'min_child_weight': 6},\n",
       "  mean: -0.34000, std: 0.00178, params: {'max_depth': 5, 'min_child_weight': 1},\n",
       "  mean: -0.34020, std: 0.00177, params: {'max_depth': 5, 'min_child_weight': 2},\n",
       "  mean: -0.34024, std: 0.00176, params: {'max_depth': 5, 'min_child_weight': 3},\n",
       "  mean: -0.34032, std: 0.00175, params: {'max_depth': 5, 'min_child_weight': 5},\n",
       "  mean: -0.34027, std: 0.00171, params: {'max_depth': 5, 'min_child_weight': 6},\n",
       "  mean: -0.33757, std: 0.00188, params: {'max_depth': 6, 'min_child_weight': 1},\n",
       "  mean: -0.33773, std: 0.00174, params: {'max_depth': 6, 'min_child_weight': 2},\n",
       "  mean: -0.33764, std: 0.00173, params: {'max_depth': 6, 'min_child_weight': 3},\n",
       "  mean: -0.33771, std: 0.00179, params: {'max_depth': 6, 'min_child_weight': 5},\n",
       "  mean: -0.33792, std: 0.00175, params: {'max_depth': 6, 'min_child_weight': 6},\n",
       "  mean: -0.33578, std: 0.00186, params: {'max_depth': 7, 'min_child_weight': 1},\n",
       "  mean: -0.33583, std: 0.00196, params: {'max_depth': 7, 'min_child_weight': 2},\n",
       "  mean: -0.33597, std: 0.00192, params: {'max_depth': 7, 'min_child_weight': 3},\n",
       "  mean: -0.33634, std: 0.00184, params: {'max_depth': 7, 'min_child_weight': 5},\n",
       "  mean: -0.33628, std: 0.00191, params: {'max_depth': 7, 'min_child_weight': 6}],\n",
       " {'max_depth': 7, 'min_child_weight': 1},\n",
       " -0.33578113184954733)"
      ]
     },
     "execution_count": 35,
     "metadata": {},
     "output_type": "execute_result"
    }
   ],
   "source": [
    "# Tune tree pruning parameters: max_depth and min_child_weight\n",
    "param_test1 = {\n",
    "   'max_depth':[ 4, 5,6,7],\n",
    "   'min_child_weight':[1, 2, 3, 5, 6]\n",
    "}\n",
    "\n",
    "gsearch1 = GridSearchCV(estimator = XGBClassifier(max_depth= ini_max_depth, min_child_weight= ini_min_child_weight,\n",
    "                    gamma=ini_gamma, colsample_bytree=ini_colsample_bytree, subsample=ini_subsample, \n",
    "                    reg_alpha = ini_reg_alpha, reg_lambda = ini_reg_lambda, max_delta_step = ini_max_delta_step, \n",
    "                    scale_pos_weight= ini_scale_pos_weight, learning_rate = ini_learning_rate, \n",
    "                    n_estimators=ini_n_estimators, objective= 'binary:logistic', nthread=4, seed=45), \n",
    "param_grid = param_test1, scoring='log_loss',n_jobs=4,iid=False, cv=5)\n",
    "\n",
    "gsearch1.fit(X_train,np.ravel(Y_train))\n",
    "pd.Series(gsearch1.grid_scores_).to_csv('/home/pgoyal/quora/model4/gs_files/gs_search1.csv')\n",
    "gsearch1.grid_scores_, gsearch1.best_params_, gsearch1.best_score_"
   ]
  },
  {
   "cell_type": "code",
   "execution_count": 36,
   "metadata": {
    "collapsed": false
   },
   "outputs": [],
   "source": [
    "# Best till here : Order is on the basis of the params given!\n",
    "ini_max_depth = gsearch1.best_params_.values()[0]\n",
    "ini_min_child_weight = gsearch1.best_params_.values()[1]"
   ]
  },
  {
   "cell_type": "code",
   "execution_count": 37,
   "metadata": {
    "collapsed": false
   },
   "outputs": [
    {
     "data": {
      "text/plain": [
       "([mean: -0.33564, std: 0.00192, params: {'gamma': 0.0},\n",
       "  mean: -0.33574, std: 0.00192, params: {'gamma': 0.1},\n",
       "  mean: -0.33578, std: 0.00186, params: {'gamma': 0.2},\n",
       "  mean: -0.33573, std: 0.00182, params: {'gamma': 0.3}],\n",
       " {'gamma': 0.0},\n",
       " -0.33563911361257137)"
      ]
     },
     "execution_count": 37,
     "metadata": {},
     "output_type": "execute_result"
    }
   ],
   "source": [
    "# Tune tree pruning parameters: gamma\n",
    "param_test2 = {\n",
    "   'gamma':[i/10.0 for i in range(0,4)]\n",
    "}\n",
    "\n",
    "gsearch2 = GridSearchCV(estimator = XGBClassifier(max_depth= ini_max_depth, min_child_weight= ini_min_child_weight,\n",
    "                    gamma=ini_gamma, colsample_bytree=ini_colsample_bytree, subsample=ini_subsample, \n",
    "                    reg_alpha = ini_reg_alpha, reg_lambda = ini_reg_lambda, max_delta_step = ini_max_delta_step, \n",
    "                    scale_pos_weight= ini_scale_pos_weight, learning_rate = ini_learning_rate, \n",
    "                    n_estimators=ini_n_estimators, objective= 'binary:logistic', nthread=4, seed=45), \n",
    "param_grid = param_test2, scoring='log_loss',n_jobs=4,iid=False, cv=5)\n",
    "\n",
    "gsearch2.fit(X_train,np.ravel(Y_train))\n",
    "pd.Series(gsearch2.grid_scores_).to_csv('/home/pgoyal/quora/model4/gs_files/gs_search2.csv')\n",
    "gsearch2.grid_scores_, gsearch2.best_params_, gsearch2.best_score_"
   ]
  },
  {
   "cell_type": "code",
   "execution_count": 38,
   "metadata": {
    "collapsed": false
   },
   "outputs": [],
   "source": [
    "# Best till here :\n",
    "ini_gamma = gsearch2.best_params_.values()[0]"
   ]
  },
  {
   "cell_type": "code",
   "execution_count": 39,
   "metadata": {
    "collapsed": false
   },
   "outputs": [
    {
     "data": {
      "text/plain": [
       "([mean: -0.33607, std: 0.00181, params: {'subsample': 0.6, 'colsample_bytree': 0.6},\n",
       "  mean: -0.33581, std: 0.00182, params: {'subsample': 0.7, 'colsample_bytree': 0.6},\n",
       "  mean: -0.33553, std: 0.00186, params: {'subsample': 0.8, 'colsample_bytree': 0.6},\n",
       "  mean: -0.33516, std: 0.00178, params: {'subsample': 0.9, 'colsample_bytree': 0.6},\n",
       "  mean: -0.33625, std: 0.00169, params: {'subsample': 0.6, 'colsample_bytree': 0.7},\n",
       "  mean: -0.33560, std: 0.00169, params: {'subsample': 0.7, 'colsample_bytree': 0.7},\n",
       "  mean: -0.33527, std: 0.00187, params: {'subsample': 0.8, 'colsample_bytree': 0.7},\n",
       "  mean: -0.33525, std: 0.00168, params: {'subsample': 0.9, 'colsample_bytree': 0.7},\n",
       "  mean: -0.33628, std: 0.00205, params: {'subsample': 0.6, 'colsample_bytree': 0.8},\n",
       "  mean: -0.33564, std: 0.00192, params: {'subsample': 0.7, 'colsample_bytree': 0.8},\n",
       "  mean: -0.33554, std: 0.00186, params: {'subsample': 0.8, 'colsample_bytree': 0.8},\n",
       "  mean: -0.33551, std: 0.00173, params: {'subsample': 0.9, 'colsample_bytree': 0.8},\n",
       "  mean: -0.33649, std: 0.00173, params: {'subsample': 0.6, 'colsample_bytree': 0.9},\n",
       "  mean: -0.33569, std: 0.00174, params: {'subsample': 0.7, 'colsample_bytree': 0.9},\n",
       "  mean: -0.33549, std: 0.00193, params: {'subsample': 0.8, 'colsample_bytree': 0.9},\n",
       "  mean: -0.33543, std: 0.00160, params: {'subsample': 0.9, 'colsample_bytree': 0.9}],\n",
       " {'colsample_bytree': 0.6, 'subsample': 0.9},\n",
       " -0.33515614784559311)"
      ]
     },
     "execution_count": 39,
     "metadata": {},
     "output_type": "execute_result"
    }
   ],
   "source": [
    "# Tune tree pruning parameters: subsample, colsample_bytree\n",
    "param_test3 = {\n",
    "  'subsample':[i/10.0 for i in range(6,10)],\n",
    " 'colsample_bytree':[i/10.0 for i in range(6,10)]\n",
    "}\n",
    "\n",
    "gsearch3 = GridSearchCV(estimator = XGBClassifier(max_depth= ini_max_depth, min_child_weight= ini_min_child_weight,\n",
    "                    gamma=ini_gamma, colsample_bytree=ini_colsample_bytree, subsample=ini_subsample, \n",
    "                    reg_alpha = ini_reg_alpha, reg_lambda = ini_reg_lambda, max_delta_step = ini_max_delta_step, \n",
    "                    scale_pos_weight= ini_scale_pos_weight, learning_rate = ini_learning_rate, \n",
    "                    n_estimators=ini_n_estimators, objective= 'binary:logistic', nthread=4, seed=45), \n",
    "param_grid = param_test3, scoring='log_loss',n_jobs=4,iid=False, cv=5)\n",
    "\n",
    "gsearch3.fit(X_train,np.ravel(Y_train))\n",
    "pd.Series(gsearch3.grid_scores_).to_csv('/home/pgoyal/quora/model4/gs_files/gs_search3.csv')\n",
    "gsearch3.grid_scores_, gsearch3.best_params_, gsearch3.best_score_"
   ]
  },
  {
   "cell_type": "code",
   "execution_count": 40,
   "metadata": {
    "collapsed": false
   },
   "outputs": [],
   "source": [
    "# Best till here :\n",
    "ini_subsample = gsearch3.best_params_.values()[0]\n",
    "ini_colsample_bytree = gsearch3.best_params_.values()[1]"
   ]
  },
  {
   "cell_type": "code",
   "execution_count": 41,
   "metadata": {
    "collapsed": false
   },
   "outputs": [
    {
     "data": {
      "text/plain": [
       "([mean: -0.33566, std: 0.00144, params: {'reg_alpha': 0.01},\n",
       "  mean: -0.33553, std: 0.00182, params: {'reg_alpha': 0.1},\n",
       "  mean: -0.33516, std: 0.00178, params: {'reg_alpha': 1},\n",
       "  mean: -0.33516, std: 0.00171, params: {'reg_alpha': 1.1}],\n",
       " {'reg_alpha': 1},\n",
       " -0.33515614784559311)"
      ]
     },
     "execution_count": 41,
     "metadata": {},
     "output_type": "execute_result"
    }
   ],
   "source": [
    "# Tune tree pruning parameters: reg_alpha\n",
    "param_test4 = {\n",
    "    'reg_alpha':[ 1e-2, 0.1, 1, 1.1]\n",
    "}\n",
    "\n",
    "gsearch4 = GridSearchCV(estimator = XGBClassifier(max_depth= ini_max_depth, min_child_weight= ini_min_child_weight,\n",
    "                    gamma=ini_gamma, colsample_bytree=ini_colsample_bytree, subsample=ini_subsample, \n",
    "                    reg_alpha = ini_reg_alpha, reg_lambda = ini_reg_lambda, max_delta_step = ini_max_delta_step, \n",
    "                    scale_pos_weight= ini_scale_pos_weight, learning_rate = ini_learning_rate, \n",
    "                    n_estimators=ini_n_estimators, objective= 'binary:logistic', nthread=4, seed=45), \n",
    "param_grid = param_test4, scoring='log_loss',n_jobs=4,iid=False, cv=5)\n",
    "\n",
    "gsearch4.fit(X_train,np.ravel(Y_train))\n",
    "pd.Series(gsearch4.grid_scores_).to_csv('/home/pgoyal/quora/model4/gs_files/gs_search4.csv')\n",
    "gsearch4.grid_scores_, gsearch4.best_params_, gsearch4.best_score_"
   ]
  },
  {
   "cell_type": "code",
   "execution_count": 42,
   "metadata": {
    "collapsed": true
   },
   "outputs": [],
   "source": [
    "# Best till here :\n",
    "ini_reg_alpha= gsearch4.best_params_.values()[0]"
   ]
  },
  {
   "cell_type": "code",
   "execution_count": 43,
   "metadata": {
    "collapsed": false
   },
   "outputs": [
    {
     "data": {
      "text/plain": [
       "([mean: -0.33516, std: 0.00178, params: {'reg_lambda': 0},\n",
       "  mean: -0.33551, std: 0.00172, params: {'reg_lambda': 1},\n",
       "  mean: -0.33547, std: 0.00157, params: {'reg_lambda': 2},\n",
       "  mean: -0.33550, std: 0.00173, params: {'reg_lambda': 3}],\n",
       " {'reg_lambda': 0},\n",
       " -0.33515614784559311)"
      ]
     },
     "execution_count": 43,
     "metadata": {},
     "output_type": "execute_result"
    }
   ],
   "source": [
    "# Tune tree pruning parameters: reg_lambda\n",
    "param_test5 = {\n",
    "  'reg_lambda':[0, 1,2, 3]\n",
    "}\n",
    "\n",
    "gsearch5 = GridSearchCV(estimator = XGBClassifier(max_depth= ini_max_depth, min_child_weight= ini_min_child_weight,\n",
    "                    gamma=ini_gamma, colsample_bytree=ini_colsample_bytree, subsample=ini_subsample, \n",
    "                    reg_alpha = ini_reg_alpha, reg_lambda = ini_reg_lambda, max_delta_step = ini_max_delta_step, \n",
    "                    scale_pos_weight= ini_scale_pos_weight, learning_rate = ini_learning_rate, \n",
    "                    n_estimators=ini_n_estimators, objective= 'binary:logistic', nthread=4, seed=45), \n",
    "param_grid = param_test5, scoring='log_loss',n_jobs=4,iid=False, cv=5)\n",
    "\n",
    "gsearch5.fit(X_train,np.ravel(Y_train))\n",
    "pd.Series(gsearch5.grid_scores_).to_csv('/home/pgoyal/quora/model4/gs_files/gs_search5.csv')\n",
    "gsearch5.grid_scores_, gsearch5.best_params_, gsearch5.best_score_"
   ]
  },
  {
   "cell_type": "code",
   "execution_count": 44,
   "metadata": {
    "collapsed": true
   },
   "outputs": [],
   "source": [
    "# Best till here :\n",
    "ini_reg_lambda= gsearch5.best_params_.values()[0]"
   ]
  },
  {
   "cell_type": "code",
   "execution_count": 45,
   "metadata": {
    "collapsed": false
   },
   "outputs": [
    {
     "data": {
      "text/plain": [
       "([mean: -0.33578, std: 0.00187, params: {'max_delta_step': 1},\n",
       "  mean: -0.33533, std: 0.00184, params: {'max_delta_step': 2},\n",
       "  mean: -0.33516, std: 0.00178, params: {'max_delta_step': 3},\n",
       "  mean: -0.33523, std: 0.00167, params: {'max_delta_step': 4}],\n",
       " {'max_delta_step': 3},\n",
       " -0.33515614784559311)"
      ]
     },
     "execution_count": 45,
     "metadata": {},
     "output_type": "execute_result"
    }
   ],
   "source": [
    "# Tune tree pruning parameters: max_delta_step\n",
    "param_test6 = {\n",
    "  'max_delta_step':[1,2,3,4]\n",
    "}\n",
    "\n",
    "gsearch6 = GridSearchCV(estimator = XGBClassifier(max_depth= ini_max_depth, min_child_weight= ini_min_child_weight,\n",
    "                    gamma=ini_gamma, colsample_bytree=ini_colsample_bytree, subsample=ini_subsample, \n",
    "                    reg_alpha = ini_reg_alpha, reg_lambda = ini_reg_lambda, max_delta_step = ini_max_delta_step, \n",
    "                    scale_pos_weight= ini_scale_pos_weight, learning_rate = ini_learning_rate, \n",
    "                    n_estimators=ini_n_estimators, objective= 'binary:logistic', nthread=4, seed=45), \n",
    "param_grid = param_test6, scoring='log_loss',n_jobs=4,iid=False, cv=5)\n",
    "\n",
    "gsearch6.fit(X_train,np.ravel(Y_train))\n",
    "pd.Series(gsearch6.grid_scores_).to_csv('/home/pgoyal/quora/model4/gs_files/gs_search6.csv')\n",
    "gsearch6.grid_scores_, gsearch6.best_params_, gsearch6.best_score_"
   ]
  },
  {
   "cell_type": "code",
   "execution_count": 46,
   "metadata": {
    "collapsed": true
   },
   "outputs": [],
   "source": [
    "# Best till here :\n",
    "ini_max_delta_step= gsearch6.best_params_.values()[0]"
   ]
  },
  {
   "cell_type": "code",
   "execution_count": 47,
   "metadata": {
    "collapsed": false
   },
   "outputs": [
    {
     "data": {
      "text/plain": [
       "([mean: -0.33516, std: 0.00178, params: {'scale_pos_weight': 1},\n",
       "  mean: -0.35756, std: 0.00126, params: {'scale_pos_weight': 2},\n",
       "  mean: -0.42525, std: 0.00128, params: {'scale_pos_weight': 4}],\n",
       " {'scale_pos_weight': 1},\n",
       " -0.33515614784559311)"
      ]
     },
     "execution_count": 47,
     "metadata": {},
     "output_type": "execute_result"
    }
   ],
   "source": [
    "# Tune tree pruning parameters: scale_pos_weight\n",
    "param_test7 = {\n",
    "  'scale_pos_weight':[1, 2, 4]\n",
    "}\n",
    "\n",
    "gsearch7 = GridSearchCV(estimator = XGBClassifier(max_depth= ini_max_depth, min_child_weight= ini_min_child_weight,\n",
    "                    gamma=ini_gamma, colsample_bytree=ini_colsample_bytree, subsample=ini_subsample, \n",
    "                    reg_alpha = ini_reg_alpha, reg_lambda = ini_reg_lambda, max_delta_step = ini_max_delta_step, \n",
    "                    scale_pos_weight= ini_scale_pos_weight, learning_rate = ini_learning_rate, \n",
    "                    n_estimators=ini_n_estimators, objective= 'binary:logistic', nthread=4, seed=45), \n",
    "param_grid = param_test7, scoring='log_loss',n_jobs=4,iid=False, cv=5)\n",
    "\n",
    "gsearch7.fit(X_train,np.ravel(Y_train))\n",
    "pd.Series(gsearch7.grid_scores_).to_csv('/home/pgoyal/quora/model4/gs_files/gs_search7.csv')\n",
    "gsearch7.grid_scores_, gsearch7.best_params_, gsearch7.best_score_"
   ]
  },
  {
   "cell_type": "code",
   "execution_count": 48,
   "metadata": {
    "collapsed": true
   },
   "outputs": [],
   "source": [
    "# Best till here :\n",
    "ini_scale_pos_weight= gsearch7.best_params_.values()[0]"
   ]
  },
  {
   "cell_type": "code",
   "execution_count": 49,
   "metadata": {
    "collapsed": false
   },
   "outputs": [
    {
     "data": {
      "text/plain": [
       "([mean: -0.37619, std: 0.00101, params: {'n_estimators': 250, 'learning_rate': 0.01},\n",
       "  mean: -0.35193, std: 0.00120, params: {'n_estimators': 500, 'learning_rate': 0.01},\n",
       "  mean: -0.34795, std: 0.00131, params: {'n_estimators': 650, 'learning_rate': 0.01},\n",
       "  mean: -0.34540, std: 0.00135, params: {'n_estimators': 800, 'learning_rate': 0.01},\n",
       "  mean: -0.34621, std: 0.00132, params: {'n_estimators': 250, 'learning_rate': 0.03},\n",
       "  mean: -0.33975, std: 0.00147, params: {'n_estimators': 500, 'learning_rate': 0.03},\n",
       "  mean: -0.33789, std: 0.00151, params: {'n_estimators': 650, 'learning_rate': 0.03},\n",
       "  mean: -0.33662, std: 0.00152, params: {'n_estimators': 800, 'learning_rate': 0.03},\n",
       "  mean: -0.34119, std: 0.00145, params: {'n_estimators': 250, 'learning_rate': 0.05},\n",
       "  mean: -0.33667, std: 0.00155, params: {'n_estimators': 500, 'learning_rate': 0.05},\n",
       "  mean: -0.33548, std: 0.00167, params: {'n_estimators': 650, 'learning_rate': 0.05},\n",
       "  mean: -0.33471, std: 0.00185, params: {'n_estimators': 800, 'learning_rate': 0.05}],\n",
       " {'learning_rate': 0.05, 'n_estimators': 800},\n",
       " -0.33471224857729043)"
      ]
     },
     "execution_count": 49,
     "metadata": {},
     "output_type": "execute_result"
    }
   ],
   "source": [
    "param_test8 = {\n",
    "    'learning_rate':[0.01, 0.03, 0.05],\n",
    "    'n_estimators':[250, 500, 650, 800]\n",
    "}\n",
    "\n",
    "gsearch8 = GridSearchCV(estimator = XGBClassifier(max_depth= ini_max_depth, min_child_weight= ini_min_child_weight,\n",
    "                    gamma=ini_gamma, colsample_bytree=ini_colsample_bytree, subsample=ini_subsample, \n",
    "                    reg_alpha = ini_reg_alpha, reg_lambda = ini_reg_lambda, max_delta_step = ini_max_delta_step, \n",
    "                    scale_pos_weight= ini_scale_pos_weight, learning_rate = ini_learning_rate, \n",
    "                    n_estimators=ini_n_estimators, objective= 'binary:logistic', nthread=4, seed=45), \n",
    "param_grid = param_test8, scoring='log_loss',n_jobs=4,iid=False, cv=5)\n",
    "\n",
    "gsearch8.fit(X_train,np.ravel(Y_train))\n",
    "pd.Series(gsearch8.grid_scores_).to_csv('/home/pgoyal/quora/model4/gs_files/gs_search8.csv')\n",
    "gsearch8.grid_scores_, gsearch8.best_params_, gsearch8.best_score_"
   ]
  },
  {
   "cell_type": "code",
   "execution_count": 50,
   "metadata": {
    "collapsed": true
   },
   "outputs": [],
   "source": [
    "# Best till here :\n",
    "ini_n_estimators= gsearch8.best_params_.values()[0]\n",
    "ini_learning_rate= gsearch8.best_params_.values()[1]"
   ]
  },
  {
   "cell_type": "code",
   "execution_count": 51,
   "metadata": {
    "collapsed": false
   },
   "outputs": [
    {
     "name": "stdout",
     "output_type": "stream",
     "text": [
      "max_depth 7\n",
      "min_child_weight 1\n",
      "gamma 0.0\n",
      "colsample_bytree 0.6\n",
      "subsample 0.9\n",
      "reg_alpha 1\n",
      "reg_lambda 0\n",
      "max_delta_step 3\n",
      "scale_pos_weight 1\n",
      "learning_rate 0.05\n",
      "n_estimators 800\n"
     ]
    }
   ],
   "source": [
    "print \"max_depth\", ini_max_depth\n",
    "print \"min_child_weight\", ini_min_child_weight\n",
    "print \"gamma\", ini_gamma\n",
    "print \"colsample_bytree\", ini_colsample_bytree\n",
    "print \"subsample\", ini_subsample\n",
    "print \"reg_alpha\", ini_reg_alpha\n",
    "print \"reg_lambda\", ini_reg_lambda\n",
    "print \"max_delta_step\", ini_max_delta_step\n",
    "print \"scale_pos_weight\", ini_scale_pos_weight\n",
    "print \"learning_rate\", ini_learning_rate\n",
    "print \"n_estimators\", ini_n_estimators"
   ]
  },
  {
   "cell_type": "code",
   "execution_count": 53,
   "metadata": {
    "collapsed": false
   },
   "outputs": [
    {
     "name": "stderr",
     "output_type": "stream",
     "text": [
      "Will train until cv error hasn't decreased in 50 rounds.\n"
     ]
    },
    {
     "name": "stdout",
     "output_type": "stream",
     "text": [
      "AUC Score (Train): 0.944532\n",
      "Log Loss (Train): 0.290844 \n"
     ]
    },
    {
     "data": {
      "image/png": "[encoded data removed]",
      "text/plain": [
       "<matplotlib.figure.Figure at 0x7f9b4ef39b10>"
      ]
     },
     "metadata": {},
     "output_type": "display_data"
    }
   ],
   "source": [
    "# xgboost classifier Using the param values till param8 from the above GridSearch\n",
    "xgb_log2 = XGBClassifier(max_depth= 7, min_child_weight= 1, gamma=0.0, colsample_bytree=0.6, subsample=0.9, \n",
    "                    reg_alpha = 1, reg_lambda = 0, max_delta_step = 3, scale_pos_weight= 1, learning_rate = 0.05, \n",
    "                    n_estimators=800, objective= 'binary:logistic', nthread=4, seed=45)\n",
    "\n",
    "#Choose the predictors for xgboost and fit the model\n",
    "modelfit(xgb_log2, X_train, predictors)"
   ]
  },
  {
   "cell_type": "code",
   "execution_count": 55,
   "metadata": {
    "collapsed": false
   },
   "outputs": [
    {
     "name": "stdout",
     "output_type": "stream",
     "text": [
      "Validation AUC: 0.944532489467\n",
      "Validation LogLoss: 0.290844450225\n"
     ]
    }
   ],
   "source": [
    "# Train roc_auc & Log Loss\n",
    "y_predS_xgb_log2 = xgb_log2.predict_proba(X_train)\n",
    "print('Validation AUC: ' + str( roc_auc_score(Y_train, y_predS_xgb_log2[:,1]) ))\n",
    "print('Validation LogLoss: ' + str( log_loss(Y_train, y_predS_xgb_log2[:,1]) ))"
   ]
  },
  {
   "cell_type": "code",
   "execution_count": 57,
   "metadata": {
    "collapsed": false
   },
   "outputs": [
    {
     "name": "stdout",
     "output_type": "stream",
     "text": [
      "mean auc: 0.922296553918\n",
      "std auc: 0.000937057748154\n",
      "mean log_loss: -0.334712248577\n",
      "std log_loss: 0.00184750438831\n"
     ]
    }
   ],
   "source": [
    "# Cross validation AUC \n",
    "cv_score_xgb_log2 = cross_val_score(xgb_log2, X_train, np.ravel(Y_train), cv = 5, scoring ='roc_auc')\n",
    "print('mean auc: ' + str(cv_score_xgb_log2.mean()))\n",
    "print('std auc: ' + str(cv_score_xgb_log2.std()))\n",
    "cv_score1_xgb_log2 = cross_val_score(xgb_log2, X_train, np.ravel(Y_train), cv = 5, scoring ='log_loss')\n",
    "print 'mean log_loss: ' + str(cv_score1_xgb_log2.mean())\n",
    "print 'std log_loss: ' + str(cv_score1_xgb_log2.std())"
   ]
  },
  {
   "cell_type": "code",
   "execution_count": 56,
   "metadata": {
    "collapsed": false
   },
   "outputs": [
    {
     "data": {
      "text/plain": [
       "['/home/pgoyal/quora/model4/xgb_log2_dup_logloss.pkl',\n",
       " '/home/pgoyal/quora/model4/xgb_log2_dup_logloss.pkl_01.npy']"
      ]
     },
     "execution_count": 56,
     "metadata": {},
     "output_type": "execute_result"
    }
   ],
   "source": [
    "# Save the model# Model with prcnt_common feature\n",
    "from sklearn.externals import joblib\n",
    "joblib.dump(xgb_log2, '/home/pgoyal/quora/model4/xgb_log2_dup_logloss.pkl')"
   ]
  },
  {
   "cell_type": "markdown",
   "metadata": {},
   "source": [
    "### Further Grid Search"
   ]
  },
  {
   "cell_type": "code",
   "execution_count": 75,
   "metadata": {
    "collapsed": false
   },
   "outputs": [
    {
     "name": "stdout",
     "output_type": "stream",
     "text": [
      "[mean: -0.33972, std: 0.00164, params:\n",
      "{'n_estimators': 750, 'subsample': 0.8,\n",
      "'colsample_bytree': 0.3, 'max_depth':\n",
      "6},\n",
      "mean: -0.33953, std: 0.00138, params:\n",
      "{'n_estimators': 750, 'subsample': 0.9,\n",
      "'colsample_bytree': 0.3, 'max_depth':\n",
      "6},\n",
      "mean: -0.33937, std: 0.00160, params:\n",
      "{'n_estimators': 750, 'subsample': 1.0,\n",
      "'colsample_bytree': 0.3, 'max_depth':\n",
      "6},\n",
      "mean: -0.33934, std: 0.00163, params:\n",
      "{'n_estimators': 800, 'subsample': 0.8,\n",
      "'colsample_bytree': 0.3, 'max_depth':\n",
      "6},\n",
      "mean: -0.33912, std: 0.00141, params:\n",
      "{'n_estimators': 800, 'subsample': 0.9,\n",
      "'colsample_bytree': 0.3, 'max_depth':\n",
      "6},\n",
      "mean: -0.33899, std: 0.00160, params:\n",
      "{'n_estimators': 800, 'subsample': 1.0,\n",
      "'colsample_bytree': 0.3, 'max_depth':\n",
      "6},\n",
      "mean: -0.33900, std: 0.00163, params:\n",
      "{'n_estimators': 850, 'subsample': 0.8,\n",
      "'colsample_bytree': 0.3, 'max_depth':\n",
      "6},\n",
      "mean: -0.33871, std: 0.00145, params:\n",
      "{'n_estimators': 850, 'subsample': 0.9,\n",
      "'colsample_bytree': 0.3, 'max_depth':\n",
      "6},\n",
      "mean: -0.33864, std: 0.00158, params:\n",
      "{'n_estimators': 850, 'subsample': 1.0,\n",
      "'colsample_bytree': 0.3, 'max_depth':\n",
      "6},\n",
      "mean: -0.33869, std: 0.00162, params:\n",
      "{'n_estimators': 900, 'subsample': 0.8,\n",
      "'colsample_bytree': 0.3, 'max_depth':\n",
      "6},\n",
      "mean: -0.33843, std: 0.00146, params:\n",
      "{'n_estimators': 900, 'subsample': 0.9,\n",
      "'colsample_bytree': 0.3, 'max_depth':\n",
      "6},\n",
      "mean: -0.33835, std: 0.00160, params:\n",
      "{'n_estimators': 900, 'subsample': 1.0,\n",
      "'colsample_bytree': 0.3, 'max_depth':\n",
      "6},\n",
      "mean: -0.33841, std: 0.00161, params:\n",
      "{'n_estimators': 950, 'subsample': 0.8,\n",
      "'colsample_bytree': 0.3, 'max_depth':\n",
      "6},\n",
      "mean: -0.33811, std: 0.00150, params:\n",
      "{'n_estimators': 950, 'subsample': 0.9,\n",
      "'colsample_bytree': 0.3, 'max_depth':\n",
      "6},\n",
      "mean: -0.33807, std: 0.00162, params:\n",
      "{'n_estimators': 950, 'subsample': 1.0,\n",
      "'colsample_bytree': 0.3, 'max_depth':\n",
      "6},\n",
      "mean: -0.37347, std: 0.00130, params:\n",
      "{'n_estimators': 100, 'subsample': 0.8,\n",
      "'colsample_bytree': 0.3, 'max_depth':\n",
      "6},\n",
      "mean: -0.37340, std: 0.00128, params:\n",
      "{'n_estimators': 100, 'subsample': 0.9,\n",
      "'colsample_bytree': 0.3, 'max_depth':\n",
      "6},\n",
      "mean: -0.37062, std: 0.00126, params:\n",
      "{'n_estimators': 100, 'subsample': 1.0,\n",
      "'colsample_bytree': 0.3, 'max_depth':\n",
      "6},\n",
      "mean: -0.33771, std: 0.00143, params:\n",
      "{'n_estimators': 750, 'subsample': 0.8,\n",
      "'colsample_bytree': 0.3, 'max_depth':\n",
      "7},\n",
      "mean: -0.33743, std: 0.00167, params:\n",
      "{'n_estimators': 750, 'subsample': 0.9,\n",
      "'colsample_bytree': 0.3, 'max_depth':\n",
      "7},\n",
      "mean: -0.33723, std: 0.00166, params:\n",
      "{'n_estimators': 750, 'subsample': 1.0,\n",
      "'colsample_bytree': 0.3, 'max_depth':\n",
      "7},\n",
      "mean: -0.33740, std: 0.00145, params:\n",
      "{'n_estimators': 800, 'subsample': 0.8,\n",
      "'colsample_bytree': 0.3, 'max_depth':\n",
      "7},\n",
      "mean: -0.33710, std: 0.00165, params:\n",
      "{'n_estimators': 800, 'subsample': 0.9,\n",
      "'colsample_bytree': 0.3, 'max_depth':\n",
      "7},\n",
      "mean: -0.33696, std: 0.00168, params:\n",
      "{'n_estimators': 800, 'subsample': 1.0,\n",
      "'colsample_bytree': 0.3, 'max_depth':\n",
      "7},\n",
      "mean: -0.33711, std: 0.00147, params:\n",
      "{'n_estimators': 850, 'subsample': 0.8,\n",
      "'colsample_bytree': 0.3, 'max_depth':\n",
      "7},\n",
      "mean: -0.33674, std: 0.00169, params:\n",
      "{'n_estimators': 850, 'subsample': 0.9,\n",
      "'colsample_bytree': 0.3, 'max_depth':\n",
      "7},\n",
      "mean: -0.33662, std: 0.00173, params:\n",
      "{'n_estimators': 850, 'subsample': 1.0,\n",
      "'colsample_bytree': 0.3, 'max_depth':\n",
      "7},\n",
      "mean: -0.33691, std: 0.00151, params:\n",
      "{'n_estimators': 900, 'subsample': 0.8,\n",
      "'colsample_bytree': 0.3, 'max_depth':\n",
      "7},\n",
      "mean: -0.33649, std: 0.00171, params:\n",
      "{'n_estimators': 900, 'subsample': 0.9,\n",
      "'colsample_bytree': 0.3, 'max_depth':\n",
      "7},\n",
      "mean: -0.33641, std: 0.00174, params:\n",
      "{'n_estimators': 900, 'subsample': 1.0,\n",
      "'colsample_bytree': 0.3, 'max_depth':\n",
      "7},\n",
      "mean: -0.33670, std: 0.00152, params:\n",
      "{'n_estimators': 950, 'subsample': 0.8,\n",
      "'colsample_bytree': 0.3, 'max_depth':\n",
      "7},\n",
      "mean: -0.33628, std: 0.00177, params:\n",
      "{'n_estimators': 950, 'subsample': 0.9,\n",
      "'colsample_bytree': 0.3, 'max_depth':\n",
      "7},\n",
      "mean: -0.33619, std: 0.00175, params:\n",
      "{'n_estimators': 950, 'subsample': 1.0,\n",
      "'colsample_bytree': 0.3, 'max_depth':\n",
      "7},\n",
      "mean: -0.36951, std: 0.00137, params:\n",
      "{'n_estimators': 100, 'subsample': 0.8,\n",
      "'colsample_bytree': 0.3, 'max_depth':\n",
      "7},\n",
      "mean: -0.36920, std: 0.00144, params:\n",
      "{'n_estimators': 100, 'subsample': 0.9,\n",
      "'colsample_bytree': 0.3, 'max_depth':\n",
      "7},\n",
      "mean: -0.36687, std: 0.00134, params:\n",
      "{'n_estimators': 100, 'subsample': 1.0,\n",
      "'colsample_bytree': 0.3, 'max_depth':\n",
      "7},\n",
      "mean: -0.33648, std: 0.00172, params:\n",
      "{'n_estimators': 750, 'subsample': 0.8,\n",
      "'colsample_bytree': 0.3, 'max_depth':\n",
      "8},\n",
      "mean: -0.33605, std: 0.00171, params:\n",
      "{'n_estimators': 750, 'subsample': 0.9,\n",
      "'colsample_bytree': 0.3, 'max_depth':\n",
      "8},\n",
      "mean: -0.33603, std: 0.00153, params:\n",
      "{'n_estimators': 750, 'subsample': 1.0,\n",
      "'colsample_bytree': 0.3, 'max_depth':\n",
      "8},\n",
      "mean: -0.33627, std: 0.00173, params:\n",
      "{'n_estimators': 800, 'subsample': 0.8,\n",
      "'colsample_bytree': 0.3, 'max_depth':\n",
      "8},\n",
      "mean: -0.33579, std: 0.00170, params:\n",
      "{'n_estimators': 800, 'subsample': 0.9,\n",
      "'colsample_bytree': 0.3, 'max_depth':\n",
      "8},\n",
      "mean: -0.33576, std: 0.00161, params:\n",
      "{'n_estimators': 800, 'subsample': 1.0,\n",
      "'colsample_bytree': 0.3, 'max_depth':\n",
      "8},\n",
      "mean: -0.33608, std: 0.00170, params:\n",
      "{'n_estimators': 850, 'subsample': 0.8,\n",
      "'colsample_bytree': 0.3, 'max_depth':\n",
      "8},\n",
      "mean: -0.33553, std: 0.00173, params:\n",
      "{'n_estimators': 850, 'subsample': 0.9,\n",
      "'colsample_bytree': 0.3, 'max_depth':\n",
      "8},\n",
      "mean: -0.33550, std: 0.00165, params:\n",
      "{'n_estimators': 850, 'subsample': 1.0,\n",
      "'colsample_bytree': 0.3, 'max_depth':\n",
      "8},\n",
      "mean: -0.33597, std: 0.00172, params:\n",
      "{'n_estimators': 900, 'subsample': 0.8,\n",
      "'colsample_bytree': 0.3, 'max_depth':\n",
      "8},\n",
      "mean: -0.33535, std: 0.00182, params:\n",
      "{'n_estimators': 900, 'subsample': 0.9,\n",
      "'colsample_bytree': 0.3, 'max_depth':\n",
      "8},\n",
      "mean: -0.33531, std: 0.00168, params:\n",
      "{'n_estimators': 900, 'subsample': 1.0,\n",
      "'colsample_bytree': 0.3, 'max_depth':\n",
      "8},\n",
      "mean: -0.33584, std: 0.00175, params:\n",
      "{'n_estimators': 950, 'subsample': 0.8,\n",
      "'colsample_bytree': 0.3, 'max_depth':\n",
      "8},\n",
      "mean: -0.33519, std: 0.00183, params:\n",
      "{'n_estimators': 950, 'subsample': 0.9,\n",
      "'colsample_bytree': 0.3, 'max_depth':\n",
      "8},\n",
      "mean: -0.33515, std: 0.00166, params:\n",
      "{'n_estimators': 950, 'subsample': 1.0,\n",
      "'colsample_bytree': 0.3, 'max_depth':\n",
      "8},\n",
      "mean: -0.36635, std: 0.00140, params:\n",
      "{'n_estimators': 100, 'subsample': 0.8,\n",
      "'colsample_bytree': 0.3, 'max_depth':\n",
      "8},\n",
      "mean: -0.36621, std: 0.00147, params:\n",
      "{'n_estimators': 100, 'subsample': 0.9,\n",
      "'colsample_bytree': 0.3, 'max_depth':\n",
      "8},\n",
      "mean: -0.36394, std: 0.00131, params:\n",
      "{'n_estimators': 100, 'subsample': 1.0,\n",
      "'colsample_bytree': 0.3, 'max_depth':\n",
      "8},\n",
      "mean: -0.33600, std: 0.00181, params:\n",
      "{'n_estimators': 750, 'subsample': 0.8,\n",
      "'colsample_bytree': 0.3, 'max_depth':\n",
      "9},\n",
      "mean: -0.33545, std: 0.00179, params:\n",
      "{'n_estimators': 750, 'subsample': 0.9,\n",
      "'colsample_bytree': 0.3, 'max_depth':\n",
      "9},\n",
      "mean: -0.33528, std: 0.00173, params:\n",
      "{'n_estimators': 750, 'subsample': 1.0,\n",
      "'colsample_bytree': 0.3, 'max_depth':\n",
      "9},\n",
      "mean: -0.33588, std: 0.00183, params:\n",
      "{'n_estimators': 800, 'subsample': 0.8,\n",
      "'colsample_bytree': 0.3, 'max_depth':\n",
      "9},\n",
      "mean: -0.33531, std: 0.00179, params:\n",
      "{'n_estimators': 800, 'subsample': 0.9,\n",
      "'colsample_bytree': 0.3, 'max_depth':\n",
      "9},\n",
      "mean: -0.33514, std: 0.00175, params:\n",
      "{'n_estimators': 800, 'subsample': 1.0,\n",
      "'colsample_bytree': 0.3, 'max_depth':\n",
      "9},\n",
      "mean: -0.33581, std: 0.00187, params:\n",
      "{'n_estimators': 850, 'subsample': 0.8,\n",
      "'colsample_bytree': 0.3, 'max_depth':\n",
      "9},\n",
      "mean: -0.33517, std: 0.00181, params:\n",
      "{'n_estimators': 850, 'subsample': 0.9,\n",
      "'colsample_bytree': 0.3, 'max_depth':\n",
      "9},\n",
      "mean: -0.33498, std: 0.00179, params:\n",
      "{'n_estimators': 850, 'subsample': 1.0,\n",
      "'colsample_bytree': 0.3, 'max_depth':\n",
      "9},\n",
      "mean: -0.33572, std: 0.00185, params:\n",
      "{'n_estimators': 900, 'subsample': 0.8,\n",
      "'colsample_bytree': 0.3, 'max_depth':\n",
      "9},\n",
      "mean: -0.33507, std: 0.00182, params:\n",
      "{'n_estimators': 900, 'subsample': 0.9,\n",
      "'colsample_bytree': 0.3, 'max_depth':\n",
      "9},\n",
      "mean: -0.33490, std: 0.00183, params:\n",
      "{'n_estimators': 900, 'subsample': 1.0,\n",
      "'colsample_bytree': 0.3, 'max_depth':\n",
      "9},\n",
      "mean: -0.33570, std: 0.00192, params:\n",
      "{'n_estimators': 950, 'subsample': 0.8,\n",
      "'colsample_bytree': 0.3, 'max_depth':\n",
      "9},\n",
      "mean: -0.33507, std: 0.00188, params:\n",
      "{'n_estimators': 950, 'subsample': 0.9,\n",
      "'colsample_bytree': 0.3, 'max_depth':\n",
      "9},\n",
      "mean: -0.33488, std: 0.00181, params:\n",
      "{'n_estimators': 950, 'subsample': 1.0,\n",
      "'colsample_bytree': 0.3, 'max_depth':\n",
      "9},\n",
      "mean: -0.36385, std: 0.00152, params:\n",
      "{'n_estimators': 100, 'subsample': 0.8,\n",
      "'colsample_bytree': 0.3, 'max_depth':\n",
      "9},\n",
      "mean: -0.36360, std: 0.00150, params:\n",
      "{'n_estimators': 100, 'subsample': 0.9,\n",
      "'colsample_bytree': 0.3, 'max_depth':\n",
      "9},\n",
      "mean: -0.36169, std: 0.00136, params:\n",
      "{'n_estimators': 100, 'subsample': 1.0,\n",
      "'colsample_bytree': 0.3, 'max_depth':\n",
      "9},\n",
      "mean: -0.33798, std: 0.00167, params:\n",
      "{'n_estimators': 750, 'subsample': 0.8,\n",
      "'colsample_bytree': 0.4, 'max_depth':\n",
      "6},\n",
      "mean: -0.33807, std: 0.00141, params:\n",
      "{'n_estimators': 750, 'subsample': 0.9,\n",
      "'colsample_bytree': 0.4, 'max_depth':\n",
      "6},\n",
      "mean: -0.33787, std: 0.00168, params:\n",
      "{'n_estimators': 750, 'subsample': 1.0,\n",
      "'colsample_bytree': 0.4, 'max_depth':\n",
      "6},\n",
      "mean: -0.33765, std: 0.00168, params:\n",
      "{'n_estimators': 800, 'subsample': 0.8,\n",
      "'colsample_bytree': 0.4, 'max_depth':\n",
      "6},\n",
      "mean: -0.33772, std: 0.00147, params:\n",
      "{'n_estimators': 800, 'subsample': 0.9,\n",
      "'colsample_bytree': 0.4, 'max_depth':\n",
      "6},\n",
      "mean: -0.33753, std: 0.00167, params:\n",
      "{'n_estimators': 800, 'subsample': 1.0,\n",
      "'colsample_bytree': 0.4, 'max_depth':\n",
      "6},\n",
      "mean: -0.33736, std: 0.00169, params:\n",
      "{'n_estimators': 850, 'subsample': 0.8,\n",
      "'colsample_bytree': 0.4, 'max_depth':\n",
      "6},\n",
      "mean: -0.33743, std: 0.00153, params:\n",
      "{'n_estimators': 850, 'subsample': 0.9,\n",
      "'colsample_bytree': 0.4, 'max_depth':\n",
      "6},\n",
      "mean: -0.33728, std: 0.00167, params:\n",
      "{'n_estimators': 850, 'subsample': 1.0,\n",
      "'colsample_bytree': 0.4, 'max_depth':\n",
      "6},\n",
      "mean: -0.33712, std: 0.00174, params:\n",
      "{'n_estimators': 900, 'subsample': 0.8,\n",
      "'colsample_bytree': 0.4, 'max_depth':\n",
      "6},\n",
      "mean: -0.33718, std: 0.00153, params:\n",
      "{'n_estimators': 900, 'subsample': 0.9,\n",
      "'colsample_bytree': 0.4, 'max_depth':\n",
      "6},\n",
      "mean: -0.33708, std: 0.00165, params:\n",
      "{'n_estimators': 900, 'subsample': 1.0,\n",
      "'colsample_bytree': 0.4, 'max_depth':\n",
      "6},\n",
      "mean: -0.33689, std: 0.00176, params:\n",
      "{'n_estimators': 950, 'subsample': 0.8,\n",
      "'colsample_bytree': 0.4, 'max_depth':\n",
      "6},\n",
      "mean: -0.33690, std: 0.00156, params:\n",
      "{'n_estimators': 950, 'subsample': 0.9,\n",
      "'colsample_bytree': 0.4, 'max_depth':\n",
      "6},\n",
      "mean: -0.33678, std: 0.00163, params:\n",
      "{'n_estimators': 950, 'subsample': 1.0,\n",
      "'colsample_bytree': 0.4, 'max_depth':\n",
      "6},\n",
      "mean: -0.36321, std: 0.00136, params:\n",
      "{'n_estimators': 100, 'subsample': 0.8,\n",
      "'colsample_bytree': 0.4, 'max_depth':\n",
      "6},\n",
      "mean: -0.36321, std: 0.00132, params:\n",
      "{'n_estimators': 100, 'subsample': 0.9,\n",
      "'colsample_bytree': 0.4, 'max_depth':\n",
      "6},\n",
      "mean: -0.36135, std: 0.00123, params:\n",
      "{'n_estimators': 100, 'subsample': 1.0,\n",
      "'colsample_bytree': 0.4, 'max_depth':\n",
      "6},\n",
      "mean: -0.33614, std: 0.00168, params:\n",
      "{'n_estimators': 750, 'subsample': 0.8,\n",
      "'colsample_bytree': 0.4, 'max_depth':\n",
      "7},\n",
      "mean: -0.33617, std: 0.00176, params:\n",
      "{'n_estimators': 750, 'subsample': 0.9,\n",
      "'colsample_bytree': 0.4, 'max_depth':\n",
      "7},\n",
      "mean: -0.33615, std: 0.00165, params:\n",
      "{'n_estimators': 750, 'subsample': 1.0,\n",
      "'colsample_bytree': 0.4, 'max_depth':\n",
      "7},\n",
      "mean: -0.33590, std: 0.00169, params:\n",
      "{'n_estimators': 800, 'subsample': 0.8,\n",
      "'colsample_bytree': 0.4, 'max_depth':\n",
      "7},\n",
      "mean: -0.33585, std: 0.00181, params:\n",
      "{'n_estimators': 800, 'subsample': 0.9,\n",
      "'colsample_bytree': 0.4, 'max_depth':\n",
      "7},\n",
      "mean: -0.33587, std: 0.00171, params:\n",
      "{'n_estimators': 800, 'subsample': 1.0,\n",
      "'colsample_bytree': 0.4, 'max_depth':\n",
      "7},\n",
      "mean: -0.33570, std: 0.00172, params:\n",
      "{'n_estimators': 850, 'subsample': 0.8,\n",
      "'colsample_bytree': 0.4, 'max_depth':\n",
      "7},\n",
      "mean: -0.33559, std: 0.00182, params:\n",
      "{'n_estimators': 850, 'subsample': 0.9,\n",
      "'colsample_bytree': 0.4, 'max_depth':\n",
      "7},\n",
      "mean: -0.33570, std: 0.00176, params:\n",
      "{'n_estimators': 850, 'subsample': 1.0,\n",
      "'colsample_bytree': 0.4, 'max_depth':\n",
      "7},\n",
      "mean: -0.33555, std: 0.00177, params:\n",
      "{'n_estimators': 900, 'subsample': 0.8,\n",
      "'colsample_bytree': 0.4, 'max_depth':\n",
      "7},\n",
      "mean: -0.33537, std: 0.00182, params:\n",
      "{'n_estimators': 900, 'subsample': 0.9,\n",
      "'colsample_bytree': 0.4, 'max_depth':\n",
      "7},\n",
      "mean: -0.33551, std: 0.00185, params:\n",
      "{'n_estimators': 900, 'subsample': 1.0,\n",
      "'colsample_bytree': 0.4, 'max_depth':\n",
      "7},\n",
      "mean: -0.33539, std: 0.00177, params:\n",
      "{'n_estimators': 950, 'subsample': 0.8,\n",
      "'colsample_bytree': 0.4, 'max_depth':\n",
      "7},\n",
      "mean: -0.33518, std: 0.00185, params:\n",
      "{'n_estimators': 950, 'subsample': 0.9,\n",
      "'colsample_bytree': 0.4, 'max_depth':\n",
      "7},\n",
      "mean: -0.33530, std: 0.00186, params:\n",
      "{'n_estimators': 950, 'subsample': 1.0,\n",
      "'colsample_bytree': 0.4, 'max_depth':\n",
      "7},\n",
      "mean: -0.35886, std: 0.00123, params:\n",
      "{'n_estimators': 100, 'subsample': 0.8,\n",
      "'colsample_bytree': 0.4, 'max_depth':\n",
      "7},\n",
      "mean: -0.35869, std: 0.00129, params:\n",
      "{'n_estimators': 100, 'subsample': 0.9,\n",
      "'colsample_bytree': 0.4, 'max_depth':\n",
      "7},\n",
      "mean: -0.35700, std: 0.00148, params:\n",
      "{'n_estimators': 100, 'subsample': 1.0,\n",
      "'colsample_bytree': 0.4, 'max_depth':\n",
      "7},\n",
      "mean: -0.33501, std: 0.00182, params:\n",
      "{'n_estimators': 750, 'subsample': 0.8,\n",
      "'colsample_bytree': 0.4, 'max_depth':\n",
      "8},\n",
      "mean: -0.33452, std: 0.00171, params:\n",
      "{'n_estimators': 750, 'subsample': 0.9,\n",
      "'colsample_bytree': 0.4, 'max_depth':\n",
      "8},\n",
      "mean: -0.33491, std: 0.00183, params:\n",
      "{'n_estimators': 750, 'subsample': 1.0,\n",
      "'colsample_bytree': 0.4, 'max_depth':\n",
      "8},\n",
      "mean: -0.33484, std: 0.00183, params:\n",
      "{'n_estimators': 800, 'subsample': 0.8,\n",
      "'colsample_bytree': 0.4, 'max_depth':\n",
      "8},\n",
      "mean: -0.33431, std: 0.00178, params:\n",
      "{'n_estimators': 800, 'subsample': 0.9,\n",
      "'colsample_bytree': 0.4, 'max_depth':\n",
      "8},\n",
      "mean: -0.33476, std: 0.00178, params:\n",
      "{'n_estimators': 800, 'subsample': 1.0,\n",
      "'colsample_bytree': 0.4, 'max_depth':\n",
      "8},\n",
      "mean: -0.33468, std: 0.00185, params:\n",
      "{'n_estimators': 850, 'subsample': 0.8,\n",
      "'colsample_bytree': 0.4, 'max_depth':\n",
      "8},\n",
      "mean: -0.33415, std: 0.00179, params:\n",
      "{'n_estimators': 850, 'subsample': 0.9,\n",
      "'colsample_bytree': 0.4, 'max_depth':\n",
      "8},\n",
      "mean: -0.33459, std: 0.00179, params:\n",
      "{'n_estimators': 850, 'subsample': 1.0,\n",
      "'colsample_bytree': 0.4, 'max_depth':\n",
      "8},\n",
      "mean: -0.33459, std: 0.00189, params:\n",
      "{'n_estimators': 900, 'subsample': 0.8,\n",
      "'colsample_bytree': 0.4, 'max_depth':\n",
      "8},\n",
      "mean: -0.33402, std: 0.00176, params:\n",
      "{'n_estimators': 900, 'subsample': 0.9,\n",
      "'colsample_bytree': 0.4, 'max_depth':\n",
      "8},\n",
      "mean: -0.33446, std: 0.00180, params:\n",
      "{'n_estimators': 900, 'subsample': 1.0,\n",
      "'colsample_bytree': 0.4, 'max_depth':\n",
      "8},\n",
      "mean: -0.33450, std: 0.00191, params:\n",
      "{'n_estimators': 950, 'subsample': 0.8,\n",
      "'colsample_bytree': 0.4, 'max_depth':\n",
      "8},\n",
      "mean: -0.33391, std: 0.00182, params:\n",
      "{'n_estimators': 950, 'subsample': 0.9,\n",
      "'colsample_bytree': 0.4, 'max_depth':\n",
      "8},\n",
      "mean: -0.33430, std: 0.00182, params:\n",
      "{'n_estimators': 950, 'subsample': 1.0,\n",
      "'colsample_bytree': 0.4, 'max_depth':\n",
      "8},\n",
      "mean: -0.35563, std: 0.00144, params:\n",
      "{'n_estimators': 100, 'subsample': 0.8,\n",
      "'colsample_bytree': 0.4, 'max_depth':\n",
      "8},\n",
      "mean: -0.35517, std: 0.00129, params:\n",
      "{'n_estimators': 100, 'subsample': 0.9,\n",
      "'colsample_bytree': 0.4, 'max_depth':\n",
      "8},\n",
      "mean: -0.35358, std: 0.00134, params:\n",
      "{'n_estimators': 100, 'subsample': 1.0,\n",
      "'colsample_bytree': 0.4, 'max_depth':\n",
      "8},\n",
      "mean: -0.33453, std: 0.00182, params:\n",
      "{'n_estimators': 750, 'subsample': 0.8,\n",
      "'colsample_bytree': 0.4, 'max_depth':\n",
      "9},\n",
      "mean: -0.33419, std: 0.00182, params:\n",
      "{'n_estimators': 750, 'subsample': 0.9,\n",
      "'colsample_bytree': 0.4, 'max_depth':\n",
      "9},\n",
      "mean: -0.33417, std: 0.00190, params:\n",
      "{'n_estimators': 750, 'subsample': 1.0,\n",
      "'colsample_bytree': 0.4, 'max_depth':\n",
      "9},\n",
      "mean: -0.33453, std: 0.00185, params:\n",
      "{'n_estimators': 800, 'subsample': 0.8,\n",
      "'colsample_bytree': 0.4, 'max_depth':\n",
      "9},\n",
      "mean: -0.33415, std: 0.00184, params:\n",
      "{'n_estimators': 800, 'subsample': 0.9,\n",
      "'colsample_bytree': 0.4, 'max_depth':\n",
      "9},\n",
      "mean: -0.33404, std: 0.00190, params:\n",
      "{'n_estimators': 800, 'subsample': 1.0,\n",
      "'colsample_bytree': 0.4, 'max_depth':\n",
      "9},\n",
      "mean: -0.33455, std: 0.00189, params:\n",
      "{'n_estimators': 850, 'subsample': 0.8,\n",
      "'colsample_bytree': 0.4, 'max_depth':\n",
      "9},\n",
      "mean: -0.33408, std: 0.00189, params:\n",
      "{'n_estimators': 850, 'subsample': 0.9,\n",
      "'colsample_bytree': 0.4, 'max_depth':\n",
      "9},\n",
      "mean: -0.33398, std: 0.00192, params:\n",
      "{'n_estimators': 850, 'subsample': 1.0,\n",
      "'colsample_bytree': 0.4, 'max_depth':\n",
      "9},\n",
      "mean: -0.33459, std: 0.00192, params:\n",
      "{'n_estimators': 900, 'subsample': 0.8,\n",
      "'colsample_bytree': 0.4, 'max_depth':\n",
      "9},\n",
      "mean: -0.33405, std: 0.00190, params:\n",
      "{'n_estimators': 900, 'subsample': 0.9,\n",
      "'colsample_bytree': 0.4, 'max_depth':\n",
      "9},\n",
      "mean: -0.33394, std: 0.00188, params:\n",
      "{'n_estimators': 900, 'subsample': 1.0,\n",
      "'colsample_bytree': 0.4, 'max_depth':\n",
      "9},\n",
      "mean: -0.33470, std: 0.00191, params:\n",
      "{'n_estimators': 950, 'subsample': 0.8,\n",
      "'colsample_bytree': 0.4, 'max_depth':\n",
      "9},\n",
      "mean: -0.33406, std: 0.00194, params:\n",
      "{'n_estimators': 950, 'subsample': 0.9,\n",
      "'colsample_bytree': 0.4, 'max_depth':\n",
      "9},\n",
      "mean: -0.33392, std: 0.00190, params:\n",
      "{'n_estimators': 950, 'subsample': 1.0,\n",
      "'colsample_bytree': 0.4, 'max_depth':\n",
      "9},\n",
      "mean: -0.35295, std: 0.00134, params:\n",
      "{'n_estimators': 100, 'subsample': 0.8,\n",
      "'colsample_bytree': 0.4, 'max_depth':\n",
      "9},\n",
      "mean: -0.35267, std: 0.00132, params:\n",
      "{'n_estimators': 100, 'subsample': 0.9,\n",
      "'colsample_bytree': 0.4, 'max_depth':\n",
      "9},\n",
      "mean: -0.35099, std: 0.00133, params:\n",
      "{'n_estimators': 100, 'subsample': 1.0,\n",
      "'colsample_bytree': 0.4, 'max_depth':\n",
      "9},\n",
      "mean: -0.33745, std: 0.00181, params:\n",
      "{'n_estimators': 750, 'subsample': 0.8,\n",
      "'colsample_bytree': 0.5, 'max_depth':\n",
      "6},\n",
      "mean: -0.33760, std: 0.00166, params:\n",
      "{'n_estimators': 750, 'subsample': 0.9,\n",
      "'colsample_bytree': 0.5, 'max_depth':\n",
      "6},\n",
      "mean: -0.33761, std: 0.00158, params:\n",
      "{'n_estimators': 750, 'subsample': 1.0,\n",
      "'colsample_bytree': 0.5, 'max_depth':\n",
      "6},\n",
      "mean: -0.33716, std: 0.00179, params:\n",
      "{'n_estimators': 800, 'subsample': 0.8,\n",
      "'colsample_bytree': 0.5, 'max_depth':\n",
      "6},\n",
      "mean: -0.33727, std: 0.00173, params:\n",
      "{'n_estimators': 800, 'subsample': 0.9,\n",
      "'colsample_bytree': 0.5, 'max_depth':\n",
      "6},\n",
      "mean: -0.33731, std: 0.00157, params:\n",
      "{'n_estimators': 800, 'subsample': 1.0,\n",
      "'colsample_bytree': 0.5, 'max_depth':\n",
      "6},\n",
      "mean: -0.33688, std: 0.00182, params:\n",
      "{'n_estimators': 850, 'subsample': 0.8,\n",
      "'colsample_bytree': 0.5, 'max_depth':\n",
      "6},\n",
      "mean: -0.33697, std: 0.00174, params:\n",
      "{'n_estimators': 850, 'subsample': 0.9,\n",
      "'colsample_bytree': 0.5, 'max_depth':\n",
      "6},\n",
      "mean: -0.33704, std: 0.00155, params:\n",
      "{'n_estimators': 850, 'subsample': 1.0,\n",
      "'colsample_bytree': 0.5, 'max_depth':\n",
      "6},\n",
      "mean: -0.33668, std: 0.00181, params:\n",
      "{'n_estimators': 900, 'subsample': 0.8,\n",
      "'colsample_bytree': 0.5, 'max_depth':\n",
      "6},\n",
      "mean: -0.33673, std: 0.00176, params:\n",
      "{'n_estimators': 900, 'subsample': 0.9,\n",
      "'colsample_bytree': 0.5, 'max_depth':\n",
      "6},\n",
      "mean: -0.33679, std: 0.00157, params:\n",
      "{'n_estimators': 900, 'subsample': 1.0,\n",
      "'colsample_bytree': 0.5, 'max_depth':\n",
      "6},\n",
      "mean: -0.33646, std: 0.00183, params:\n",
      "{'n_estimators': 950, 'subsample': 0.8,\n",
      "'colsample_bytree': 0.5, 'max_depth':\n",
      "6},\n",
      "mean: -0.33650, std: 0.00179, params:\n",
      "{'n_estimators': 950, 'subsample': 0.9,\n",
      "'colsample_bytree': 0.5, 'max_depth':\n",
      "6},\n",
      "mean: -0.33655, std: 0.00166, params:\n",
      "{'n_estimators': 950, 'subsample': 1.0,\n",
      "'colsample_bytree': 0.5, 'max_depth':\n",
      "6},\n",
      "mean: -0.35941, std: 0.00141, params:\n",
      "{'n_estimators': 100, 'subsample': 0.8,\n",
      "'colsample_bytree': 0.5, 'max_depth':\n",
      "6},\n",
      "mean: -0.35930, std: 0.00124, params:\n",
      "{'n_estimators': 100, 'subsample': 0.9,\n",
      "'colsample_bytree': 0.5, 'max_depth':\n",
      "6},\n",
      "mean: -0.35906, std: 0.00137, params:\n",
      "{'n_estimators': 100, 'subsample': 1.0,\n",
      "'colsample_bytree': 0.5, 'max_depth':\n",
      "6},\n",
      "mean: -0.33555, std: 0.00172, params:\n",
      "{'n_estimators': 750, 'subsample': 0.8,\n",
      "'colsample_bytree': 0.5, 'max_depth':\n",
      "7},\n",
      "mean: -0.33574, std: 0.00180, params:\n",
      "{'n_estimators': 750, 'subsample': 0.9,\n",
      "'colsample_bytree': 0.5, 'max_depth':\n",
      "7},\n",
      "mean: -0.33590, std: 0.00163, params:\n",
      "{'n_estimators': 750, 'subsample': 1.0,\n",
      "'colsample_bytree': 0.5, 'max_depth':\n",
      "7},\n",
      "mean: -0.33532, std: 0.00173, params:\n",
      "{'n_estimators': 800, 'subsample': 0.8,\n",
      "'colsample_bytree': 0.5, 'max_depth':\n",
      "7},\n",
      "mean: -0.33546, std: 0.00186, params:\n",
      "{'n_estimators': 800, 'subsample': 0.9,\n",
      "'colsample_bytree': 0.5, 'max_depth':\n",
      "7},\n",
      "mean: -0.33570, std: 0.00164, params:\n",
      "{'n_estimators': 800, 'subsample': 1.0,\n",
      "'colsample_bytree': 0.5, 'max_depth':\n",
      "7},\n",
      "mean: -0.33511, std: 0.00172, params:\n",
      "{'n_estimators': 850, 'subsample': 0.8,\n",
      "'colsample_bytree': 0.5, 'max_depth':\n",
      "7},\n",
      "mean: -0.33520, std: 0.00190, params:\n",
      "{'n_estimators': 850, 'subsample': 0.9,\n",
      "'colsample_bytree': 0.5, 'max_depth':\n",
      "7},\n",
      "mean: -0.33550, std: 0.00166, params:\n",
      "{'n_estimators': 850, 'subsample': 1.0,\n",
      "'colsample_bytree': 0.5, 'max_depth':\n",
      "7},\n",
      "mean: -0.33495, std: 0.00177, params:\n",
      "{'n_estimators': 900, 'subsample': 0.8,\n",
      "'colsample_bytree': 0.5, 'max_depth':\n",
      "7},\n",
      "mean: -0.33502, std: 0.00194, params:\n",
      "{'n_estimators': 900, 'subsample': 0.9,\n",
      "'colsample_bytree': 0.5, 'max_depth':\n",
      "7},\n",
      "mean: -0.33525, std: 0.00167, params:\n",
      "{'n_estimators': 900, 'subsample': 1.0,\n",
      "'colsample_bytree': 0.5, 'max_depth':\n",
      "7},\n",
      "mean: -0.33479, std: 0.00179, params:\n",
      "{'n_estimators': 950, 'subsample': 0.8,\n",
      "'colsample_bytree': 0.5, 'max_depth':\n",
      "7},\n",
      "mean: -0.33487, std: 0.00198, params:\n",
      "{'n_estimators': 950, 'subsample': 0.9,\n",
      "'colsample_bytree': 0.5, 'max_depth':\n",
      "7},\n",
      "mean: -0.33507, std: 0.00167, params:\n",
      "{'n_estimators': 950, 'subsample': 1.0,\n",
      "'colsample_bytree': 0.5, 'max_depth':\n",
      "7},\n",
      "mean: -0.35497, std: 0.00139, params:\n",
      "{'n_estimators': 100, 'subsample': 0.8,\n",
      "'colsample_bytree': 0.5, 'max_depth':\n",
      "7},\n",
      "mean: -0.35484, std: 0.00136, params:\n",
      "{'n_estimators': 100, 'subsample': 0.9,\n",
      "'colsample_bytree': 0.5, 'max_depth':\n",
      "7},\n",
      "mean: -0.35447, std: 0.00123, params:\n",
      "{'n_estimators': 100, 'subsample': 1.0,\n",
      "'colsample_bytree': 0.5, 'max_depth':\n",
      "7},\n",
      "mean: -0.33450, std: 0.00175, params:\n",
      "{'n_estimators': 750, 'subsample': 0.8,\n",
      "'colsample_bytree': 0.5, 'max_depth':\n",
      "8},\n",
      "mean: -0.33430, std: 0.00184, params:\n",
      "{'n_estimators': 750, 'subsample': 0.9,\n",
      "'colsample_bytree': 0.5, 'max_depth':\n",
      "8},\n",
      "mean: -0.33440, std: 0.00172, params:\n",
      "{'n_estimators': 750, 'subsample': 1.0,\n",
      "'colsample_bytree': 0.5, 'max_depth':\n",
      "8},\n",
      "mean: -0.33433, std: 0.00175, params:\n",
      "{'n_estimators': 800, 'subsample': 0.8,\n",
      "'colsample_bytree': 0.5, 'max_depth':\n",
      "8},\n",
      "mean: -0.33413, std: 0.00192, params:\n",
      "{'n_estimators': 800, 'subsample': 0.9,\n",
      "'colsample_bytree': 0.5, 'max_depth':\n",
      "8},\n",
      "mean: -0.33420, std: 0.00177, params:\n",
      "{'n_estimators': 800, 'subsample': 1.0,\n",
      "'colsample_bytree': 0.5, 'max_depth':\n",
      "8},\n",
      "mean: -0.33423, std: 0.00173, params:\n",
      "{'n_estimators': 850, 'subsample': 0.8,\n",
      "'colsample_bytree': 0.5, 'max_depth':\n",
      "8},\n",
      "mean: -0.33395, std: 0.00198, params:\n",
      "{'n_estimators': 850, 'subsample': 0.9,\n",
      "'colsample_bytree': 0.5, 'max_depth':\n",
      "8},\n",
      "mean: -0.33406, std: 0.00184, params:\n",
      "{'n_estimators': 850, 'subsample': 1.0,\n",
      "'colsample_bytree': 0.5, 'max_depth':\n",
      "8},\n",
      "mean: -0.33419, std: 0.00174, params:\n",
      "{'n_estimators': 900, 'subsample': 0.8,\n",
      "'colsample_bytree': 0.5, 'max_depth':\n",
      "8},\n",
      "mean: -0.33387, std: 0.00203, params:\n",
      "{'n_estimators': 900, 'subsample': 0.9,\n",
      "'colsample_bytree': 0.5, 'max_depth':\n",
      "8},\n",
      "mean: -0.33393, std: 0.00187, params:\n",
      "{'n_estimators': 900, 'subsample': 1.0,\n",
      "'colsample_bytree': 0.5, 'max_depth':\n",
      "8},\n",
      "mean: -0.33416, std: 0.00175, params:\n",
      "{'n_estimators': 950, 'subsample': 0.8,\n",
      "'colsample_bytree': 0.5, 'max_depth':\n",
      "8},\n",
      "mean: -0.33381, std: 0.00206, params:\n",
      "{'n_estimators': 950, 'subsample': 0.9,\n",
      "'colsample_bytree': 0.5, 'max_depth':\n",
      "8},\n",
      "mean: -0.33381, std: 0.00190, params:\n",
      "{'n_estimators': 950, 'subsample': 1.0,\n",
      "'colsample_bytree': 0.5, 'max_depth':\n",
      "8},\n",
      "mean: -0.35164, std: 0.00138, params:\n",
      "{'n_estimators': 100, 'subsample': 0.8,\n",
      "'colsample_bytree': 0.5, 'max_depth':\n",
      "8},\n",
      "mean: -0.35161, std: 0.00125, params:\n",
      "{'n_estimators': 100, 'subsample': 0.9,\n",
      "'colsample_bytree': 0.5, 'max_depth':\n",
      "8},\n",
      "mean: -0.35091, std: 0.00144, params:\n",
      "{'n_estimators': 100, 'subsample': 1.0,\n",
      "'colsample_bytree': 0.5, 'max_depth':\n",
      "8},\n",
      "mean: -0.33412, std: 0.00183, params:\n",
      "{'n_estimators': 750, 'subsample': 0.8,\n",
      "'colsample_bytree': 0.5, 'max_depth':\n",
      "9},\n",
      "mean: -0.33383, std: 0.00204, params:\n",
      "{'n_estimators': 750, 'subsample': 0.9,\n",
      "'colsample_bytree': 0.5, 'max_depth':\n",
      "9},\n",
      "mean: -0.33369, std: 0.00203, params:\n",
      "{'n_estimators': 750, 'subsample': 1.0,\n",
      "'colsample_bytree': 0.5, 'max_depth':\n",
      "9},\n",
      "mean: -0.33414, std: 0.00185, params:\n",
      "{'n_estimators': 800, 'subsample': 0.8,\n",
      "'colsample_bytree': 0.5, 'max_depth':\n",
      "9},\n",
      "mean: -0.33375, std: 0.00205, params:\n",
      "{'n_estimators': 800, 'subsample': 0.9,\n",
      "'colsample_bytree': 0.5, 'max_depth':\n",
      "9},\n",
      "mean: -0.33366, std: 0.00209, params:\n",
      "{'n_estimators': 800, 'subsample': 1.0,\n",
      "'colsample_bytree': 0.5, 'max_depth':\n",
      "9},\n",
      "mean: -0.33415, std: 0.00189, params:\n",
      "{'n_estimators': 850, 'subsample': 0.8,\n",
      "'colsample_bytree': 0.5, 'max_depth':\n",
      "9},\n",
      "mean: -0.33376, std: 0.00210, params:\n",
      "{'n_estimators': 850, 'subsample': 0.9,\n",
      "'colsample_bytree': 0.5, 'max_depth':\n",
      "9},\n",
      "mean: -0.33366, std: 0.00210, params:\n",
      "{'n_estimators': 850, 'subsample': 1.0,\n",
      "'colsample_bytree': 0.5, 'max_depth':\n",
      "9},\n",
      "mean: -0.33427, std: 0.00189, params:\n",
      "{'n_estimators': 900, 'subsample': 0.8,\n",
      "'colsample_bytree': 0.5, 'max_depth':\n",
      "9},\n",
      "mean: -0.33379, std: 0.00214, params:\n",
      "{'n_estimators': 900, 'subsample': 0.9,\n",
      "'colsample_bytree': 0.5, 'max_depth':\n",
      "9},\n",
      "mean: -0.33365, std: 0.00210, params:\n",
      "{'n_estimators': 900, 'subsample': 1.0,\n",
      "'colsample_bytree': 0.5, 'max_depth':\n",
      "9},\n",
      "mean: -0.33433, std: 0.00194, params:\n",
      "{'n_estimators': 950, 'subsample': 0.8,\n",
      "'colsample_bytree': 0.5, 'max_depth':\n",
      "9},\n",
      "mean: -0.33385, std: 0.00218, params:\n",
      "{'n_estimators': 950, 'subsample': 0.9,\n",
      "'colsample_bytree': 0.5, 'max_depth':\n",
      "9},\n",
      "mean: -0.33368, std: 0.00211, params:\n",
      "{'n_estimators': 950, 'subsample': 1.0,\n",
      "'colsample_bytree': 0.5, 'max_depth':\n",
      "9},\n",
      "mean: -0.34890, std: 0.00147, params:\n",
      "{'n_estimators': 100, 'subsample': 0.8,\n",
      "'colsample_bytree': 0.5, 'max_depth':\n",
      "9},\n",
      "mean: -0.34877, std: 0.00144, params:\n",
      "{'n_estimators': 100, 'subsample': 0.9,\n",
      "'colsample_bytree': 0.5, 'max_depth':\n",
      "9},\n",
      "mean: -0.34816, std: 0.00129, params:\n",
      "{'n_estimators': 100, 'subsample': 1.0,\n",
      "'colsample_bytree': 0.5, 'max_depth':\n",
      "9},\n",
      "mean: -0.33700, std: 0.00177, params:\n",
      "{'n_estimators': 750, 'subsample': 0.8,\n",
      "'colsample_bytree': 0.6, 'max_depth':\n",
      "6},\n",
      "mean: -0.33707, std: 0.00194, params:\n",
      "{'n_estimators': 750, 'subsample': 0.9,\n",
      "'colsample_bytree': 0.6, 'max_depth':\n",
      "6},\n",
      "mean: -0.33736, std: 0.00193, params:\n",
      "{'n_estimators': 750, 'subsample': 1.0,\n",
      "'colsample_bytree': 0.6, 'max_depth':\n",
      "6},\n",
      "mean: -0.33673, std: 0.00181, params:\n",
      "{'n_estimators': 800, 'subsample': 0.8,\n",
      "'colsample_bytree': 0.6, 'max_depth':\n",
      "6},\n",
      "mean: -0.33676, std: 0.00195, params:\n",
      "{'n_estimators': 800, 'subsample': 0.9,\n",
      "'colsample_bytree': 0.6, 'max_depth':\n",
      "6},\n",
      "mean: -0.33704, std: 0.00190, params:\n",
      "{'n_estimators': 800, 'subsample': 1.0,\n",
      "'colsample_bytree': 0.6, 'max_depth':\n",
      "6},\n",
      "mean: -0.33649, std: 0.00181, params:\n",
      "{'n_estimators': 850, 'subsample': 0.8,\n",
      "'colsample_bytree': 0.6, 'max_depth':\n",
      "6},\n",
      "mean: -0.33645, std: 0.00195, params:\n",
      "{'n_estimators': 850, 'subsample': 0.9,\n",
      "'colsample_bytree': 0.6, 'max_depth':\n",
      "6},\n",
      "mean: -0.33681, std: 0.00185, params:\n",
      "{'n_estimators': 850, 'subsample': 1.0,\n",
      "'colsample_bytree': 0.6, 'max_depth':\n",
      "6},\n",
      "mean: -0.33626, std: 0.00181, params:\n",
      "{'n_estimators': 900, 'subsample': 0.8,\n",
      "'colsample_bytree': 0.6, 'max_depth':\n",
      "6},\n",
      "mean: -0.33625, std: 0.00198, params:\n",
      "{'n_estimators': 900, 'subsample': 0.9,\n",
      "'colsample_bytree': 0.6, 'max_depth':\n",
      "6},\n",
      "mean: -0.33659, std: 0.00184, params:\n",
      "{'n_estimators': 900, 'subsample': 1.0,\n",
      "'colsample_bytree': 0.6, 'max_depth':\n",
      "6},\n",
      "mean: -0.33612, std: 0.00186, params:\n",
      "{'n_estimators': 950, 'subsample': 0.8,\n",
      "'colsample_bytree': 0.6, 'max_depth':\n",
      "6},\n",
      "mean: -0.33601, std: 0.00198, params:\n",
      "{'n_estimators': 950, 'subsample': 0.9,\n",
      "'colsample_bytree': 0.6, 'max_depth':\n",
      "6},\n",
      "mean: -0.33639, std: 0.00190, params:\n",
      "{'n_estimators': 950, 'subsample': 1.0,\n",
      "'colsample_bytree': 0.6, 'max_depth':\n",
      "6},\n",
      "mean: -0.35690, std: 0.00127, params:\n",
      "{'n_estimators': 100, 'subsample': 0.8,\n",
      "'colsample_bytree': 0.6, 'max_depth':\n",
      "6},\n",
      "mean: -0.35685, std: 0.00128, params:\n",
      "{'n_estimators': 100, 'subsample': 0.9,\n",
      "'colsample_bytree': 0.6, 'max_depth':\n",
      "6},\n",
      "mean: -0.35729, std: 0.00114, params:\n",
      "{'n_estimators': 100, 'subsample': 1.0,\n",
      "'colsample_bytree': 0.6, 'max_depth':\n",
      "6},\n",
      "mean: -0.33536, std: 0.00195, params:\n",
      "{'n_estimators': 750, 'subsample': 0.8,\n",
      "'colsample_bytree': 0.6, 'max_depth':\n",
      "7},\n",
      "mean: -0.33523, std: 0.00171, params:\n",
      "{'n_estimators': 750, 'subsample': 0.9,\n",
      "'colsample_bytree': 0.6, 'max_depth':\n",
      "7},\n",
      "mean: -0.33559, std: 0.00171, params:\n",
      "{'n_estimators': 750, 'subsample': 1.0,\n",
      "'colsample_bytree': 0.6, 'max_depth':\n",
      "7},\n",
      "mean: -0.33514, std: 0.00198, params:\n",
      "{'n_estimators': 800, 'subsample': 0.8,\n",
      "'colsample_bytree': 0.6, 'max_depth':\n",
      "7},\n",
      "mean: -0.33506, std: 0.00175, params:\n",
      "{'n_estimators': 800, 'subsample': 0.9,\n",
      "'colsample_bytree': 0.6, 'max_depth':\n",
      "7},\n",
      "mean: -0.33533, std: 0.00170, params:\n",
      "{'n_estimators': 800, 'subsample': 1.0,\n",
      "'colsample_bytree': 0.6, 'max_depth':\n",
      "7},\n",
      "mean: -0.33497, std: 0.00192, params:\n",
      "{'n_estimators': 850, 'subsample': 0.8,\n",
      "'colsample_bytree': 0.6, 'max_depth':\n",
      "7},\n",
      "mean: -0.33484, std: 0.00173, params:\n",
      "{'n_estimators': 850, 'subsample': 0.9,\n",
      "'colsample_bytree': 0.6, 'max_depth':\n",
      "7},\n",
      "mean: -0.33512, std: 0.00174, params:\n",
      "{'n_estimators': 850, 'subsample': 1.0,\n",
      "'colsample_bytree': 0.6, 'max_depth':\n",
      "7},\n",
      "mean: -0.33482, std: 0.00194, params:\n",
      "{'n_estimators': 900, 'subsample': 0.8,\n",
      "'colsample_bytree': 0.6, 'max_depth':\n",
      "7},\n",
      "mean: -0.33470, std: 0.00175, params:\n",
      "{'n_estimators': 900, 'subsample': 0.9,\n",
      "'colsample_bytree': 0.6, 'max_depth':\n",
      "7},\n",
      "mean: -0.33497, std: 0.00176, params:\n",
      "{'n_estimators': 900, 'subsample': 1.0,\n",
      "'colsample_bytree': 0.6, 'max_depth':\n",
      "7},\n",
      "mean: -0.33472, std: 0.00195, params:\n",
      "{'n_estimators': 950, 'subsample': 0.8,\n",
      "'colsample_bytree': 0.6, 'max_depth':\n",
      "7},\n",
      "mean: -0.33455, std: 0.00178, params:\n",
      "{'n_estimators': 950, 'subsample': 0.9,\n",
      "'colsample_bytree': 0.6, 'max_depth':\n",
      "7},\n",
      "mean: -0.33480, std: 0.00177, params:\n",
      "{'n_estimators': 950, 'subsample': 1.0,\n",
      "'colsample_bytree': 0.6, 'max_depth':\n",
      "7},\n",
      "mean: -0.35252, std: 0.00139, params:\n",
      "{'n_estimators': 100, 'subsample': 0.8,\n",
      "'colsample_bytree': 0.6, 'max_depth':\n",
      "7},\n",
      "mean: -0.35243, std: 0.00122, params:\n",
      "{'n_estimators': 100, 'subsample': 0.9,\n",
      "'colsample_bytree': 0.6, 'max_depth':\n",
      "7},\n",
      "mean: -0.35280, std: 0.00106, params:\n",
      "{'n_estimators': 100, 'subsample': 1.0,\n",
      "'colsample_bytree': 0.6, 'max_depth':\n",
      "7},\n",
      "mean: -0.33414, std: 0.00201, params:\n",
      "{'n_estimators': 750, 'subsample': 0.8,\n",
      "'colsample_bytree': 0.6, 'max_depth':\n",
      "8},\n",
      "mean: -0.33399, std: 0.00170, params:\n",
      "{'n_estimators': 750, 'subsample': 0.9,\n",
      "'colsample_bytree': 0.6, 'max_depth':\n",
      "8},\n",
      "mean: -0.33448, std: 0.00183, params:\n",
      "{'n_estimators': 750, 'subsample': 1.0,\n",
      "'colsample_bytree': 0.6, 'max_depth':\n",
      "8},\n",
      "mean: -0.33405, std: 0.00206, params:\n",
      "{'n_estimators': 800, 'subsample': 0.8,\n",
      "'colsample_bytree': 0.6, 'max_depth':\n",
      "8},\n",
      "mean: -0.33389, std: 0.00173, params:\n",
      "{'n_estimators': 800, 'subsample': 0.9,\n",
      "'colsample_bytree': 0.6, 'max_depth':\n",
      "8},\n",
      "mean: -0.33432, std: 0.00188, params:\n",
      "{'n_estimators': 800, 'subsample': 1.0,\n",
      "'colsample_bytree': 0.6, 'max_depth':\n",
      "8},\n",
      "mean: -0.33397, std: 0.00203, params:\n",
      "{'n_estimators': 850, 'subsample': 0.8,\n",
      "'colsample_bytree': 0.6, 'max_depth':\n",
      "8},\n",
      "mean: -0.33379, std: 0.00173, params:\n",
      "{'n_estimators': 850, 'subsample': 0.9,\n",
      "'colsample_bytree': 0.6, 'max_depth':\n",
      "8},\n",
      "mean: -0.33419, std: 0.00194, params:\n",
      "{'n_estimators': 850, 'subsample': 1.0,\n",
      "'colsample_bytree': 0.6, 'max_depth':\n",
      "8},\n",
      "mean: -0.33392, std: 0.00202, params:\n",
      "{'n_estimators': 900, 'subsample': 0.8,\n",
      "'colsample_bytree': 0.6, 'max_depth':\n",
      "8},\n",
      "mean: -0.33370, std: 0.00178, params:\n",
      "{'n_estimators': 900, 'subsample': 0.9,\n",
      "'colsample_bytree': 0.6, 'max_depth':\n",
      "8},\n",
      "mean: -0.33407, std: 0.00198, params:\n",
      "{'n_estimators': 900, 'subsample': 1.0,\n",
      "'colsample_bytree': 0.6, 'max_depth':\n",
      "8},\n",
      "mean: -0.33392, std: 0.00201, params:\n",
      "{'n_estimators': 950, 'subsample': 0.8,\n",
      "'colsample_bytree': 0.6, 'max_depth':\n",
      "8},\n",
      "mean: -0.33357, std: 0.00189, params:\n",
      "{'n_estimators': 950, 'subsample': 0.9,\n",
      "'colsample_bytree': 0.6, 'max_depth':\n",
      "8},\n",
      "mean: -0.33396, std: 0.00206, params:\n",
      "{'n_estimators': 950, 'subsample': 1.0,\n",
      "'colsample_bytree': 0.6, 'max_depth':\n",
      "8},\n",
      "mean: -0.34927, std: 0.00124, params:\n",
      "{'n_estimators': 100, 'subsample': 0.8,\n",
      "'colsample_bytree': 0.6, 'max_depth':\n",
      "8},\n",
      "mean: -0.34918, std: 0.00123, params:\n",
      "{'n_estimators': 100, 'subsample': 0.9,\n",
      "'colsample_bytree': 0.6, 'max_depth':\n",
      "8},\n",
      "mean: -0.34927, std: 0.00127, params:\n",
      "{'n_estimators': 100, 'subsample': 1.0,\n",
      "'colsample_bytree': 0.6, 'max_depth':\n",
      "8},\n",
      "mean: -0.33385, std: 0.00199, params:\n",
      "{'n_estimators': 750, 'subsample': 0.8,\n",
      "'colsample_bytree': 0.6, 'max_depth':\n",
      "9},\n",
      "mean: -0.33332, std: 0.00194, params:\n",
      "{'n_estimators': 750, 'subsample': 0.9,\n",
      "'colsample_bytree': 0.6, 'max_depth':\n",
      "9},\n",
      "mean: -0.33385, std: 0.00208, params:\n",
      "{'n_estimators': 750, 'subsample': 1.0,\n",
      "'colsample_bytree': 0.6, 'max_depth':\n",
      "9},\n",
      "mean: -0.33389, std: 0.00204, params:\n",
      "{'n_estimators': 800, 'subsample': 0.8,\n",
      "'colsample_bytree': 0.6, 'max_depth':\n",
      "9},\n",
      "mean: -0.33334, std: 0.00201, params:\n",
      "{'n_estimators': 800, 'subsample': 0.9,\n",
      "'colsample_bytree': 0.6, 'max_depth':\n",
      "9},\n",
      "mean: -0.33378, std: 0.00208, params:\n",
      "{'n_estimators': 800, 'subsample': 1.0,\n",
      "'colsample_bytree': 0.6, 'max_depth':\n",
      "9},\n",
      "mean: -0.33401, std: 0.00205, params:\n",
      "{'n_estimators': 850, 'subsample': 0.8,\n",
      "'colsample_bytree': 0.6, 'max_depth':\n",
      "9},\n",
      "mean: -0.33338, std: 0.00208, params:\n",
      "{'n_estimators': 850, 'subsample': 0.9,\n",
      "'colsample_bytree': 0.6, 'max_depth':\n",
      "9},\n",
      "mean: -0.33377, std: 0.00211, params:\n",
      "{'n_estimators': 850, 'subsample': 1.0,\n",
      "'colsample_bytree': 0.6, 'max_depth':\n",
      "9},\n",
      "mean: -0.33411, std: 0.00208, params:\n",
      "{'n_estimators': 900, 'subsample': 0.8,\n",
      "'colsample_bytree': 0.6, 'max_depth':\n",
      "9},\n",
      "mean: -0.33345, std: 0.00206, params:\n",
      "{'n_estimators': 900, 'subsample': 0.9,\n",
      "'colsample_bytree': 0.6, 'max_depth':\n",
      "9},\n",
      "mean: -0.33376, std: 0.00219, params:\n",
      "{'n_estimators': 900, 'subsample': 1.0,\n",
      "'colsample_bytree': 0.6, 'max_depth':\n",
      "9},\n",
      "mean: -0.33420, std: 0.00204, params:\n",
      "{'n_estimators': 950, 'subsample': 0.8,\n",
      "'colsample_bytree': 0.6, 'max_depth':\n",
      "9},\n",
      "mean: -0.33355, std: 0.00217, params:\n",
      "{'n_estimators': 950, 'subsample': 0.9,\n",
      "'colsample_bytree': 0.6, 'max_depth':\n",
      "9},\n",
      "mean: -0.33381, std: 0.00217, params:\n",
      "{'n_estimators': 950, 'subsample': 1.0,\n",
      "'colsample_bytree': 0.6, 'max_depth':\n",
      "9},\n",
      "mean: -0.34648, std: 0.00127, params:\n",
      "{'n_estimators': 100, 'subsample': 0.8,\n",
      "'colsample_bytree': 0.6, 'max_depth':\n",
      "9},\n",
      "mean: -0.34628, std: 0.00130, params:\n",
      "{'n_estimators': 100, 'subsample': 0.9,\n",
      "'colsample_bytree': 0.6, 'max_depth':\n",
      "9},\n",
      "mean: -0.34645, std: 0.00128, params:\n",
      "{'n_estimators': 100, 'subsample': 1.0,\n",
      "'colsample_bytree': 0.6, 'max_depth':\n",
      "9}],\n",
      "{'colsample_bytree': 0.6,\n",
      "'max_depth': 9,\n",
      "'n_estimators': 750,\n",
      "'subsample': 0.9},\n",
      "-0.33332188518838207\n"
     ]
    }
   ],
   "source": [
    "param_test9 = {\n",
    "    'max_depth' : [6,7,8,9],\n",
    "    'colsample_bytree' : [i/10.0 for i in range(3,7)],\n",
    "    'subsample' : [i/10.0 for i in range(8,11)],\n",
    "    'n_estimators':[750, 800, 850, 900,950,100]\n",
    "}\n",
    "\n",
    "gsearch9 = GridSearchCV(estimator = XGBClassifier(max_depth= 7, min_child_weight= 1,\n",
    "                    gamma=0.0, colsample_bytree=0.6, subsample=0.9, \n",
    "                    reg_alpha = 1, reg_lambda = 1, max_delta_step = 3, \n",
    "                    scale_pos_weight= 1, learning_rate = 0.05, \n",
    "                    n_estimators=800, objective= 'binary:logistic', nthread=4, seed=45), \n",
    "param_grid = param_test9, scoring='log_loss',n_jobs=4,iid=False, cv=5)\n",
    "\n",
    "gsearch9.fit(X_train,np.ravel(Y_train))\n",
    "pd.Series(gsearch9.grid_scores_).to_csv('/home/pgoyal/quora/model4/gs_files/gs_search9.csv')\n",
    "gsearch9.grid_scores_, gsearch9.best_params_, gsearch9.best_score_"
   ]
  },
  {
   "cell_type": "code",
   "execution_count": 76,
   "metadata": {
    "collapsed": true
   },
   "outputs": [],
   "source": [
    "# Best till here :\n",
    "ini_n_estimators= gsearch9.best_params_.values()[0]\n",
    "ini_subsample= gsearch9.best_params_.values()[1]\n",
    "ini_colsample_bytree= gsearch9.best_params_.values()[2]\n",
    "ini_max_depth= gsearch9.best_params_.values()[3]"
   ]
  },
  {
   "cell_type": "code",
   "execution_count": 77,
   "metadata": {
    "collapsed": false
   },
   "outputs": [
    {
     "name": "stdout",
     "output_type": "stream",
     "text": [
      "max_depth 9\n",
      "min_child_weight 1\n",
      "gamma 0.0\n",
      "colsample_bytree 0.6\n",
      "subsample 0.9\n",
      "reg_alpha 1\n",
      "reg_lambda 0\n",
      "max_delta_step 3\n",
      "scale_pos_weight 1\n",
      "learning_rate 0.05\n",
      "n_estimators 750\n"
     ]
    }
   ],
   "source": [
    "print \"max_depth\", ini_max_depth\n",
    "print \"min_child_weight\", ini_min_child_weight\n",
    "print \"gamma\", ini_gamma\n",
    "print \"colsample_bytree\", ini_colsample_bytree\n",
    "print \"subsample\", ini_subsample\n",
    "print \"reg_alpha\", ini_reg_alpha\n",
    "print \"reg_lambda\", ini_reg_lambda\n",
    "print \"max_delta_step\", ini_max_delta_step\n",
    "print \"scale_pos_weight\", ini_scale_pos_weight\n",
    "print \"learning_rate\", ini_learning_rate\n",
    "print \"n_estimators\", ini_n_estimators"
   ]
  },
  {
   "cell_type": "code",
   "execution_count": 78,
   "metadata": {
    "collapsed": false
   },
   "outputs": [
    {
     "name": "stderr",
     "output_type": "stream",
     "text": [
      "Will train until cv error hasn't decreased in 50 rounds.\n",
      "Stopping. Best iteration:\n",
      "[652] cv-mean:0.334182\tcv-std:0.00320728439649\n"
     ]
    },
    {
     "name": "stdout",
     "output_type": "stream",
     "text": [
      "AUC Score (Train): 0.963605\n",
      "Log Loss (Train): 0.250765 \n"
     ]
    },
    {
     "data": {
      "image/png": "[encoded data removed]",
      "text/plain": [
       "<matplotlib.figure.Figure at 0x7f9b4cc16190>"
      ]
     },
     "metadata": {},
     "output_type": "display_data"
    }
   ],
   "source": [
    "# xgboost classifier Using the param values till param9 from the above GridSearch\n",
    "xgb_log2b = XGBClassifier(max_depth= 9, min_child_weight= 1, gamma=0.0, colsample_bytree=0.6, subsample=0.9, \n",
    "                    reg_alpha = 1, reg_lambda = 0, max_delta_step = 3, scale_pos_weight= 1, learning_rate = 0.05, \n",
    "                    n_estimators=750, objective= 'binary:logistic', nthread=4, seed=45)\n",
    "\n",
    "#Choose the predictors for xgboost and fit the model\n",
    "modelfit(xgb_log2b, X_train, predictors)"
   ]
  },
  {
   "cell_type": "code",
   "execution_count": 79,
   "metadata": {
    "collapsed": false
   },
   "outputs": [
    {
     "name": "stdout",
     "output_type": "stream",
     "text": [
      "Validation AUC: 0.963604523398\n",
      "Validation LogLoss: 0.250765183511\n"
     ]
    }
   ],
   "source": [
    "# Train roc_auc & Log Loss\n",
    "y_predS_xgb_log2b = xgb_log2b.predict_proba(X_train)\n",
    "print('Validation AUC: ' + str( roc_auc_score(Y_train, y_predS_xgb_log2b[:,1]) ))\n",
    "print('Validation LogLoss: ' + str( log_loss(Y_train, y_predS_xgb_log2b[:,1]) ))"
   ]
  },
  {
   "cell_type": "code",
   "execution_count": 80,
   "metadata": {
    "collapsed": false
   },
   "outputs": [
    {
     "data": {
      "text/plain": [
       "['/home/pgoyal/quora/model4/xgb_log2b_dup_logloss.pkl',\n",
       " '/home/pgoyal/quora/model4/xgb_log2b_dup_logloss.pkl_01.npy']"
      ]
     },
     "execution_count": 80,
     "metadata": {},
     "output_type": "execute_result"
    }
   ],
   "source": [
    "# Save the model# Model with prcnt_common feature\n",
    "from sklearn.externals import joblib\n",
    "joblib.dump(xgb_log2b, '/home/pgoyal/quora/model4/xgb_log2b_dup_logloss.pkl')"
   ]
  },
  {
   "cell_type": "code",
   "execution_count": 98,
   "metadata": {
    "collapsed": false
   },
   "outputs": [
    {
     "name": "stdout",
     "output_type": "stream",
     "text": [
      "mean auc: 0.922763106582\n",
      "std auc: 0.000838071956686\n",
      "mean log_loss: -0.333654868156\n",
      "std log_loss: 0.00179751688934\n"
     ]
    }
   ],
   "source": [
    "# Cross validation AUC \n",
    "cv_score_xgb_log2b = cross_val_score(xgb_log2b, X_train, np.ravel(Y_train), cv = 5, scoring ='roc_auc')\n",
    "print('mean auc: ' + str(cv_score_xgb_log2b.mean()))\n",
    "print('std auc: ' + str(cv_score_xgb_log2b.std()))\n",
    "cv_score1_xgb_log2b = cross_val_score(xgb_log2b, X_train, np.ravel(Y_train), cv = 5, scoring ='log_loss')\n",
    "print 'mean log_loss: ' + str(cv_score1_xgb_log2b.mean())\n",
    "print 'std log_loss: ' + str(cv_score1_xgb_log2b.std())"
   ]
  },
  {
   "cell_type": "markdown",
   "metadata": {},
   "source": [
    "## Decile Info - Train"
   ]
  },
  {
   "cell_type": "code",
   "execution_count": 81,
   "metadata": {
    "collapsed": true
   },
   "outputs": [],
   "source": [
    "# Decile related info\n",
    "\n",
    "df_list = [1,2,3,4,5,6,7,8,9,10]\n",
    "\n",
    "prob = pd.DataFrame(y_predS_xgb_log2b[:,1]) # y_predS is to be changed\n",
    "prob.columns = ['Probability']\n",
    "prob[\"Target\"] = Y_train.values # y_train to be changed\n",
    "prob = prob.sort_values(by='Probability', ascending=0)\n",
    "\n",
    "dec = int(prob['Target'].shape[0]/10)\n",
    "\n",
    "for i in [0,1,2,3,4,5,6,7,8,9]:\n",
    "    vars()['dec_'+str(df_list[i])+'_rr'] = float(prob['Target'][i*dec:(i+1)*dec].sum()/float(dec))\n",
    "    vars()['dec_'+str(df_list[i])+'_cr'] = float(prob['Target'][i*dec:(i+1)*dec].sum()/float(prob['Target'].sum()))\n",
    "    vars()['dec_'+str(df_list[i])+'_goods'] = float(prob['Target'][i*dec:(i+1)*dec].sum())\n",
    "    vars()['dec_'+str(df_list[i])+'_bads'] = float(prob['Target'][i*dec:(i+1)*dec].count())-float(\n",
    "        prob['Target'][i*dec:(i+1)*dec].sum())\n",
    "\n",
    "decile_num = pd.DataFrame([dec, dec, dec, dec, dec, dec, dec, dec, dec, dec], columns = ['# decile'])\n",
    "decile_goods = pd.DataFrame([dec_1_goods, dec_2_goods, dec_3_goods, dec_4_goods, dec_5_goods, dec_6_goods, dec_7_goods,\n",
    "                          dec_8_goods, dec_9_goods, dec_10_goods], columns = ['# of goods'])\n",
    "decile_bads = pd.DataFrame([dec_1_bads, dec_2_bads, dec_3_bads, dec_4_bads, dec_5_bads, dec_6_bads, dec_7_bads,\n",
    "                          dec_8_bads, dec_9_bads, dec_10_bads], columns = ['# of bads'])\n",
    "decile_cr = pd.DataFrame([dec_1_cr, dec_2_cr, dec_3_cr, dec_4_cr, dec_5_cr, dec_6_cr, dec_7_cr,\n",
    "                          dec_8_cr, dec_9_cr, dec_10_cr], columns = ['1st decile capture_rate'])\n",
    "decile_rr = pd.DataFrame([dec_1_rr, dec_2_rr, dec_3_rr, dec_4_rr, dec_5_rr, dec_6_rr, dec_7_rr,\n",
    "                          dec_8_rr, dec_9_rr, dec_10_rr], columns = ['1st decile response_rate'])"
   ]
  },
  {
   "cell_type": "code",
   "execution_count": 82,
   "metadata": {
    "collapsed": false
   },
   "outputs": [
    {
     "data": {
      "text/html": [
       "<div>\n",
       "<table border=\"1\" class=\"dataframe\">\n",
       "  <thead>\n",
       "    <tr style=\"text-align: right;\">\n",
       "      <th></th>\n",
       "      <th># decile</th>\n",
       "      <th># of goods</th>\n",
       "      <th># of bads</th>\n",
       "      <th>1st decile capture_rate</th>\n",
       "      <th>1st decile response_rate</th>\n",
       "      <th>% of bads</th>\n",
       "      <th>% cum_goods</th>\n",
       "      <th>% cum_bads</th>\n",
       "      <th>KS</th>\n",
       "      <th>Lift</th>\n",
       "    </tr>\n",
       "  </thead>\n",
       "  <tbody>\n",
       "    <tr>\n",
       "      <th>0</th>\n",
       "      <td>32343</td>\n",
       "      <td>32329.0</td>\n",
       "      <td>14.0</td>\n",
       "      <td>0.270348</td>\n",
       "      <td>0.999567</td>\n",
       "      <td>0.000069</td>\n",
       "      <td>0.270348</td>\n",
       "      <td>0.000069</td>\n",
       "      <td>0.782785</td>\n",
       "      <td>2.703495</td>\n",
       "    </tr>\n",
       "    <tr>\n",
       "      <th>1</th>\n",
       "      <td>32343</td>\n",
       "      <td>31041.0</td>\n",
       "      <td>1302.0</td>\n",
       "      <td>0.259577</td>\n",
       "      <td>0.959744</td>\n",
       "      <td>0.006387</td>\n",
       "      <td>0.529925</td>\n",
       "      <td>0.006456</td>\n",
       "      <td>0.782785</td>\n",
       "      <td>2.649640</td>\n",
       "    </tr>\n",
       "    <tr>\n",
       "      <th>2</th>\n",
       "      <td>32343</td>\n",
       "      <td>25792.0</td>\n",
       "      <td>6551.0</td>\n",
       "      <td>0.215683</td>\n",
       "      <td>0.797452</td>\n",
       "      <td>0.032137</td>\n",
       "      <td>0.745608</td>\n",
       "      <td>0.038593</td>\n",
       "      <td>0.782785</td>\n",
       "      <td>2.485374</td>\n",
       "    </tr>\n",
       "    <tr>\n",
       "      <th>3</th>\n",
       "      <td>32343</td>\n",
       "      <td>17669.0</td>\n",
       "      <td>14674.0</td>\n",
       "      <td>0.147755</td>\n",
       "      <td>0.546301</td>\n",
       "      <td>0.071985</td>\n",
       "      <td>0.893363</td>\n",
       "      <td>0.110578</td>\n",
       "      <td>0.782785</td>\n",
       "      <td>2.233421</td>\n",
       "    </tr>\n",
       "    <tr>\n",
       "      <th>4</th>\n",
       "      <td>32343</td>\n",
       "      <td>8840.0</td>\n",
       "      <td>23503.0</td>\n",
       "      <td>0.073924</td>\n",
       "      <td>0.273320</td>\n",
       "      <td>0.115297</td>\n",
       "      <td>0.967286</td>\n",
       "      <td>0.225875</td>\n",
       "      <td>0.782785</td>\n",
       "      <td>1.934585</td>\n",
       "    </tr>\n",
       "    <tr>\n",
       "      <th>5</th>\n",
       "      <td>32343</td>\n",
       "      <td>3194.0</td>\n",
       "      <td>29149.0</td>\n",
       "      <td>0.026709</td>\n",
       "      <td>0.098754</td>\n",
       "      <td>0.142995</td>\n",
       "      <td>0.993996</td>\n",
       "      <td>0.368870</td>\n",
       "      <td>0.782785</td>\n",
       "      <td>1.656670</td>\n",
       "    </tr>\n",
       "    <tr>\n",
       "      <th>6</th>\n",
       "      <td>32343</td>\n",
       "      <td>669.0</td>\n",
       "      <td>31674.0</td>\n",
       "      <td>0.005594</td>\n",
       "      <td>0.020685</td>\n",
       "      <td>0.155381</td>\n",
       "      <td>0.999590</td>\n",
       "      <td>0.524251</td>\n",
       "      <td>0.782785</td>\n",
       "      <td>1.427995</td>\n",
       "    </tr>\n",
       "    <tr>\n",
       "      <th>7</th>\n",
       "      <td>32343</td>\n",
       "      <td>48.0</td>\n",
       "      <td>32295.0</td>\n",
       "      <td>0.000401</td>\n",
       "      <td>0.001484</td>\n",
       "      <td>0.158428</td>\n",
       "      <td>0.999992</td>\n",
       "      <td>0.682679</td>\n",
       "      <td>0.782785</td>\n",
       "      <td>1.249997</td>\n",
       "    </tr>\n",
       "    <tr>\n",
       "      <th>8</th>\n",
       "      <td>32343</td>\n",
       "      <td>1.0</td>\n",
       "      <td>32342.0</td>\n",
       "      <td>0.000008</td>\n",
       "      <td>0.000031</td>\n",
       "      <td>0.158658</td>\n",
       "      <td>1.000000</td>\n",
       "      <td>0.841337</td>\n",
       "      <td>0.782785</td>\n",
       "      <td>1.111118</td>\n",
       "    </tr>\n",
       "    <tr>\n",
       "      <th>9</th>\n",
       "      <td>32343</td>\n",
       "      <td>0.0</td>\n",
       "      <td>32343.0</td>\n",
       "      <td>0.000000</td>\n",
       "      <td>0.000000</td>\n",
       "      <td>0.158663</td>\n",
       "      <td>1.000000</td>\n",
       "      <td>1.000000</td>\n",
       "      <td>0.782785</td>\n",
       "      <td>1.000006</td>\n",
       "    </tr>\n",
       "  </tbody>\n",
       "</table>\n",
       "</div>"
      ],
      "text/plain": [
       "   # decile  # of goods  # of bads  1st decile capture_rate  \\\n",
       "0     32343     32329.0       14.0                 0.270348   \n",
       "1     32343     31041.0     1302.0                 0.259577   \n",
       "2     32343     25792.0     6551.0                 0.215683   \n",
       "3     32343     17669.0    14674.0                 0.147755   \n",
       "4     32343      8840.0    23503.0                 0.073924   \n",
       "5     32343      3194.0    29149.0                 0.026709   \n",
       "6     32343       669.0    31674.0                 0.005594   \n",
       "7     32343        48.0    32295.0                 0.000401   \n",
       "8     32343         1.0    32342.0                 0.000008   \n",
       "9     32343         0.0    32343.0                 0.000000   \n",
       "\n",
       "   1st decile response_rate  % of bads  % cum_goods  % cum_bads        KS  \\\n",
       "0                  0.999567   0.000069     0.270348    0.000069  0.782785   \n",
       "1                  0.959744   0.006387     0.529925    0.006456  0.782785   \n",
       "2                  0.797452   0.032137     0.745608    0.038593  0.782785   \n",
       "3                  0.546301   0.071985     0.893363    0.110578  0.782785   \n",
       "4                  0.273320   0.115297     0.967286    0.225875  0.782785   \n",
       "5                  0.098754   0.142995     0.993996    0.368870  0.782785   \n",
       "6                  0.020685   0.155381     0.999590    0.524251  0.782785   \n",
       "7                  0.001484   0.158428     0.999992    0.682679  0.782785   \n",
       "8                  0.000031   0.158658     1.000000    0.841337  0.782785   \n",
       "9                  0.000000   0.158663     1.000000    1.000000  0.782785   \n",
       "\n",
       "       Lift  \n",
       "0  2.703495  \n",
       "1  2.649640  \n",
       "2  2.485374  \n",
       "3  2.233421  \n",
       "4  1.934585  \n",
       "5  1.656670  \n",
       "6  1.427995  \n",
       "7  1.249997  \n",
       "8  1.111118  \n",
       "9  1.000006  "
      ]
     },
     "execution_count": 82,
     "metadata": {},
     "output_type": "execute_result"
    }
   ],
   "source": [
    "# Decile info dataframe\n",
    "\n",
    "df = [decile_num, decile_goods, decile_bads, decile_cr, decile_rr]\n",
    "df = pd.concat(df, axis=1)\n",
    "df['% of bads'] = df['# of bads']/df['# of bads'].sum()\n",
    "df['% cum_goods'] = df['1st decile capture_rate'].cumsum()\n",
    "df['% cum_bads'] = df['% of bads'].cumsum()\n",
    "df['KS'] = (df['% cum_goods']-df['% cum_bads']).max()\n",
    "df['Lift'] = df['% cum_goods']/(df['# decile']/prob['Target'].shape[0]).cumsum()\n",
    "df"
   ]
  },
  {
   "cell_type": "code",
   "execution_count": 83,
   "metadata": {
    "collapsed": false
   },
   "outputs": [
    {
     "name": "stdout",
     "output_type": "stream",
     "text": [
      "Probability from classifier for Train\n",
      "Response 10%: 0.999567139721\n",
      "Capture at 10%: 0.27034779191\n",
      "Response 5%: 1.0\n",
      "Capture at 5%: 0.135228251507\n"
     ]
    },
    {
     "data": {
      "text/plain": [
       "(<Container object of 10 artists>,\n",
       " <matplotlib.text.Text at 0x7f9b50cbf0d0>,\n",
       " <matplotlib.text.Text at 0x7f9b50c91410>)"
      ]
     },
     "execution_count": 83,
     "metadata": {},
     "output_type": "execute_result"
    },
    {
     "data": {
      "image/png": "[encoded data removed]",
      "text/plain": [
       "<matplotlib.figure.Figure at 0x7f9b4e255390>"
      ]
     },
     "metadata": {},
     "output_type": "display_data"
    }
   ],
   "source": [
    "# Top decile, 5% capture, decile chart and lift chart\n",
    "per5 = int(prob['Target'].shape[0]/20)\n",
    "per5_1_rr = float(prob['Target'][0:per5].sum()/float(per5))\n",
    "per5_1_cr = float(prob['Target'][0:per5].sum()/float(prob['Target'].sum()))\n",
    "\n",
    "print 'Probability from classifier for Train' \n",
    "print 'Response 10%: ' + str(dec_1_rr)\n",
    "print 'Capture at 10%: ' + str(dec_1_cr)\n",
    "print 'Response 5%: ' + str(per5_1_rr)\n",
    "print 'Capture at 5%: ' + str(per5_1_cr)\n",
    "\n",
    "# print decile chart and lift chart\n",
    "f, axs = plt.subplots(1,2,figsize=(16,4))\n",
    "axs[0].bar(xrange(0,10), df['1st decile capture_rate'], color = 'blue'), axs[0].set_title('Decile chart')\n",
    "axs[0].set_ylabel('Capture rate')\n",
    "axs[1].bar(xrange(0,10), df['Lift'], color = 'grey'), axs[1].set_title('Lift chart'), axs[1].set_ylabel('Lift')"
   ]
  },
  {
   "cell_type": "markdown",
   "metadata": {},
   "source": [
    "## Decile Info - Validation"
   ]
  },
  {
   "cell_type": "code",
   "execution_count": 84,
   "metadata": {
    "collapsed": false
   },
   "outputs": [
    {
     "name": "stdout",
     "output_type": "stream",
     "text": [
      "Validation AUC: 0.924260865821\n",
      "Validation Log Loss: 0.33003275054\n"
     ]
    }
   ],
   "source": [
    "# Validation AUC\n",
    "val_pred_xgb_log2b = xgb_log2b.predict_proba(X_val)\n",
    "print('Validation AUC: ' + str(roc_auc_score(Y_val, val_pred_xgb_log2b[:,1])))\n",
    "print('Validation Log Loss: ' + str(log_loss(Y_val, val_pred_xgb_log2b[:,1])))"
   ]
  },
  {
   "cell_type": "code",
   "execution_count": 85,
   "metadata": {
    "collapsed": true
   },
   "outputs": [],
   "source": [
    "# Decile related info\n",
    "df_list = [1,2,3,4,5,6,7,8,9,10]\n",
    "\n",
    "prob = pd.DataFrame(val_pred_xgb_log2b[:,1]) \n",
    "prob.columns = ['Probability']\n",
    "prob[\"Target\"] = Y_val.values \n",
    "prob = prob.sort_values(by='Probability', ascending=0)\n",
    "\n",
    "dec = int(prob['Target'].shape[0]/10)\n",
    "\n",
    "for i in [0,1,2,3,4,5,6,7,8,9]:\n",
    "    vars()['dec_'+str(df_list[i])+'_rr'] = float(prob['Target'][i*dec:(i+1)*dec].sum()/float(dec))\n",
    "    vars()['dec_'+str(df_list[i])+'_cr'] = float(prob['Target'][i*dec:(i+1)*dec].sum()/float(prob['Target'].sum()))\n",
    "    vars()['dec_'+str(df_list[i])+'_goods'] = float(prob['Target'][i*dec:(i+1)*dec].sum())\n",
    "    vars()['dec_'+str(df_list[i])+'_bads'] = float(prob['Target'][i*dec:(i+1)*dec].count())-float(\n",
    "        prob['Target'][i*dec:(i+1)*dec].sum())\n",
    "\n",
    "decile_num = pd.DataFrame([dec, dec, dec, dec, dec, dec, dec, dec, dec, dec], columns = ['# decile'])\n",
    "decile_goods = pd.DataFrame([dec_1_goods, dec_2_goods, dec_3_goods, dec_4_goods, dec_5_goods, dec_6_goods, dec_7_goods,\n",
    "                          dec_8_goods, dec_9_goods, dec_10_goods], columns = ['# of goods'])\n",
    "decile_bads = pd.DataFrame([dec_1_bads, dec_2_bads, dec_3_bads, dec_4_bads, dec_5_bads, dec_6_bads, dec_7_bads,\n",
    "                          dec_8_bads, dec_9_bads, dec_10_bads], columns = ['# of bads'])\n",
    "decile_cr = pd.DataFrame([dec_1_cr, dec_2_cr, dec_3_cr, dec_4_cr, dec_5_cr, dec_6_cr, dec_7_cr,\n",
    "                          dec_8_cr, dec_9_cr, dec_10_cr], columns = ['1st decile capture_rate'])\n",
    "decile_rr = pd.DataFrame([dec_1_rr, dec_2_rr, dec_3_rr, dec_4_rr, dec_5_rr, dec_6_rr, dec_7_rr,\n",
    "                          dec_8_rr, dec_9_rr, dec_10_rr], columns = ['1st decile response_rate'])"
   ]
  },
  {
   "cell_type": "code",
   "execution_count": 86,
   "metadata": {
    "collapsed": false
   },
   "outputs": [
    {
     "data": {
      "text/html": [
       "<div>\n",
       "<table border=\"1\" class=\"dataframe\">\n",
       "  <thead>\n",
       "    <tr style=\"text-align: right;\">\n",
       "      <th></th>\n",
       "      <th># decile</th>\n",
       "      <th># of goods</th>\n",
       "      <th># of bads</th>\n",
       "      <th>1st decile capture_rate</th>\n",
       "      <th>1st decile response_rate</th>\n",
       "      <th>% of bads</th>\n",
       "      <th>% cum_goods</th>\n",
       "      <th>% cum_bads</th>\n",
       "      <th>KS</th>\n",
       "      <th>Lift</th>\n",
       "    </tr>\n",
       "  </thead>\n",
       "  <tbody>\n",
       "    <tr>\n",
       "      <th>0</th>\n",
       "      <td>8085</td>\n",
       "      <td>8011.0</td>\n",
       "      <td>74.0</td>\n",
       "      <td>0.269912</td>\n",
       "      <td>0.990847</td>\n",
       "      <td>0.001446</td>\n",
       "      <td>0.269912</td>\n",
       "      <td>0.001446</td>\n",
       "      <td>0.671618</td>\n",
       "      <td>2.699391</td>\n",
       "    </tr>\n",
       "    <tr>\n",
       "      <th>1</th>\n",
       "      <td>8085</td>\n",
       "      <td>7166.0</td>\n",
       "      <td>919.0</td>\n",
       "      <td>0.241442</td>\n",
       "      <td>0.886333</td>\n",
       "      <td>0.017960</td>\n",
       "      <td>0.511354</td>\n",
       "      <td>0.019406</td>\n",
       "      <td>0.671618</td>\n",
       "      <td>2.557025</td>\n",
       "    </tr>\n",
       "    <tr>\n",
       "      <th>2</th>\n",
       "      <td>8085</td>\n",
       "      <td>5529.0</td>\n",
       "      <td>2556.0</td>\n",
       "      <td>0.186287</td>\n",
       "      <td>0.683859</td>\n",
       "      <td>0.049951</td>\n",
       "      <td>0.697642</td>\n",
       "      <td>0.069357</td>\n",
       "      <td>0.671618</td>\n",
       "      <td>2.325702</td>\n",
       "    </tr>\n",
       "    <tr>\n",
       "      <th>3</th>\n",
       "      <td>8085</td>\n",
       "      <td>3782.0</td>\n",
       "      <td>4303.0</td>\n",
       "      <td>0.127426</td>\n",
       "      <td>0.467780</td>\n",
       "      <td>0.084092</td>\n",
       "      <td>0.825067</td>\n",
       "      <td>0.153449</td>\n",
       "      <td>0.671618</td>\n",
       "      <td>2.062873</td>\n",
       "    </tr>\n",
       "    <tr>\n",
       "      <th>4</th>\n",
       "      <td>8085</td>\n",
       "      <td>2524.0</td>\n",
       "      <td>5561.0</td>\n",
       "      <td>0.085040</td>\n",
       "      <td>0.312183</td>\n",
       "      <td>0.108677</td>\n",
       "      <td>0.910108</td>\n",
       "      <td>0.262126</td>\n",
       "      <td>0.671618</td>\n",
       "      <td>1.820396</td>\n",
       "    </tr>\n",
       "    <tr>\n",
       "      <th>5</th>\n",
       "      <td>8085</td>\n",
       "      <td>1570.0</td>\n",
       "      <td>6515.0</td>\n",
       "      <td>0.052898</td>\n",
       "      <td>0.194187</td>\n",
       "      <td>0.127321</td>\n",
       "      <td>0.963005</td>\n",
       "      <td>0.389447</td>\n",
       "      <td>0.671618</td>\n",
       "      <td>1.605168</td>\n",
       "    </tr>\n",
       "    <tr>\n",
       "      <th>6</th>\n",
       "      <td>8085</td>\n",
       "      <td>726.0</td>\n",
       "      <td>7359.0</td>\n",
       "      <td>0.024461</td>\n",
       "      <td>0.089796</td>\n",
       "      <td>0.143815</td>\n",
       "      <td>0.987466</td>\n",
       "      <td>0.533262</td>\n",
       "      <td>0.671618</td>\n",
       "      <td>1.410806</td>\n",
       "    </tr>\n",
       "    <tr>\n",
       "      <th>7</th>\n",
       "      <td>8085</td>\n",
       "      <td>312.0</td>\n",
       "      <td>7773.0</td>\n",
       "      <td>0.010512</td>\n",
       "      <td>0.038590</td>\n",
       "      <td>0.151905</td>\n",
       "      <td>0.997978</td>\n",
       "      <td>0.685167</td>\n",
       "      <td>0.671618</td>\n",
       "      <td>1.247596</td>\n",
       "    </tr>\n",
       "    <tr>\n",
       "      <th>8</th>\n",
       "      <td>8085</td>\n",
       "      <td>58.0</td>\n",
       "      <td>8027.0</td>\n",
       "      <td>0.001954</td>\n",
       "      <td>0.007174</td>\n",
       "      <td>0.156869</td>\n",
       "      <td>0.999933</td>\n",
       "      <td>0.842036</td>\n",
       "      <td>0.671618</td>\n",
       "      <td>1.111146</td>\n",
       "    </tr>\n",
       "    <tr>\n",
       "      <th>9</th>\n",
       "      <td>8085</td>\n",
       "      <td>2.0</td>\n",
       "      <td>8083.0</td>\n",
       "      <td>0.000067</td>\n",
       "      <td>0.000247</td>\n",
       "      <td>0.157964</td>\n",
       "      <td>1.000000</td>\n",
       "      <td>1.000000</td>\n",
       "      <td>0.671618</td>\n",
       "      <td>1.000099</td>\n",
       "    </tr>\n",
       "  </tbody>\n",
       "</table>\n",
       "</div>"
      ],
      "text/plain": [
       "   # decile  # of goods  # of bads  1st decile capture_rate  \\\n",
       "0      8085      8011.0       74.0                 0.269912   \n",
       "1      8085      7166.0      919.0                 0.241442   \n",
       "2      8085      5529.0     2556.0                 0.186287   \n",
       "3      8085      3782.0     4303.0                 0.127426   \n",
       "4      8085      2524.0     5561.0                 0.085040   \n",
       "5      8085      1570.0     6515.0                 0.052898   \n",
       "6      8085       726.0     7359.0                 0.024461   \n",
       "7      8085       312.0     7773.0                 0.010512   \n",
       "8      8085        58.0     8027.0                 0.001954   \n",
       "9      8085         2.0     8083.0                 0.000067   \n",
       "\n",
       "   1st decile response_rate  % of bads  % cum_goods  % cum_bads        KS  \\\n",
       "0                  0.990847   0.001446     0.269912    0.001446  0.671618   \n",
       "1                  0.886333   0.017960     0.511354    0.019406  0.671618   \n",
       "2                  0.683859   0.049951     0.697642    0.069357  0.671618   \n",
       "3                  0.467780   0.084092     0.825067    0.153449  0.671618   \n",
       "4                  0.312183   0.108677     0.910108    0.262126  0.671618   \n",
       "5                  0.194187   0.127321     0.963005    0.389447  0.671618   \n",
       "6                  0.089796   0.143815     0.987466    0.533262  0.671618   \n",
       "7                  0.038590   0.151905     0.997978    0.685167  0.671618   \n",
       "8                  0.007174   0.156869     0.999933    0.842036  0.671618   \n",
       "9                  0.000247   0.157964     1.000000    1.000000  0.671618   \n",
       "\n",
       "       Lift  \n",
       "0  2.699391  \n",
       "1  2.557025  \n",
       "2  2.325702  \n",
       "3  2.062873  \n",
       "4  1.820396  \n",
       "5  1.605168  \n",
       "6  1.410806  \n",
       "7  1.247596  \n",
       "8  1.111146  \n",
       "9  1.000099  "
      ]
     },
     "execution_count": 86,
     "metadata": {},
     "output_type": "execute_result"
    }
   ],
   "source": [
    "# Decile info dataframe\n",
    "df = [decile_num, decile_goods, decile_bads, decile_cr, decile_rr]\n",
    "df = pd.concat(df, axis=1)\n",
    "df['% of bads'] = df['# of bads']/df['# of bads'].sum()\n",
    "df['% cum_goods'] = df['1st decile capture_rate'].cumsum()\n",
    "df['% cum_bads'] = df['% of bads'].cumsum()\n",
    "df['KS'] = (df['% cum_goods']-df['% cum_bads']).max()\n",
    "df['Lift'] = df['% cum_goods']/(df['# decile']/prob['Target'].shape[0]).cumsum()\n",
    "df"
   ]
  },
  {
   "cell_type": "code",
   "execution_count": 87,
   "metadata": {
    "collapsed": false
   },
   "outputs": [
    {
     "name": "stdout",
     "output_type": "stream",
     "text": [
      "Probability from classifier for Validation\n",
      "Response 10%: 0.99084724799\n",
      "Capture at 10%: 0.269912398922\n",
      "Response 5%: 0.998268184067\n",
      "Capture at 5%: 0.135950134771\n"
     ]
    },
    {
     "data": {
      "text/plain": [
       "(<Container object of 10 artists>,\n",
       " <matplotlib.text.Text at 0x7f9b50abe1d0>,\n",
       " <matplotlib.text.Text at 0x7f9b50a8a790>)"
      ]
     },
     "execution_count": 87,
     "metadata": {},
     "output_type": "execute_result"
    },
    {
     "data": {
      "image/png": "[encoded data removed]",
      "text/plain": [
       "<matplotlib.figure.Figure at 0x7f9b517fcf90>"
      ]
     },
     "metadata": {},
     "output_type": "display_data"
    }
   ],
   "source": [
    "# Top decile, 5% capture, decile chart and lift chart\n",
    "\n",
    "per5 = int(prob['Target'].shape[0]/20)\n",
    "per5_1_rr = float(prob['Target'][0:per5].sum()/float(per5))\n",
    "per5_1_cr = float(prob['Target'][0:per5].sum()/float(prob['Target'].sum()))\n",
    "\n",
    "print 'Probability from classifier for Validation'\n",
    "print 'Response 10%: ' + str(dec_1_rr)\n",
    "print 'Capture at 10%: ' + str(dec_1_cr)\n",
    "print 'Response 5%: ' + str(per5_1_rr)\n",
    "print 'Capture at 5%: ' + str(per5_1_cr)\n",
    "\n",
    "# print decile chart and lift chart\n",
    "f, axs = plt.subplots(1,2,figsize=(16,4))\n",
    "axs[0].bar(xrange(0,10), df['1st decile capture_rate'], color = 'blue'), axs[0].set_title('Decile chart')\n",
    "axs[0].set_ylabel('Capture rate')\n",
    "axs[1].bar(xrange(0,10), df['Lift'], color = 'grey'), axs[1].set_title('Lift chart'), axs[1].set_ylabel('Lift')"
   ]
  },
  {
   "cell_type": "code",
   "execution_count": 88,
   "metadata": {
    "collapsed": false
   },
   "outputs": [
    {
     "data": {
      "text/plain": [
       "<matplotlib.legend.Legend at 0x7f9b4fe67890>"
      ]
     },
     "execution_count": 88,
     "metadata": {},
     "output_type": "execute_result"
    },
    {
     "data": {
      "image/png": "[encoded data removed]",
      "text/plain": [
       "<matplotlib.figure.Figure at 0x7f9b51ab4350>"
      ]
     },
     "metadata": {},
     "output_type": "display_data"
    }
   ],
   "source": [
    "# Make ROC curve for train and validation as of now\n",
    "from sklearn.metrics import roc_curve, auc\n",
    "\n",
    "fpr_trn, tpr_trn, _= roc_curve(Y_train, y_predS_xgb_log2b[:,1])\n",
    "fpr_tst, tpr_tst, _= roc_curve(Y_val, val_pred_xgb_log2b[:, 1]) \n",
    "\n",
    "roc_auc_trn = auc(fpr_trn, tpr_trn)\n",
    "roc_auc_tst = auc(fpr_tst, tpr_tst)\n",
    "# print roc_auc\n",
    "\n",
    "# Plot of a ROC curve\n",
    "plt.figure(figsize=(8,7))\n",
    "plt.plot(fpr_trn, tpr_trn, label='Train AUC - %0.2f' % roc_auc_trn)\n",
    "plt.plot(fpr_tst, tpr_tst, label='Valid AUC - %0.2f' % roc_auc_tst)   # Valid or Test ???\n",
    "plt.plot([0, 1], [0, 1], 'k--')\n",
    "plt.xlim([0.0, 1.0])\n",
    "plt.ylim([0.0, 1.05])\n",
    "plt.xlabel('False Positive Rate')\n",
    "plt.ylabel('True Positive Rate')\n",
    "plt.title('ROC Curve')\n",
    "plt.legend(loc=\"lower right\", prop={'size':8})\n",
    "# plt.savefig('ROC_Curve.png')"
   ]
  },
  {
   "cell_type": "code",
   "execution_count": null,
   "metadata": {
    "collapsed": true
   },
   "outputs": [],
   "source": []
  },
  {
   "cell_type": "code",
   "execution_count": 89,
   "metadata": {
    "collapsed": true
   },
   "outputs": [],
   "source": [
    "feat_imp = pd.Series(xgb_log2b.booster().get_fscore()).sort_values(ascending=False)\n",
    "feat_imp =pd.DataFrame({'features': feat_imp.index, 'importance' : feat_imp.values})\n",
    "feat_imp['importance_percent']  = feat_imp['importance']/feat_imp['importance'].sum()"
   ]
  },
  {
   "cell_type": "code",
   "execution_count": 90,
   "metadata": {
    "collapsed": false
   },
   "outputs": [
    {
     "data": {
      "text/html": [
       "<div>\n",
       "<table border=\"1\" class=\"dataframe\">\n",
       "  <thead>\n",
       "    <tr style=\"text-align: right;\">\n",
       "      <th></th>\n",
       "      <th>features</th>\n",
       "      <th>importance</th>\n",
       "      <th>importance_percent</th>\n",
       "    </tr>\n",
       "  </thead>\n",
       "  <tbody>\n",
       "    <tr>\n",
       "      <th>0</th>\n",
       "      <td>kurt_que1</td>\n",
       "      <td>9447</td>\n",
       "      <td>0.055382</td>\n",
       "    </tr>\n",
       "    <tr>\n",
       "      <th>1</th>\n",
       "      <td>kurt_que2</td>\n",
       "      <td>9345</td>\n",
       "      <td>0.054784</td>\n",
       "    </tr>\n",
       "    <tr>\n",
       "      <th>2</th>\n",
       "      <td>canberra_val</td>\n",
       "      <td>8843</td>\n",
       "      <td>0.051841</td>\n",
       "    </tr>\n",
       "    <tr>\n",
       "      <th>3</th>\n",
       "      <td>cityblock_val</td>\n",
       "      <td>7993</td>\n",
       "      <td>0.046858</td>\n",
       "    </tr>\n",
       "    <tr>\n",
       "      <th>4</th>\n",
       "      <td>q1_form_char</td>\n",
       "      <td>7871</td>\n",
       "      <td>0.046143</td>\n",
       "    </tr>\n",
       "    <tr>\n",
       "      <th>5</th>\n",
       "      <td>q_ratio</td>\n",
       "      <td>7799</td>\n",
       "      <td>0.045721</td>\n",
       "    </tr>\n",
       "    <tr>\n",
       "      <th>6</th>\n",
       "      <td>q2_form_char</td>\n",
       "      <td>7496</td>\n",
       "      <td>0.043944</td>\n",
       "    </tr>\n",
       "    <tr>\n",
       "      <th>7</th>\n",
       "      <td>partial_ratio</td>\n",
       "      <td>7350</td>\n",
       "      <td>0.043089</td>\n",
       "    </tr>\n",
       "    <tr>\n",
       "      <th>8</th>\n",
       "      <td>skew_que1</td>\n",
       "      <td>7257</td>\n",
       "      <td>0.042543</td>\n",
       "    </tr>\n",
       "    <tr>\n",
       "      <th>9</th>\n",
       "      <td>skew_que2</td>\n",
       "      <td>7009</td>\n",
       "      <td>0.041089</td>\n",
       "    </tr>\n",
       "    <tr>\n",
       "      <th>10</th>\n",
       "      <td>token_sort_ratio</td>\n",
       "      <td>6319</td>\n",
       "      <td>0.037044</td>\n",
       "    </tr>\n",
       "    <tr>\n",
       "      <th>11</th>\n",
       "      <td>partial_token_sort_ratio</td>\n",
       "      <td>5929</td>\n",
       "      <td>0.034758</td>\n",
       "    </tr>\n",
       "    <tr>\n",
       "      <th>12</th>\n",
       "      <td>q1_q2_char_diff</td>\n",
       "      <td>5745</td>\n",
       "      <td>0.033679</td>\n",
       "    </tr>\n",
       "    <tr>\n",
       "      <th>13</th>\n",
       "      <td>q2_freq_in_q1q2</td>\n",
       "      <td>5315</td>\n",
       "      <td>0.031159</td>\n",
       "    </tr>\n",
       "    <tr>\n",
       "      <th>14</th>\n",
       "      <td>q2_length</td>\n",
       "      <td>5142</td>\n",
       "      <td>0.030144</td>\n",
       "    </tr>\n",
       "    <tr>\n",
       "      <th>15</th>\n",
       "      <td>q1_length</td>\n",
       "      <td>5126</td>\n",
       "      <td>0.030051</td>\n",
       "    </tr>\n",
       "    <tr>\n",
       "      <th>16</th>\n",
       "      <td>prcnt_common</td>\n",
       "      <td>5020</td>\n",
       "      <td>0.029429</td>\n",
       "    </tr>\n",
       "    <tr>\n",
       "      <th>17</th>\n",
       "      <td>token_set_ratio</td>\n",
       "      <td>4992</td>\n",
       "      <td>0.029265</td>\n",
       "    </tr>\n",
       "    <tr>\n",
       "      <th>18</th>\n",
       "      <td>q1_freq_in_q1q2</td>\n",
       "      <td>4881</td>\n",
       "      <td>0.028614</td>\n",
       "    </tr>\n",
       "    <tr>\n",
       "      <th>19</th>\n",
       "      <td>euclidean_val</td>\n",
       "      <td>4872</td>\n",
       "      <td>0.028562</td>\n",
       "    </tr>\n",
       "    <tr>\n",
       "      <th>20</th>\n",
       "      <td>q1_unique</td>\n",
       "      <td>4137</td>\n",
       "      <td>0.024253</td>\n",
       "    </tr>\n",
       "  </tbody>\n",
       "</table>\n",
       "</div>"
      ],
      "text/plain": [
       "                    features  importance  importance_percent\n",
       "0                  kurt_que1        9447            0.055382\n",
       "1                  kurt_que2        9345            0.054784\n",
       "2               canberra_val        8843            0.051841\n",
       "3              cityblock_val        7993            0.046858\n",
       "4               q1_form_char        7871            0.046143\n",
       "5                    q_ratio        7799            0.045721\n",
       "6               q2_form_char        7496            0.043944\n",
       "7              partial_ratio        7350            0.043089\n",
       "8                  skew_que1        7257            0.042543\n",
       "9                  skew_que2        7009            0.041089\n",
       "10          token_sort_ratio        6319            0.037044\n",
       "11  partial_token_sort_ratio        5929            0.034758\n",
       "12           q1_q2_char_diff        5745            0.033679\n",
       "13           q2_freq_in_q1q2        5315            0.031159\n",
       "14                 q2_length        5142            0.030144\n",
       "15                 q1_length        5126            0.030051\n",
       "16              prcnt_common        5020            0.029429\n",
       "17           token_set_ratio        4992            0.029265\n",
       "18           q1_freq_in_q1q2        4881            0.028614\n",
       "19             euclidean_val        4872            0.028562\n",
       "20                 q1_unique        4137            0.024253"
      ]
     },
     "execution_count": 90,
     "metadata": {},
     "output_type": "execute_result"
    }
   ],
   "source": [
    "feat_imp.iloc[0:21]"
   ]
  },
  {
   "cell_type": "code",
   "execution_count": 91,
   "metadata": {
    "collapsed": true
   },
   "outputs": [],
   "source": [
    "def draw_feature_importance(fea_imp_df, nb, imp_col):\n",
    "    fea_imp_df = fea_imp_df.sort_values(imp_col).reset_index(drop=True)\n",
    "    fea_imp_df = fea_imp_df[-1*nb:].reset_index(drop=True)\n",
    "\n",
    "    plt.figure(figsize=(10, nb*0.3))\n",
    "    plt.title(\"Top %d Most Important Features\"%nb)\n",
    "    plt.barh(fea_imp_df.index, fea_imp_df[imp_col], color='#348ABD', align=\"center\", lw='2', edgecolor='#348ABD', alpha=0.6)\n",
    "    plt.yticks(fea_imp_df.index, fea_imp_df['features'], fontsize=12,)\n",
    "    plt.ylim([-1, nb])\n",
    "    plt.xlim([0, fea_imp_df[imp_col].max()*1.1])\n",
    "    plt.show()"
   ]
  },
  {
   "cell_type": "code",
   "execution_count": 92,
   "metadata": {
    "collapsed": false
   },
   "outputs": [
    {
     "data": {
      "image/png": "[encoded data removed]",
      "text/plain": [
       "<matplotlib.figure.Figure at 0x7f9b50e8edd0>"
      ]
     },
     "metadata": {},
     "output_type": "display_data"
    }
   ],
   "source": [
    "draw_feature_importance(feat_imp, feat_imp.shape[0], 'importance_percent')"
   ]
  },
  {
   "cell_type": "code",
   "execution_count": null,
   "metadata": {
    "collapsed": false
   },
   "outputs": [],
   "source": []
  },
  {
   "cell_type": "code",
   "execution_count": null,
   "metadata": {
    "collapsed": true
   },
   "outputs": [],
   "source": []
  },
  {
   "cell_type": "code",
   "execution_count": 93,
   "metadata": {
    "collapsed": true
   },
   "outputs": [],
   "source": [
    "# RUNNING THE FINAL SELECTED MODEL HYPERPARAMS ON THE FULL TRAINING DATASET"
   ]
  },
  {
   "cell_type": "code",
   "execution_count": 94,
   "metadata": {
    "collapsed": true
   },
   "outputs": [],
   "source": [
    "# xgboost fn\n",
    "def modelfit2(alg, dtrain, predictors, useTrainCV=True, cv_folds=5, early_stopping_rounds=50):    \n",
    "    if useTrainCV:\n",
    "        xgb_param = alg.get_xgb_params()\n",
    "        xgtrain = xgb.DMatrix(dtrain[predictors].values, label=val_dup[[0]].values)\n",
    "        cvresult = xgb.cv(xgb_param, xgtrain, num_boost_round=alg.get_params()['n_estimators'], nfold=cv_folds,\n",
    "                          metrics=['logloss'], early_stopping_rounds=early_stopping_rounds, show_progress=False)\n",
    "        alg.set_params(n_estimators=cvresult.shape[0])\n",
    "    alg.fit(dtrain[predictors], np.ravel(val_dup),eval_metric='logloss')     #Fit algorithm\n",
    "\n",
    "    #Predict training set:\n",
    "    dtrain_predictions = alg.predict(dtrain[predictors])\n",
    "    dtrain_predprob = alg.predict_proba(dtrain[predictors])[:,1]\n",
    "    print(\"AUC Score (Train): %f\" % roc_auc_score(np.ravel(val_dup), dtrain_predprob))\n",
    "    print(\"LogLoss Score (Train): %f\" % log_loss(np.ravel(val_dup), dtrain_predprob))\n",
    "    \n",
    "    feat_imp = pd.Series(alg.booster().get_fscore()).sort_values(ascending=False)\n",
    "    feat_imp.plot(kind='bar', title='Feature Importances')\n",
    "    plt.ylabel('Feature Importance Score')"
   ]
  },
  {
   "cell_type": "code",
   "execution_count": null,
   "metadata": {
    "collapsed": true
   },
   "outputs": [],
   "source": [
    "# Model on Param8   : /home/pgoyal/quora/model4/xgb_dup_logloss.pkl\n",
    "#xgb_log3 = XGBClassifier( max_depth= 7, min_child_weight= 1, gamma=0.0, colsample_bytree=0.6, subsample=0.9, \n",
    "#                    reg_alpha = 1, reg_lambda = 0, max_delta_step = 3, scale_pos_weight= 1, learning_rate = 0.05, \n",
    "#                    n_estimators=800, objective= 'binary:logistic', nthread=4, seed=45)\n",
    "#AUC Score (Train): 0.941038\n",
    "#LogLoss Score (Train): 0.297366\n",
    "\n",
    "#Validation AUC: 0.941038062532\n",
    "#Validation Log Loss: 0.297365662032\n",
    "\n",
    "#mean auc: 0.922951521568\n",
    "#std auc: 0.000815248100667\n",
    "#mean log_loss: -0.3330972847\n",
    "#std log_loss: 0.00159704929804"
   ]
  },
  {
   "cell_type": "code",
   "execution_count": 95,
   "metadata": {
    "collapsed": false
   },
   "outputs": [
    {
     "name": "stderr",
     "output_type": "stream",
     "text": [
      "Will train until cv error hasn't decreased in 50 rounds.\n"
     ]
    },
    {
     "name": "stdout",
     "output_type": "stream",
     "text": [
      "AUC Score (Train): 0.962640\n",
      "LogLoss Score (Train): 0.252264\n"
     ]
    },
    {
     "data": {
      "image/png": "[encoded data removed]",
      "text/plain": [
       "<matplotlib.figure.Figure at 0x7f9b4f2ec250>"
      ]
     },
     "metadata": {},
     "output_type": "display_data"
    }
   ],
   "source": [
    "# Using the final model on the initial given full training dataset\n",
    "\n",
    "# Model on Param9\n",
    "xgb_log3 = XGBClassifier(max_depth= 9, min_child_weight= 1, gamma=0.0, colsample_bytree=0.6, subsample=0.9, \n",
    "                    reg_alpha = 1, reg_lambda = 0, max_delta_step = 3, scale_pos_weight= 1, learning_rate = 0.05, \n",
    "                    n_estimators=750, objective= 'binary:logistic', nthread=4, seed=45)\n",
    "\n",
    "# Choose the predictors for xgboost and fit the model\n",
    "# predictors  = list(train_final.columns)\n",
    "modelfit2(xgb_log3, train_final, predictors)"
   ]
  },
  {
   "cell_type": "code",
   "execution_count": 96,
   "metadata": {
    "collapsed": false
   },
   "outputs": [
    {
     "name": "stdout",
     "output_type": "stream",
     "text": [
      "Validation AUC: 0.962640325867\n",
      "Validation Log Loss: 0.25226441118\n"
     ]
    }
   ],
   "source": [
    "# Train roc auc\n",
    "y_predS_final = xgb_log3.predict_proba(train_final)\n",
    "print('Validation AUC: ' + str(roc_auc_score(val_dup, y_predS_final[:,1]) ))\n",
    "print('Validation Log Loss: ' + str(log_loss(val_dup, y_predS_final[:,1]) ))"
   ]
  },
  {
   "cell_type": "code",
   "execution_count": 97,
   "metadata": {
    "collapsed": false
   },
   "outputs": [
    {
     "data": {
      "text/plain": [
       "['/home/pgoyal/quora/model4/xgb_log3_dup_logloss.pkl',\n",
       " '/home/pgoyal/quora/model4/xgb_log3_dup_logloss.pkl_01.npy']"
      ]
     },
     "execution_count": 97,
     "metadata": {},
     "output_type": "execute_result"
    }
   ],
   "source": [
    "# Save the model\n",
    "from sklearn.externals import joblib\n",
    "# Model on param9\n",
    "joblib.dump(xgb_log3, '/home/pgoyal/quora/model4/xgb_log3_dup_logloss.pkl')\n",
    "# Model on param8\n",
    "#joblib.dump(xgb_log3, '/home/pgoyal/quora/model4/xgb_dup_logloss.pkl')"
   ]
  },
  {
   "cell_type": "code",
   "execution_count": null,
   "metadata": {
    "collapsed": true
   },
   "outputs": [],
   "source": [
    "# Model with param8\n",
    "#mean auc: 0.922951521568\n",
    "#std auc: 0.000815248100667\n",
    "#mean log_loss: -0.3330972847\n",
    "#std log_loss: 0.00159704929804"
   ]
  },
  {
   "cell_type": "code",
   "execution_count": 99,
   "metadata": {
    "collapsed": false
   },
   "outputs": [
    {
     "name": "stdout",
     "output_type": "stream",
     "text": [
      "mean auc: 0.923886714964\n",
      "std auc: 0.000641518417854\n",
      "mean log_loss: -0.331000565633\n",
      "std log_loss: 0.00139200038974\n"
     ]
    }
   ],
   "source": [
    "# Model with param9\n",
    "# Cross validation AUC & LogLoss\n",
    "cv_score_final = cross_val_score(xgb_log3, train_final, np.ravel(val_dup), cv = 5, scoring ='roc_auc')\n",
    "print('mean auc: ' + str(cv_score_final.mean()))\n",
    "print('std auc: ' + str(cv_score_final.std()))\n",
    "cv_score1_final = cross_val_score(xgb_log3, train_final, np.ravel(val_dup), cv = 5, scoring ='log_loss')\n",
    "print 'mean log_loss: ' + str(cv_score1_final.mean())\n",
    "print 'std log_loss: ' + str(cv_score1_final.std())"
   ]
  },
  {
   "cell_type": "code",
   "execution_count": null,
   "metadata": {
    "collapsed": true
   },
   "outputs": [],
   "source": []
  }
 ],
 "metadata": {
  "kernelspec": {
   "display_name": "research",
   "language": "python",
   "name": "python2"
  },
  "language_info": {
   "codemirror_mode": {
    "name": "ipython",
    "version": 2
   },
   "file_extension": ".py",
   "mimetype": "text/x-python",
   "name": "python",
   "nbconvert_exporter": "python",
   "pygments_lexer": "ipython2",
   "version": "2.7.12"
  }
 },
 "nbformat": 4,
 "nbformat_minor": 0
}
